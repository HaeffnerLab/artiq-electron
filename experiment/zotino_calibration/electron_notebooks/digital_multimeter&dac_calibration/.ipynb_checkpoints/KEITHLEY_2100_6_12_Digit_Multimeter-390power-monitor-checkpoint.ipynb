{
 "cells": [
  {
   "cell_type": "code",
   "execution_count": 1,
   "metadata": {},
   "outputs": [],
   "source": [
    "import os\n",
    "import numpy as np\n",
    "import matplotlib.pyplot as plt\n",
    "%matplotlib inline\n",
    "# import oskar\n",
    "# scripts = oskar.Scripts()\n",
    "import numpy as np\n",
    "from tqdm import tqdm\n",
    "import numpy\n",
    "import matplotlib.pyplot as plot\n",
    "import sys\n",
    "import pickle as pkl\n",
    "# import pyvisa as visa\n",
    "import visa\n",
    "import datetime\n",
    "from scipy.optimize import curve_fit\n",
    "\n",
    "from collections import defaultdict\n",
    "from scipy.stats import kurtosis, skew\n",
    "import pandas as pd\n",
    "# import xarray as xr\n",
    "from collections import OrderedDict\n",
    "from pathlib import Path\n",
    "import fnmatch\n",
    "import time"
   ]
  },
  {
   "cell_type": "markdown",
   "metadata": {},
   "source": [
    "Connect the GPIB - usb cable to electron PC, then run this script together with the artiq zotino_calibrator script"
   ]
  },
  {
   "cell_type": "markdown",
   "metadata": {},
   "source": [
    "# External trigger mode"
   ]
  },
  {
   "cell_type": "code",
   "execution_count": 2,
   "metadata": {},
   "outputs": [],
   "source": [
    "rm = visa.ResourceManager()\n",
    "instruments = rm.list_resources()\n",
    "# instruments\n",
    "usb = list(filter(lambda x: 'USB' in x, instruments))\n",
    "# if len(usb) != 1:\n",
    "#     print('Bad instrument list', instruments)\n",
    "#     sys.exit(-1)\n",
    "keithley1 = rm.open_resource(usb[0])\n",
    "keithley2 = rm.open_resource(usb[1])"
   ]
  },
  {
   "cell_type": "code",
   "execution_count": 3,
   "metadata": {},
   "outputs": [
    {
     "data": {
      "text/plain": [
       "(u'ASRL/dev/ttyS0::INSTR',\n",
       " u'USB0::1510::8448::1243106::0::INSTR',\n",
       " u'USB0::1510::8464::1408025::0::INSTR')"
      ]
     },
     "execution_count": 3,
     "metadata": {},
     "output_type": "execute_result"
    }
   ],
   "source": [
    "instruments"
   ]
  },
  {
   "cell_type": "code",
   "execution_count": 4,
   "metadata": {},
   "outputs": [
    {
     "data": {
      "text/plain": [
       "(27, <StatusCode.success: 0>)"
      ]
     },
     "execution_count": 4,
     "metadata": {},
     "output_type": "execute_result"
    }
   ],
   "source": [
    "keithley1.write(\"*rst; status:preset; *cls\")"
   ]
  },
  {
   "cell_type": "code",
   "execution_count": 5,
   "metadata": {},
   "outputs": [
    {
     "data": {
      "text/plain": [
       "(27, <StatusCode.success: 0>)"
      ]
     },
     "execution_count": 5,
     "metadata": {},
     "output_type": "execute_result"
    }
   ],
   "source": [
    "keithley2.write(\"*rst; status:preset; *cls\")"
   ]
  },
  {
   "cell_type": "code",
   "execution_count": null,
   "metadata": {},
   "outputs": [],
   "source": []
  },
  {
   "cell_type": "code",
   "execution_count": 106,
   "metadata": {},
   "outputs": [
    {
     "name": "stderr",
     "output_type": "stream",
     "text": [
      "100%|██████████| 31/31 [02:05<00:00,  4.03s/it]"
     ]
    },
    {
     "name": "stdout",
     "output_type": "stream",
     "text": [
      "[-1.49343568 -1.40314784 -1.2934444  -1.19327416 -1.0930576  -0.9932183\n",
      " -0.89304262 -0.79288339 -0.69305728 -0.59290522 -0.49270691 -0.39291485\n",
      " -0.29269094 -0.19252656 -0.09266158  0.00740154  0.10766174  0.20753968\n",
      "  0.30767293  0.40782147  0.48423648  0.60788352  0.70803066  0.80786483\n",
      "  0.9080295   1.00821736  1.10799216  1.208238    1.30840944  1.31768552\n",
      "  1.50837936]\n"
     ]
    },
    {
     "name": "stderr",
     "output_type": "stream",
     "text": [
      "\n"
     ]
    }
   ],
   "source": [
    "for i in tqdm(range(number_of_datapoints)):\n",
    "    \n",
    "    keithley.write(\"trigger:source external\")\n",
    "    keithley.write(\"trigger:delay %f\" % (interval_in_ms / 1000.0))\n",
    "    keithley.write(\"trigger:count %d\" % count)\n",
    "    #     keithley.write('fetch?')\n",
    "    keithley.write(\"initiate\")\n",
    "    time.sleep(4)\n",
    "    \n",
    "#     avg_list = np.zeros(100)\n",
    "#     for j in range(100):\n",
    "#         volt = float(keithley.query('MEAS:VOLT:DC?'))\n",
    "#         avg_list[j]=volt\n",
    "   \n",
    "#     volt_measure[pin][i] = np.mean(avg_list)\n",
    "    \n",
    "    volt_measure[pin][i] = float(keithley.query('fetch?'))\n",
    "    keithley.write(\"*rst; status:preset; *cls\")\n",
    "\n",
    "print(volt_measure[pin])"
   ]
  },
  {
   "cell_type": "code",
   "execution_count": 116,
   "metadata": {},
   "outputs": [
    {
     "name": "stdout",
     "output_type": "stream",
     "text": [
      "1.40855136\n"
     ]
    }
   ],
   "source": [
    "# pin = 9\n",
    "voltage_set = 1.4\n",
    "index = volt_set.index(voltage_set)\n",
    "volt = float(keithley.query('MEAS:VOLT:DC?'))\n",
    "print(volt)\n",
    "measured_V = volt\n",
    "volt_measure[pin][index] = measured_V"
   ]
  },
  {
   "cell_type": "code",
   "execution_count": 125,
   "metadata": {},
   "outputs": [
    {
     "data": {
      "text/plain": [
       "array([[ 0.        ,  0.        , -0.02119938,  0.        , -0.0219512 ,\n",
       "         0.        , -0.01712062,  0.        ,  0.        , -0.01566575,\n",
       "         0.        ,  0.        ,  0.        ,  0.        , -0.00972076,\n",
       "         0.        , -0.00372747, -0.00142348,  0.        ,  0.        ,\n",
       "         0.        ,  0.        ,  0.        ,  0.00815497,  0.00748401,\n",
       "         0.        ,  0.        ,  0.        ,  0.        ,  0.        ,\n",
       "         0.        ,  0.        ],\n",
       "       [ 1.        ,  1.        ,  1.00047668,  1.        ,  1.00051185,\n",
       "         1.        ,  1.00050568,  1.        ,  1.        ,  1.00063814,\n",
       "         1.        ,  1.        ,  1.        ,  1.        ,  1.00063156,\n",
       "         1.        ,  1.00072095,  1.00073022,  1.        ,  1.        ,\n",
       "         1.        ,  1.        ,  1.        ,  1.00070423,  1.00064343,\n",
       "         1.        ,  1.        ,  1.        ,  1.        ,  1.        ,\n",
       "         1.        ,  1.        ]])"
      ]
     },
     "execution_count": 125,
     "metadata": {},
     "output_type": "execute_result"
    },
    {
     "data": {
      "image/png": "[encoded data removed]",
      "text/plain": [
       "<Figure size 432x288 with 1 Axes>"
      ]
     },
     "metadata": {
      "needs_background": "light"
     },
     "output_type": "display_data"
    }
   ],
   "source": [
    "fits = np.array([y0,slope])\n",
    "np.savetxt('zotino_calibration_3dtrap.txt',fits)\n",
    "fits"
   ]
  },
  {
   "cell_type": "markdown",
   "metadata": {},
   "source": [
    "# --*****************************************************--"
   ]
  },
  {
   "cell_type": "code",
   "execution_count": 40,
   "metadata": {},
   "outputs": [
    {
     "data": {
      "text/plain": [
       "27"
      ]
     },
     "execution_count": 40,
     "metadata": {},
     "output_type": "execute_result"
    }
   ],
   "source": [
    "keithley.write(\"*rst; status:preset; *cls\")"
   ]
  },
  {
   "cell_type": "markdown",
   "metadata": {},
   "source": [
    "# Test command"
   ]
  },
  {
   "cell_type": "code",
   "execution_count": 7,
   "metadata": {},
   "outputs": [
    {
     "data": {
      "text/plain": [
       "8.37685511e-05"
      ]
     },
     "execution_count": 7,
     "metadata": {},
     "output_type": "execute_result"
    }
   ],
   "source": [
    "volt = float(keithley2.query('MEAS:VOLT:DC?'))\n",
    "volt"
   ]
  },
  {
   "cell_type": "code",
   "execution_count": 8,
   "metadata": {},
   "outputs": [
    {
     "name": "stdout",
     "output_type": "stream",
     "text": [
      "('list = ', array([-1.29565144e-04, -9.90610752e-05, -1.00291896e-04, -1.03156256e-04,\n",
      "       -1.23701200e-04, -1.17623400e-04, -8.01659904e-05, -1.14831664e-04,\n",
      "       -1.02747096e-04, -1.17659232e-04, -1.16895648e-04, -9.77889344e-05,\n",
      "       -1.06498320e-04, -1.02830792e-04, -9.91756160e-05, -1.11290496e-04,\n",
      "       -1.12008632e-04, -1.13106016e-04, -1.04097880e-04, -1.02162240e-04,\n",
      "       -1.10585176e-04, -1.25467504e-04, -1.17648240e-04, -1.15918216e-04,\n",
      "       -1.02938800e-04, -1.00800392e-04, -1.29219928e-04, -1.21644248e-04,\n",
      "       -1.22043776e-04, -9.81420672e-05, -1.01899744e-04, -1.32506144e-04,\n",
      "       -1.03321312e-04, -1.11153016e-04, -9.95880448e-05, -1.14056032e-04,\n",
      "       -1.11995312e-04, -1.33973688e-04, -1.14776232e-04, -9.59319232e-05,\n",
      "       -1.07132848e-04, -1.16601368e-04, -1.19210360e-04, -1.22873184e-04,\n",
      "       -1.18697840e-04, -1.01481320e-04, -1.03715872e-04, -1.02658352e-04,\n",
      "       -1.26738680e-04, -1.30204240e-04, -1.09020128e-04, -8.40442112e-05,\n",
      "       -1.00023840e-04, -1.02974632e-04, -1.42276608e-04, -1.12026496e-04,\n",
      "       -1.23499384e-04, -1.09085936e-04, -9.20193344e-05, -1.01540256e-04,\n",
      "       -1.07319648e-04, -1.07616512e-04, -1.03309368e-04, -1.43098512e-04,\n",
      "       -8.98680448e-05, -1.04527240e-04, -1.08045440e-04, -1.25729024e-04,\n",
      "       -1.20671888e-04, -1.17281256e-04, -1.02400336e-04, -1.06958528e-04,\n",
      "       -1.26570360e-04, -1.20151904e-04, -1.08093216e-04, -9.11875520e-05,\n",
      "       -1.13571368e-04, -1.08236688e-04, -1.35834112e-04, -1.11447224e-04,\n",
      "       -1.08493680e-04, -9.14804480e-05, -1.08457872e-04, -1.20700320e-04,\n",
      "       -1.24434880e-04, -1.15622552e-04, -1.01032560e-04, -9.38219712e-05,\n",
      "       -1.04682664e-04, -1.21756904e-04, -1.23236296e-04, -1.15302584e-04,\n",
      "       -8.87981760e-05, -1.22305168e-04, -1.06391192e-04, -1.30608240e-04,\n",
      "       -1.08309464e-04, -1.06833008e-04, -1.09097360e-04, -1.10052728e-04]))\n",
      "('mean = ', -0.00011107428500799999)\n"
     ]
    }
   ],
   "source": [
    "avg_list = np.zeros(100)\n",
    "for i in range(100):\n",
    "    volt = float(keithley1.query('MEAS:VOLT:DC?'))\n",
    "    avg_list[i]=volt\n",
    "print(\"list = \", avg_list)\n",
    "print(\"mean = \", np.mean(avg_list))"
   ]
  },
  {
   "cell_type": "code",
   "execution_count": null,
   "metadata": {},
   "outputs": [],
   "source": [
    "volt_set = np.arange(-10,10,0.001)\n",
    "# volt_set\n",
    "volt_measure = np.zeros(len(volt_set))\n",
    "self.core.reset()\n",
    "self.core.break_realtime()                                          \n",
    "self.zotino0.init()\n",
    "self.pin = 0\n",
    "\n",
    "for i in range(len(volt_set)):\n",
    "    delay(300*us)\n",
    "    self.zotino0.write_dac(self.pin,volt_set[i])\n",
    "    self.zotino0.load()\n",
    "    delay(1*s)\n",
    "    volt_measure[i] = float(keithley.query('MEAS:VOLT:DC?'))\n",
    "    delay(1*s)"
   ]
  },
  {
   "cell_type": "code",
   "execution_count": null,
   "metadata": {},
   "outputs": [],
   "source": [
    "interval_in_ms = 500\n",
    "count = 1\n",
    "# keithley.write(\"data:clear\")\n",
    "keithley.write(\"trigger:source external\")\n",
    "keithley.write(\"trigger:delay %f\" % (interval_in_ms / 1000.0))\n",
    "keithley.write(\"trigger:count %d\" % count)\n",
    "# keithley.write(\"trace:points %d\" % count)\n",
    "# keithley.write(\"trace:points %d\" % count)\n",
    "# keithley.write(\"trace:feed sense1; feed:control next\")\n",
    "# # keithley.write(\"trace:points %d\" % number_of_readings)\n",
    "# keithley.write(\"trace:feed sense[1]\")\n",
    "keithley.write(\"initiate\")"
   ]
  },
  {
   "cell_type": "code",
   "execution_count": null,
   "metadata": {},
   "outputs": [],
   "source": [
    "keithley.write(\"*rst; status:preset; *cls\")"
   ]
  },
  {
   "cell_type": "markdown",
   "metadata": {},
   "source": [
    "# Voltage fitting"
   ]
  },
  {
   "cell_type": "code",
   "execution_count": 111,
   "metadata": {},
   "outputs": [],
   "source": [
    "np.savetxt('zotino_measure_NEWAMPLIFIER_newground_fits.txt',fits)"
   ]
  },
  {
   "cell_type": "markdown",
   "metadata": {},
   "source": [
    "# Test reading file"
   ]
  },
  {
   "cell_type": "code",
   "execution_count": 105,
   "metadata": {},
   "outputs": [],
   "source": [
    "f = open('Cfile_3layer.txt','r')\n",
    "# create list of lines from selected textfile\n",
    "list_of_lists = []\n",
    "for line in f:\n",
    "    stripped_line = line.strip()\n",
    "    line_list = stripped_line.split()\n",
    "    list_of_lists.append(float(line_list[0]))\n",
    "#     print(line_list)"
   ]
  },
  {
   "cell_type": "code",
   "execution_count": null,
   "metadata": {},
   "outputs": [],
   "source": []
  }
 ],
 "metadata": {
  "kernelspec": {
   "display_name": "Python 2",
   "language": "python",
   "name": "python2"
  },
  "language_info": {
   "codemirror_mode": {
    "name": "ipython",
    "version": 2
   },
   "file_extension": ".py",
   "mimetype": "text/x-python",
   "name": "python",
   "nbconvert_exporter": "python",
   "pygments_lexer": "ipython2",
   "version": "2.7.12"
  }
 },
 "nbformat": 4,
 "nbformat_minor": 5
}
