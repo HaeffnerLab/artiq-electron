{
 "cells": [
  {
   "cell_type": "code",
   "execution_count": 4,
   "metadata": {},
   "outputs": [],
   "source": [
    "import os\n",
    "import numpy as np\n",
    "import matplotlib.pyplot as plt\n",
    "%matplotlib inline\n",
    "# import oskar\n",
    "# scripts = oskar.Scripts()\n",
    "import numpy as np\n",
    "from tqdm import tqdm\n",
    "import numpy\n",
    "import matplotlib.pyplot as plot\n",
    "import sys\n",
    "import pickle as pkl\n",
    "import pyvisa as visa\n",
    "# import visa\n",
    "import datetime\n",
    "from scipy.optimize import curve_fit\n",
    "from collections import defaultdict\n",
    "from scipy.stats import kurtosis, skew\n",
    "import pandas as pd\n",
    "import xarray as xr\n",
    "from collections import OrderedDict\n",
    "from pathlib import Path\n",
    "import fnmatch\n",
    "import time"
   ]
  },
  {
   "cell_type": "markdown",
   "metadata": {},
   "source": [
    "Connect the GPIB - usb cable to electron PC, then run this script together with the artiq zotino_calibrator script"
   ]
  },
  {
   "cell_type": "code",
   "execution_count": 19,
   "metadata": {},
   "outputs": [],
   "source": [
    "interval_in_ms = 500\n",
    "count = 1\n",
    "number_of_pins = 32\n",
    "volt_set = np.arange(-1.5,1.6,0.1)\n",
    "number_of_datapoints = len(volt_set)\n",
    "volt_measure = np.ones((number_of_pins,number_of_datapoints))\n",
    "volt_set"
   ]
  },
  {
   "cell_type": "markdown",
   "metadata": {},
   "source": [
    "# External trigger mode"
   ]
  },
  {
   "cell_type": "code",
   "execution_count": 318,
   "metadata": {},
   "outputs": [],
   "source": [
    "rm = visa.ResourceManager()\n",
    "instruments = rm.list_resources()\n",
    "# instruments\n",
    "usb = list(filter(lambda x: 'USB' in x, instruments))\n",
    "if len(usb) != 1:\n",
    "    print('Bad instrument list', instruments)\n",
    "    sys.exit(-1)\n",
    "keithley = rm.open_resource(usb[0])"
   ]
  },
  {
   "cell_type": "code",
   "execution_count": 319,
   "metadata": {},
   "outputs": [
    {
     "data": {
      "text/plain": [
       "27"
      ]
     },
     "execution_count": 319,
     "metadata": {},
     "output_type": "execute_result"
    }
   ],
   "source": [
    "keithley.write(\"*rst; status:preset; *cls\")"
   ]
  },
  {
   "cell_type": "code",
   "execution_count": 403,
   "metadata": {},
   "outputs": [
    {
     "name": "stdout",
     "output_type": "stream",
     "text": [
      "[-1.00078544e+01 -9.00729088e+00 -8.00662784e+00 -7.00633984e+00\n",
      " -6.00565248e+00 -5.24997184e+00 -4.00430432e+00 -3.00362944e+00\n",
      " -2.00322512e+00 -1.00252008e+00 -1.79725808e-03  9.99030592e-01\n",
      "  1.10601816e+00  3.00018624e+00  3.37315680e+00  5.00168800e+00\n",
      "  6.00249664e+00  7.00339072e+00  8.00388160e+00  9.00477696e+00]\n"
     ]
    }
   ],
   "source": [
    "pin = 31\n",
    "\n",
    "for i in range(number_of_datapoints):\n",
    "    \n",
    "    keithley.write(\"trigger:source external\")\n",
    "    keithley.write(\"trigger:delay %f\" % (interval_in_ms / 1000.0))\n",
    "    keithley.write(\"trigger:count %d\" % count)\n",
    "    #     keithley.write('fetch?')\n",
    "    keithley.write(\"initiate\")\n",
    "    time.sleep(2)\n",
    "    volt_measure[pin][i] = float(keithley.query('fetch?'))\n",
    "    keithley.write(\"*rst; status:preset; *cls\")\n",
    "\n",
    "print(volt_measure[pin])"
   ]
  },
  {
   "cell_type": "code",
   "execution_count": 360,
   "metadata": {},
   "outputs": [
    {
     "data": {
      "text/plain": [
       "[<matplotlib.lines.Line2D at 0x7f1d65e104f0>]"
      ]
     },
     "execution_count": 360,
     "metadata": {},
     "output_type": "execute_result"
    },
    {
     "data": {
      "image/png": "[encoded data removed]",
      "text/plain": [
       "<Figure size 432x288 with 1 Axes>"
      ]
     },
     "metadata": {
      "needs_background": "light"
     },
     "output_type": "display_data"
    }
   ],
   "source": [
    "plt.plot(volt_set,volt_measure[pin],'o-')"
   ]
  },
  {
   "cell_type": "code",
   "execution_count": 175,
   "metadata": {},
   "outputs": [
    {
     "data": {
      "text/plain": [
       "27"
      ]
     },
     "execution_count": 175,
     "metadata": {},
     "output_type": "execute_result"
    }
   ],
   "source": [
    "keithley.write(\"*rst; status:preset; *cls\")"
   ]
  },
  {
   "cell_type": "code",
   "execution_count": 412,
   "metadata": {
    "scrolled": false
   },
   "outputs": [
    {
     "data": {
      "text/plain": [
       "4.0010432"
      ]
     },
     "execution_count": 412,
     "metadata": {},
     "output_type": "execute_result"
    }
   ],
   "source": [
    "volt = float(keithley.query('MEAS:VOLT:DC?'))\n",
    "volt"
   ]
  },
  {
   "cell_type": "code",
   "execution_count": 413,
   "metadata": {},
   "outputs": [],
   "source": [
    "measured_V = volt\n",
    "index = 10 + int(np.rint(measured_V))\n",
    "volt_measure[pin][index] = measured_V"
   ]
  },
  {
   "cell_type": "markdown",
   "metadata": {},
   "source": [
    "# Datapoints"
   ]
  },
  {
   "cell_type": "code",
   "execution_count": 419,
   "metadata": {},
   "outputs": [
    {
     "data": {
      "text/plain": [
       "array([[ 8.25280000e-03,  7.92384000e-03,  7.51424000e-03,\n",
       "         7.40224000e-03,  6.95808000e-03,  6.54752000e-03,\n",
       "         6.06240000e-03,  5.61504000e-03,  5.50704000e-03,\n",
       "         5.01168000e-03,  4.49822624e-03,  4.01318400e-03,\n",
       "         3.36912000e-03,  3.22304000e-03,  2.64480000e-03,\n",
       "         2.05888000e-03,  1.51104000e-03,  9.22240000e-04,\n",
       "         6.22720000e-04,  6.40000000e-07],\n",
       "       [ 4.11680000e-03,  3.69664000e-03,  3.20512000e-03,\n",
       "         2.94272000e-03,  2.41408000e-03,  1.96256000e-03,\n",
       "         1.43520000e-03,  9.04640000e-04,  6.36800000e-04,\n",
       "         7.08000000e-05, -4.94394976e-04, -1.07408000e-03,\n",
       "        -1.84992000e-03, -2.10368000e-03, -2.75456000e-03,\n",
       "        -3.38592000e-03, -4.04096000e-03, -4.78016000e-03,\n",
       "        -5.14816000e-03, -5.85152000e-03],\n",
       "       [ 8.00880000e-03,  7.65696000e-03,  7.16672000e-03,\n",
       "         6.99392000e-03,  6.55808000e-03,  6.09888000e-03,\n",
       "         5.58656000e-03,  5.08544000e-03,  4.89600000e-03,\n",
       "         4.34864000e-03,  3.82412704e-03,  3.23961600e-03,\n",
       "         2.64768000e-03,  2.42272000e-03,  1.81536000e-03,\n",
       "         1.18496000e-03,  5.45920000e-04, -3.71200000e-05,\n",
       "        -3.87840000e-04, -1.09184000e-03],\n",
       "       [ 7.04640000e-03,  6.62720000e-03,  5.93280000e-03,\n",
       "         5.98528000e-03,  5.46432000e-03,  5.06368000e-03,\n",
       "         4.53568000e-03,  3.99712000e-03,  3.81664000e-03,\n",
       "         3.26600000e-03,  2.69681472e-03,  2.13664000e-03,\n",
       "         1.45664000e-03,  1.25120000e-03,  6.11520000e-04,\n",
       "        -3.10400000e-05, -6.46400000e-04, -1.28256000e-03,\n",
       "        -1.59744000e-03, -2.23936000e-03],\n",
       "       [ 4.10240000e-03,  3.68768000e-03,  3.17696000e-03,\n",
       "         2.98944000e-03,  2.46016000e-03,  2.04416000e-03,\n",
       "         1.50336000e-03,  9.45920000e-04,  7.77920000e-04,\n",
       "         2.30400000e-04, -3.59194656e-04, -9.49120000e-04,\n",
       "        -1.63360000e-03, -1.97184000e-03, -2.52960000e-03,\n",
       "        -3.15328000e-03, -3.78048000e-03, -4.45760000e-03,\n",
       "        -4.57216000e-03, -5.24032000e-03],\n",
       "       [ 8.92240000e-03,  8.55168000e-03,  8.02624000e-03,\n",
       "         7.84128000e-03,  7.29984000e-03,  6.80576000e-03,\n",
       "         5.99904000e-03,  5.78432000e-03,  5.43840000e-03,\n",
       "         4.92120000e-03,  4.30411040e-03,  3.68198400e-03,\n",
       "         3.00672000e-03,  2.71552000e-03,  2.10656000e-03,\n",
       "         1.45856000e-03,  7.73760000e-04,  1.54880000e-04,\n",
       "        -2.41920000e-04, -1.00160000e-03],\n",
       "       [ 9.38720000e-03,  9.10208000e-03,  8.51712000e-03,\n",
       "         8.40192000e-03,  7.88608000e-03,  7.38944000e-03,\n",
       "         6.84832000e-03,  6.37184000e-03,  6.04176000e-03,\n",
       "         5.52240000e-03,  4.96136768e-03,  4.30758400e-03,\n",
       "         3.68944000e-03,  3.33440000e-03,  2.74272000e-03,\n",
       "         2.07296000e-03,  1.42080000e-03,  7.64800000e-04,\n",
       "         3.94240000e-04, -3.56480000e-04],\n",
       "       [ 5.37360000e-03,  5.14688000e-03,  4.73216000e-03,\n",
       "         4.58560000e-03,  4.23104000e-03,  3.86048000e-03,\n",
       "         3.44288000e-03,  3.01792000e-03,  2.89104000e-03,\n",
       "         2.43720000e-03,  1.99872848e-03,  1.50912000e-03,\n",
       "         9.55680000e-04,  7.79520000e-04,  3.04640000e-04,\n",
       "        -2.43520000e-04, -5.40800000e-04, -1.31712000e-03,\n",
       "        -1.60384000e-03, -2.20800000e-03],\n",
       "       [ 6.42240000e-03,  5.86048000e-03,  4.37248000e-03,\n",
       "         4.76416000e-03,  4.04416000e-03,  3.37728000e-03,\n",
       "         2.67648000e-03,  1.92288000e-03,  1.50992000e-03,\n",
       "         6.84640000e-04, -5.92828480e-05, -7.99200000e-04,\n",
       "        -1.63504000e-03, -2.15104000e-03, -2.90592000e-03,\n",
       "        -3.71264000e-03, -4.55104000e-03, -5.35872000e-03,\n",
       "        -5.96608000e-03, -6.94720000e-03],\n",
       "       [ 9.37440000e-03,  8.77888000e-03,  8.06592000e-03,\n",
       "         7.76448000e-03,  7.01888000e-03,  6.45536000e-03,\n",
       "         5.73728000e-03,  4.99712000e-03,  4.62720000e-03,\n",
       "         3.89728000e-03,  3.14589056e-03,  2.35148800e-03,\n",
       "         1.59952000e-03,  1.17824000e-03,  4.06400000e-04,\n",
       "        -4.25920000e-04, -1.20512000e-03, -2.07040000e-03,\n",
       "        -2.61888000e-03, -3.51424000e-03],\n",
       "       [ 4.01280000e-03,  3.46688000e-03,  2.62912000e-03,\n",
       "         2.26944000e-03,  1.54432000e-03,  8.77440000e-04,\n",
       "         1.25760000e-04, -6.63680000e-04, -1.03696000e-03,\n",
       "        -1.62041600e-03, -2.66076368e-03, -3.40720000e-03,\n",
       "        -4.19552000e-03, -4.29600000e-03, -5.04832000e-03,\n",
       "        -6.38720000e-03, -7.26784000e-03, -8.11392000e-03,\n",
       "        -7.97440000e-03, -9.63520000e-03],\n",
       "       [ 6.24480000e-03,  4.69888000e-03,  4.82368000e-03,\n",
       "         4.39744000e-03,  2.96832000e-03,  3.02560000e-03,\n",
       "         2.30784000e-03,  1.45984000e-03,  1.04528000e-03,\n",
       "         2.20160000e-04, -5.59526848e-04, -1.30592000e-03,\n",
       "        -2.13168000e-03, -2.67296000e-03, -3.51232000e-03,\n",
       "        -4.33984000e-03, -5.19872000e-03, -6.08704000e-03,\n",
       "        -6.68544000e-03, -7.65056000e-03],\n",
       "       [ 8.07840000e-03,  7.53216000e-03,  6.84096000e-03,\n",
       "         6.47936000e-03,  5.81888000e-03,  5.15424000e-03,\n",
       "         4.47328000e-03,  3.76256000e-03,  3.36544000e-03,\n",
       "         2.58504000e-03,  1.86290288e-03,  1.12377600e-03,\n",
       "         3.17920000e-04,  2.65280000e-04, -8.66880000e-04,\n",
       "        -1.69568000e-03, -2.51584000e-03, -3.26784000e-03,\n",
       "        -3.87648000e-03, -4.76736000e-03],\n",
       "       [ 7.02960000e-03,  6.44416000e-03,  5.75936000e-03,\n",
       "         5.37216000e-03,  4.75072000e-03,  4.17568000e-03,\n",
       "         3.09472000e-03,  2.74304000e-03,  2.31504000e-03,\n",
       "         1.64416000e-03,  8.95544128e-04,  1.85280000e-04,\n",
       "        -5.24800000e-04, -1.01856000e-03, -1.75104000e-03,\n",
       "        -2.50688000e-03, -3.32864000e-03, -4.10752000e-03,\n",
       "        -4.62080000e-03, -5.53920000e-03],\n",
       "       [ 9.43200000e-03,  8.63104000e-03,  8.16512000e-03,\n",
       "         7.87264000e-03,  7.20896000e-03,  6.65856000e-03,\n",
       "         5.99328000e-03,  5.27296000e-03,  4.85712000e-03,\n",
       "         4.15136000e-03,  3.48979264e-03,  2.77766400e-03,\n",
       "         2.01088000e-03,  1.57472000e-03,  8.05120000e-04,\n",
       "         6.62400000e-05, -7.28960000e-04, -9.01120000e-04,\n",
       "        -2.07168000e-03, -2.94272000e-03],\n",
       "       [ 6.23440000e-03,  5.73632000e-03,  4.13120000e-03,\n",
       "         4.65536000e-03,  3.99232000e-03,  3.45184000e-03,\n",
       "         2.76992000e-03,  2.05600000e-03,  1.71328000e-03,\n",
       "         9.82400000e-04,  2.58255232e-04, -4.15840000e-04,\n",
       "        -1.14960000e-03, -1.57280000e-03, -2.28064000e-03,\n",
       "        -3.17376000e-03, -3.87008000e-03, -4.68992000e-03,\n",
       "        -5.16672000e-03, -6.02176000e-03],\n",
       "       [ 8.00960000e-03,  7.28704000e-03,  6.52416000e-03,\n",
       "         6.07424000e-03,  5.37152000e-03,  4.60160000e-03,\n",
       "         3.85920000e-03,  3.13344000e-03,  2.56176000e-03,\n",
       "         1.79944000e-03,  1.00531800e-03,  1.44064000e-04,\n",
       "        -6.69440000e-04, -1.27040000e-03, -1.99328000e-03,\n",
       "        -2.88160000e-03, -3.80736000e-03, -4.65472000e-03,\n",
       "        -5.24608000e-03, -6.18560000e-03],\n",
       "       [-8.24960000e-04, -1.50784000e-03, -2.29184000e-03,\n",
       "        -2.72128000e-03, -3.47328000e-03, -4.21088000e-03,\n",
       "        -4.99232000e-03, -5.78400000e-03, -6.28672000e-03,\n",
       "        -7.12204800e-03, -7.92615488e-03, -8.76760000e-03,\n",
       "        -9.59136000e-03, -1.01760000e-02, -1.09763200e-02,\n",
       "        -1.18169600e-02, -1.26739200e-02, -1.36384000e-02,\n",
       "        -1.42470400e-02, -1.52044800e-02],\n",
       "       [-1.33696000e-03, -2.00384000e-03, -2.76736000e-03,\n",
       "        -3.17184000e-03, -3.91744000e-03, -4.65504000e-03,\n",
       "        -5.38944000e-03, -6.15136000e-03, -6.64096000e-03,\n",
       "        -7.43609600e-03, -8.21121920e-03, -9.03536000e-03,\n",
       "        -9.88032000e-03, -1.04265600e-02, -1.11795200e-02,\n",
       "        -1.20348800e-02, -1.28691200e-02, -1.38022400e-02,\n",
       "        -1.43680000e-02, -1.52710400e-02],\n",
       "       [ 4.36720000e-03,  3.64672000e-03,  2.97152000e-03,\n",
       "         2.62912000e-03,  1.94944000e-03,  1.24608000e-03,\n",
       "         5.42080000e-04, -1.92000000e-04, -5.67040000e-04,\n",
       "        -1.40934400e-03, -2.13814640e-03, -2.90368000e-03,\n",
       "        -3.66144000e-03, -4.16064000e-03, -4.89248000e-03,\n",
       "        -5.73152000e-03, -6.60160000e-03, -7.41760000e-03,\n",
       "        -7.97760000e-03, -8.79360000e-03],\n",
       "       [ 4.18720000e-03,  3.49312000e-03,  2.71232000e-03,\n",
       "         2.36672000e-03,  1.71072000e-03,  9.54240000e-04,\n",
       "         2.87040000e-04, -4.27520000e-04, -9.01920000e-04,\n",
       "        -1.67328000e-03, -2.40375504e-03, -3.15872000e-03,\n",
       "        -4.02592000e-03, -4.49664000e-03, -5.30720000e-03,\n",
       "        -6.08384000e-03, -6.95488000e-03, -7.74016000e-03,\n",
       "        -8.27008000e-03, -9.24416000e-03],\n",
       "       [ 5.68480000e-03,  4.99456000e-03,  4.43648000e-03,\n",
       "         4.07104000e-03,  3.49504000e-03,  2.81536000e-03,\n",
       "         2.16960000e-03,  1.59136000e-03,  1.11920000e-03,\n",
       "         4.65520000e-04, -2.39514304e-04, -9.78960000e-04,\n",
       "        -1.72064000e-03, -2.18656000e-03, -2.80000000e-03,\n",
       "        -3.59904000e-03, -4.41088000e-03, -5.13856000e-03,\n",
       "        -5.63712000e-03, -6.45952000e-03],\n",
       "       [-7.02080000e-04, -1.35488000e-03, -2.00960000e-03,\n",
       "        -2.43328000e-03, -3.06240000e-03, -3.74080000e-03,\n",
       "        -4.43232000e-03, -5.09792000e-03, -5.57264000e-03,\n",
       "        -6.34950400e-03, -7.07038208e-03, -7.87256000e-03,\n",
       "        -8.56656000e-03, -9.07520000e-03, -9.80480000e-03,\n",
       "        -1.06345600e-02, -1.14419200e-02, -1.22604800e-02,\n",
       "        -1.28051200e-02, -1.36921600e-02],\n",
       "       [ 4.01520000e-03,  3.28640000e-03,  2.58816000e-03,\n",
       "         2.16192000e-03,  1.44704000e-03,  6.80960000e-04,\n",
       "        -2.46400000e-05, -7.70240000e-04, -1.21696000e-03,\n",
       "        -2.01606400e-03, -2.82684544e-03, -3.61704000e-03,\n",
       "        -4.48800000e-03, -5.03904000e-03, -5.78656000e-03,\n",
       "        -6.60992000e-03, -7.51936000e-03, -8.39296000e-03,\n",
       "        -8.93568000e-03, -9.88416000e-03],\n",
       "       [ 5.64640000e-03,  5.03424000e-03,  4.40320000e-03,\n",
       "         3.90400000e-03,  3.47712000e-03,  2.83712000e-03,\n",
       "         2.08480000e-03,  1.42912000e-03,  1.07952000e-03,\n",
       "         3.88000000e-04, -3.38001664e-04, -1.11560000e-03,\n",
       "        -1.89808000e-03, -2.25184000e-03, -3.06080000e-03,\n",
       "        -3.78752000e-03, -4.65344000e-03, -5.42400000e-03,\n",
       "        -6.01088000e-03, -6.73984000e-03],\n",
       "       [ 7.85600000e-03,  7.17376000e-03,  6.56576000e-03,\n",
       "         6.21952000e-03,  5.50528000e-03,  4.79936000e-03,\n",
       "         4.05344000e-03,  3.39136000e-03,  2.98832000e-03,\n",
       "         2.23888000e-03,  1.47256192e-03,  6.23104000e-04,\n",
       "        -1.79360000e-04, -5.84640000e-04, -1.46432000e-03,\n",
       "        -2.06368000e-03, -3.07776000e-03, -3.89440000e-03,\n",
       "        -4.44864000e-03, -5.13856000e-03],\n",
       "       [ 4.00560000e-03,  3.38368000e-03,  2.85248000e-03,\n",
       "         2.44928000e-03,  1.87648000e-03,  1.23648000e-03,\n",
       "         5.73120000e-04, -1.03680000e-04, -5.01120000e-04,\n",
       "        -1.14156800e-03, -1.84329808e-03, -2.65048000e-03,\n",
       "        -3.44848000e-03, -3.75008000e-03, -4.54656000e-03,\n",
       "        -5.21216000e-03, -6.01216000e-03, -6.83840000e-03,\n",
       "        -7.37408000e-03, -8.13952000e-03],\n",
       "       [ 7.82800000e-03,  7.17440000e-03,  6.45248000e-03,\n",
       "         6.03200000e-03,  5.37664000e-03,  4.50080000e-03,\n",
       "         3.83712000e-03,  2.95264000e-03,  2.69728000e-03,\n",
       "         1.89200000e-03,  1.07592840e-03,  1.74016000e-04,\n",
       "        -6.15040000e-04, -1.12096000e-03, -1.95776000e-03,\n",
       "        -2.73216000e-03, -3.69152000e-03, -4.50240000e-03,\n",
       "        -5.18208000e-03, -6.02368000e-03],\n",
       "       [ 1.41184000e-02,  1.33676800e-02,  1.29043200e-02,\n",
       "         1.25721600e-02,  1.20115200e-02,  1.13548800e-02,\n",
       "         1.06652800e-02,  1.00185600e-02,  9.60784000e-03,\n",
       "         9.00856000e-03,  8.25982016e-03,  7.51097600e-03,\n",
       "         6.78480000e-03,  6.38880000e-03,  5.63680000e-03,\n",
       "         4.90560000e-03,  4.16832000e-03,  3.28384000e-03,\n",
       "         2.86592000e-03,  2.05248000e-03],\n",
       "       [ 1.11376000e-02,  1.03872000e-02,  9.65120000e-03,\n",
       "         9.23776000e-03,  8.54208000e-03,  7.79392000e-03,\n",
       "         7.06816000e-03,  6.26944000e-03,  5.76112000e-03,\n",
       "         5.06560000e-03,  4.21397632e-03,  3.29740800e-03,\n",
       "         2.41056000e-03,  1.90496000e-03,  1.03552000e-03,\n",
       "         3.87520000e-04, -6.66880000e-04, -1.58144000e-03,\n",
       "        -2.02176000e-03, -2.90752000e-03],\n",
       "       [ 1.09072000e-02,  1.02131200e-02,  9.49888000e-03,\n",
       "         9.12640000e-03,  8.42624000e-03,  7.61952000e-03,\n",
       "         6.82272000e-03,  5.94880000e-03,  5.55680000e-03,\n",
       "         4.82616000e-03,  4.02887392e-03,  3.08300800e-03,\n",
       "         2.25232000e-03,  1.69376000e-03,  8.53120000e-04,\n",
       "        -1.28000000e-05, -8.12160000e-04, -1.82272000e-03,\n",
       "        -2.41344000e-03, -3.34656000e-03],\n",
       "       [ 7.85440000e-03,  7.29088000e-03,  6.62784000e-03,\n",
       "         6.33984000e-03,  5.53984000e-03,  4.92288000e-03,\n",
       "         4.30432000e-03,  3.62944000e-03,  3.22512000e-03,\n",
       "         2.52008000e-03,  1.79725808e-03,  9.69408000e-04,\n",
       "         1.98880000e-04, -1.86240000e-04, -1.04320000e-03,\n",
       "        -1.68800000e-03, -2.49664000e-03, -3.39072000e-03,\n",
       "        -3.88160000e-03, -4.77696000e-03]])"
      ]
     },
     "execution_count": 419,
     "metadata": {},
     "output_type": "execute_result"
    }
   ],
   "source": [
    "offset = volt_set-volt_measure\n",
    "\n",
    "np.savetxt('zotino_offset.txt',offset)\n",
    "offset"
   ]
  },
  {
   "cell_type": "code",
   "execution_count": 414,
   "metadata": {},
   "outputs": [
    {
     "data": {
      "text/plain": [
       "array([ 0.0078544 ,  0.00729088,  0.00662784,  0.00633984,  0.00553984,\n",
       "        0.00492288,  0.00430432,  0.00362944,  0.00322512,  0.00252008,\n",
       "        0.00179726,  0.00096941,  0.00019888, -0.00018624, -0.0010432 ,\n",
       "       -0.001688  , -0.00249664, -0.00339072, -0.0038816 , -0.00477696,\n",
       "       -0.00477696])"
      ]
     },
     "execution_count": 414,
     "metadata": {},
     "output_type": "execute_result"
    }
   ],
   "source": [
    "offset = volt_set-volt_measure\n",
    "np.append(offset[31],offset[31][-1])"
   ]
  },
  {
   "cell_type": "code",
   "execution_count": 415,
   "metadata": {},
   "outputs": [
    {
     "data": {
      "text/plain": [
       "array([ 0.0078544 ,  0.00729088,  0.00662784,  0.00633984,  0.00553984,\n",
       "        0.00492288,  0.00430432,  0.00362944,  0.00322512,  0.00252008,\n",
       "        0.00179726,  0.00096941,  0.00019888, -0.00018624, -0.0010432 ,\n",
       "       -0.001688  , -0.00249664, -0.00339072, -0.0038816 , -0.00477696])"
      ]
     },
     "execution_count": 415,
     "metadata": {},
     "output_type": "execute_result"
    }
   ],
   "source": [
    "(volt_set-volt_measure)[31]"
   ]
  },
  {
   "cell_type": "code",
   "execution_count": 402,
   "metadata": {},
   "outputs": [
    {
     "data": {
      "text/plain": [
       "array([ 1.09072000e-02,  1.02131200e-02,  9.49888000e-03,  9.12640000e-03,\n",
       "        8.42624000e-03,  7.61952000e-03,  6.82272000e-03,  5.94880000e-03,\n",
       "        5.55680000e-03,  4.82616000e-03,  4.02887392e-03,  3.08300800e-03,\n",
       "        2.25232000e-03,  1.69376000e-03,  8.53120000e-04, -1.28000000e-05,\n",
       "       -8.12160000e-04, -1.82272000e-03, -2.41344000e-03, -3.34656000e-03])"
      ]
     },
     "execution_count": 402,
     "metadata": {},
     "output_type": "execute_result"
    }
   ],
   "source": [
    "(volt_set-volt_measure)[30]#bad"
   ]
  },
  {
   "cell_type": "code",
   "execution_count": 390,
   "metadata": {},
   "outputs": [
    {
     "data": {
      "text/plain": [
       "array([ 0.0111376 ,  0.0103872 ,  0.0096512 ,  0.00923776,  0.00854208,\n",
       "        0.00779392,  0.00706816,  0.00626944,  0.00576112,  0.0050656 ,\n",
       "        0.00421398,  0.00329741,  0.00241056,  0.00190496,  0.00103552,\n",
       "        0.00038752, -0.00066688, -0.00158144, -0.00202176, -0.00290752])"
      ]
     },
     "execution_count": 390,
     "metadata": {},
     "output_type": "execute_result"
    }
   ],
   "source": [
    "(volt_set-volt_measure)[29] #bad"
   ]
  },
  {
   "cell_type": "code",
   "execution_count": 374,
   "metadata": {},
   "outputs": [
    {
     "data": {
      "text/plain": [
       "array([0.0141184 , 0.01336768, 0.01290432, 0.01257216, 0.01201152,\n",
       "       0.01135488, 0.01066528, 0.01001856, 0.00960784, 0.00900856,\n",
       "       0.00825982, 0.00751098, 0.0067848 , 0.0063888 , 0.0056368 ,\n",
       "       0.0049056 , 0.00416832, 0.00328384, 0.00286592, 0.00205248])"
      ]
     },
     "execution_count": 374,
     "metadata": {},
     "output_type": "execute_result"
    }
   ],
   "source": [
    "(volt_set-volt_measure)[28] #bad"
   ]
  },
  {
   "cell_type": "code",
   "execution_count": 354,
   "metadata": {},
   "outputs": [
    {
     "data": {
      "text/plain": [
       "array([ 0.007828  ,  0.0071744 ,  0.00645248,  0.006032  ,  0.00537664,\n",
       "        0.0045008 ,  0.00383712,  0.00295264,  0.00269728,  0.001892  ,\n",
       "        0.00107593,  0.00017402, -0.00061504, -0.00112096, -0.00195776,\n",
       "       -0.00273216, -0.00369152, -0.0045024 , -0.00518208, -0.00602368])"
      ]
     },
     "execution_count": 354,
     "metadata": {},
     "output_type": "execute_result"
    }
   ],
   "source": [
    "(volt_set-volt_measure)[27]"
   ]
  },
  {
   "cell_type": "code",
   "execution_count": 344,
   "metadata": {},
   "outputs": [
    {
     "data": {
      "text/plain": [
       "array([ 0.0040056 ,  0.00338368,  0.00285248,  0.00244928,  0.00187648,\n",
       "        0.00123648,  0.00057312, -0.00010368, -0.00050112, -0.00114157,\n",
       "       -0.0018433 , -0.00265048, -0.00344848, -0.00375008, -0.00454656,\n",
       "       -0.00521216, -0.00601216, -0.0068384 , -0.00737408, -0.00813952])"
      ]
     },
     "execution_count": 344,
     "metadata": {},
     "output_type": "execute_result"
    }
   ],
   "source": [
    "(volt_set-volt_measure)[26]"
   ]
  },
  {
   "cell_type": "code",
   "execution_count": 336,
   "metadata": {},
   "outputs": [
    {
     "data": {
      "text/plain": [
       "array([ 0.007856  ,  0.00717376,  0.00656576,  0.00621952,  0.00550528,\n",
       "        0.00479936,  0.00405344,  0.00339136,  0.00298832,  0.00223888,\n",
       "        0.00147256,  0.0006231 , -0.00017936, -0.00058464, -0.00146432,\n",
       "       -0.00206368, -0.00307776, -0.0038944 , -0.00444864, -0.00513856])"
      ]
     },
     "execution_count": 336,
     "metadata": {},
     "output_type": "execute_result"
    }
   ],
   "source": [
    "(volt_set-volt_measure)[25]"
   ]
  },
  {
   "cell_type": "code",
   "execution_count": 325,
   "metadata": {},
   "outputs": [
    {
     "data": {
      "text/plain": [
       "array([ 0.0056464 ,  0.00503424,  0.0044032 ,  0.003904  ,  0.00347712,\n",
       "        0.00283712,  0.0020848 ,  0.00142912,  0.00107952,  0.000388  ,\n",
       "       -0.000338  , -0.0011156 , -0.00189808, -0.00225184, -0.0030608 ,\n",
       "       -0.00378752, -0.00465344, -0.005424  , -0.00601088, -0.00673984])"
      ]
     },
     "execution_count": 325,
     "metadata": {},
     "output_type": "execute_result"
    }
   ],
   "source": [
    "(volt_set-volt_measure)[24]"
   ]
  },
  {
   "cell_type": "code",
   "execution_count": 313,
   "metadata": {},
   "outputs": [
    {
     "data": {
      "text/plain": [
       "array([ 4.01520000e-03,  3.28640000e-03,  2.58816000e-03,  2.16192000e-03,\n",
       "        1.44704000e-03,  6.80960000e-04, -2.46400000e-05, -7.70240000e-04,\n",
       "       -1.21696000e-03, -2.01606400e-03, -2.82684544e-03, -3.61704000e-03,\n",
       "       -4.48800000e-03, -5.03904000e-03, -5.78656000e-03, -6.60992000e-03,\n",
       "       -7.51936000e-03, -8.39296000e-03, -8.93568000e-03, -9.88416000e-03])"
      ]
     },
     "execution_count": 313,
     "metadata": {},
     "output_type": "execute_result"
    }
   ],
   "source": [
    "(volt_set-volt_measure)[23]"
   ]
  },
  {
   "cell_type": "code",
   "execution_count": 303,
   "metadata": {},
   "outputs": [
    {
     "data": {
      "text/plain": [
       "array([-0.00070208, -0.00135488, -0.0020096 , -0.00243328, -0.0030624 ,\n",
       "       -0.0037408 , -0.00443232, -0.00509792, -0.00557264, -0.0063495 ,\n",
       "       -0.00707038, -0.00787256, -0.00856656, -0.0090752 , -0.0098048 ,\n",
       "       -0.01063456, -0.01144192, -0.01226048, -0.01280512, -0.01369216])"
      ]
     },
     "execution_count": 303,
     "metadata": {},
     "output_type": "execute_result"
    }
   ],
   "source": [
    "(volt_set-volt_measure)[22] #bad"
   ]
  },
  {
   "cell_type": "code",
   "execution_count": 295,
   "metadata": {},
   "outputs": [
    {
     "data": {
      "text/plain": [
       "array([ 0.0056848 ,  0.00499456,  0.00443648,  0.00407104,  0.00349504,\n",
       "        0.00281536,  0.0021696 ,  0.00159136,  0.0011192 ,  0.00046552,\n",
       "       -0.00023951, -0.00097896, -0.00172064, -0.00218656, -0.0028    ,\n",
       "       -0.00359904, -0.00441088, -0.00513856, -0.00563712, -0.00645952])"
      ]
     },
     "execution_count": 295,
     "metadata": {},
     "output_type": "execute_result"
    }
   ],
   "source": [
    "(volt_set-volt_measure)[21]"
   ]
  },
  {
   "cell_type": "code",
   "execution_count": 283,
   "metadata": {},
   "outputs": [
    {
     "data": {
      "text/plain": [
       "array([ 0.0041872 ,  0.00349312,  0.00271232,  0.00236672,  0.00171072,\n",
       "        0.00095424,  0.00028704, -0.00042752, -0.00090192, -0.00167328,\n",
       "       -0.00240376, -0.00315872, -0.00402592, -0.00449664, -0.0053072 ,\n",
       "       -0.00608384, -0.00695488, -0.00774016, -0.00827008, -0.00924416])"
      ]
     },
     "execution_count": 283,
     "metadata": {},
     "output_type": "execute_result"
    }
   ],
   "source": [
    "(volt_set-volt_measure)[20]"
   ]
  },
  {
   "cell_type": "code",
   "execution_count": 272,
   "metadata": {},
   "outputs": [
    {
     "data": {
      "text/plain": [
       "array([ 0.0043672 ,  0.00364672,  0.00297152,  0.00262912,  0.00194944,\n",
       "        0.00124608,  0.00054208, -0.000192  , -0.00056704, -0.00140934,\n",
       "       -0.00213815, -0.00290368, -0.00366144, -0.00416064, -0.00489248,\n",
       "       -0.00573152, -0.0066016 , -0.0074176 , -0.0079776 , -0.0087936 ])"
      ]
     },
     "execution_count": 272,
     "metadata": {},
     "output_type": "execute_result"
    }
   ],
   "source": [
    "(volt_set-volt_measure)[19]"
   ]
  },
  {
   "cell_type": "code",
   "execution_count": 265,
   "metadata": {},
   "outputs": [
    {
     "data": {
      "text/plain": [
       "array([-0.00133696, -0.00200384, -0.00276736, -0.00317184, -0.00391744,\n",
       "       -0.00465504, -0.00538944, -0.00615136, -0.00664096, -0.0074361 ,\n",
       "       -0.00821122, -0.00903536, -0.00988032, -0.01042656, -0.01117952,\n",
       "       -0.01203488, -0.01286912, -0.01380224, -0.014368  , -0.01527104])"
      ]
     },
     "execution_count": 265,
     "metadata": {},
     "output_type": "execute_result"
    }
   ],
   "source": [
    "(volt_set-volt_measure)[18] # bad"
   ]
  },
  {
   "cell_type": "code",
   "execution_count": 260,
   "metadata": {},
   "outputs": [
    {
     "data": {
      "text/plain": [
       "array([-0.00082496, -0.00150784, -0.00229184, -0.00272128, -0.00347328,\n",
       "       -0.00421088, -0.00499232, -0.005784  , -0.00628672, -0.00712205,\n",
       "       -0.00792615, -0.0087676 , -0.00959136, -0.010176  , -0.01097632,\n",
       "       -0.01181696, -0.01267392, -0.0136384 , -0.01424704, -0.01520448])"
      ]
     },
     "execution_count": 260,
     "metadata": {},
     "output_type": "execute_result"
    }
   ],
   "source": [
    "(volt_set-volt_measure)[17] #bad"
   ]
  },
  {
   "cell_type": "code",
   "execution_count": 251,
   "metadata": {},
   "outputs": [
    {
     "data": {
      "text/plain": [
       "array([ 0.0080096 ,  0.00728704,  0.00652416,  0.00607424,  0.00537152,\n",
       "        0.0046016 ,  0.0038592 ,  0.00313344,  0.00256176,  0.00179944,\n",
       "        0.00100532,  0.00014406, -0.00066944, -0.0012704 , -0.00199328,\n",
       "       -0.0028816 , -0.00380736, -0.00465472, -0.00524608, -0.0061856 ])"
      ]
     },
     "execution_count": 251,
     "metadata": {},
     "output_type": "execute_result"
    }
   ],
   "source": [
    "(volt_set-volt_measure)[16]"
   ]
  },
  {
   "cell_type": "code",
   "execution_count": 246,
   "metadata": {},
   "outputs": [
    {
     "data": {
      "text/plain": [
       "array([ 0.0062344 ,  0.00573632,  0.0041312 ,  0.00465536,  0.00399232,\n",
       "        0.00345184,  0.00276992,  0.002056  ,  0.00171328,  0.0009824 ,\n",
       "        0.00025826, -0.00041584, -0.0011496 , -0.0015728 , -0.00228064,\n",
       "       -0.00317376, -0.00387008, -0.00468992, -0.00516672, -0.00602176])"
      ]
     },
     "execution_count": 246,
     "metadata": {},
     "output_type": "execute_result"
    }
   ],
   "source": [
    "(volt_set-volt_measure)[15]"
   ]
  },
  {
   "cell_type": "code",
   "execution_count": 225,
   "metadata": {},
   "outputs": [
    {
     "data": {
      "text/plain": [
       "array([ 9.43200000e-03,  8.63104000e-03,  8.16512000e-03,  7.87264000e-03,\n",
       "        7.20896000e-03,  6.65856000e-03,  5.99328000e-03,  5.27296000e-03,\n",
       "        4.85712000e-03,  4.15136000e-03,  3.48979264e-03,  2.77766400e-03,\n",
       "        2.01088000e-03,  1.57472000e-03,  8.05120000e-04,  6.62400000e-05,\n",
       "       -7.28960000e-04, -9.01120000e-04, -2.07168000e-03, -2.94272000e-03])"
      ]
     },
     "execution_count": 225,
     "metadata": {},
     "output_type": "execute_result"
    }
   ],
   "source": [
    "(volt_set-volt_measure)[14]"
   ]
  },
  {
   "cell_type": "code",
   "execution_count": 214,
   "metadata": {},
   "outputs": [
    {
     "data": {
      "text/plain": [
       "array([ 0.0070296 ,  0.00644416,  0.00575936,  0.00537216,  0.00475072,\n",
       "        0.00417568,  0.00309472,  0.00274304,  0.00231504,  0.00164416,\n",
       "        0.00089554,  0.00018528, -0.0005248 , -0.00101856, -0.00175104,\n",
       "       -0.00250688, -0.00332864, -0.00410752, -0.0046208 , -0.0055392 ])"
      ]
     },
     "execution_count": 214,
     "metadata": {},
     "output_type": "execute_result"
    }
   ],
   "source": [
    "(volt_set-volt_measure)[13]"
   ]
  },
  {
   "cell_type": "code",
   "execution_count": 207,
   "metadata": {},
   "outputs": [
    {
     "data": {
      "text/plain": [
       "array([ 0.0080784 ,  0.00753216,  0.00684096,  0.00647936,  0.00581888,\n",
       "        0.00515424,  0.00447328,  0.00376256,  0.00336544,  0.00258504,\n",
       "        0.0018629 ,  0.00112378,  0.00031792,  0.00026528, -0.00086688,\n",
       "       -0.00169568, -0.00251584, -0.00326784, -0.00387648, -0.00476736])"
      ]
     },
     "execution_count": 207,
     "metadata": {},
     "output_type": "execute_result"
    }
   ],
   "source": [
    "(volt_set-volt_measure)[12]"
   ]
  },
  {
   "cell_type": "code",
   "execution_count": 200,
   "metadata": {},
   "outputs": [
    {
     "data": {
      "text/plain": [
       "array([ 0.0062448 ,  0.00469888,  0.00482368,  0.00439744,  0.00296832,\n",
       "        0.0030256 ,  0.00230784,  0.00145984,  0.00104528,  0.00022016,\n",
       "       -0.00055953, -0.00130592, -0.00213168, -0.00267296, -0.00351232,\n",
       "       -0.00433984, -0.00519872, -0.00608704, -0.00668544, -0.00765056])"
      ]
     },
     "execution_count": 200,
     "metadata": {},
     "output_type": "execute_result"
    }
   ],
   "source": [
    "(volt_set-volt_measure)[11]"
   ]
  },
  {
   "cell_type": "code",
   "execution_count": 190,
   "metadata": {},
   "outputs": [
    {
     "data": {
      "text/plain": [
       "array([ 0.0040128 ,  0.00346688,  0.00262912,  0.00226944,  0.00154432,\n",
       "        0.00087744,  0.00012576, -0.00066368, -0.00103696, -0.00162042,\n",
       "       -0.00266076, -0.0034072 , -0.00419552, -0.004296  , -0.00504832,\n",
       "       -0.0063872 , -0.00726784, -0.00811392, -0.0079744 , -0.0096352 ])"
      ]
     },
     "execution_count": 190,
     "metadata": {},
     "output_type": "execute_result"
    }
   ],
   "source": [
    "(volt_set-volt_measure)[10]"
   ]
  },
  {
   "cell_type": "code",
   "execution_count": 171,
   "metadata": {},
   "outputs": [
    {
     "data": {
      "text/plain": [
       "array([ 0.0093744 ,  0.00877888,  0.00806592,  0.00776448,  0.00701888,\n",
       "        0.00645536,  0.00573728,  0.00499712,  0.0046272 ,  0.00389728,\n",
       "        0.00314589,  0.00235149,  0.00159952,  0.00117824,  0.0004064 ,\n",
       "       -0.00042592, -0.00120512, -0.0020704 , -0.00261888, -0.00351424])"
      ]
     },
     "execution_count": 171,
     "metadata": {},
     "output_type": "execute_result"
    }
   ],
   "source": [
    "(volt_set-volt_measure)[9]"
   ]
  },
  {
   "cell_type": "code",
   "execution_count": 165,
   "metadata": {},
   "outputs": [
    {
     "data": {
      "text/plain": [
       "array([ 6.4224000e-03,  5.8604800e-03,  4.3724800e-03,  4.7641600e-03,\n",
       "        4.0441600e-03,  3.3772800e-03,  2.6764800e-03,  1.9228800e-03,\n",
       "        1.5099200e-03,  6.8464000e-04, -5.9282848e-05, -7.9920000e-04,\n",
       "       -1.6350400e-03, -2.1510400e-03, -2.9059200e-03, -3.7126400e-03,\n",
       "       -4.5510400e-03, -5.3587200e-03, -5.9660800e-03, -6.9472000e-03])"
      ]
     },
     "execution_count": 165,
     "metadata": {},
     "output_type": "execute_result"
    }
   ],
   "source": [
    "(volt_set-volt_measure)[8]"
   ]
  },
  {
   "cell_type": "code",
   "execution_count": 157,
   "metadata": {},
   "outputs": [
    {
     "data": {
      "text/plain": [
       "array([ 0.0053736 ,  0.00514688,  0.00473216,  0.0045856 ,  0.00423104,\n",
       "        0.00386048,  0.00344288,  0.00301792,  0.00289104,  0.0024372 ,\n",
       "        0.00199873,  0.00150912,  0.00095568,  0.00077952,  0.00030464,\n",
       "       -0.00024352, -0.0005408 , -0.00131712, -0.00160384, -0.002208  ])"
      ]
     },
     "execution_count": 157,
     "metadata": {},
     "output_type": "execute_result"
    }
   ],
   "source": [
    "(volt_set-volt_measure)[7]"
   ]
  },
  {
   "cell_type": "code",
   "execution_count": 150,
   "metadata": {},
   "outputs": [
    {
     "data": {
      "text/plain": [
       "array([ 0.0093872 ,  0.00910208,  0.00851712,  0.00840192,  0.00788608,\n",
       "        0.00738944,  0.00684832,  0.00637184,  0.00604176,  0.0055224 ,\n",
       "        0.00496137,  0.00430758,  0.00368944,  0.0033344 ,  0.00274272,\n",
       "        0.00207296,  0.0014208 ,  0.0007648 ,  0.00039424, -0.00035648])"
      ]
     },
     "execution_count": 150,
     "metadata": {},
     "output_type": "execute_result"
    }
   ],
   "source": [
    "(volt_set-volt_measure)[6]"
   ]
  },
  {
   "cell_type": "code",
   "execution_count": 136,
   "metadata": {},
   "outputs": [
    {
     "data": {
      "text/plain": [
       "array([ 0.0089224 ,  0.00855168,  0.00802624,  0.00784128,  0.00729984,\n",
       "        0.00680576,  0.00599904,  0.00578432,  0.0054384 ,  0.0049212 ,\n",
       "        0.00430411,  0.00368198,  0.00300672,  0.00271552,  0.00210656,\n",
       "        0.00145856,  0.00077376,  0.00015488, -0.00024192, -0.0010016 ])"
      ]
     },
     "execution_count": 136,
     "metadata": {},
     "output_type": "execute_result"
    }
   ],
   "source": [
    "(volt_set-volt_measure)[5]"
   ]
  },
  {
   "cell_type": "code",
   "execution_count": 123,
   "metadata": {},
   "outputs": [
    {
     "data": {
      "text/plain": [
       "array([ 0.0041024 ,  0.00368768,  0.00317696,  0.00298944,  0.00246016,\n",
       "        0.00204416,  0.00150336,  0.00094592,  0.00077792,  0.0002304 ,\n",
       "       -0.00035919, -0.00094912, -0.0016336 , -0.00197184, -0.0025296 ,\n",
       "       -0.00315328, -0.00378048, -0.0044576 , -0.00457216, -0.00524032])"
      ]
     },
     "execution_count": 123,
     "metadata": {},
     "output_type": "execute_result"
    }
   ],
   "source": [
    "(volt_set-volt_measure)[4]"
   ]
  },
  {
   "cell_type": "code",
   "execution_count": 80,
   "metadata": {},
   "outputs": [
    {
     "data": {
      "text/plain": [
       "array([8.25280000e-03, 7.92384000e-03, 7.51424000e-03, 7.40224000e-03,\n",
       "       6.95808000e-03, 6.54752000e-03, 6.06240000e-03, 5.61504000e-03,\n",
       "       5.50704000e-03, 5.01168000e-03, 4.49822624e-03, 4.01318400e-03,\n",
       "       3.36912000e-03, 3.22304000e-03, 2.64480000e-03, 2.05888000e-03,\n",
       "       1.51104000e-03, 9.22240000e-04, 6.22720000e-04, 6.40000000e-07])"
      ]
     },
     "execution_count": 80,
     "metadata": {},
     "output_type": "execute_result"
    }
   ],
   "source": [
    "(volt_set-volt_measure)[0]"
   ]
  },
  {
   "cell_type": "code",
   "execution_count": 81,
   "metadata": {
    "scrolled": true
   },
   "outputs": [
    {
     "data": {
      "text/plain": [
       "array([ 4.11680000e-03,  3.69664000e-03,  3.20512000e-03,  2.94272000e-03,\n",
       "        2.41408000e-03,  1.96256000e-03,  1.43520000e-03,  9.04640000e-04,\n",
       "        6.36800000e-04,  7.08000000e-05, -4.94394976e-04, -1.07408000e-03,\n",
       "       -1.84992000e-03, -2.10368000e-03, -2.75456000e-03, -3.38592000e-03,\n",
       "       -4.04096000e-03, -4.78016000e-03, -5.14816000e-03, -5.85152000e-03])"
      ]
     },
     "execution_count": 81,
     "metadata": {},
     "output_type": "execute_result"
    }
   ],
   "source": [
    "(volt_set-volt_measure)[1]"
   ]
  },
  {
   "cell_type": "code",
   "execution_count": 82,
   "metadata": {},
   "outputs": [
    {
     "data": {
      "text/plain": [
       "array([ 8.00880000e-03,  7.65696000e-03,  7.16672000e-03,  6.99392000e-03,\n",
       "        6.55808000e-03,  6.09888000e-03,  5.58656000e-03,  5.08544000e-03,\n",
       "        4.89600000e-03,  4.34864000e-03,  3.82412704e-03,  3.23961600e-03,\n",
       "        2.64768000e-03,  2.42272000e-03,  1.81536000e-03,  1.18496000e-03,\n",
       "        5.45920000e-04, -3.71200000e-05, -3.87840000e-04, -1.09184000e-03])"
      ]
     },
     "execution_count": 82,
     "metadata": {},
     "output_type": "execute_result"
    }
   ],
   "source": [
    "(volt_set-volt_measure)[2]"
   ]
  },
  {
   "cell_type": "code",
   "execution_count": 112,
   "metadata": {},
   "outputs": [
    {
     "data": {
      "text/plain": [
       "array([ 7.04640000e-03,  6.62720000e-03,  5.93280000e-03,  5.98528000e-03,\n",
       "        5.46432000e-03,  5.06368000e-03,  4.53568000e-03,  3.99712000e-03,\n",
       "        3.81664000e-03,  3.26600000e-03,  2.69681472e-03,  2.13664000e-03,\n",
       "        1.45664000e-03,  1.25120000e-03,  6.11520000e-04, -3.10400000e-05,\n",
       "       -6.46400000e-04, -1.28256000e-03, -1.59744000e-03, -2.23936000e-03])"
      ]
     },
     "execution_count": 112,
     "metadata": {},
     "output_type": "execute_result"
    }
   ],
   "source": [
    "(volt_set-volt_measure)[3]"
   ]
  },
  {
   "cell_type": "markdown",
   "metadata": {},
   "source": [
    "# Test command"
   ]
  },
  {
   "cell_type": "code",
   "execution_count": 93,
   "metadata": {},
   "outputs": [
    {
     "data": {
      "text/plain": [
       "9.00223936"
      ]
     },
     "execution_count": 93,
     "metadata": {},
     "output_type": "execute_result"
    }
   ],
   "source": [
    "volt = float(keithley.query('MEAS:VOLT:DC?'))\n",
    "volt"
   ]
  },
  {
   "cell_type": "code",
   "execution_count": 13,
   "metadata": {},
   "outputs": [],
   "source": [
    "time.sleep(1)"
   ]
  },
  {
   "cell_type": "code",
   "execution_count": null,
   "metadata": {},
   "outputs": [],
   "source": [
    "volt_set = np.arange(-10,10,0.001)\n",
    "volt_measure = np.zeros(len(volt_set))\n",
    "pin = 0\n",
    "\n",
    "for i in range(len(volt_set)):\n",
    "    volt_measure[i] = float(keithley.query('MEAS:VOLT:DC?'))\n",
    "    time.sleep(1)\n",
    "volt_measure"
   ]
  },
  {
   "cell_type": "code",
   "execution_count": 8,
   "metadata": {},
   "outputs": [
    {
     "data": {
      "text/plain": [
       "array([-10.   ,  -9.999,  -9.998, ...,   9.997,   9.998,   9.999])"
      ]
     },
     "execution_count": 8,
     "metadata": {},
     "output_type": "execute_result"
    }
   ],
   "source": [
    "volt_set = np.arange(-10,10,0.001)\n",
    "# volt_set\n",
    "volt_measure = np.zeros(len(volt_set))\n",
    "self.core.reset()\n",
    "self.core.break_realtime()                                          \n",
    "self.zotino0.init()\n",
    "self.pin = 0\n",
    "\n",
    "for i in range(len(volt_set)):\n",
    "    delay(300*us)\n",
    "    self.zotino0.write_dac(self.pin,volt_set[i])\n",
    "    self.zotino0.load()\n",
    "    delay(1*s)\n",
    "    volt_measure[i] = float(keithley.query('MEAS:VOLT:DC?'))\n",
    "    delay(1*s)"
   ]
  },
  {
   "cell_type": "code",
   "execution_count": 30,
   "metadata": {},
   "outputs": [
    {
     "data": {
      "text/plain": [
       "10"
      ]
     },
     "execution_count": 30,
     "metadata": {},
     "output_type": "execute_result"
    }
   ],
   "source": [
    "interval_in_ms = 500\n",
    "count = 1\n",
    "# keithley.write(\"data:clear\")\n",
    "keithley.write(\"trigger:source external\")\n",
    "keithley.write(\"trigger:delay %f\" % (interval_in_ms / 1000.0))\n",
    "keithley.write(\"trigger:count %d\" % count)\n",
    "# keithley.write(\"trace:points %d\" % count)\n",
    "# keithley.write(\"trace:points %d\" % count)\n",
    "# keithley.write(\"trace:feed sense1; feed:control next\")\n",
    "# # keithley.write(\"trace:points %d\" % number_of_readings)\n",
    "# keithley.write(\"trace:feed sense[1]\")\n",
    "keithley.write(\"initiate\")"
   ]
  },
  {
   "cell_type": "code",
   "execution_count": 31,
   "metadata": {},
   "outputs": [
    {
     "data": {
      "text/plain": [
       "0.305442176"
      ]
     },
     "execution_count": 31,
     "metadata": {},
     "output_type": "execute_result"
    }
   ],
   "source": [
    "volt = float(keithley.query('fetch?'))\n",
    "volt"
   ]
  },
  {
   "cell_type": "code",
   "execution_count": 29,
   "metadata": {},
   "outputs": [
    {
     "data": {
      "text/plain": [
       "27"
      ]
     },
     "execution_count": 29,
     "metadata": {},
     "output_type": "execute_result"
    }
   ],
   "source": [
    "keithley.write(\"*rst; status:preset; *cls\")"
   ]
  }
 ],
 "metadata": {
  "kernelspec": {
   "display_name": "Python 3",
   "language": "python",
   "name": "python3"
  },
  "language_info": {
   "codemirror_mode": {
    "name": "ipython",
    "version": 3
   },
   "file_extension": ".py",
   "mimetype": "text/x-python",
   "name": "python",
   "nbconvert_exporter": "python",
   "pygments_lexer": "ipython3",
   "version": "3.8.8"
  }
 },
 "nbformat": 4,
 "nbformat_minor": 5
}
