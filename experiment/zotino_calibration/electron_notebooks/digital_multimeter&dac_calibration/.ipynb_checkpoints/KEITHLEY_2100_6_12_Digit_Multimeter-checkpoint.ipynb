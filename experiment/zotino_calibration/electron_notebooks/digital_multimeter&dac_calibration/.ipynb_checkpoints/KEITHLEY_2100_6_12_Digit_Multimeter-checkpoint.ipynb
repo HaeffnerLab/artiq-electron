{
 "cells": [
  {
   "cell_type": "code",
   "execution_count": 1,
   "metadata": {},
   "outputs": [],
   "source": [
    "import os\n",
    "import numpy as np\n",
    "import matplotlib.pyplot as plt\n",
    "%matplotlib inline\n",
    "# import oskar\n",
    "# scripts = oskar.Scripts()\n",
    "import numpy as np\n",
    "from tqdm import tqdm\n",
    "import numpy\n",
    "import matplotlib.pyplot as plot\n",
    "import sys\n",
    "import pickle as pkl\n",
    "import pyvisa as visa\n",
    "# import visa\n",
    "import datetime\n",
    "from scipy.optimize import curve_fit\n",
    "from collections import defaultdict\n",
    "from scipy.stats import kurtosis, skew\n",
    "import pandas as pd\n",
    "import xarray as xr\n",
    "from collections import OrderedDict\n",
    "from pathlib import Path\n",
    "import fnmatch\n",
    "import time"
   ]
  },
  {
   "cell_type": "markdown",
   "metadata": {},
   "source": [
    "Connect the GPIB - usb cable to electron PC, then run this script together with the artiq zotino_calibrator script"
   ]
  },
  {
   "cell_type": "code",
   "execution_count": 2,
   "metadata": {},
   "outputs": [
    {
     "data": {
      "text/plain": [
       "array([-6.5, -6. , -5.5, -5. , -4.5, -4. , -3.5, -3. , -2.5, -2. , -1.5,\n",
       "       -1. , -0.5,  0. ,  0.5,  1. ,  1.5,  2. ,  2.5,  3. ,  3.5,  4. ,\n",
       "        4.5,  5. ,  5.5,  6. ,  6.5])"
      ]
     },
     "execution_count": 2,
     "metadata": {},
     "output_type": "execute_result"
    }
   ],
   "source": [
    "interval_in_ms = 500\n",
    "count = 1\n",
    "number_of_pins = 32\n",
    "volt_set = np.arange(-6.5,7,0.5)\n",
    "number_of_datapoints = len(volt_set)\n",
    "volt_measure = np.zeros((number_of_pins,number_of_datapoints))\n",
    "volt_set"
   ]
  },
  {
   "cell_type": "markdown",
   "metadata": {},
   "source": [
    "# External trigger mode"
   ]
  },
  {
   "cell_type": "code",
   "execution_count": 3,
   "metadata": {},
   "outputs": [],
   "source": [
    "rm = visa.ResourceManager()\n",
    "instruments = rm.list_resources()\n",
    "# instruments\n",
    "usb = list(filter(lambda x: 'USB' in x, instruments))\n",
    "if len(usb) != 1:\n",
    "    print('Bad instrument list', instruments)\n",
    "    sys.exit(-1)\n",
    "keithley = rm.open_resource(usb[0])"
   ]
  },
  {
   "cell_type": "code",
   "execution_count": 6,
   "metadata": {},
   "outputs": [
    {
     "data": {
      "text/plain": [
       "('USB0::2391::6663::MY53200916::0::INSTR',)"
      ]
     },
     "execution_count": 6,
     "metadata": {},
     "output_type": "execute_result"
    }
   ],
   "source": [
    "instruments"
   ]
  },
  {
   "cell_type": "code",
   "execution_count": 61,
   "metadata": {},
   "outputs": [
    {
     "name": "stderr",
     "output_type": "stream",
     "text": [
      "100%|██████████| 27/27 [01:49<00:00,  4.04s/it]"
     ]
    },
    {
     "name": "stdout",
     "output_type": "stream",
     "text": [
      "[-0.66399282 -0.61270394 -0.5613705  -0.51006755 -0.45875552 -0.40740949\n",
      " -0.35609831 -0.30473721 -0.25340773 -0.20207188 -0.15070532 -0.09936893\n",
      " -0.04799658  0.00334904  0.0546921   0.10607221  0.15741212  0.20879224\n",
      "  0.26013245  0.31147302  0.36284142  0.41417021  0.46553187  0.51685165\n",
      "  0.56817537  0.61951554  0.67081007]\n"
     ]
    },
    {
     "name": "stderr",
     "output_type": "stream",
     "text": [
      "\n"
     ]
    }
   ],
   "source": [
    "pin = 0\n",
    "\n",
    "for i in tqdm(range(number_of_datapoints)):\n",
    "    \n",
    "    keithley.write(\"trigger:source external\")\n",
    "    keithley.write(\"trigger:delay %f\" % (interval_in_ms / 1000.0))\n",
    "    keithley.write(\"trigger:count %d\" % count)\n",
    "    #     keithley.write('fetch?')\n",
    "    keithley.write(\"initiate\")\n",
    "    time.sleep(4)\n",
    "    \n",
    "#     avg_list = np.zeros(100)\n",
    "#     for j in range(100):\n",
    "#         volt = float(keithley.query('MEAS:VOLT:DC?'))\n",
    "#         avg_list[j]=volt\n",
    "   \n",
    "#     volt_measure[pin][i] = np.mean(avg_list)\n",
    "    \n",
    "    volt_measure[pin][i] = float(keithley.query('fetch?'))\n",
    "    keithley.write(\"*rst; status:preset; *cls\")\n",
    "\n",
    "print(volt_measure[pin])"
   ]
  },
  {
   "cell_type": "code",
   "execution_count": 63,
   "metadata": {},
   "outputs": [
    {
     "data": {
      "text/plain": [
       "array([[-6.63992818e-01, -6.12703936e-01, -5.61370496e-01,\n",
       "        -5.10067549e-01, -4.58755515e-01, -4.07409490e-01,\n",
       "        -3.56098313e-01, -3.04737208e-01, -2.53407733e-01,\n",
       "        -2.02071875e-01, -1.50705317e-01, -9.93689278e-02,\n",
       "        -4.79965823e-02,  3.34904475e-03,  5.46921003e-02,\n",
       "         1.06072213e-01,  1.57412118e-01,  2.08792242e-01,\n",
       "         2.60132446e-01,  3.11473016e-01,  3.62841417e-01,\n",
       "         4.14170208e-01,  4.65531866e-01,  5.16851654e-01,\n",
       "         5.68175367e-01,  6.19515539e-01,  6.70810069e-01],\n",
       "       [-2.54024012e+01, -2.34491053e+01, -2.14877028e+01,\n",
       "        -1.95272746e+01, -1.75662874e+01, -1.56044739e+01,\n",
       "        -1.36441112e+01, -1.16821949e+01, -9.72143756e+00,\n",
       "        -7.76079133e+00, -5.79883601e+00, -3.83844385e+00,\n",
       "        -1.87663028e+00,  8.44166160e-02,  2.04491012e+00,\n",
       "         4.00647340e+00,  5.96705724e+00,  7.92921886e+00,\n",
       "         9.88957989e+00,  1.18500989e+01,  1.38120705e+01,\n",
       "         1.57729847e+01,  1.77349916e+01,  1.96962148e+01,\n",
       "         2.16575052e+01,  2.36200204e+01,  2.55810596e+01],\n",
       "       [-2.54134920e+01, -2.34603991e+01, -2.14987875e+01,\n",
       "        -1.95386022e+01, -1.75778255e+01, -1.56159341e+01,\n",
       "        -1.36557245e+01, -1.16935895e+01, -9.73313358e+00,\n",
       "        -7.77221653e+00, -5.81031093e+00, -3.84998180e+00,\n",
       "        -1.88780151e+00,  7.29101584e-02,  2.03327400e+00,\n",
       "         3.99526342e+00,  5.95583164e+00,  7.91792769e+00,\n",
       "         9.87858875e+00,  1.18388639e+01,  1.38008548e+01,\n",
       "         1.57616127e+01,  1.77236996e+01,  1.96847042e+01,\n",
       "         2.16457251e+01,  2.36081467e+01,  2.55688444e+01],\n",
       "       [-2.54174489e+01, -2.34653688e+01, -2.15038047e+01,\n",
       "        -1.95434051e+01, -1.75824807e+01, -1.56206835e+01,\n",
       "        -1.36600546e+01, -1.16980111e+01, -9.73732239e+00,\n",
       "        -7.77669562e+00, -5.81483138e+00, -3.85433223e+00,\n",
       "        -1.89221122e+00,  6.84171643e-02,  2.02903420e+00,\n",
       "         3.99056868e+00,  5.95139132e+00,  7.91345665e+00,\n",
       "         9.87404143e+00,  1.18343435e+01,  1.37966341e+01,\n",
       "         1.57576019e+01,  1.77199141e+01,  1.96810135e+01,\n",
       "         2.16421798e+01,  2.36046568e+01,  2.55660857e+01],\n",
       "       [-2.53956100e+01, -2.34431525e+01, -2.14817797e+01,\n",
       "        -1.95210068e+01, -1.75601505e+01, -1.55982255e+01,\n",
       "        -1.36377555e+01, -1.16753449e+01, -9.71459083e+00,\n",
       "        -7.75376756e+00, -5.79178022e+00, -3.83101256e+00,\n",
       "        -1.86884865e+00,  9.18721133e-02,  2.05276311e+00,\n",
       "         4.01439779e+00,  5.97545644e+00,  7.93755410e+00,\n",
       "         9.89838934e+00,  1.18588803e+01,  1.38208251e+01,\n",
       "         1.57820739e+01,  1.77443563e+01,  1.97053687e+01,\n",
       "         2.16667014e+01,  2.36289220e+01,  2.55902556e+01],\n",
       "       [-2.54282057e+01, -2.34739847e+01, -2.15124734e+01,\n",
       "        -1.95522021e+01, -1.75916485e+01, -1.56298335e+01,\n",
       "        -1.36693414e+01, -1.17073340e+01, -9.74682351e+00,\n",
       "        -7.78621597e+00, -5.82468841e+00, -3.86415163e+00,\n",
       "        -1.90255768e+00,  5.82130677e-02,  2.01857619e+00,\n",
       "         3.98021013e+00,  5.94092307e+00,  7.90279199e+00,\n",
       "         9.86304032e+00,  1.18235984e+01,  1.37851622e+01,\n",
       "         1.57459856e+01,  1.77079315e+01,  1.96688695e+01,\n",
       "         2.16296081e+01,  2.35921588e+01,  2.55530877e+01],\n",
       "       [-2.54372504e+01, -2.34829380e+01, -2.15211223e+01,\n",
       "        -1.95607607e+01, -1.75997725e+01, -1.56378961e+01,\n",
       "        -1.36771150e+01, -1.17151152e+01, -9.75403751e+00,\n",
       "        -7.79308424e+00, -5.83131500e+00, -3.87046337e+00,\n",
       "        -1.90845875e+00,  5.24315091e-02,  2.01332058e+00,\n",
       "         3.97534759e+00,  5.93633077e+00,  7.89849821e+00,\n",
       "         9.85915270e+00,  1.18198622e+01,  1.37817711e+01,\n",
       "         1.57427513e+01,  1.77051512e+01,  1.96662497e+01,\n",
       "         2.16272161e+01,  2.35898592e+01,  2.55510828e+01],\n",
       "       [-6.47591820e+00, -5.97590462e+00, -5.47556107e+00,\n",
       "        -4.97546147e+00, -4.47569019e+00, -3.97549045e+00,\n",
       "        -3.47538559e+00, -2.97507159e+00, -2.47436533e+00,\n",
       "        -1.97492523e+00, -1.47477943e+00, -9.74732643e-01,\n",
       "        -4.74364153e-01,  2.56346616e-02,  5.25735304e-01,\n",
       "         1.02601676e+00,  1.52608110e+00,  2.02652462e+00,\n",
       "         2.52655780e+00,  3.02661899e+00,  3.52693157e+00,\n",
       "         4.02698739e+00,  4.52737340e+00,  5.02748520e+00,\n",
       "         5.52757345e+00,  6.02793365e+00,  6.52795947e+00],\n",
       "       [-2.54227670e+01, -2.34693202e+01, -2.15079148e+01,\n",
       "        -1.95471887e+01, -1.75860405e+01, -1.56241818e+01,\n",
       "        -1.36631347e+01, -1.17008083e+01, -9.73984001e+00,\n",
       "        -7.77879480e+00, -5.81702156e+00, -3.85590981e+00,\n",
       "        -1.89394174e+00,  6.72366119e-02,  2.02785200e+00,\n",
       "         3.98986292e+00,  5.95088610e+00,  7.91303798e+00,\n",
       "         9.87398282e+00,  1.18348444e+01,  1.37968899e+01,\n",
       "         1.57579051e+01,  1.77205439e+01,  1.96815630e+01,\n",
       "         2.16431261e+01,  2.36055690e+01,  2.55670021e+01],\n",
       "       [-2.54370261e+01, -2.34838564e+01, -2.15227597e+01,\n",
       "        -1.95620834e+01, -1.76012748e+01, -1.56390303e+01,\n",
       "        -1.36782687e+01, -1.17159522e+01, -9.75500329e+00,\n",
       "        -7.79407450e+00, -5.83248065e+00, -3.87116533e+00,\n",
       "        -1.90923515e+00,  5.19872682e-02,  2.01260099e+00,\n",
       "         3.97463422e+00,  5.93554442e+00,  7.89759572e+00,\n",
       "         9.85867558e+00,  1.18189075e+01,  1.37811024e+01,\n",
       "         1.57420473e+01,  1.77047441e+01,  1.96656798e+01,\n",
       "         2.16267128e+01,  2.35891086e+01,  2.55504878e+01],\n",
       "       [-2.54141026e+01, -2.34605074e+01, -2.14989830e+01,\n",
       "        -1.95379093e+01, -1.75767766e+01, -1.56144608e+01,\n",
       "        -1.36532874e+01, -1.16910569e+01, -9.72940042e+00,\n",
       "        -7.76850331e+00, -5.80629379e+00, -3.84480934e+00,\n",
       "        -1.88271583e+00,  7.89845924e-02,  2.03965915e+00,\n",
       "         4.00181790e+00,  5.96322632e+00,  7.92569439e+00,\n",
       "         9.88693966e+00,  1.18476188e+01,  1.38100365e+01,\n",
       "         1.57711713e+01,  1.77340255e+01,  1.96953025e+01,\n",
       "         2.16570503e+01,  2.36193806e+01,  2.55809132e+01],\n",
       "       [-2.54485491e+01, -2.34874488e+01, -2.15250867e+01,\n",
       "        -1.95631772e+01, -1.76015959e+01, -1.56385904e+01,\n",
       "        -1.36770558e+01, -1.17142827e+01, -9.75273480e+00,\n",
       "        -7.79123500e+00, -5.82871697e+00, -3.86691761e+00,\n",
       "        -1.90445872e+00,  5.72088104e-02,  2.01867517e+00,\n",
       "         3.98112547e+00,  5.94293029e+00,  7.90536783e+00,\n",
       "         9.86706726e+00,  1.18284810e+01,  1.37913579e+01,\n",
       "         1.57531339e+01,  1.77161889e+01,  1.96779462e+01,\n",
       "         2.16398550e+01,  2.36031088e+01,  2.55653620e+01],\n",
       "       [-2.54446866e+01, -2.34841901e+01, -2.15220219e+01,\n",
       "        -1.95604682e+01, -1.75992644e+01, -1.56365864e+01,\n",
       "        -1.36754527e+01, -1.17128066e+01, -9.75133854e+00,\n",
       "        -7.79032568e+00, -5.82829986e+00, -3.86677264e+00,\n",
       "        -1.90455963e+00,  5.70404177e-02,  2.01812042e+00,\n",
       "         3.98054003e+00,  5.94188178e+00,  7.90404831e+00,\n",
       "         9.86556362e+00,  1.18268261e+01,  1.37892941e+01,\n",
       "         1.57505999e+01,  1.77136180e+01,  1.96752554e+01,\n",
       "         2.16367466e+01,  2.35996847e+01,  2.55619141e+01],\n",
       "       [-2.54561298e+01, -2.35022996e+01, -2.15411759e+01,\n",
       "        -1.95806111e+01, -1.76198860e+01, -1.56582637e+01,\n",
       "        -1.36976502e+01, -1.17355579e+01, -9.77435508e+00,\n",
       "        -7.81388256e+00, -5.85218915e+00, -3.89140978e+00,\n",
       "        -1.92948771e+00,  3.14652325e-02,  1.99203140e+00,\n",
       "         3.95369922e+00,  5.91464806e+00,  7.87651980e+00,\n",
       "         9.83723828e+00,  1.17978136e+01,  1.37597062e+01,\n",
       "         1.57204155e+01,  1.76829935e+01,  1.96437179e+01,\n",
       "         2.16050034e+01,  2.35676189e+01,  2.55291193e+01],\n",
       "       [-6.47431412e+00, -5.97413634e+00, -5.47381096e+00,\n",
       "        -4.97372297e+00, -4.47361624e+00, -3.97322322e+00,\n",
       "        -3.47313671e+00, -2.97268434e+00, -2.47247239e+00,\n",
       "        -1.97234641e+00, -1.47199387e+00, -9.71830199e-01,\n",
       "        -4.71378434e-01,  2.87847278e-02,  5.28874780e-01,\n",
       "         1.02934605e+00,  1.52947526e+00,  2.02994460e+00,\n",
       "         2.53012815e+00,  3.03023231e+00,  3.53061808e+00,\n",
       "         4.03078201e+00,  4.53134066e+00,  5.03147559e+00,\n",
       "         5.53164367e+00,  6.03200190e+00,  6.53199061e+00],\n",
       "       [-2.54743668e+01, -2.35152541e+01, -2.15531289e+01,\n",
       "        -1.95918750e+01, -1.76302945e+01, -1.56679871e+01,\n",
       "        -1.37068205e+01, -1.17439993e+01, -9.78278988e+00,\n",
       "        -7.82133944e+00, -5.85925573e+00, -3.89808984e+00,\n",
       "        -1.93579676e+00,  2.57672385e-02,  1.98665857e+00,\n",
       "         3.94902946e+00,  5.91045095e+00,  7.87258208e+00,\n",
       "         9.83374424e+00,  1.17947293e+01,  1.37568535e+01,\n",
       "         1.57181092e+01,  1.76808741e+01,  1.96421072e+01,\n",
       "         2.16038882e+01,  2.35666153e+01,  2.55283543e+01],\n",
       "       [-2.54721170e+01, -2.35192453e+01, -2.15573575e+01,\n",
       "        -1.95967586e+01, -1.76357143e+01, -1.56781290e+01,\n",
       "        -1.37175658e+01, -1.17554496e+01, -9.79354240e+00,\n",
       "        -7.83227987e+00, -5.87025522e+00, -3.90868148e+00,\n",
       "        -1.94616800e+00,  1.41718787e-02,  1.97550714e+00,\n",
       "         3.93805610e+00,  5.89910890e+00,  7.86145200e+00,\n",
       "         9.82265070e+00,  1.17836668e+01,  1.37459101e+01,\n",
       "         1.57070578e+01,  1.76697847e+01,  1.96308909e+01,\n",
       "         2.15928557e+01,  2.35552878e+01,  2.55169907e+01],\n",
       "       [-2.54568771e+01, -2.34981826e+01, -2.15360259e+01,\n",
       "        -1.95752687e+01, -1.76136813e+01, -1.56509963e+01,\n",
       "        -1.36901054e+01, -1.17271551e+01, -9.76571515e+00,\n",
       "        -7.80429500e+00, -5.84161110e+00, -3.88067769e+00,\n",
       "        -1.91854048e+00,  4.28637228e-02,  2.00364776e+00,\n",
       "         3.96603808e+00,  5.92741924e+00,  7.88986536e+00,\n",
       "         9.85051738e+00,  1.18116359e+01,  1.37741975e+01,\n",
       "         1.57347948e+01,  1.76975508e+01,  1.96588693e+01,\n",
       "         2.16210304e+01,  2.35833185e+01,  2.55447398e+01],\n",
       "       [-2.54525343e+01, -2.34981675e+01, -2.15364859e+01,\n",
       "        -1.95753807e+01, -1.76139546e+01, -1.56520413e+01,\n",
       "        -1.36911040e+01, -1.17285672e+01, -9.76702380e+00,\n",
       "        -7.80615370e+00, -5.84395917e+00, -3.88284622e+00,\n",
       "        -1.92042557e+00,  4.05862257e-02,  2.00163326e+00,\n",
       "         3.96381906e+00,  5.92494296e+00,  7.88717812e+00,\n",
       "         9.84793510e+00,  1.18089184e+01,  1.37715350e+01,\n",
       "         1.57324600e+01,  1.76951367e+01,  1.96563766e+01,\n",
       "         2.16182472e+01,  2.35809279e+01,  2.55423836e+01],\n",
       "       [-2.54971053e+01, -2.35392775e+01, -2.15764887e+01,\n",
       "        -1.96150227e+01, -1.76536731e+01, -1.56910491e+01,\n",
       "        -1.37300266e+01, -1.17672312e+01, -9.80548863e+00,\n",
       "        -7.84436473e+00, -5.88169287e+00, -3.92029066e+00,\n",
       "        -1.95803092e+00,  3.77803775e-03,  1.96478677e+00,\n",
       "         3.92728968e+00,  5.88903415e+00,  7.85095297e+00,\n",
       "         9.81249002e+00,  1.17736458e+01,  1.37364115e+01,\n",
       "         1.56976026e+01,  1.76601657e+01,  1.96214431e+01,\n",
       "         2.15833859e+01,  2.35459170e+01,  2.55074984e+01],\n",
       "       [-2.54863205e+01, -2.35291183e+01, -2.15671159e+01,\n",
       "        -1.96065216e+01, -1.76460140e+01, -1.56835716e+01,\n",
       "        -1.37227207e+01, -1.17609456e+01, -9.79973171e+00,\n",
       "        -7.83915078e+00, -5.87674120e+00, -3.91624052e+00,\n",
       "        -1.95411597e+00,  6.65433529e-03,  1.96739709e+00,\n",
       "         3.92895793e+00,  5.89003652e+00,  7.85181999e+00,\n",
       "         9.81257048e+00,  1.17730684e+01,  1.37349979e+01,\n",
       "         1.56957021e+01,  1.76579009e+01,  1.96183325e+01,\n",
       "         2.15794652e+01,  2.35414841e+01,  2.55027185e+01],\n",
       "       [-2.54980819e+01, -2.35448047e+01, -2.15824923e+01,\n",
       "        -1.96209510e+01, -1.76597066e+01, -1.56970969e+01,\n",
       "        -1.37356850e+01, -1.17735585e+01, -9.81152549e+00,\n",
       "        -7.85028035e+00, -5.88785665e+00, -3.92655697e+00,\n",
       "        -1.96377343e+00, -2.66290605e-03,  1.95847380e+00,\n",
       "         3.92110311e+00,  5.88234397e+00,  7.84490750e+00,\n",
       "         9.80645272e+00,  1.17678024e+01,  1.37305254e+01,\n",
       "         1.56916544e+01,  1.76548699e+01,  1.96165783e+01,\n",
       "         2.15784263e+01,  2.35414049e+01,  2.55029962e+01],\n",
       "       [-2.54909676e+01, -2.35331744e+01, -2.15706453e+01,\n",
       "        -1.96094112e+01, -1.76485555e+01, -1.56862436e+01,\n",
       "        -1.37250815e+01, -1.17625443e+01, -9.80108816e+00,\n",
       "        -7.83999754e+00, -5.87779530e+00, -3.91664155e+00,\n",
       "        -1.95427265e+00,  6.98286980e-03,  1.96768841e+00,\n",
       "         3.93018225e+00,  5.89129567e+00,  7.85326114e+00,\n",
       "         9.81423655e+00,  1.17747940e+01,  1.37369054e+01,\n",
       "         1.56979011e+01,  1.76600700e+01,  1.96211106e+01,\n",
       "         2.15826204e+01,  2.35447807e+01,  2.55060400e+01],\n",
       "       [-2.55117735e+01, -2.35581844e+01, -2.15961260e+01,\n",
       "        -1.96348789e+01, -1.76735252e+01, -1.57107659e+01,\n",
       "        -1.37495027e+01, -1.17869819e+01, -9.82521004e+00,\n",
       "        -7.86405490e+00, -5.90137206e+00, -3.93993036e+00,\n",
       "        -1.97741999e+00, -1.58885099e-02,  1.94525662e+00,\n",
       "         3.90784836e+00,  5.86940668e+00,  7.83207821e+00,\n",
       "         9.79324940e+00,  1.17547910e+01,  1.37174288e+01,\n",
       "         1.56788461e+01,  1.76418432e+01,  1.96035254e+01,\n",
       "         2.15652418e+01,  2.35280408e+01,  2.54899785e+01],\n",
       "       [-2.55240390e+01, -2.35663993e+01, -2.16035511e+01,\n",
       "        -1.96420526e+01, -1.76802731e+01, -1.57174536e+01,\n",
       "        -1.37558818e+01, -1.17929542e+01, -9.83145077e+00,\n",
       "        -7.87025006e+00, -5.90755345e+00, -3.94629053e+00,\n",
       "        -1.98362297e+00, -2.23952149e-02,  1.93881649e+00,\n",
       "         3.90163317e+00,  5.86274424e+00,  7.82528254e+00,\n",
       "         9.78647722e+00,  1.17468501e+01,  1.37090881e+01,\n",
       "         1.56705569e+01,  1.76328452e+01,  1.95939388e+01,\n",
       "         2.15554469e+01,  2.35181293e+01,  2.54795357e+01],\n",
       "       [-2.55288817e+01, -2.35756091e+01, -2.16133143e+01,\n",
       "        -1.96522065e+01, -1.76910549e+01, -1.57283552e+01,\n",
       "        -1.37671533e+01, -1.18047226e+01, -9.84301125e+00,\n",
       "        -7.88204611e+00, -5.91927711e+00, -3.95800998e+00,\n",
       "        -1.99557129e+00, -3.40063469e-02,  1.92747418e+00,\n",
       "         3.89037144e+00,  5.85123589e+00,  7.81416698e+00,\n",
       "         9.77573919e+00,  1.17362502e+01,  1.36994086e+01,\n",
       "         1.56610014e+01,  1.76236233e+01,  1.95856182e+01,\n",
       "         2.15478253e+01,  2.35112083e+01,  2.54730307e+01],\n",
       "       [ 0.00000000e+00,  0.00000000e+00,  0.00000000e+00,\n",
       "         0.00000000e+00,  0.00000000e+00,  0.00000000e+00,\n",
       "         0.00000000e+00,  0.00000000e+00,  0.00000000e+00,\n",
       "         0.00000000e+00,  0.00000000e+00,  0.00000000e+00,\n",
       "         0.00000000e+00,  0.00000000e+00,  0.00000000e+00,\n",
       "         0.00000000e+00,  0.00000000e+00,  0.00000000e+00,\n",
       "         0.00000000e+00,  0.00000000e+00,  0.00000000e+00,\n",
       "         0.00000000e+00,  0.00000000e+00,  0.00000000e+00,\n",
       "         0.00000000e+00,  0.00000000e+00,  0.00000000e+00],\n",
       "       [ 0.00000000e+00,  0.00000000e+00,  0.00000000e+00,\n",
       "         0.00000000e+00,  0.00000000e+00,  0.00000000e+00,\n",
       "         0.00000000e+00,  0.00000000e+00,  0.00000000e+00,\n",
       "         0.00000000e+00,  0.00000000e+00,  0.00000000e+00,\n",
       "         0.00000000e+00,  0.00000000e+00,  0.00000000e+00,\n",
       "         0.00000000e+00,  0.00000000e+00,  0.00000000e+00,\n",
       "         0.00000000e+00,  0.00000000e+00,  0.00000000e+00,\n",
       "         0.00000000e+00,  0.00000000e+00,  0.00000000e+00,\n",
       "         0.00000000e+00,  0.00000000e+00,  0.00000000e+00],\n",
       "       [ 0.00000000e+00,  0.00000000e+00,  0.00000000e+00,\n",
       "         0.00000000e+00,  0.00000000e+00,  0.00000000e+00,\n",
       "         0.00000000e+00,  0.00000000e+00,  0.00000000e+00,\n",
       "         0.00000000e+00,  0.00000000e+00,  0.00000000e+00,\n",
       "         0.00000000e+00,  0.00000000e+00,  0.00000000e+00,\n",
       "         0.00000000e+00,  0.00000000e+00,  0.00000000e+00,\n",
       "         0.00000000e+00,  0.00000000e+00,  0.00000000e+00,\n",
       "         0.00000000e+00,  0.00000000e+00,  0.00000000e+00,\n",
       "         0.00000000e+00,  0.00000000e+00,  0.00000000e+00],\n",
       "       [ 0.00000000e+00,  0.00000000e+00,  0.00000000e+00,\n",
       "         0.00000000e+00,  0.00000000e+00,  0.00000000e+00,\n",
       "         0.00000000e+00,  0.00000000e+00,  0.00000000e+00,\n",
       "         0.00000000e+00,  0.00000000e+00,  0.00000000e+00,\n",
       "         0.00000000e+00,  0.00000000e+00,  0.00000000e+00,\n",
       "         0.00000000e+00,  0.00000000e+00,  0.00000000e+00,\n",
       "         0.00000000e+00,  0.00000000e+00,  0.00000000e+00,\n",
       "         0.00000000e+00,  0.00000000e+00,  0.00000000e+00,\n",
       "         0.00000000e+00,  0.00000000e+00,  0.00000000e+00],\n",
       "       [ 0.00000000e+00,  0.00000000e+00,  0.00000000e+00,\n",
       "         0.00000000e+00,  0.00000000e+00,  0.00000000e+00,\n",
       "         0.00000000e+00,  0.00000000e+00,  0.00000000e+00,\n",
       "         0.00000000e+00,  0.00000000e+00,  0.00000000e+00,\n",
       "         0.00000000e+00,  0.00000000e+00,  0.00000000e+00,\n",
       "         0.00000000e+00,  0.00000000e+00,  0.00000000e+00,\n",
       "         0.00000000e+00,  0.00000000e+00,  0.00000000e+00,\n",
       "         0.00000000e+00,  0.00000000e+00,  0.00000000e+00,\n",
       "         0.00000000e+00,  0.00000000e+00,  0.00000000e+00],\n",
       "       [ 0.00000000e+00,  0.00000000e+00,  0.00000000e+00,\n",
       "         0.00000000e+00,  0.00000000e+00,  0.00000000e+00,\n",
       "         0.00000000e+00,  0.00000000e+00,  0.00000000e+00,\n",
       "         0.00000000e+00,  0.00000000e+00,  0.00000000e+00,\n",
       "         0.00000000e+00,  0.00000000e+00,  0.00000000e+00,\n",
       "         0.00000000e+00,  0.00000000e+00,  0.00000000e+00,\n",
       "         0.00000000e+00,  0.00000000e+00,  0.00000000e+00,\n",
       "         0.00000000e+00,  0.00000000e+00,  0.00000000e+00,\n",
       "         0.00000000e+00,  0.00000000e+00,  0.00000000e+00]])"
      ]
     },
     "execution_count": 63,
     "metadata": {},
     "output_type": "execute_result"
    }
   ],
   "source": [
    "volt_measure"
   ]
  },
  {
   "cell_type": "code",
   "execution_count": 62,
   "metadata": {},
   "outputs": [
    {
     "name": "stdout",
     "output_type": "stream",
     "text": [
      "0.10269036856312576\n",
      "0.0033753162944444386\n"
     ]
    },
    {
     "data": {
      "text/plain": [
       "<matplotlib.lines.Line2D at 0x7f9297331580>"
      ]
     },
     "execution_count": 62,
     "metadata": {},
     "output_type": "execute_result"
    },
    {
     "data": {
      "image/png": "[encoded data removed]",
      "text/plain": [
       "<Figure size 432x288 with 1 Axes>"
      ]
     },
     "metadata": {
      "needs_background": "light"
     },
     "output_type": "display_data"
    }
   ],
   "source": [
    "i = 0\n",
    "m,b = np.polyfit(volt_set, volt_measure[i], 1)\n",
    "print(m)\n",
    "print(b)\n",
    "plt.plot(volt_set, volt_measure[i], 'yo', volt_set, m*volt_set+b, '--k',label=i)\n",
    "#         plt.legend()\n",
    "\n",
    "# plt.xlim(-0.01,0.01)\n",
    "# plt.ylim(-0.01,0.01)\n",
    "plt.axvline(0)\n",
    "plt.axhline(0)"
   ]
  },
  {
   "cell_type": "code",
   "execution_count": 66,
   "metadata": {},
   "outputs": [
    {
     "name": "stdout",
     "output_type": "stream",
     "text": [
      "375.0\n"
     ]
    }
   ],
   "source": [
    "R1 = 0.75e6\n",
    "R2 = 0.75e6\n",
    "tot = ((1/R1) + (1/R2))**(-1)\n",
    "print(tot/1e3)"
   ]
  },
  {
   "cell_type": "code",
   "execution_count": 68,
   "metadata": {},
   "outputs": [
    {
     "data": {
      "text/plain": [
       "1.3695652173913044"
      ]
     },
     "execution_count": 68,
     "metadata": {},
     "output_type": "execute_result"
    }
   ],
   "source": [
    "2.1*(tot/(tot+0.2e6))"
   ]
  },
  {
   "cell_type": "code",
   "execution_count": 71,
   "metadata": {},
   "outputs": [
    {
     "data": {
      "text/plain": [
       "0.7304347826086957"
      ]
     },
     "execution_count": 71,
     "metadata": {},
     "output_type": "execute_result"
    }
   ],
   "source": [
    "2.1*((0.2e6)/(tot+0.2e6))"
   ]
  },
  {
   "cell_type": "code",
   "execution_count": 64,
   "metadata": {},
   "outputs": [
    {
     "data": {
      "text/plain": [
       "array([[ 3.37531629e-03,  8.47004258e-02,  7.32758633e-02,\n",
       "         6.89884668e-02,  9.23996657e-02,  5.85442988e-02,\n",
       "         5.29516996e-02,  2.58430889e-02,  6.75347412e-02,\n",
       "         5.21339992e-02,  7.90005193e-02,  5.73318085e-02,\n",
       "         5.71985270e-02,  3.18182153e-02,  2.88137850e-02,\n",
       "         2.55098440e-02,  1.59306351e-02,  4.24946934e-02,\n",
       "         4.08680061e-02,  3.50591177e-03,  6.39990983e-03,\n",
       "        -2.12939985e-03,  6.35001814e-03, -1.54844256e-02,\n",
       "        -2.30675198e-02, -3.31950373e-02],\n",
       "       [ 1.02690369e-01,  3.92220889e+00,  3.92218521e+00,\n",
       "         3.92227375e+00,  3.92249194e+00,  3.92198545e+00,\n",
       "         3.92256887e+00,  1.00030375e+00,  3.92273283e+00,\n",
       "         3.92260711e+00,  3.92317781e+00,  3.92410506e+00,\n",
       "         3.92355349e+00,  3.92232896e+00,  1.00050943e+00,\n",
       "         3.92336553e+00,  3.92279706e+00,  3.92334412e+00,\n",
       "         3.92306978e+00,  3.92362744e+00,  3.92244303e+00,\n",
       "         3.92362097e+00,  3.92303903e+00,  3.92368539e+00,\n",
       "         3.92354874e+00,  3.92367049e+00]])"
      ]
     },
     "execution_count": 64,
     "metadata": {},
     "output_type": "execute_result"
    },
    {
     "data": {
      "image/png": "[encoded data removed]",
      "text/plain": [
       "<Figure size 432x288 with 1 Axes>"
      ]
     },
     "metadata": {
      "needs_background": "light"
     },
     "output_type": "display_data"
    }
   ],
   "source": [
    "slope = []\n",
    "y0 = []\n",
    "for i in range(26):\n",
    "    m,b = np.polyfit(volt_set, volt_measure[i], 1)\n",
    "    slope.append(m)\n",
    "    y0.append(b)\n",
    "    plt.plot(volt_set, volt_measure[i], 'yo', volt_set, m*volt_set+b, '--k',label=i)\n",
    "#         plt.legend()\n",
    "\n",
    "# plt.xlim(-0.01,0.01)\n",
    "# plt.ylim(-0.01,0.01)\n",
    "plt.axvline(0)\n",
    "plt.axhline(0)\n",
    "\n",
    "fits = np.array([y0,slope])\n",
    "np.savetxt('zotino_calibration_NEWDACBOX_fits_final.txt',fits)\n",
    "fits"
   ]
  },
  {
   "cell_type": "markdown",
   "metadata": {},
   "source": [
    "# --*****************************************************--"
   ]
  },
  {
   "cell_type": "code",
   "execution_count": 56,
   "metadata": {
    "scrolled": false
   },
   "outputs": [
    {
     "data": {
      "text/plain": [
       "array([[-25.4771426 , -21.5730361 , -17.6510965 , -13.7277712 ,\n",
       "         -9.80437393,  -5.88094455,  -1.95772987,   1.9648694 ,\n",
       "          5.88744598,   9.81061177,  13.7334922 ,  17.6570093 ,\n",
       "         21.5798664 ],\n",
       "       [-25.4942795 , -21.5811321 , -17.6598259 , -13.7372539 ,\n",
       "         -9.81413776,  -5.89085402,  -1.96783709,   1.95403319,\n",
       "          5.87681048,   9.79997975,  13.7225023 ,  17.6457811 ,\n",
       "         21.5681308 ],\n",
       "       [-25.4847727 , -21.5726874 , -17.6512686 , -13.7283462 ,\n",
       "         -9.80508365,  -5.881797  ,  -1.95897757,   1.96284683,\n",
       "          5.88600238,   9.80891932,  13.7316777 ,  17.6551326 ,\n",
       "         21.5781734 ],\n",
       "       [-25.5024239 , -21.5874467 , -17.6656834 , -13.7426476 ,\n",
       "         -9.81894653,  -5.8953707 ,  -1.9721389 ,   1.94988984,\n",
       "          5.87349168,   9.79667758,  13.7196638 ,  17.6432213 ,\n",
       "         21.5656555 ],\n",
       "       [-25.4811753 , -21.5678305 , -17.6466098 , -13.7242199 ,\n",
       "         -9.80133633,  -5.87857661,  -1.95593642,   1.96570971,\n",
       "          5.88809596,   9.81059622,  13.7332309 ,  17.6561184 ,\n",
       "         21.5782518 ],\n",
       "       [-25.4873808 , -21.5717055 , -17.6500008 , -13.7268963 ,\n",
       "         -9.80325444,  -5.8799686 ,  -1.95640841,   1.96602083,\n",
       "          5.88925396,   9.81249744,  13.7358019 ,  17.6592722 ,\n",
       "         21.581891  ],\n",
       "       [-25.4858475 , -21.5728196 , -17.6521035 , -13.7301706 ,\n",
       "         -9.80774043,  -5.88566313,  -1.96364397,   1.95710479,\n",
       "          5.87919731,   9.80149191,  13.723129  ,  17.6457211 ,\n",
       "         21.5675488 ],\n",
       "       [-25.4812283 , -21.5715555 , -17.6493403 , -13.7258468 ,\n",
       "         -9.80205434,  -5.87876705,  -1.95515176,   1.967162  ,\n",
       "          5.89074194,   9.81424574,  13.7374711 ,  17.6613988 ,\n",
       "         21.5839928 ],\n",
       "       [-25.501308  , -21.578471  , -17.6560078 , -13.732221  ,\n",
       "         -9.80837003,  -5.88528825,  -1.96145126,   1.96099836,\n",
       "          5.8843867 ,   9.80819289,  13.7318527 ,  17.6558791 ,\n",
       "         21.5790763 ],\n",
       "       [-25.4599771 , -21.5657301 , -17.659755  , -13.7381827 ,\n",
       "         -9.81664562,  -5.89400892,  -1.97032551,   1.9523015 ,\n",
       "          5.87586944,   9.79975651,  13.7236539 ,  17.6478238 ,\n",
       "         21.5711467 ],\n",
       "       [-25.5035197 , -21.579324  , -17.6554457 , -13.7304365 ,\n",
       "         -9.80557446,  -5.88092062,  -1.95628765,   1.96743665,\n",
       "          5.89209294,   9.81703936,  13.7412744 ,  17.6667134 ,\n",
       "         21.591213  ],\n",
       "       [-25.5118763 , -21.593908  , -17.6676303 , -13.7493118 ,\n",
       "         -9.82497968,  -5.90127355,  -1.97697269,   1.94586157,\n",
       "          5.87012948,   9.79445668,  13.7189281 ,  17.6439526 ,\n",
       "         21.5679539 ],\n",
       "       [-25.4691331 , -21.5492868 , -17.6292801 , -13.7083831 ,\n",
       "         -9.78749171,  -5.86716148,  -1.94597709,   1.97408785,\n",
       "          5.89566454,   9.81721073,  13.7386616 ,  17.6613262 ,\n",
       "         21.5832608 ],\n",
       "       [  0.        ,   0.        ,   0.        ,   0.        ,\n",
       "          0.        ,   0.        ,   0.        ,   0.        ,\n",
       "          0.        ,   0.        ,   0.        ,   0.        ,\n",
       "          0.        ],\n",
       "       [-25.4702351 , -21.5588835 , -17.6388592 , -13.7168406 ,\n",
       "         -9.79431432,  -5.87275459,  -1.95084739,   1.97019952,\n",
       "          5.89547154,   9.81772067,  13.7394512 ,  17.6624039 ,\n",
       "         21.5843103 ],\n",
       "       [-25.4735185 , -21.5669265 , -17.6461593 , -13.7219275 ,\n",
       "         -9.79722743,  -5.87429017,  -1.95060828,   1.97238389,\n",
       "          5.89587921,   9.81963631,  13.7432185 ,  17.6674545 ,\n",
       "         21.5918463 ],\n",
       "       [-25.4783726 , -21.5638838 , -17.6439393 , -13.7213421 ,\n",
       "         -9.79897818,  -5.87512723,  -1.9532834 ,   1.96941079,\n",
       "          5.89257318,   9.81578243,  13.7386031 ,  17.6617246 ,\n",
       "         21.5853615 ],\n",
       "       [-25.4773802 , -21.566125  , -17.6461858 , -13.723638  ,\n",
       "         -9.80063167,  -5.87768073,  -1.95469743,   1.96705555,\n",
       "          5.89007223,   9.81323514,  13.7358733 ,  17.6592612 ,\n",
       "         21.5822036 ],\n",
       "       [-25.455012  , -21.564296  , -17.6477059 , -13.7264296 ,\n",
       "         -9.80236314,  -5.87994404,  -1.95849741,   1.96305594,\n",
       "          5.88644592,   9.80915195,  13.7321822 ,  17.6556151 ,\n",
       "         21.5786651 ],\n",
       "       [-25.464664  , -21.5537036 , -17.6388956 , -13.7178338 ,\n",
       "         -9.7962233 ,  -5.87092214,  -1.94982845,   1.9705027 ,\n",
       "          5.89248638,   9.81275877,  13.7375169 ,  17.6574125 ,\n",
       "         21.5781147 ],\n",
       "       [-25.4826894 , -21.5779968 , -17.657123  , -13.7339884 ,\n",
       "         -9.81024457,  -5.88620229,  -1.96285139,   1.95909732,\n",
       "          5.8827628 ,   9.80657092,  13.7304361 ,  17.6545212 ,\n",
       "         21.5783653 ],\n",
       "       [-25.4320167 , -21.5633637 , -17.6470208 , -13.7259267 ,\n",
       "         -9.80519776,  -5.88263853,  -1.95983939,   1.96204957,\n",
       "          5.88572946,   9.80902165,  13.7318327 ,  17.6555374 ,\n",
       "         21.5783581 ],\n",
       "       [-25.4709543 , -21.5606753 , -17.6402386 , -13.7171222 ,\n",
       "         -9.79470292,  -5.87182802,  -1.94904362,   1.97514197,\n",
       "          5.90126945,   9.82697588,  13.7430929 ,  17.6668618 ,\n",
       "         21.590087  ],\n",
       "       [-25.4943241 , -21.5770814 , -17.6567471 , -13.7295955 ,\n",
       "         -9.80845031,  -5.88463008,  -1.96049311,   1.96212643,\n",
       "          5.8860917 ,   9.81069126,  13.7339535 ,  17.6591718 ,\n",
       "         21.5838553 ],\n",
       "       [-25.4961222 , -21.5811355 , -17.6587448 , -13.7348518 ,\n",
       "         -9.8102598 ,  -5.88505978,  -1.95877293,   1.96530169,\n",
       "          5.88969948,   9.81433282,  13.7375056 ,  17.6631673 ,\n",
       "         21.5832854 ],\n",
       "       [  0.        ,   0.        ,   0.        ,   0.        ,\n",
       "          0.        ,   0.        ,   0.        ,   0.        ,\n",
       "          0.        ,   0.        ,   0.        ,   0.        ,\n",
       "          0.        ],\n",
       "       [  0.        ,   0.        ,   0.        ,   0.        ,\n",
       "          0.        ,   0.        ,   0.        ,   0.        ,\n",
       "          0.        ,   0.        ,   0.        ,   0.        ,\n",
       "          0.        ],\n",
       "       [  0.        ,   0.        ,   0.        ,   0.        ,\n",
       "          0.        ,   0.        ,   0.        ,   0.        ,\n",
       "          0.        ,   0.        ,   0.        ,   0.        ,\n",
       "          0.        ],\n",
       "       [  0.        ,   0.        ,   0.        ,   0.        ,\n",
       "          0.        ,   0.        ,   0.        ,   0.        ,\n",
       "          0.        ,   0.        ,   0.        ,   0.        ,\n",
       "          0.        ],\n",
       "       [  0.        ,   0.        ,   0.        ,   0.        ,\n",
       "          0.        ,   0.        ,   0.        ,   0.        ,\n",
       "          0.        ,   0.        ,   0.        ,   0.        ,\n",
       "          0.        ],\n",
       "       [  0.        ,   0.        ,   0.        ,   0.        ,\n",
       "          0.        ,   0.        ,   0.        ,   0.        ,\n",
       "          0.        ,   0.        ,   0.        ,   0.        ,\n",
       "          0.        ],\n",
       "       [  0.        ,   0.        ,   0.        ,   0.        ,\n",
       "          0.        ,   0.        ,   0.        ,   0.        ,\n",
       "          0.        ,   0.        ,   0.        ,   0.        ,\n",
       "          0.        ]])"
      ]
     },
     "execution_count": 56,
     "metadata": {},
     "output_type": "execute_result"
    }
   ],
   "source": [
    "volt_measure"
   ]
  },
  {
   "cell_type": "code",
   "execution_count": 57,
   "metadata": {},
   "outputs": [],
   "source": [
    "residuals = volt_measure - volt_measure[0]"
   ]
  },
  {
   "cell_type": "code",
   "execution_count": 105,
   "metadata": {},
   "outputs": [
    {
     "data": {
      "image/png": "[encoded data removed]",
      "text/plain": [
       "<Figure size 432x288 with 1 Axes>"
      ]
     },
     "metadata": {
      "needs_background": "light"
     },
     "output_type": "display_data"
    }
   ],
   "source": [
    "for i in range(25):\n",
    "    if i == 13:\n",
    "        continue\n",
    "    else:\n",
    "        plt.plot(volt_set,residuals[i],'o-',label = i+1)\n",
    "        plt.legend(loc = 1)"
   ]
  },
  {
   "cell_type": "code",
   "execution_count": 61,
   "metadata": {},
   "outputs": [
    {
     "data": {
      "image/png": "[encoded data removed]",
      "text/plain": [
       "<Figure size 432x288 with 1 Axes>"
      ]
     },
     "metadata": {
      "needs_background": "light"
     },
     "output_type": "display_data"
    }
   ],
   "source": [
    "for i in range(25):\n",
    "    if i == 13:\n",
    "        continue\n",
    "    else:\n",
    "        plt.plot(volt_set,volt_measure[i],'o-',label = i+1)\n",
    "        plt.legend(loc = 1)"
   ]
  },
  {
   "cell_type": "code",
   "execution_count": 63,
   "metadata": {},
   "outputs": [],
   "source": [
    "# volt_measure\n",
    "# np.savetxt('zotino_measure_NEWAMPLIFIER_newground.txt',volt_measure)"
   ]
  },
  {
   "cell_type": "code",
   "execution_count": 40,
   "metadata": {},
   "outputs": [
    {
     "data": {
      "text/plain": [
       "27"
      ]
     },
     "execution_count": 40,
     "metadata": {},
     "output_type": "execute_result"
    }
   ],
   "source": [
    "keithley.write(\"*rst; status:preset; *cls\")"
   ]
  },
  {
   "cell_type": "code",
   "execution_count": 54,
   "metadata": {
    "scrolled": false
   },
   "outputs": [
    {
     "name": "stderr",
     "output_type": "stream",
     "text": [
      "100%|██████████| 500/500 [00:11<00:00, 43.03it/s]\n"
     ]
    },
    {
     "data": {
      "image/png": "[encoded data removed]",
      "text/plain": [
       "<Figure size 432x288 with 1 Axes>"
      ]
     },
     "metadata": {
      "needs_background": "light"
     },
     "output_type": "display_data"
    }
   ],
   "source": [
    "# volt = float(keithley.query('MEAS:VOLT:DC?'))\n",
    "# volt\n",
    "\n",
    "avg_list = np.zeros(500)\n",
    "for j in tqdm(range(len(avg_list))):\n",
    "    volt = float(keithley.query('MEAS:VOLT:DC?'))\n",
    "#     volt = float(keithley.query('fetch?'))\n",
    "    avg_list[j]=volt\n",
    "plt.plot(avg_list)\n",
    "volt_measure[pin][i] = np.mean(avg_list)\n",
    "    \n"
   ]
  },
  {
   "cell_type": "markdown",
   "metadata": {},
   "source": [
    "# Test command"
   ]
  },
  {
   "cell_type": "code",
   "execution_count": 34,
   "metadata": {},
   "outputs": [
    {
     "data": {
      "text/plain": [
       "7.9846953"
      ]
     },
     "execution_count": 34,
     "metadata": {},
     "output_type": "execute_result"
    }
   ],
   "source": [
    "volt = float(keithley.query('MEAS:VOLT:DC?'))\n",
    "volt"
   ]
  },
  {
   "cell_type": "code",
   "execution_count": 13,
   "metadata": {},
   "outputs": [
    {
     "name": "stdout",
     "output_type": "stream",
     "text": [
      "list =  [7.72159936 7.71571776 7.7072064  7.681184   7.68207296 7.69896896\n",
      " 7.71208128 7.71523136 7.70830656 7.6697632  7.67693568 7.66038144\n",
      " 7.6711584  7.67703488 7.6806464  7.68509888 7.68856064 7.67909568\n",
      " 7.6751616  7.69130752 7.698      7.69486336 7.6800672  7.67943936\n",
      " 7.68419136 7.68247232 7.685792   7.68594176 7.685696   7.69359488\n",
      " 7.68366848 7.6821504  7.6841344  7.68549824 7.6842464  7.68266688\n",
      " 7.6816384  7.68215552 7.6800768  7.67924416 7.67790336 7.67959424\n",
      " 7.67982208 7.67224832 7.67512128 7.67500608 7.67752    7.66823936\n",
      " 7.66928128 7.6718656  7.6673408  7.66841088 7.66929216 7.67060352\n",
      " 7.67097664 7.66996288 7.6703712  7.6728192  7.67677504 7.669312\n",
      " 7.67128384 7.618992   7.61723968 7.61907584 7.61813504 7.61865216\n",
      " 7.61463232 7.6173376  7.6142336  7.61423168 7.61407744 7.61594368\n",
      " 7.61781888 7.61550272 7.60918656 7.62159552 7.62085824 7.61802816\n",
      " 7.6185152  7.62212672 7.62128768 7.61853056 7.6157184  7.62208\n",
      " 7.62277632 7.63193408 7.60934656 7.6160608  7.61816576 7.62680704\n",
      " 7.61322368 7.60893248 7.6294944  7.6241664  7.632896   7.6294336\n",
      " 7.63353216 7.6295808  7.63282496 7.6331232 ]\n",
      "mean =  7.6581289856\n"
     ]
    }
   ],
   "source": [
    "avg_list = np.zeros(100)\n",
    "for i in range(100):\n",
    "    volt = float(keithley.query('MEAS:VOLT:DC?'))\n",
    "    avg_list[i]=volt\n",
    "print(\"list = \", avg_list)\n",
    "print(\"mean = \", np.mean(avg_list))"
   ]
  },
  {
   "cell_type": "code",
   "execution_count": null,
   "metadata": {},
   "outputs": [],
   "source": [
    "volt_set = np.arange(-10,10,0.001)\n",
    "# volt_set\n",
    "volt_measure = np.zeros(len(volt_set))\n",
    "self.core.reset()\n",
    "self.core.break_realtime()                                          \n",
    "self.zotino0.init()\n",
    "self.pin = 0\n",
    "\n",
    "for i in range(len(volt_set)):\n",
    "    delay(300*us)\n",
    "    self.zotino0.write_dac(self.pin,volt_set[i])\n",
    "    self.zotino0.load()\n",
    "    delay(1*s)\n",
    "    volt_measure[i] = float(keithley.query('MEAS:VOLT:DC?'))\n",
    "    delay(1*s)"
   ]
  },
  {
   "cell_type": "code",
   "execution_count": null,
   "metadata": {},
   "outputs": [],
   "source": [
    "interval_in_ms = 500\n",
    "count = 1\n",
    "# keithley.write(\"data:clear\")\n",
    "keithley.write(\"trigger:source external\")\n",
    "keithley.write(\"trigger:delay %f\" % (interval_in_ms / 1000.0))\n",
    "keithley.write(\"trigger:count %d\" % count)\n",
    "# keithley.write(\"trace:points %d\" % count)\n",
    "# keithley.write(\"trace:points %d\" % count)\n",
    "# keithley.write(\"trace:feed sense1; feed:control next\")\n",
    "# # keithley.write(\"trace:points %d\" % number_of_readings)\n",
    "# keithley.write(\"trace:feed sense[1]\")\n",
    "keithley.write(\"initiate\")"
   ]
  },
  {
   "cell_type": "code",
   "execution_count": null,
   "metadata": {},
   "outputs": [],
   "source": [
    "keithley.write(\"*rst; status:preset; *cls\")"
   ]
  },
  {
   "cell_type": "markdown",
   "metadata": {},
   "source": [
    "# Voltage fitting"
   ]
  },
  {
   "cell_type": "code",
   "execution_count": 95,
   "metadata": {},
   "outputs": [
    {
     "data": {
      "text/plain": [
       "array([[-25.4771426 , -21.5730361 , -17.6510965 , -13.7277712 ,\n",
       "         -9.80437393,  -5.88094455,  -1.95772987,   1.9648694 ,\n",
       "          5.88744598,   9.81061177,  13.7334922 ,  17.6570093 ,\n",
       "         21.5798664 ],\n",
       "       [-25.4942795 , -21.5811321 , -17.6598259 , -13.7372539 ,\n",
       "         -9.81413776,  -5.89085402,  -1.96783709,   1.95403319,\n",
       "          5.87681048,   9.79997975,  13.7225023 ,  17.6457811 ,\n",
       "         21.5681308 ],\n",
       "       [-25.4847727 , -21.5726874 , -17.6512686 , -13.7283462 ,\n",
       "         -9.80508365,  -5.881797  ,  -1.95897757,   1.96284683,\n",
       "          5.88600238,   9.80891932,  13.7316777 ,  17.6551326 ,\n",
       "         21.5781734 ],\n",
       "       [-25.5024239 , -21.5874467 , -17.6656834 , -13.7426476 ,\n",
       "         -9.81894653,  -5.8953707 ,  -1.9721389 ,   1.94988984,\n",
       "          5.87349168,   9.79667758,  13.7196638 ,  17.6432213 ,\n",
       "         21.5656555 ],\n",
       "       [-25.4811753 , -21.5678305 , -17.6466098 , -13.7242199 ,\n",
       "         -9.80133633,  -5.87857661,  -1.95593642,   1.96570971,\n",
       "          5.88809596,   9.81059622,  13.7332309 ,  17.6561184 ,\n",
       "         21.5782518 ],\n",
       "       [-25.4873808 , -21.5717055 , -17.6500008 , -13.7268963 ,\n",
       "         -9.80325444,  -5.8799686 ,  -1.95640841,   1.96602083,\n",
       "          5.88925396,   9.81249744,  13.7358019 ,  17.6592722 ,\n",
       "         21.581891  ],\n",
       "       [-25.4858475 , -21.5728196 , -17.6521035 , -13.7301706 ,\n",
       "         -9.80774043,  -5.88566313,  -1.96364397,   1.95710479,\n",
       "          5.87919731,   9.80149191,  13.723129  ,  17.6457211 ,\n",
       "         21.5675488 ],\n",
       "       [-25.4812283 , -21.5715555 , -17.6493403 , -13.7258468 ,\n",
       "         -9.80205434,  -5.87876705,  -1.95515176,   1.967162  ,\n",
       "          5.89074194,   9.81424574,  13.7374711 ,  17.6613988 ,\n",
       "         21.5839928 ],\n",
       "       [-25.501308  , -21.578471  , -17.6560078 , -13.732221  ,\n",
       "         -9.80837003,  -5.88528825,  -1.96145126,   1.96099836,\n",
       "          5.8843867 ,   9.80819289,  13.7318527 ,  17.6558791 ,\n",
       "         21.5790763 ],\n",
       "       [-25.4599771 , -21.5657301 , -17.659755  , -13.7381827 ,\n",
       "         -9.81664562,  -5.89400892,  -1.97032551,   1.9523015 ,\n",
       "          5.87586944,   9.79975651,  13.7236539 ,  17.6478238 ,\n",
       "         21.5711467 ],\n",
       "       [-25.5035197 , -21.579324  , -17.6554457 , -13.7304365 ,\n",
       "         -9.80557446,  -5.88092062,  -1.95628765,   1.96743665,\n",
       "          5.89209294,   9.81703936,  13.7412744 ,  17.6667134 ,\n",
       "         21.591213  ],\n",
       "       [-25.5118763 , -21.593908  , -17.6676303 , -13.7493118 ,\n",
       "         -9.82497968,  -5.90127355,  -1.97697269,   1.94586157,\n",
       "          5.87012948,   9.79445668,  13.7189281 ,  17.6439526 ,\n",
       "         21.5679539 ],\n",
       "       [-25.4691331 , -21.5492868 , -17.6292801 , -13.7083831 ,\n",
       "         -9.78749171,  -5.86716148,  -1.94597709,   1.97408785,\n",
       "          5.89566454,   9.81721073,  13.7386616 ,  17.6613262 ,\n",
       "         21.5832608 ],\n",
       "       [  0.        ,   0.        ,   0.        ,   0.        ,\n",
       "          0.        ,   0.        ,   0.        ,   0.        ,\n",
       "          0.        ,   0.        ,   0.        ,   0.        ,\n",
       "          0.        ],\n",
       "       [-25.4702351 , -21.5588835 , -17.6388592 , -13.7168406 ,\n",
       "         -9.79431432,  -5.87275459,  -1.95084739,   1.97019952,\n",
       "          5.89547154,   9.81772067,  13.7394512 ,  17.6624039 ,\n",
       "         21.5843103 ],\n",
       "       [-25.4735185 , -21.5669265 , -17.6461593 , -13.7219275 ,\n",
       "         -9.79722743,  -5.87429017,  -1.95060828,   1.97238389,\n",
       "          5.89587921,   9.81963631,  13.7432185 ,  17.6674545 ,\n",
       "         21.5918463 ],\n",
       "       [-25.4783726 , -21.5638838 , -17.6439393 , -13.7213421 ,\n",
       "         -9.79897818,  -5.87512723,  -1.9532834 ,   1.96941079,\n",
       "          5.89257318,   9.81578243,  13.7386031 ,  17.6617246 ,\n",
       "         21.5853615 ],\n",
       "       [-25.4773802 , -21.566125  , -17.6461858 , -13.723638  ,\n",
       "         -9.80063167,  -5.87768073,  -1.95469743,   1.96705555,\n",
       "          5.89007223,   9.81323514,  13.7358733 ,  17.6592612 ,\n",
       "         21.5822036 ],\n",
       "       [-25.455012  , -21.564296  , -17.6477059 , -13.7264296 ,\n",
       "         -9.80236314,  -5.87994404,  -1.95849741,   1.96305594,\n",
       "          5.88644592,   9.80915195,  13.7321822 ,  17.6556151 ,\n",
       "         21.5786651 ],\n",
       "       [-25.464664  , -21.5537036 , -17.6388956 , -13.7178338 ,\n",
       "         -9.7962233 ,  -5.87092214,  -1.94982845,   1.9705027 ,\n",
       "          5.89248638,   9.81275877,  13.7375169 ,  17.6574125 ,\n",
       "         21.5781147 ],\n",
       "       [-25.4826894 , -21.5779968 , -17.657123  , -13.7339884 ,\n",
       "         -9.81024457,  -5.88620229,  -1.96285139,   1.95909732,\n",
       "          5.8827628 ,   9.80657092,  13.7304361 ,  17.6545212 ,\n",
       "         21.5783653 ],\n",
       "       [-25.4320167 , -21.5633637 , -17.6470208 , -13.7259267 ,\n",
       "         -9.80519776,  -5.88263853,  -1.95983939,   1.96204957,\n",
       "          5.88572946,   9.80902165,  13.7318327 ,  17.6555374 ,\n",
       "         21.5783581 ],\n",
       "       [-25.4709543 , -21.5606753 , -17.6402386 , -13.7171222 ,\n",
       "         -9.79470292,  -5.87182802,  -1.94904362,   1.97514197,\n",
       "          5.90126945,   9.82697588,  13.7430929 ,  17.6668618 ,\n",
       "         21.590087  ],\n",
       "       [-25.4943241 , -21.5770814 , -17.6567471 , -13.7295955 ,\n",
       "         -9.80845031,  -5.88463008,  -1.96049311,   1.96212643,\n",
       "          5.8860917 ,   9.81069126,  13.7339535 ,  17.6591718 ,\n",
       "         21.5838553 ],\n",
       "       [-25.4961222 , -21.5811355 , -17.6587448 , -13.7348518 ,\n",
       "         -9.8102598 ,  -5.88505978,  -1.95877293,   1.96530169,\n",
       "          5.88969948,   9.81433282,  13.7375056 ,  17.6631673 ,\n",
       "         21.5832854 ],\n",
       "       [  0.        ,   0.        ,   0.        ,   0.        ,\n",
       "          0.        ,   0.        ,   0.        ,   0.        ,\n",
       "          0.        ,   0.        ,   0.        ,   0.        ,\n",
       "          0.        ],\n",
       "       [  0.        ,   0.        ,   0.        ,   0.        ,\n",
       "          0.        ,   0.        ,   0.        ,   0.        ,\n",
       "          0.        ,   0.        ,   0.        ,   0.        ,\n",
       "          0.        ],\n",
       "       [  0.        ,   0.        ,   0.        ,   0.        ,\n",
       "          0.        ,   0.        ,   0.        ,   0.        ,\n",
       "          0.        ,   0.        ,   0.        ,   0.        ,\n",
       "          0.        ],\n",
       "       [  0.        ,   0.        ,   0.        ,   0.        ,\n",
       "          0.        ,   0.        ,   0.        ,   0.        ,\n",
       "          0.        ,   0.        ,   0.        ,   0.        ,\n",
       "          0.        ],\n",
       "       [  0.        ,   0.        ,   0.        ,   0.        ,\n",
       "          0.        ,   0.        ,   0.        ,   0.        ,\n",
       "          0.        ,   0.        ,   0.        ,   0.        ,\n",
       "          0.        ],\n",
       "       [  0.        ,   0.        ,   0.        ,   0.        ,\n",
       "          0.        ,   0.        ,   0.        ,   0.        ,\n",
       "          0.        ,   0.        ,   0.        ,   0.        ,\n",
       "          0.        ],\n",
       "       [  0.        ,   0.        ,   0.        ,   0.        ,\n",
       "          0.        ,   0.        ,   0.        ,   0.        ,\n",
       "          0.        ,   0.        ,   0.        ,   0.        ,\n",
       "          0.        ]])"
      ]
     },
     "execution_count": 95,
     "metadata": {},
     "output_type": "execute_result"
    }
   ],
   "source": [
    "volt_measure"
   ]
  },
  {
   "cell_type": "code",
   "execution_count": 111,
   "metadata": {},
   "outputs": [],
   "source": [
    "import numpy as np\n",
    "import matplotlib.pyplot as plt\n",
    "\n",
    "\n",
    "# coef = np.polyfit(x,y,1)\n",
    "# poly1d_fn = np.poly1d(coef) \n",
    "# # poly1d_fn is now a function which takes in x and returns an estimate for y\n",
    "\n",
    "# plt.plot(x,y, 'yo', x, poly1d_fn(x), '--k') #'--k'=black dashed line, 'yo' = yellow circle marker\n",
    "\n",
    "# plt.xlim(0, 5)\n",
    "# plt.ylim(0, 12)"
   ]
  },
  {
   "cell_type": "code",
   "execution_count": 106,
   "metadata": {},
   "outputs": [
    {
     "data": {
      "text/plain": [
       "<matplotlib.lines.Line2D at 0x7f89a1ba0fd0>"
      ]
     },
     "execution_count": 106,
     "metadata": {},
     "output_type": "execute_result"
    },
    {
     "data": {
      "image/png": "[encoded data removed]",
      "text/plain": [
       "<Figure size 432x288 with 1 Axes>"
      ]
     },
     "metadata": {
      "needs_background": "light"
     },
     "output_type": "display_data"
    }
   ],
   "source": [
    "volt_set = np.arange(-6.5,6.5,1)\n",
    "slope = []\n",
    "y0 = []\n",
    "for i in range(26):\n",
    "    if i == 0:\n",
    "        slope.append(1)\n",
    "        y0.append(-4.49822624e-03) # This is for zotino channel 0, the trigger level offset\n",
    "        continue\n",
    "    if i == 14:\n",
    "        slope.append(1)\n",
    "        y0.append(-3.48979264e-03)\n",
    "        continue\n",
    "    else:\n",
    "        m,b = np.polyfit(volt_set, volt_measure[i-1], 1)\n",
    "        slope.append(m)\n",
    "        y0.append(b)\n",
    "        plt.plot(volt_set, volt_measure[i], 'yo', volt_set, m*volt_set+b, '--k',label=i)\n",
    "#         plt.legend()\n",
    "\n",
    "plt.xlim(-0.01,0.01)\n",
    "plt.ylim(-0.01,0.01)\n",
    "plt.axvline(0)\n",
    "plt.axhline(0)"
   ]
  },
  {
   "cell_type": "code",
   "execution_count": 107,
   "metadata": {},
   "outputs": [
    {
     "data": {
      "text/plain": [
       "[<matplotlib.lines.Line2D at 0x7f89a1ad0ee0>]"
      ]
     },
     "execution_count": 107,
     "metadata": {},
     "output_type": "execute_result"
    },
    {
     "data": {
      "image/png": "[encoded data removed]",
      "text/plain": [
       "<Figure size 432x288 with 1 Axes>"
      ]
     },
     "metadata": {
      "needs_background": "light"
     },
     "output_type": "display_data"
    }
   ],
   "source": [
    "plt.plot(y0[0:10],slope[0:10],'o')"
   ]
  },
  {
   "cell_type": "code",
   "execution_count": 108,
   "metadata": {},
   "outputs": [
    {
     "data": {
      "text/plain": [
       "[-0.00449822624,\n",
       " 0.004364963956042198,\n",
       " -0.0063447498901096945,\n",
       " 0.0027530476098895583,\n",
       " -0.01059974489011272,\n",
       " 0.005385101098901227,\n",
       " 0.005215238983516969,\n",
       " -0.0025841778296689906,\n",
       " 0.00688202244505493,\n",
       " -4.927494505705715e-05,\n",
       " -0.0036284085989004536,\n",
       " 0.005689270906593644,\n",
       " -0.013976876483518537,\n",
       " 0.015388714395601896,\n",
       " -0.00348979264,\n",
       " 0.012209309560439053,\n",
       " 0.012232122554944358,\n",
       " 0.009556160027471497,\n",
       " 0.00738344785714071,\n",
       " 0.006024287390107964,\n",
       " 0.011034929368130263,\n",
       " -0.00013581035714257494,\n",
       " 0.006830396401098247,\n",
       " 0.015045773049450378,\n",
       " 0.002081759697802718,\n",
       " 0.0026771113461544886]"
      ]
     },
     "execution_count": 108,
     "metadata": {},
     "output_type": "execute_result"
    }
   ],
   "source": [
    "y0"
   ]
  },
  {
   "cell_type": "code",
   "execution_count": 109,
   "metadata": {},
   "outputs": [],
   "source": [
    "fits = np.array([y0,slope])"
   ]
  },
  {
   "cell_type": "code",
   "execution_count": 110,
   "metadata": {},
   "outputs": [
    {
     "data": {
      "text/plain": [
       "array([[-4.49822624e-03,  4.36496396e-03, -6.34474989e-03,\n",
       "         2.75304761e-03, -1.05997449e-02,  5.38510110e-03,\n",
       "         5.21523898e-03, -2.58417783e-03,  6.88202245e-03,\n",
       "        -4.92749451e-05, -3.62840860e-03,  5.68927091e-03,\n",
       "        -1.39768765e-02,  1.53887144e-02, -3.48979264e-03,\n",
       "         1.22093096e-02,  1.22321226e-02,  9.55616003e-03,\n",
       "         7.38344786e-03,  6.02428739e-03,  1.10349294e-02,\n",
       "        -1.35810357e-04,  6.83039640e-03,  1.50457730e-02,\n",
       "         2.08175970e-03,  2.67711135e-03],\n",
       "       [ 1.00000000e+00,  3.92239142e+00,  3.92240014e+00,\n",
       "         3.92245700e+00,  3.92280944e+00,  3.92210587e+00,\n",
       "         3.92287317e+00,  3.92156946e+00,  3.92283046e+00,\n",
       "         3.92339857e+00,  3.92106212e+00,  3.92456914e+00,\n",
       "         3.92353394e+00,  3.92100845e+00,  1.00000000e+00,\n",
       "         3.92183055e+00,  3.92296255e+00,  3.92241555e+00,\n",
       "         3.92224964e+00,  3.92114579e+00,  3.92103585e+00,\n",
       "         3.92270410e+00,  3.92034921e+00,  3.92257400e+00,\n",
       "         3.92346069e+00,  3.92407030e+00]])"
      ]
     },
     "execution_count": 110,
     "metadata": {},
     "output_type": "execute_result"
    }
   ],
   "source": [
    "fits"
   ]
  },
  {
   "cell_type": "code",
   "execution_count": 93,
   "metadata": {},
   "outputs": [
    {
     "data": {
      "text/plain": [
       "-0.00449822624"
      ]
     },
     "execution_count": 93,
     "metadata": {},
     "output_type": "execute_result"
    }
   ],
   "source": [
    "fits[0][0]"
   ]
  },
  {
   "cell_type": "code",
   "execution_count": 111,
   "metadata": {},
   "outputs": [],
   "source": [
    "np.savetxt('zotino_measure_NEWAMPLIFIER_newground_fits.txt',fits)"
   ]
  },
  {
   "cell_type": "markdown",
   "metadata": {},
   "source": [
    "# Test reading file"
   ]
  },
  {
   "cell_type": "code",
   "execution_count": 99,
   "metadata": {},
   "outputs": [
    {
     "data": {
      "text/plain": [
       "-0.00449822624"
      ]
     },
     "execution_count": 99,
     "metadata": {},
     "output_type": "execute_result"
    }
   ],
   "source": [
    "f = 'zotino_measure_NEWAMPLIFIER_newground_fits.txt'\n",
    "tmp = np.loadtxt(f)\n",
    "tmp\n",
    "tmp[0][0]\n",
    "# offset = np.zeros((tmp.shape[0],tmp.shape[1]+1))\n",
    "# for i in range(tmp.shape[0]):\n",
    "#     a = np.append(tmp[i],tmp[i][-1])\n",
    "#     offset[i] = a\n",
    "# self.dac_calibration_fit = offset"
   ]
  },
  {
   "cell_type": "code",
   "execution_count": null,
   "metadata": {},
   "outputs": [],
   "source": []
  },
  {
   "cell_type": "code",
   "execution_count": 105,
   "metadata": {},
   "outputs": [],
   "source": [
    "f = open('Cfile_3layer.txt','r')\n",
    "# create list of lines from selected textfile\n",
    "list_of_lists = []\n",
    "for line in f:\n",
    "    stripped_line = line.strip()\n",
    "    line_list = stripped_line.split()\n",
    "    list_of_lists.append(float(line_list[0]))\n",
    "#     print(line_list)"
   ]
  },
  {
   "cell_type": "code",
   "execution_count": null,
   "metadata": {},
   "outputs": [],
   "source": []
  }
 ],
 "metadata": {
  "kernelspec": {
   "display_name": "Python 2",
   "language": "python",
   "name": "python2"
  },
  "language_info": {
   "codemirror_mode": {
    "name": "ipython",
    "version": 2
   },
   "file_extension": ".py",
   "mimetype": "text/x-python",
   "name": "python",
   "nbconvert_exporter": "python",
   "pygments_lexer": "ipython2",
   "version": "2.7.12"
  }
 },
 "nbformat": 4,
 "nbformat_minor": 5
}
