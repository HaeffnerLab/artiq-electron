{
 "cells": [
  {
   "cell_type": "code",
   "execution_count": 1,
   "metadata": {},
   "outputs": [],
   "source": [
    "import os\n",
    "import numpy as np\n",
    "import matplotlib.pyplot as plt\n",
    "%matplotlib inline\n",
    "# import oskar\n",
    "# scripts = oskar.Scripts()\n",
    "import numpy as np\n",
    "import numpy\n",
    "import matplotlib.pyplot as plot\n",
    "import sys\n",
    "import pickle as pkl\n",
    "# import visa\n",
    "import pyvisa as visa\n",
    "import datetime\n",
    "from scipy.optimize import curve_fit\n",
    "from collections import defaultdict\n",
    "from scipy.stats import kurtosis, skew\n",
    "import pandas as pd\n",
    "# import xarray as xr\n",
    "from collections import OrderedDict\n",
    "from pathlib import Path\n",
    "import fnmatch\n",
    "import time"
   ]
  },
  {
   "cell_type": "markdown",
   "metadata": {},
   "source": [
    "## Connect the GPIB - usb cable to electron PC, then run this script together with the artiq zotino_calibrator script"
   ]
  },
  {
   "cell_type": "code",
   "execution_count": 2,
   "metadata": {},
   "outputs": [
    {
     "data": {
      "text/plain": [
       "array([-6.5, -6. , -5.5, -5. , -4.5, -4. , -3.5, -3. , -2.5, -2. , -1.5,\n",
       "       -1. , -0.5,  0. ,  0.5,  1. ,  1.5,  2. ,  2.5,  3. ,  3.5,  4. ,\n",
       "        4.5,  5. ,  5.5,  6. ,  6.5])"
      ]
     },
     "execution_count": 2,
     "metadata": {},
     "output_type": "execute_result"
    }
   ],
   "source": [
    "# interval_in_ms = 500\n",
    "# count = 1\n",
    "# number_of_pins = 32\n",
    "# volt_set = np.arange(-6.5,7,0.5)\n",
    "# number_of_datapoints = len(volt_set)\n",
    "# volt_measure = np.zeros((number_of_pins,number_of_datapoints))\n",
    "# volt_set"
   ]
  },
  {
   "cell_type": "markdown",
   "metadata": {},
   "source": [
    "# Connect to multimeter"
   ]
  },
  {
   "cell_type": "markdown",
   "metadata": {},
   "source": [
    "## if it doesn't show up in the list_resources, try lsusb in command, if it appear in lsusb, install pyusb"
   ]
  },
  {
   "cell_type": "code",
   "execution_count": 2,
   "metadata": {
    "scrolled": true
   },
   "outputs": [],
   "source": [
    "# rm = visa.ResourceManager('@py')\n",
    "rm = visa.ResourceManager()\n",
    "instruments = rm.list_resources()\n",
    "usb = list(filter(lambda x: 'USB' in x, instruments))\n",
    "\n",
    "if len(usb) != 1:\n",
    "    print('Bad instrument list', instruments)\n",
    "    sys.exit(-1)\n",
    "keithley = rm.open_resource(usb[0])"
   ]
  },
  {
   "cell_type": "code",
   "execution_count": 3,
   "metadata": {},
   "outputs": [],
   "source": [
    "rm = visa.ResourceManager()\n",
    "# rm.open_resource('USB0::25::INSTR')"
   ]
  },
  {
   "cell_type": "code",
   "execution_count": 4,
   "metadata": {},
   "outputs": [
    {
     "data": {
      "text/plain": [
       "(u'ASRL/dev/ttyS0::INSTR', u'USB0::1510::8448::1243106::0::INSTR')"
      ]
     },
     "execution_count": 4,
     "metadata": {},
     "output_type": "execute_result"
    }
   ],
   "source": [
    "instruments"
   ]
  },
  {
   "cell_type": "code",
   "execution_count": 5,
   "metadata": {},
   "outputs": [
    {
     "data": {
      "text/plain": [
       "-0.00012098724"
      ]
     },
     "execution_count": 5,
     "metadata": {},
     "output_type": "execute_result"
    }
   ],
   "source": [
    "volt = float(keithley.query('MEAS:VOLT:DC?'))\n",
    "volt"
   ]
  },
  {
   "cell_type": "markdown",
   "metadata": {},
   "source": [
    "# Connect to labrad dataserver"
   ]
  },
  {
   "cell_type": "markdown",
   "metadata": {},
   "source": [
    "## Start labrad server on pc and turn on dacserver and datavault server (in command line or in webpage)"
   ]
  },
  {
   "cell_type": "code",
   "execution_count": 30,
   "metadata": {},
   "outputs": [],
   "source": [
    "import labrad\n",
    "cxn = labrad.connect()\n",
    "dacserver = cxn.dac_server\n",
    "datavault = cxn.data_vault\n",
    "registry = cxn.registry"
   ]
  },
  {
   "cell_type": "code",
   "execution_count": 63,
   "metadata": {},
   "outputs": [
    {
     "name": "stdout",
     "output_type": "stream",
     "text": [
      "[14533, 15040, 15296, 15681, 15981, 16192, 16483, 16750, 17021, 17207, 17706, 18068, 18200, 18466, 18819, 19231, 19416, 19659, 20123, 20429, 20759, 20979, 21353, 21595, 21871, 22059, 22591, 22821, 22925, 23355, 23628, 23841, 24295, 24422, 24928, 25090, 25560, 25844, 25975, 26433, 26612, 26869, 27204, 27437, 27896, 28038, 28484, 28695, 29136, 29236, 29780, 30043, 30120, 30601, 30906, 31257, 31309, 31787, 32067, 32498, 32766, 32925, 33160, 33530, 33722, 34141, 34584, 34773, 34937, 35442, 35554, 36064, 36165, 36447, 36829, 37246, 37558, 37806, 38190, 38421, 38628, 38947, 39277, 39545, 39831, 40091, 40362, 40678, 40959, 41496, 41725, 41988, 42134, 42604, 42992, 43283, 43569, 43681, 44098, 44275, 44796, 44859, 45215, 45569, 45812, 46179, 46494, 46824, 47026, 47498, 47571, 48040, 48311, 48649, 48721, 49251, 49511, 49802, 49982, 50276, 50676, 50947, 51267, 51531, 51740]\n"
     ]
    }
   ],
   "source": [
    "from random import randrange as r\n",
    "\n",
    "stepsize = 300\n",
    "#numSteps = (58500-7000)/stepsize\n",
    "# numSteps = (-28907+36625)/stepsize # -5V to +5V       \n",
    "\n",
    "# digVoltages = [ 28907 + r(0, stepsize) + i*stepsize for i in  range(numSteps)]\n",
    "\n",
    "numSteps = (52000-14500)/stepsize        # -28V to +28V\n",
    "\n",
    "digVoltages = [ 14500 + r(0, stepsize) + i*stepsize for i in  range(numSteps)]\n",
    "\n",
    "channelToCalib = 'tr3' # trapElectrodeNumber in DacConfiguration\n",
    "print(digVoltages)"
   ]
  },
  {
   "cell_type": "code",
   "execution_count": 64,
   "metadata": {},
   "outputs": [
    {
     "name": "stdout",
     "output_type": "stream",
     "text": [
      "tr3\n"
     ]
    }
   ],
   "source": [
    "print((str(channelToCalib).zfill(2)))"
   ]
  },
  {
   "cell_type": "code",
   "execution_count": 65,
   "metadata": {},
   "outputs": [
    {
     "name": "stdout",
     "output_type": "stream",
     "text": [
      "-0.608171456\n"
     ]
    }
   ],
   "source": [
    "print(float(keithley.query('MEAS:VOLT:DC?')))"
   ]
  },
  {
   "cell_type": "code",
   "execution_count": 66,
   "metadata": {},
   "outputs": [],
   "source": [
    "dacserver.set_individual_digital_voltages([(str(channelToCalib).zfill(2), 1)]) "
   ]
  },
  {
   "cell_type": "code",
   "execution_count": 67,
   "metadata": {},
   "outputs": [
    {
     "name": "stdout",
     "output_type": "stream",
     "text": [
      "-27.6609952\n"
     ]
    }
   ],
   "source": [
    "print(float(keithley.query('MEAS:VOLT:DC?')))"
   ]
  },
  {
   "cell_type": "code",
   "execution_count": 68,
   "metadata": {},
   "outputs": [],
   "source": [
    "import datetime\n",
    "now = datetime.datetime.now()\n",
    "date = now.strftime(\"%Y%m%d\")\n",
    "TIME = now.strftime('%H%M%S')      \n",
    "\n",
    "datavault.cd(['', date, 'Calibrations',str(channelToCalib) + TIME], True)\n",
    "datavault.new(str(channelToCalib) + TIME,[('digital', '')], [('Analog', 'Volts', 'Volts')])\n",
    "datavault.add_parameter('plotLive',True)"
   ]
  },
  {
   "cell_type": "code",
   "execution_count": null,
   "metadata": {},
   "outputs": [
    {
     "name": "stdout",
     "output_type": "stream",
     "text": [
      "14533 ;  -24.2944544\n",
      "15040 ;  -23.638232\n",
      "15296 ;  -23.308864\n",
      "15681 ;  -22.8038384\n",
      "15981 ;  -22.409984\n",
      "16192 ;  -22.1326048\n",
      "16483 ;  -21.7474768\n",
      "16750 ;  -21.3936576\n"
     ]
    }
   ],
   "source": [
    "anaVoltages = [] # corresponding analog voltages in volts\n",
    "dacserver.set_individual_digital_voltages([(str(channelToCalib).zfill(2), digVoltages[0])])\n",
    "time.sleep(.3)\n",
    "for dv in digVoltages: # iterate over digital voltages\n",
    "\n",
    "    dacserver.set_individual_digital_voltages([(str(channelToCalib).zfill(2), dv)]) \n",
    "\n",
    "    time.sleep(3.10)\n",
    "\n",
    "    av = float(keithley.query('MEAS:VOLT:DC?'))\n",
    "    #av = 0\n",
    "\n",
    "    anaVoltages.append(av)\n",
    "    datavault.add(dv, av)\n",
    "    print dv, \"; \", av"
   ]
  },
  {
   "cell_type": "code",
   "execution_count": 58,
   "metadata": {},
   "outputs": [
    {
     "data": {
      "text/plain": [
       "array([-1.00295776e-05,  4.24251358e-04,  7.49754644e+02,  3.27969110e+04])"
      ]
     },
     "execution_count": 58,
     "metadata": {},
     "output_type": "execute_result"
    }
   ],
   "source": [
    "fit = np.polyfit(anaVoltages, digVoltages, 3)\n",
    "c0 = fit[3]\n",
    "c1 = fit[2]\n",
    "c2 = fit[1]\n",
    "c3 = fit[0]\n",
    "fit"
   ]
  },
  {
   "cell_type": "code",
   "execution_count": 59,
   "metadata": {},
   "outputs": [
    {
     "data": {
      "text/plain": [
       "<matplotlib.lines.Line2D at 0x7eff542eaa90>"
      ]
     },
     "execution_count": 59,
     "metadata": {},
     "output_type": "execute_result"
    },
    {
     "data": {
      "image/png": "[encoded data removed]",
      "text/plain": [
       "<Figure size 432x288 with 1 Axes>"
      ]
     },
     "metadata": {
      "needs_background": "light"
     },
     "output_type": "display_data"
    }
   ],
   "source": [
    "plt.plot(anaVoltages, digVoltages, 'yo', anaVoltages, [c3*av**3+c2*av**2+c1*av+c0 for av in anaVoltages], '--k')\n",
    "plt.axvline(0)\n",
    "# plt.axhline(0)"
   ]
  },
  {
   "cell_type": "code",
   "execution_count": 60,
   "metadata": {},
   "outputs": [],
   "source": [
    "registry.cd(['', 'Servers', 'electronDAC Server', 'Calibrations', str(channelToCalib)], True)\n",
    "registry.set('c0', fit[3])\n",
    "registry.set('c1', fit[2])\n",
    "registry.set('c2', fit[1])\n",
    "registry.set('c3', fit[0])"
   ]
  },
  {
   "cell_type": "markdown",
   "metadata": {},
   "source": [
    "# Rename calibration folder name from trap electrode number to DAC chip number"
   ]
  },
  {
   "cell_type": "code",
   "execution_count": 501,
   "metadata": {},
   "outputs": [
    {
     "data": {
      "text/plain": [
       "1.00014513"
      ]
     },
     "execution_count": 501,
     "metadata": {},
     "output_type": "execute_result"
    }
   ],
   "source": [
    "# #dacserver.set_individual_analog_voltages([(str(9).zfill(2), 2)]) \n",
    "# dacserver.set_individual_digital_voltages([(str(channelToCalib).zfill(2), 33532)])\n",
    "# time.sleep(0.50)\n",
    "# float(keithley.query('MEAS:VOLT:DC?'))\n",
    "# float(keithley.query('MEAS:VOLT:DC?'))"
   ]
  }
 ],
 "metadata": {
  "kernelspec": {
   "display_name": "Python 2",
   "language": "python",
   "name": "python2"
  },
  "language_info": {
   "codemirror_mode": {
    "name": "ipython",
    "version": 2
   },
   "file_extension": ".py",
   "mimetype": "text/x-python",
   "name": "python",
   "nbconvert_exporter": "python",
   "pygments_lexer": "ipython2",
   "version": "2.7.12"
  }
 },
 "nbformat": 4,
 "nbformat_minor": 5
}
