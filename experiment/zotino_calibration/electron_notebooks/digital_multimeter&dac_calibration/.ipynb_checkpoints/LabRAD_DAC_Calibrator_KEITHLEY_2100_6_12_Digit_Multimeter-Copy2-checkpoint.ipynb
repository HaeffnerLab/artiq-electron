{
 "cells": [
  {
   "cell_type": "code",
   "execution_count": 1,
   "metadata": {},
   "outputs": [],
   "source": [
    "import os\n",
    "import numpy as np\n",
    "import matplotlib.pyplot as plt\n",
    "%matplotlib inline\n",
    "# import oskar\n",
    "# scripts = oskar.Scripts()\n",
    "import numpy as np\n",
    "import numpy\n",
    "import matplotlib.pyplot as plot\n",
    "import sys\n",
    "import pickle as pkl\n",
    "# import visa\n",
    "import pyvisa as visa\n",
    "import datetime\n",
    "from scipy.optimize import curve_fit\n",
    "from collections import defaultdict\n",
    "from scipy.stats import kurtosis, skew\n",
    "import pandas as pd\n",
    "# import xarray as xr\n",
    "from collections import OrderedDict\n",
    "from pathlib import Path\n",
    "import fnmatch\n",
    "import time"
   ]
  },
  {
   "cell_type": "markdown",
   "metadata": {},
   "source": [
    "## Connect the GPIB - usb cable to electron PC, then run this script together with the artiq zotino_calibrator script"
   ]
  },
  {
   "cell_type": "code",
   "execution_count": 2,
   "metadata": {},
   "outputs": [],
   "source": [
    "# interval_in_ms = 500\n",
    "# count = 1\n",
    "# number_of_pins = 32\n",
    "# volt_set = np.arange(-6.5,7,0.5)\n",
    "# number_of_datapoints = len(volt_set)\n",
    "# volt_measure = np.zeros((number_of_pins,number_of_datapoints))\n",
    "# volt_set"
   ]
  },
  {
   "cell_type": "markdown",
   "metadata": {},
   "source": [
    "# Connect to multimeter"
   ]
  },
  {
   "cell_type": "markdown",
   "metadata": {},
   "source": [
    "## if it doesn't show up in the list_resources, try lsusb in command, if it appear in lsusb, install pyusb"
   ]
  },
  {
   "cell_type": "code",
   "execution_count": 3,
   "metadata": {
    "scrolled": true
   },
   "outputs": [],
   "source": [
    "# rm = visa.ResourceManager('@py')\n",
    "rm = visa.ResourceManager()\n",
    "instruments = rm.list_resources()\n",
    "usb = list(filter(lambda x: 'USB' in x, instruments))\n",
    "\n",
    "if len(usb) != 1:\n",
    "    print('Bad instrument list', instruments)\n",
    "    sys.exit(-1)\n",
    "keithley = rm.open_resource(usb[0])"
   ]
  },
  {
   "cell_type": "code",
   "execution_count": 4,
   "metadata": {},
   "outputs": [],
   "source": [
    "rm = visa.ResourceManager()\n",
    "# rm.open_resource('USB0::25::INSTR')"
   ]
  },
  {
   "cell_type": "code",
   "execution_count": 5,
   "metadata": {},
   "outputs": [
    {
     "data": {
      "text/plain": [
       "(u'ASRL/dev/ttyS0::INSTR', u'USB0::1510::8448::1243106::0::INSTR')"
      ]
     },
     "execution_count": 5,
     "metadata": {},
     "output_type": "execute_result"
    }
   ],
   "source": [
    "instruments"
   ]
  },
  {
   "cell_type": "code",
   "execution_count": 6,
   "metadata": {},
   "outputs": [
    {
     "data": {
      "text/plain": [
       "6.20691072"
      ]
     },
     "execution_count": 6,
     "metadata": {},
     "output_type": "execute_result"
    }
   ],
   "source": [
    "volt = float(keithley.query('MEAS:VOLT:DC?'))\n",
    "volt"
   ]
  },
  {
   "cell_type": "markdown",
   "metadata": {},
   "source": [
    "# Connect to labrad dataserver"
   ]
  },
  {
   "cell_type": "markdown",
   "metadata": {},
   "source": [
    "## Start labrad server on pc and turn on dacserver and datavault server (in command line or in webpage)"
   ]
  },
  {
   "cell_type": "code",
   "execution_count": 7,
   "metadata": {},
   "outputs": [],
   "source": [
    "import labrad\n",
    "cxn = labrad.connect()\n",
    "dacserver = cxn.dac_server\n",
    "datavault = cxn.data_vault\n",
    "registry = cxn.registry"
   ]
  },
  {
   "cell_type": "code",
   "execution_count": 9,
   "metadata": {},
   "outputs": [
    {
     "name": "stdout",
     "output_type": "stream",
     "text": [
      "[14913, 15361, 15500, 16250, 16621, 17158, 17858, 18036, 18667, 19166, 19676, 20364, 20566, 21448, 21984, 22194, 22732, 23204, 23545, 24384, 24678, 25134, 25964, 26455, 26630, 27310, 27747, 28376, 28999, 29240, 29513, 30108, 30743, 31204, 31780, 32152, 32899, 33472, 33860, 34406, 34825, 35404, 35789, 36073, 36561, 37000, 37704, 38213, 38521, 39192, 39989, 40036, 40526, 41306, 41859, 42499, 42995, 43195, 43647, 44086, 44810, 45453, 45637, 46191, 46536, 47243, 47670, 48046, 48615, 49065, 49699, 50041, 50614, 51361, 51631]\n"
     ]
    }
   ],
   "source": [
    "from random import randrange as r\n",
    "\n",
    "stepsize = 500\n",
    "#numSteps = (58500-7000)/stepsize\n",
    "# numSteps = (-28907+36625)/stepsize # -5V to +5V       \n",
    "\n",
    "# digVoltages = [ 28907 + r(0, stepsize) + i*stepsize for i in  range(numSteps)]\n",
    "\n",
    "numSteps = (52000-14500)/stepsize        # -28V to +28V\n",
    "\n",
    "digVoltages = [ 14500 + r(0, stepsize) + i*stepsize for i in  range(numSteps)]\n",
    "\n",
    "channelToCalib = 'bl3' # trapElectrodeNumber in DacConfiguration\n",
    "print(digVoltages)"
   ]
  },
  {
   "cell_type": "code",
   "execution_count": 10,
   "metadata": {},
   "outputs": [
    {
     "name": "stdout",
     "output_type": "stream",
     "text": [
      "bl3\n"
     ]
    }
   ],
   "source": [
    "print((str(channelToCalib).zfill(2)))"
   ]
  },
  {
   "cell_type": "code",
   "execution_count": 14,
   "metadata": {},
   "outputs": [
    {
     "name": "stdout",
     "output_type": "stream",
     "text": [
      "-28.1003616\n"
     ]
    }
   ],
   "source": [
    "print(float(keithley.query('MEAS:VOLT:DC?')))"
   ]
  },
  {
   "cell_type": "code",
   "execution_count": 22,
   "metadata": {},
   "outputs": [],
   "source": [
    "dacserver.set_individual_digital_voltages([(str(channelToCalib).zfill(2), 1)]) #low\n",
    "#dacserver.set_individual_digital_voltages([(str(channelToCalib).zfill(2), 51631)]) #high"
   ]
  },
  {
   "cell_type": "code",
   "execution_count": 23,
   "metadata": {},
   "outputs": [
    {
     "name": "stdout",
     "output_type": "stream",
     "text": [
      "-28.059744\n"
     ]
    }
   ],
   "source": [
    "print(float(keithley.query('MEAS:VOLT:DC?')))"
   ]
  },
  {
   "cell_type": "code",
   "execution_count": 24,
   "metadata": {},
   "outputs": [],
   "source": [
    "import datetime\n",
    "now = datetime.datetime.now()\n",
    "date = now.strftime(\"%Y%m%d\")\n",
    "TIME = now.strftime('%H%M%S')      \n",
    "\n",
    "datavault.cd(['', date, 'Calibrations',str(channelToCalib) + TIME], True)\n",
    "datavault.new(str(channelToCalib) + TIME,[('digital', '')], [('Analog', 'Volts', 'Volts')])\n",
    "datavault.add_parameter('plotLive',True)"
   ]
  },
  {
   "cell_type": "code",
   "execution_count": 25,
   "metadata": {},
   "outputs": [
    {
     "name": "stdout",
     "output_type": "stream",
     "text": [
      "14913 ;  -23.9346784\n",
      "15361 ;  -23.3351248\n",
      "15500 ;  -23.1490688\n",
      "16250 ;  -22.1457696\n",
      "16621 ;  -21.649992\n",
      "17158 ;  -20.931696\n",
      "17858 ;  -19.9951056\n",
      "18036 ;  -19.7571056\n",
      "18667 ;  -18.9131904\n",
      "19166 ;  -18.2459392\n",
      "19676 ;  -17.563416\n",
      "20364 ;  -16.6429184\n",
      "20566 ;  -16.3731856\n",
      "21448 ;  -15.1933136\n",
      "21984 ;  -14.4759616\n",
      "22194 ;  -14.1951232\n",
      "22732 ;  -13.475696\n",
      "23204 ;  -12.8441616\n",
      "23545 ;  -12.3880656\n",
      "24384 ;  -11.2653344\n",
      "24678 ;  -10.8717864\n",
      "25134 ;  -10.2619408\n",
      "25964 ;  -9.1385344\n",
      "26455 ;  -8.49510976\n",
      "26630 ;  -8.26104192\n",
      "27310 ;  -7.3513536\n",
      "27747 ;  -6.76647424\n",
      "28376 ;  -5.9252128\n",
      "28999 ;  -5.09171424\n",
      "29240 ;  -4.76927456\n",
      "29513 ;  -4.40404544\n",
      "30108 ;  -3.60792864\n",
      "30743 ;  -2.7585072\n",
      "31204 ;  -2.141536\n",
      "31780 ;  -1.37092544\n",
      "32152 ;  -0.87303936\n",
      "32899 ;  0.12598516\n",
      "33472 ;  0.892586944\n",
      "33860 ;  1.41154032\n",
      "34406 ;  2.14221216\n",
      "34825 ;  2.70270944\n",
      "35404 ;  3.47719552\n",
      "35789 ;  3.99239872\n",
      "36073 ;  4.37258144\n",
      "36561 ;  5.02533248\n",
      "37000 ;  5.61288896\n",
      "37704 ;  6.55470848\n",
      "38213 ;  7.23585728\n",
      "38521 ;  7.64789696\n",
      "39192 ;  8.54543104\n",
      "39989 ;  9.61166272\n",
      "40036 ;  9.67481024\n",
      "40526 ;  10.329936\n",
      "41306 ;  11.3734464\n",
      "41859 ;  12.1121376\n",
      "42499 ;  12.968032\n",
      "42995 ;  13.6313456\n",
      "43195 ;  13.8982144\n",
      "43647 ;  14.502328\n",
      "44086 ;  15.0892048\n",
      "44810 ;  16.0566128\n",
      "45453 ;  16.9166032\n",
      "45637 ;  17.163344\n",
      "46191 ;  17.9048576\n",
      "46536 ;  18.3664976\n",
      "47243 ;  19.3121184\n",
      "47670 ;  19.8835952\n",
      "48046 ;  20.3869248\n",
      "48615 ;  21.1484656\n",
      "49065 ;  21.7505184\n",
      "49699 ;  22.5994528\n",
      "50041 ;  23.0575616\n",
      "50614 ;  23.8244112\n",
      "51361 ;  24.823704\n",
      "51631 ;  25.1850448\n"
     ]
    }
   ],
   "source": [
    "anaVoltages = [] # corresponding analog voltages in volts\n",
    "dacserver.set_individual_digital_voltages([(str(channelToCalib).zfill(2), digVoltages[0])])\n",
    "time.sleep(.3)\n",
    "for dv in digVoltages: # iterate over digital voltages\n",
    "\n",
    "    dacserver.set_individual_digital_voltages([(str(channelToCalib).zfill(2), dv)]) \n",
    "\n",
    "    time.sleep(3.10)\n",
    "\n",
    "    av = float(keithley.query('MEAS:VOLT:DC?'))\n",
    "    #av = 0\n",
    "\n",
    "    anaVoltages.append(av)\n",
    "    datavault.add(dv, av)\n",
    "    print dv, \"; \", av"
   ]
  },
  {
   "cell_type": "code",
   "execution_count": 26,
   "metadata": {},
   "outputs": [
    {
     "data": {
      "text/plain": [
       "array([-3.30682584e-05,  1.46451735e-03,  7.47556815e+02,  3.28046817e+04])"
      ]
     },
     "execution_count": 26,
     "metadata": {},
     "output_type": "execute_result"
    }
   ],
   "source": [
    "fit = np.polyfit(anaVoltages, digVoltages, 3)\n",
    "c0 = fit[3]\n",
    "c1 = fit[2]\n",
    "c2 = fit[1]\n",
    "c3 = fit[0]\n",
    "fit"
   ]
  },
  {
   "cell_type": "code",
   "execution_count": 27,
   "metadata": {},
   "outputs": [
    {
     "data": {
      "text/plain": [
       "<matplotlib.lines.Line2D at 0x7f0532d80b50>"
      ]
     },
     "execution_count": 27,
     "metadata": {},
     "output_type": "execute_result"
    },
    {
     "data": {
      "image/png": "[encoded data removed]",
      "text/plain": [
       "<Figure size 432x288 with 1 Axes>"
      ]
     },
     "metadata": {
      "needs_background": "light"
     },
     "output_type": "display_data"
    }
   ],
   "source": [
    "plt.plot(anaVoltages, digVoltages, 'yo', anaVoltages, [c3*av**3+c2*av**2+c1*av+c0 for av in anaVoltages], '--k')\n",
    "plt.axvline(0)\n",
    "# plt.axhline(0)"
   ]
  },
  {
   "cell_type": "code",
   "execution_count": 28,
   "metadata": {},
   "outputs": [],
   "source": [
    "registry.cd(['', 'Servers', 'electronDAC Server', 'Calibrations', str(channelToCalib)], True)\n",
    "registry.set('c0', fit[3])\n",
    "registry.set('c1', fit[2])\n",
    "registry.set('c2', fit[1])\n",
    "registry.set('c3', fit[0])"
   ]
  },
  {
   "cell_type": "markdown",
   "metadata": {},
   "source": [
    "# Rename calibration folder name from trap electrode number to DAC chip number"
   ]
  },
  {
   "cell_type": "code",
   "execution_count": 29,
   "metadata": {},
   "outputs": [],
   "source": [
    "# #dacserver.set_individual_analog_voltages([(str(9).zfill(2), 2)]) \n",
    "# dacserver.set_individual_digital_voltages([(str(channelToCalib).zfill(2), 33532)])\n",
    "# time.sleep(0.50)\n",
    "# float(keithley.query('MEAS:VOLT:DC?'))\n",
    "# float(keithley.query('MEAS:VOLT:DC?'))"
   ]
  },
  {
   "cell_type": "code",
   "execution_count": null,
   "metadata": {},
   "outputs": [],
   "source": []
  }
 ],
 "metadata": {
  "kernelspec": {
   "display_name": "Python 2",
   "language": "python",
   "name": "python2"
  },
  "language_info": {
   "codemirror_mode": {
    "name": "ipython",
    "version": 2
   },
   "file_extension": ".py",
   "mimetype": "text/x-python",
   "name": "python",
   "nbconvert_exporter": "python",
   "pygments_lexer": "ipython2",
   "version": "2.7.12"
  }
 },
 "nbformat": 4,
 "nbformat_minor": 5
}
