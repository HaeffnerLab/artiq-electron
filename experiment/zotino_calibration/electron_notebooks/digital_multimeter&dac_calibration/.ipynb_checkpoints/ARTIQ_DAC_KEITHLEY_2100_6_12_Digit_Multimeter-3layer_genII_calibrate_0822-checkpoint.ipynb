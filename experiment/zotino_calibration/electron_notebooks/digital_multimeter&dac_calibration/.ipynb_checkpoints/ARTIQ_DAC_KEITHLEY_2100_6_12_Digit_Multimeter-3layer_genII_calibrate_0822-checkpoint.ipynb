{
 "cells": [
  {
   "cell_type": "code",
   "execution_count": 140,
   "id": "2516e600",
   "metadata": {},
   "outputs": [],
   "source": [
    "import os\n",
    "import numpy as np\n",
    "import matplotlib.pyplot as plt\n",
    "%matplotlib inline\n",
    "# import oskar\n",
    "# scripts = oskar.Scripts()\n",
    "import numpy as np\n",
    "from tqdm import tqdm\n",
    "import numpy\n",
    "import matplotlib.pyplot as plot\n",
    "import sys\n",
    "import pickle as pkl\n",
    "# import pyvisa as visa\n",
    "import pyvisa as visa\n",
    "import datetime\n",
    "from scipy.optimize import curve_fit\n",
    "\n",
    "from collections import defaultdict\n",
    "from scipy.stats import kurtosis, skew\n",
    "import pandas as pd\n",
    "# import xarray as xr\n",
    "from collections import OrderedDict\n",
    "from pathlib import Path\n",
    "import fnmatch\n",
    "import time"
   ]
  },
  {
   "cell_type": "markdown",
   "id": "d888e5db",
   "metadata": {},
   "source": [
    "Connect the GPIB - usb cable to electron PC, then run this script together with the artiq zotino_calibrator script"
   ]
  },
  {
   "cell_type": "code",
   "execution_count": 2,
   "id": "41451d2e",
   "metadata": {
    "scrolled": true
   },
   "outputs": [
    {
     "data": {
      "text/plain": [
       "array([-3. , -2.5, -2. , -1.5, -1. , -0.5,  0. ,  0.5,  1. ,  1.5,  2. ,\n",
       "        2.5,  3. ])"
      ]
     },
     "execution_count": 2,
     "metadata": {},
     "output_type": "execute_result"
    }
   ],
   "source": [
    "interval_in_ms = 600\n",
    "count = 1\n",
    "number_of_pins = 32\n",
    "volt_set = np.arange(-3,3.1,0.5)\n",
    "# volt_set = [-2.00000000e-01, -1.80000000e-01, -1.60000000e-01, -1.40000000e-01]\n",
    "# volt_set = [-1.5,-1.4,-1.3,-1.2,-1.1,-1.,-0.9,-0.8,-0.7,-0.6,-0.5,-0.4,-0.3,-0.2,-0.1,0.,0.1,0.2,0.3,0.4,0.5,0.6,0.7,0.8,0.9,1.0,1.1,1.2,1.3,1.4,1.5]\n",
    "number_of_datapoints = len(volt_set)\n",
    "volt_measure = np.zeros((number_of_pins,number_of_datapoints))\n",
    "volt_set"
   ]
  },
  {
   "cell_type": "code",
   "execution_count": 3,
   "id": "69be6c58",
   "metadata": {},
   "outputs": [],
   "source": [
    "volt_set = [-3. , -2.5, -2. , -1.5, -1. , -0.5,  0. ,  0.5,  1. ,  1.5,  2. ,\n",
    "        2.5,  3. ]"
   ]
  },
  {
   "cell_type": "markdown",
   "id": "a3f2cd0e",
   "metadata": {},
   "source": [
    "# External trigger mode"
   ]
  },
  {
   "cell_type": "markdown",
   "id": "b9016422",
   "metadata": {},
   "source": [
    "connect the artiq ttl output to the external trig of the digital multimeter"
   ]
  },
  {
   "cell_type": "code",
   "execution_count": 167,
   "id": "2b84f86e",
   "metadata": {},
   "outputs": [],
   "source": [
    "rm = visa.ResourceManager()\n",
    "instruments = rm.list_resources()\n",
    "# instruments\n",
    "usb = list(filter(lambda x: 'USB' in x, instruments))\n",
    "if len(usb) != 1:\n",
    "    print('Bad instrument list', instruments)\n",
    "    sys.exit(-1)\n",
    "keithley = rm.open_resource(usb[0])"
   ]
  },
  {
   "cell_type": "code",
   "execution_count": 6,
   "id": "d47c7b2d",
   "metadata": {},
   "outputs": [
    {
     "data": {
      "text/plain": [
       "('ASRL/dev/ttyS4::INSTR',\n",
       " 'ASRL/dev/ttyS31::INSTR',\n",
       " 'ASRL/dev/ttyS30::INSTR',\n",
       " 'ASRL/dev/ttyS29::INSTR',\n",
       " 'ASRL/dev/ttyS28::INSTR',\n",
       " 'ASRL/dev/ttyS27::INSTR',\n",
       " 'ASRL/dev/ttyS26::INSTR',\n",
       " 'ASRL/dev/ttyS25::INSTR',\n",
       " 'ASRL/dev/ttyS24::INSTR',\n",
       " 'ASRL/dev/ttyS23::INSTR',\n",
       " 'ASRL/dev/ttyS22::INSTR',\n",
       " 'ASRL/dev/ttyS21::INSTR',\n",
       " 'ASRL/dev/ttyS20::INSTR',\n",
       " 'ASRL/dev/ttyS19::INSTR',\n",
       " 'ASRL/dev/ttyS18::INSTR',\n",
       " 'ASRL/dev/ttyS17::INSTR',\n",
       " 'ASRL/dev/ttyS16::INSTR',\n",
       " 'ASRL/dev/ttyS15::INSTR',\n",
       " 'ASRL/dev/ttyS14::INSTR',\n",
       " 'ASRL/dev/ttyS13::INSTR',\n",
       " 'ASRL/dev/ttyS12::INSTR',\n",
       " 'ASRL/dev/ttyS11::INSTR',\n",
       " 'ASRL/dev/ttyS10::INSTR',\n",
       " 'ASRL/dev/ttyS9::INSTR',\n",
       " 'ASRL/dev/ttyS8::INSTR',\n",
       " 'ASRL/dev/ttyS7::INSTR',\n",
       " 'ASRL/dev/ttyS6::INSTR',\n",
       " 'ASRL/dev/ttyS5::INSTR',\n",
       " 'ASRL/dev/ttyS3::INSTR',\n",
       " 'ASRL/dev/ttyS2::INSTR',\n",
       " 'ASRL/dev/ttyS1::INSTR',\n",
       " 'ASRL/dev/ttyS0::INSTR',\n",
       " 'USB0::1510::8448::1243106::0::INSTR',\n",
       " 'TCPIP::192.168.169.104::INSTR',\n",
       " 'TCPIP::192.168.169.115::INSTR')"
      ]
     },
     "execution_count": 6,
     "metadata": {},
     "output_type": "execute_result"
    }
   ],
   "source": [
    "instruments"
   ]
  },
  {
   "cell_type": "markdown",
   "id": "861461ea",
   "metadata": {},
   "source": [
    "change artiq Vs manually, run this block then quickly run artiq DAC calibration "
   ]
  },
  {
   "cell_type": "code",
   "execution_count": 127,
   "id": "7879429c",
   "metadata": {
    "collapsed": true,
    "jupyter": {
     "outputs_hidden": true
    }
   },
   "outputs": [
    {
     "ename": "KeyboardInterrupt",
     "evalue": "",
     "output_type": "error",
     "traceback": [
      "\u001b[0;31m---------------------------------------------------------------------------\u001b[0m",
      "\u001b[0;31mKeyboardInterrupt\u001b[0m                         Traceback (most recent call last)",
      "Cell \u001b[0;32mIn[127], line 1\u001b[0m\n\u001b[0;32m----> 1\u001b[0m \u001b[43mkeithley\u001b[49m\u001b[38;5;241;43m.\u001b[39;49m\u001b[43mquery\u001b[49m\u001b[43m(\u001b[49m\u001b[38;5;124;43m'\u001b[39;49m\u001b[38;5;124;43mfetch?\u001b[39;49m\u001b[38;5;124;43m'\u001b[39;49m\u001b[43m)\u001b[49m\n",
      "File \u001b[0;32m~/miniconda3/envs/artiq/lib/python3.8/site-packages/pyvisa/resources/messagebased.py:647\u001b[0m, in \u001b[0;36mMessageBasedResource.query\u001b[0;34m(self, message, delay)\u001b[0m\n\u001b[1;32m    644\u001b[0m \u001b[38;5;28;01mif\u001b[39;00m delay \u001b[38;5;241m>\u001b[39m \u001b[38;5;241m0.0\u001b[39m:\n\u001b[1;32m    645\u001b[0m     time\u001b[38;5;241m.\u001b[39msleep(delay)\n\u001b[0;32m--> 647\u001b[0m \u001b[38;5;28;01mreturn\u001b[39;00m \u001b[38;5;28;43mself\u001b[39;49m\u001b[38;5;241;43m.\u001b[39;49m\u001b[43mread\u001b[49m\u001b[43m(\u001b[49m\u001b[43m)\u001b[49m\n",
      "File \u001b[0;32m~/miniconda3/envs/artiq/lib/python3.8/site-packages/pyvisa/resources/messagebased.py:485\u001b[0m, in \u001b[0;36mMessageBasedResource.read\u001b[0;34m(self, termination, encoding)\u001b[0m\n\u001b[1;32m    483\u001b[0m \u001b[38;5;28;01mif\u001b[39;00m termination \u001b[38;5;129;01mis\u001b[39;00m \u001b[38;5;28;01mNone\u001b[39;00m:\n\u001b[1;32m    484\u001b[0m     termination \u001b[38;5;241m=\u001b[39m \u001b[38;5;28mself\u001b[39m\u001b[38;5;241m.\u001b[39m_read_termination\n\u001b[0;32m--> 485\u001b[0m     message \u001b[38;5;241m=\u001b[39m \u001b[38;5;28;43mself\u001b[39;49m\u001b[38;5;241;43m.\u001b[39;49m\u001b[43m_read_raw\u001b[49m\u001b[43m(\u001b[49m\u001b[43m)\u001b[49m\u001b[38;5;241m.\u001b[39mdecode(enco)\n\u001b[1;32m    486\u001b[0m \u001b[38;5;28;01melse\u001b[39;00m:\n\u001b[1;32m    487\u001b[0m     \u001b[38;5;28;01mwith\u001b[39;00m \u001b[38;5;28mself\u001b[39m\u001b[38;5;241m.\u001b[39mread_termination_context(termination):\n",
      "File \u001b[0;32m~/miniconda3/envs/artiq/lib/python3.8/site-packages/pyvisa/resources/messagebased.py:441\u001b[0m, in \u001b[0;36mMessageBasedResource._read_raw\u001b[0;34m(self, size)\u001b[0m\n\u001b[1;32m    434\u001b[0m     \u001b[38;5;28;01mwhile\u001b[39;00m status \u001b[38;5;241m==\u001b[39m loop_status:\n\u001b[1;32m    435\u001b[0m         logger\u001b[38;5;241m.\u001b[39mdebug(\n\u001b[1;32m    436\u001b[0m             \u001b[38;5;124m\"\u001b[39m\u001b[38;5;132;01m%s\u001b[39;00m\u001b[38;5;124m - reading \u001b[39m\u001b[38;5;132;01m%d\u001b[39;00m\u001b[38;5;124m bytes (last status \u001b[39m\u001b[38;5;132;01m%r\u001b[39;00m\u001b[38;5;124m)\u001b[39m\u001b[38;5;124m\"\u001b[39m,\n\u001b[1;32m    437\u001b[0m             \u001b[38;5;28mself\u001b[39m\u001b[38;5;241m.\u001b[39m_resource_name,\n\u001b[1;32m    438\u001b[0m             size,\n\u001b[1;32m    439\u001b[0m             status,\n\u001b[1;32m    440\u001b[0m         )\n\u001b[0;32m--> 441\u001b[0m         chunk, status \u001b[38;5;241m=\u001b[39m \u001b[38;5;28;43mself\u001b[39;49m\u001b[38;5;241;43m.\u001b[39;49m\u001b[43mvisalib\u001b[49m\u001b[38;5;241;43m.\u001b[39;49m\u001b[43mread\u001b[49m\u001b[43m(\u001b[49m\u001b[38;5;28;43mself\u001b[39;49m\u001b[38;5;241;43m.\u001b[39;49m\u001b[43msession\u001b[49m\u001b[43m,\u001b[49m\u001b[43m \u001b[49m\u001b[43msize\u001b[49m\u001b[43m)\u001b[49m\n\u001b[1;32m    442\u001b[0m         ret\u001b[38;5;241m.\u001b[39mextend(chunk)\n\u001b[1;32m    443\u001b[0m \u001b[38;5;28;01mexcept\u001b[39;00m errors\u001b[38;5;241m.\u001b[39mVisaIOError \u001b[38;5;28;01mas\u001b[39;00m e:\n",
      "File \u001b[0;32m~/miniconda3/envs/artiq/lib/python3.8/site-packages/pyvisa_py/highlevel.py:513\u001b[0m, in \u001b[0;36mPyVisaLibrary.read\u001b[0;34m(self, session, count)\u001b[0m\n\u001b[1;32m    511\u001b[0m \u001b[38;5;66;03m# from the session handle, dispatch to the read method of the session object.\u001b[39;00m\n\u001b[1;32m    512\u001b[0m \u001b[38;5;28;01mtry\u001b[39;00m:\n\u001b[0;32m--> 513\u001b[0m     data, status_code \u001b[38;5;241m=\u001b[39m \u001b[38;5;28;43mself\u001b[39;49m\u001b[38;5;241;43m.\u001b[39;49m\u001b[43msessions\u001b[49m\u001b[43m[\u001b[49m\u001b[43msession\u001b[49m\u001b[43m]\u001b[49m\u001b[38;5;241;43m.\u001b[39;49m\u001b[43mread\u001b[49m\u001b[43m(\u001b[49m\u001b[43mcount\u001b[49m\u001b[43m)\u001b[49m\n\u001b[1;32m    514\u001b[0m \u001b[38;5;28;01mexcept\u001b[39;00m \u001b[38;5;167;01mKeyError\u001b[39;00m:\n\u001b[1;32m    515\u001b[0m     \u001b[38;5;28;01mreturn\u001b[39;00m (\n\u001b[1;32m    516\u001b[0m         \u001b[38;5;124mb\u001b[39m\u001b[38;5;124m\"\u001b[39m\u001b[38;5;124m\"\u001b[39m,\n\u001b[1;32m    517\u001b[0m         \u001b[38;5;28mself\u001b[39m\u001b[38;5;241m.\u001b[39mhandle_return_value(session, StatusCode\u001b[38;5;241m.\u001b[39merror_invalid_object),\n\u001b[1;32m    518\u001b[0m     )\n",
      "File \u001b[0;32m~/miniconda3/envs/artiq/lib/python3.8/site-packages/pyvisa_py/usb.py:168\u001b[0m, in \u001b[0;36mUSBSession.read\u001b[0;34m(self, count)\u001b[0m\n\u001b[1;32m    165\u001b[0m term_char, _ \u001b[38;5;241m=\u001b[39m \u001b[38;5;28mself\u001b[39m\u001b[38;5;241m.\u001b[39mget_attribute(ResourceAttribute\u001b[38;5;241m.\u001b[39mtermchar)\n\u001b[1;32m    166\u001b[0m term_char_en, _ \u001b[38;5;241m=\u001b[39m \u001b[38;5;28mself\u001b[39m\u001b[38;5;241m.\u001b[39mget_attribute(ResourceAttribute\u001b[38;5;241m.\u001b[39mtermchar_enabled)\n\u001b[0;32m--> 168\u001b[0m \u001b[38;5;28;01mreturn\u001b[39;00m \u001b[38;5;28;43mself\u001b[39;49m\u001b[38;5;241;43m.\u001b[39;49m\u001b[43m_read\u001b[49m\u001b[43m(\u001b[49m\n\u001b[1;32m    169\u001b[0m \u001b[43m    \u001b[49m\u001b[43m_usb_reader\u001b[49m\u001b[43m,\u001b[49m\n\u001b[1;32m    170\u001b[0m \u001b[43m    \u001b[49m\u001b[43mcount\u001b[49m\u001b[43m,\u001b[49m\n\u001b[1;32m    171\u001b[0m \u001b[43m    \u001b[49m\u001b[38;5;28;43;01mlambda\u001b[39;49;00m\u001b[43m \u001b[49m\u001b[43mcurrent\u001b[49m\u001b[43m:\u001b[49m\u001b[43m \u001b[49m\u001b[38;5;28;43;01mTrue\u001b[39;49;00m\u001b[43m,\u001b[49m\u001b[43m  \u001b[49m\u001b[38;5;66;43;03m# USB always returns a complete message\u001b[39;49;00m\n\u001b[1;32m    172\u001b[0m \u001b[43m    \u001b[49m\u001b[43msupress_end_en\u001b[49m\u001b[43m,\u001b[49m\n\u001b[1;32m    173\u001b[0m \u001b[43m    \u001b[49m\u001b[43mterm_char\u001b[49m\u001b[43m,\u001b[49m\n\u001b[1;32m    174\u001b[0m \u001b[43m    \u001b[49m\u001b[43mterm_char_en\u001b[49m\u001b[43m,\u001b[49m\n\u001b[1;32m    175\u001b[0m \u001b[43m    \u001b[49m\u001b[43mUSBTimeoutException\u001b[49m\u001b[43m,\u001b[49m\n\u001b[1;32m    176\u001b[0m \u001b[43m\u001b[49m\u001b[43m)\u001b[49m\n",
      "File \u001b[0;32m~/miniconda3/envs/artiq/lib/python3.8/site-packages/pyvisa_py/sessions.py:792\u001b[0m, in \u001b[0;36mSession._read\u001b[0;34m(self, reader, count, end_indicator_checker, suppress_end_en, termination_char, termination_char_en, timeout_exception)\u001b[0m\n\u001b[1;32m    790\u001b[0m \u001b[38;5;28;01mwhile\u001b[39;00m \u001b[38;5;28;01mTrue\u001b[39;00m:\n\u001b[1;32m    791\u001b[0m     \u001b[38;5;28;01mtry\u001b[39;00m:\n\u001b[0;32m--> 792\u001b[0m         current \u001b[38;5;241m=\u001b[39m \u001b[43mreader\u001b[49m\u001b[43m(\u001b[49m\u001b[43m)\u001b[49m\n\u001b[1;32m    793\u001b[0m     \u001b[38;5;28;01mexcept\u001b[39;00m timeout_exception:\n\u001b[1;32m    794\u001b[0m         \u001b[38;5;28;01mreturn\u001b[39;00m out, StatusCode\u001b[38;5;241m.\u001b[39merror_timeout\n",
      "File \u001b[0;32m~/miniconda3/envs/artiq/lib/python3.8/site-packages/pyvisa_py/usb.py:152\u001b[0m, in \u001b[0;36mUSBSession.read.<locals>._usb_reader\u001b[0;34m()\u001b[0m\n\u001b[1;32m    150\u001b[0m \u001b[38;5;250m\u001b[39m\u001b[38;5;124;03m\"\"\"Data reader identifying usb timeout exception.\"\"\"\u001b[39;00m\n\u001b[1;32m    151\u001b[0m \u001b[38;5;28;01mtry\u001b[39;00m:\n\u001b[0;32m--> 152\u001b[0m     \u001b[38;5;28;01mreturn\u001b[39;00m \u001b[38;5;28;43mself\u001b[39;49m\u001b[38;5;241;43m.\u001b[39;49m\u001b[43minterface\u001b[49m\u001b[38;5;241;43m.\u001b[39;49m\u001b[43mread\u001b[49m\u001b[43m(\u001b[49m\u001b[43mcount\u001b[49m\u001b[43m)\u001b[49m\n\u001b[1;32m    153\u001b[0m \u001b[38;5;28;01mexcept\u001b[39;00m usb\u001b[38;5;241m.\u001b[39mUSBError \u001b[38;5;28;01mas\u001b[39;00m exc:\n\u001b[1;32m    154\u001b[0m     \u001b[38;5;28;01mif\u001b[39;00m exc\u001b[38;5;241m.\u001b[39merrno \u001b[38;5;129;01min\u001b[39;00m (errno\u001b[38;5;241m.\u001b[39mETIMEDOUT, \u001b[38;5;241m-\u001b[39merrno\u001b[38;5;241m.\u001b[39mETIMEDOUT):\n",
      "File \u001b[0;32m~/miniconda3/envs/artiq/lib/python3.8/site-packages/pyvisa_py/protocols/usbtmc.py:480\u001b[0m, in \u001b[0;36mUSBTMC.read\u001b[0;34m(self, size)\u001b[0m\n\u001b[1;32m    477\u001b[0m raw_write(req)\n\u001b[1;32m    479\u001b[0m \u001b[38;5;28;01mtry\u001b[39;00m:\n\u001b[0;32m--> 480\u001b[0m     resp \u001b[38;5;241m=\u001b[39m \u001b[43mraw_read\u001b[49m\u001b[43m(\u001b[49m\u001b[43mrecv_chunk\u001b[49m\u001b[43m \u001b[49m\u001b[38;5;241;43m+\u001b[39;49m\u001b[43m \u001b[49m\u001b[43mheader_size\u001b[49m\u001b[43m \u001b[49m\u001b[38;5;241;43m+\u001b[39;49m\u001b[43m \u001b[49m\u001b[43mmax_padding\u001b[49m\u001b[43m)\u001b[49m\n\u001b[1;32m    481\u001b[0m     response \u001b[38;5;241m=\u001b[39m BulkInMessage\u001b[38;5;241m.\u001b[39mfrom_bytes(resp)\n\u001b[1;32m    482\u001b[0m \u001b[38;5;28;01mexcept\u001b[39;00m (usb\u001b[38;5;241m.\u001b[39mcore\u001b[38;5;241m.\u001b[39mUSBError, \u001b[38;5;167;01mValueError\u001b[39;00m):\n\u001b[1;32m    483\u001b[0m     \u001b[38;5;66;03m# Abort failed Bulk-IN operation.\u001b[39;00m\n",
      "File \u001b[0;32m~/miniconda3/envs/artiq/lib/python3.8/site-packages/pyvisa_py/protocols/usbtmc.py:295\u001b[0m, in \u001b[0;36mUSBRaw.read\u001b[0;34m(self, size)\u001b[0m\n\u001b[1;32m    292\u001b[0m \u001b[38;5;28;01mif\u001b[39;00m size \u001b[38;5;241m<\u001b[39m\u001b[38;5;241m=\u001b[39m \u001b[38;5;241m0\u001b[39m:\n\u001b[1;32m    293\u001b[0m     size \u001b[38;5;241m=\u001b[39m \u001b[38;5;241m1\u001b[39m\n\u001b[0;32m--> 295\u001b[0m data \u001b[38;5;241m=\u001b[39m \u001b[38;5;28;43mself\u001b[39;49m\u001b[38;5;241;43m.\u001b[39;49m\u001b[43musb_recv_ep\u001b[49m\u001b[38;5;241;43m.\u001b[39;49m\u001b[43mread\u001b[49m\u001b[43m(\u001b[49m\u001b[43msize\u001b[49m\u001b[43m,\u001b[49m\u001b[43m \u001b[49m\u001b[38;5;28;43mself\u001b[39;49m\u001b[38;5;241;43m.\u001b[39;49m\u001b[43mtimeout\u001b[49m\u001b[43m)\u001b[49m\u001b[38;5;241m.\u001b[39mtobytes()\n\u001b[1;32m    297\u001b[0m \u001b[38;5;28;01mreturn\u001b[39;00m data\n",
      "File \u001b[0;32m~/miniconda3/envs/artiq/lib/python3.8/site-packages/usb/core.py:423\u001b[0m, in \u001b[0;36mEndpoint.read\u001b[0;34m(self, size_or_buffer, timeout)\u001b[0m\n\u001b[1;32m    410\u001b[0m \u001b[38;5;28;01mdef\u001b[39;00m\u001b[38;5;250m \u001b[39m\u001b[38;5;21mread\u001b[39m(\u001b[38;5;28mself\u001b[39m, size_or_buffer, timeout \u001b[38;5;241m=\u001b[39m \u001b[38;5;28;01mNone\u001b[39;00m):\n\u001b[1;32m    411\u001b[0m \u001b[38;5;250m    \u001b[39m\u001b[38;5;124mr\u001b[39m\u001b[38;5;124;03m\"\"\"Read data from the endpoint.\u001b[39;00m\n\u001b[1;32m    412\u001b[0m \n\u001b[1;32m    413\u001b[0m \u001b[38;5;124;03m    The parameter size_or_buffer is either the number of bytes to\u001b[39;00m\n\u001b[0;32m   (...)\u001b[0m\n\u001b[1;32m    421\u001b[0m \u001b[38;5;124;03m    For details, see the Device.read() method.\u001b[39;00m\n\u001b[1;32m    422\u001b[0m \u001b[38;5;124;03m    \"\"\"\u001b[39;00m\n\u001b[0;32m--> 423\u001b[0m     \u001b[38;5;28;01mreturn\u001b[39;00m \u001b[38;5;28;43mself\u001b[39;49m\u001b[38;5;241;43m.\u001b[39;49m\u001b[43mdevice\u001b[49m\u001b[38;5;241;43m.\u001b[39;49m\u001b[43mread\u001b[49m\u001b[43m(\u001b[49m\u001b[38;5;28;43mself\u001b[39;49m\u001b[43m,\u001b[49m\u001b[43m \u001b[49m\u001b[43msize_or_buffer\u001b[49m\u001b[43m,\u001b[49m\u001b[43m \u001b[49m\u001b[43mtimeout\u001b[49m\u001b[43m)\u001b[49m\n",
      "File \u001b[0;32m~/miniconda3/envs/artiq/lib/python3.8/site-packages/usb/core.py:1029\u001b[0m, in \u001b[0;36mDevice.read\u001b[0;34m(self, endpoint, size_or_buffer, timeout)\u001b[0m\n\u001b[1;32m   1026\u001b[0m \u001b[38;5;28;01melse\u001b[39;00m: \u001b[38;5;66;03m# here we consider it is a integer\u001b[39;00m\n\u001b[1;32m   1027\u001b[0m     buff \u001b[38;5;241m=\u001b[39m util\u001b[38;5;241m.\u001b[39mcreate_buffer(size_or_buffer)\n\u001b[0;32m-> 1029\u001b[0m ret \u001b[38;5;241m=\u001b[39m \u001b[43mfn\u001b[49m\u001b[43m(\u001b[49m\n\u001b[1;32m   1030\u001b[0m \u001b[43m        \u001b[49m\u001b[38;5;28;43mself\u001b[39;49m\u001b[38;5;241;43m.\u001b[39;49m\u001b[43m_ctx\u001b[49m\u001b[38;5;241;43m.\u001b[39;49m\u001b[43mhandle\u001b[49m\u001b[43m,\u001b[49m\n\u001b[1;32m   1031\u001b[0m \u001b[43m        \u001b[49m\u001b[43mep\u001b[49m\u001b[38;5;241;43m.\u001b[39;49m\u001b[43mbEndpointAddress\u001b[49m\u001b[43m,\u001b[49m\n\u001b[1;32m   1032\u001b[0m \u001b[43m        \u001b[49m\u001b[43mintf\u001b[49m\u001b[38;5;241;43m.\u001b[39;49m\u001b[43mbInterfaceNumber\u001b[49m\u001b[43m,\u001b[49m\n\u001b[1;32m   1033\u001b[0m \u001b[43m        \u001b[49m\u001b[43mbuff\u001b[49m\u001b[43m,\u001b[49m\n\u001b[1;32m   1034\u001b[0m \u001b[43m        \u001b[49m\u001b[38;5;28;43mself\u001b[39;49m\u001b[38;5;241;43m.\u001b[39;49m\u001b[43m__get_timeout\u001b[49m\u001b[43m(\u001b[49m\u001b[43mtimeout\u001b[49m\u001b[43m)\u001b[49m\u001b[43m)\u001b[49m\n\u001b[1;32m   1036\u001b[0m \u001b[38;5;28;01mif\u001b[39;00m \u001b[38;5;28misinstance\u001b[39m(size_or_buffer, array\u001b[38;5;241m.\u001b[39marray):\n\u001b[1;32m   1037\u001b[0m     \u001b[38;5;28;01mreturn\u001b[39;00m ret\n",
      "File \u001b[0;32m~/miniconda3/envs/artiq/lib/python3.8/site-packages/usb/backend/libusb1.py:846\u001b[0m, in \u001b[0;36m_LibUSB.bulk_read\u001b[0;34m(self, dev_handle, ep, intf, buff, timeout)\u001b[0m\n\u001b[1;32m    844\u001b[0m \u001b[38;5;129m@methodtrace\u001b[39m(_logger)\n\u001b[1;32m    845\u001b[0m \u001b[38;5;28;01mdef\u001b[39;00m\u001b[38;5;250m \u001b[39m\u001b[38;5;21mbulk_read\u001b[39m(\u001b[38;5;28mself\u001b[39m, dev_handle, ep, intf, buff, timeout):\n\u001b[0;32m--> 846\u001b[0m     \u001b[38;5;28;01mreturn\u001b[39;00m \u001b[38;5;28;43mself\u001b[39;49m\u001b[38;5;241;43m.\u001b[39;49m\u001b[43m__read\u001b[49m\u001b[43m(\u001b[49m\u001b[38;5;28;43mself\u001b[39;49m\u001b[38;5;241;43m.\u001b[39;49m\u001b[43mlib\u001b[49m\u001b[38;5;241;43m.\u001b[39;49m\u001b[43mlibusb_bulk_transfer\u001b[49m\u001b[43m,\u001b[49m\n\u001b[1;32m    847\u001b[0m \u001b[43m                       \u001b[49m\u001b[43mdev_handle\u001b[49m\u001b[43m,\u001b[49m\n\u001b[1;32m    848\u001b[0m \u001b[43m                       \u001b[49m\u001b[43mep\u001b[49m\u001b[43m,\u001b[49m\n\u001b[1;32m    849\u001b[0m \u001b[43m                       \u001b[49m\u001b[43mintf\u001b[49m\u001b[43m,\u001b[49m\n\u001b[1;32m    850\u001b[0m \u001b[43m                       \u001b[49m\u001b[43mbuff\u001b[49m\u001b[43m,\u001b[49m\n\u001b[1;32m    851\u001b[0m \u001b[43m                       \u001b[49m\u001b[43mtimeout\u001b[49m\u001b[43m)\u001b[49m\n",
      "File \u001b[0;32m~/miniconda3/envs/artiq/lib/python3.8/site-packages/usb/backend/libusb1.py:946\u001b[0m, in \u001b[0;36m_LibUSB.__read\u001b[0;34m(self, fn, dev_handle, ep, intf, buff, timeout)\u001b[0m\n\u001b[1;32m    944\u001b[0m length \u001b[38;5;241m*\u001b[39m\u001b[38;5;241m=\u001b[39m buff\u001b[38;5;241m.\u001b[39mitemsize\n\u001b[1;32m    945\u001b[0m transferred \u001b[38;5;241m=\u001b[39m c_int()\n\u001b[0;32m--> 946\u001b[0m retval \u001b[38;5;241m=\u001b[39m \u001b[43mfn\u001b[49m\u001b[43m(\u001b[49m\u001b[43mdev_handle\u001b[49m\u001b[38;5;241;43m.\u001b[39;49m\u001b[43mhandle\u001b[49m\u001b[43m,\u001b[49m\n\u001b[1;32m    947\u001b[0m \u001b[43m          \u001b[49m\u001b[43mep\u001b[49m\u001b[43m,\u001b[49m\n\u001b[1;32m    948\u001b[0m \u001b[43m          \u001b[49m\u001b[43mcast\u001b[49m\u001b[43m(\u001b[49m\u001b[43maddress\u001b[49m\u001b[43m,\u001b[49m\u001b[43m \u001b[49m\u001b[43mPOINTER\u001b[49m\u001b[43m(\u001b[49m\u001b[43mc_ubyte\u001b[49m\u001b[43m)\u001b[49m\u001b[43m)\u001b[49m\u001b[43m,\u001b[49m\n\u001b[1;32m    949\u001b[0m \u001b[43m          \u001b[49m\u001b[43mlength\u001b[49m\u001b[43m,\u001b[49m\n\u001b[1;32m    950\u001b[0m \u001b[43m          \u001b[49m\u001b[43mbyref\u001b[49m\u001b[43m(\u001b[49m\u001b[43mtransferred\u001b[49m\u001b[43m)\u001b[49m\u001b[43m,\u001b[49m\n\u001b[1;32m    951\u001b[0m \u001b[43m          \u001b[49m\u001b[43mtimeout\u001b[49m\u001b[43m)\u001b[49m\n\u001b[1;32m    952\u001b[0m \u001b[38;5;66;03m# do not assume LIBUSB_ERROR_TIMEOUT means no I/O.\u001b[39;00m\n\u001b[1;32m    953\u001b[0m \u001b[38;5;28;01mif\u001b[39;00m \u001b[38;5;129;01mnot\u001b[39;00m (transferred\u001b[38;5;241m.\u001b[39mvalue \u001b[38;5;129;01mand\u001b[39;00m retval \u001b[38;5;241m==\u001b[39m LIBUSB_ERROR_TIMEOUT):\n",
      "\u001b[0;31mKeyboardInterrupt\u001b[0m: "
     ]
    }
   ],
   "source": [
    "keithley.query('fetch?')"
   ]
  },
  {
   "cell_type": "code",
   "execution_count": 172,
   "id": "bdd20f1b",
   "metadata": {
    "scrolled": true
   },
   "outputs": [
    {
     "name": "stderr",
     "output_type": "stream",
     "text": [
      "100%|███████████████████████████████████████████| 13/13 [00:26<00:00,  2.04s/it]"
     ]
    },
    {
     "name": "stdout",
     "output_type": "stream",
     "text": [
      "[-11.7040256   -9.7480672   -9.47600192  -5.8235456   -3.86180864\n",
      "  -1.89869824   0.06388231   2.02558832   3.98818176   5.95022464\n",
      "   7.47228928   9.87537088  11.8374712 ]\n"
     ]
    },
    {
     "name": "stderr",
     "output_type": "stream",
     "text": [
      "\n"
     ]
    }
   ],
   "source": [
    "pin = 23 # artiq zotino channel number, the same as the zotino_channel in zotino calibrator, notice this is not Dsub pin!!\n",
    "# make sure the zotino output is connected to the back ports of the keithley multimeter!\n",
    "interval_in_ms = 400\n",
    "for i in tqdm(range(number_of_datapoints)):\n",
    "    \n",
    "    keithley.write(\"trigger:source external\")\n",
    "    keithley.write(\"trigger:delay %f\" % (interval_in_ms / 1000.0))\n",
    "    keithley.write(\"trigger:count %d\" % count)\n",
    "    keithley.write(\"initiate\")\n",
    "    time.sleep(2)\n",
    "    \n",
    "    volt_measure[pin][i] = float(keithley.query('fetch?'))\n",
    "    keithley.write(\"*rst; status:preset; *cls\")\n",
    "\n",
    "print(volt_measure[pin])"
   ]
  },
  {
   "cell_type": "code",
   "execution_count": 149,
   "id": "bc5adb25",
   "metadata": {
    "scrolled": true
   },
   "outputs": [
    {
     "data": {
      "text/plain": [
       "array([[ 0.00000000e+00,  0.00000000e+00,  0.00000000e+00,\n",
       "         0.00000000e+00,  0.00000000e+00,  0.00000000e+00,\n",
       "         0.00000000e+00,  0.00000000e+00,  0.00000000e+00,\n",
       "         0.00000000e+00,  0.00000000e+00,  0.00000000e+00,\n",
       "         0.00000000e+00],\n",
       "       [-1.17406768e+01, -9.78072000e+00, -7.81965504e+00,\n",
       "        -5.85748608e+00, -3.89625984e+00, -2.02325552e+00,\n",
       "         2.73462624e-02,  1.98878768e+00,  3.94447104e+00,\n",
       "         5.91208128e+00,  7.87479232e+00,  9.83582656e+00,\n",
       "         1.17970120e+01],\n",
       "       [-1.17470032e+01, -9.79098624e+00, -7.83033856e+00,\n",
       "        -5.86828736e+00, -3.90701792e+00, -1.94526704e+00,\n",
       "         1.63370992e-02,  1.97740368e+00,  3.94014080e+00,\n",
       "         5.90000256e+00,  7.86238016e+00,  9.82313536e+00,\n",
       "         1.17843688e+01],\n",
       "       [ 0.00000000e+00,  0.00000000e+00,  0.00000000e+00,\n",
       "         0.00000000e+00,  0.00000000e+00,  0.00000000e+00,\n",
       "         0.00000000e+00,  0.00000000e+00,  0.00000000e+00,\n",
       "         0.00000000e+00,  0.00000000e+00,  0.00000000e+00,\n",
       "         0.00000000e+00],\n",
       "       [-1.17158816e+01, -9.75769344e+00, -7.79236800e+00,\n",
       "        -5.83184320e+00, -3.87406016e+00, -1.91172992e+00,\n",
       "         4.97001440e-02,  2.01061632e+00,  3.97228192e+00,\n",
       "         5.93358720e+00,  7.89604992e+00,  9.85696576e+00,\n",
       "         1.18119232e+01],\n",
       "       [ 0.00000000e+00,  0.00000000e+00,  0.00000000e+00,\n",
       "         0.00000000e+00,  0.00000000e+00,  0.00000000e+00,\n",
       "         0.00000000e+00,  0.00000000e+00,  0.00000000e+00,\n",
       "         0.00000000e+00,  0.00000000e+00,  0.00000000e+00,\n",
       "         0.00000000e+00],\n",
       "       [-1.17378976e+01, -9.78014976e+00, -7.80812224e+00,\n",
       "        -5.85741568e+00, -3.89658112e+00, -1.93420208e+00,\n",
       "         3.28474080e-02,  1.98777488e+00,  3.94973216e+00,\n",
       "         5.91094208e+00,  7.87323392e+00,  9.82773760e+00,\n",
       "         1.17951688e+01],\n",
       "       [-1.17624664e+01, -9.80516416e+00, -7.84478720e+00,\n",
       "        -5.88313152e+00, -3.92256416e+00, -1.96060512e+00,\n",
       "         5.40362240e-05,  1.96099360e+00,  3.92238432e+00,\n",
       "         5.88307968e+00,  7.84506560e+00,  9.80575936e+00,\n",
       "         1.17664416e+01],\n",
       "       [-1.17680000e+01, -9.81051712e+00, -7.84940160e+00,\n",
       "        -5.88742976e+00, -3.92591072e+00, -1.95543248e+00,\n",
       "         4.73885472e-03,  1.95955712e+00,  3.92587520e+00,\n",
       "         5.88311104e+00,  7.84542528e+00,  9.80672064e+00,\n",
       "         1.17681592e+01],\n",
       "       [-1.17275992e+01, -9.76904128e+00, -7.80836480e+00,\n",
       "        -5.84593472e+00, -3.88482560e+00, -1.91816512e+00,\n",
       "         3.95116256e-02,  2.00073248e+00,  3.96497728e+00,\n",
       "         5.92393920e+00,  7.88642624e+00,  9.84797568e+00,\n",
       "         1.18096920e+01],\n",
       "       [-1.17853344e+01, -9.82407488e+00, -7.86262784e+00,\n",
       "        -5.90014272e+00, -3.93829984e+00, -1.97554160e+00,\n",
       "        -1.37671008e-02,  1.94776528e+00,  3.91361344e+00,\n",
       "         5.87211776e+00,  7.83502400e+00,  9.79666240e+00,\n",
       "         1.17584088e+01],\n",
       "       [-1.17755600e+01, -9.82613184e+00, -7.86420160e+00,\n",
       "        -5.90248384e+00, -3.94085216e+00, -1.97814448e+00,\n",
       "        -1.49489328e-02,  1.94684736e+00,  3.90818144e+00,\n",
       "         5.86939776e+00,  7.83229952e+00,  9.79505344e+00,\n",
       "         1.17561048e+01],\n",
       "       [-1.17619288e+01, -9.80077248e+00, -7.83926912e+00,\n",
       "        -5.87732224e+00, -3.91562304e+00, -1.95330096e+00,\n",
       "         7.02040448e-03,  1.96737744e+00,  3.93181664e+00,\n",
       "         5.89334784e+00,  7.85594560e+00,  9.81733312e+00,\n",
       "         1.17789408e+01],\n",
       "       [-1.17756816e+01, -9.81827136e+00, -7.85777472e+00,\n",
       "        -5.89618880e+00, -3.93526432e+00, -1.97313712e+00,\n",
       "        -1.07566776e-02,  1.95030448e+00,  3.91161728e+00,\n",
       "         5.87174272e+00,  7.83388416e+00,  9.79482816e+00,\n",
       "         1.17557608e+01],\n",
       "       [ 0.00000000e+00,  0.00000000e+00,  0.00000000e+00,\n",
       "         0.00000000e+00,  0.00000000e+00,  0.00000000e+00,\n",
       "         0.00000000e+00,  0.00000000e+00,  0.00000000e+00,\n",
       "         0.00000000e+00,  0.00000000e+00,  0.00000000e+00,\n",
       "         0.00000000e+00],\n",
       "       [-1.17675768e+01, -9.80838080e+00, -7.84676288e+00,\n",
       "        -5.88433664e+00, -3.92250464e+00, -1.95600544e+00,\n",
       "         1.90456464e-03,  1.96341072e+00,  3.92599776e+00,\n",
       "         5.88765696e+00,  7.69263232e+00,  9.81184576e+00,\n",
       "         1.17735224e+01],\n",
       "       [-1.17521728e+01, -9.79276160e+00, -7.83153536e+00,\n",
       "        -5.86933696e+00, -3.90794880e+00, -1.94533472e+00,\n",
       "         1.63022752e-02,  1.97779216e+00,  3.94033504e+00,\n",
       "         5.90177600e+00,  7.86428992e+00,  9.82566528e+00,\n",
       "         1.17876760e+01],\n",
       "       [-1.16896400e+01, -9.72096320e+00, -7.77024896e+00,\n",
       "        -5.80761344e+00, -3.84629728e+00, -1.88344544e+00,\n",
       "         7.80188352e-02,  2.03919296e+00,  4.00200640e+00,\n",
       "         5.96356736e+00,  7.92588352e+00,  9.88886848e+00,\n",
       "         1.18488664e+01],\n",
       "       [-1.17773648e+01, -9.82463168e+00, -7.86420160e+00,\n",
       "        -5.90187968e+00, -3.94118432e+00, -1.97929072e+00,\n",
       "        -1.58611696e-02,  1.94525440e+00,  3.90528608e+00,\n",
       "         5.86651904e+00,  7.83131584e+00,  9.79191104e+00,\n",
       "         1.17513360e+01],\n",
       "       [-1.17648128e+01, -9.80667328e+00, -7.84551360e+00,\n",
       "        -5.88296704e+00, -3.92149184e+00, -1.95887440e+00,\n",
       "         2.88715648e-03,  1.96412608e+00,  3.92651680e+00,\n",
       "         5.88824768e+00,  7.85062656e+00,  9.81209536e+00,\n",
       "         1.17740248e+01],\n",
       "       [-1.17846488e+01, -9.82701376e+00, -7.86624576e+00,\n",
       "        -5.90435968e+00, -3.94312544e+00, -1.98089552e+00,\n",
       "        -1.93632320e-02,  1.94170064e+00,  3.90332800e+00,\n",
       "         5.86441408e+00,  7.82696832e+00,  9.78761792e+00,\n",
       "         1.17491856e+01],\n",
       "       [-1.17751576e+01, -9.81623936e+00, -7.85496960e+00,\n",
       "        -5.89222080e+00, -3.93072032e+00, -1.96952368e+00,\n",
       "        -9.04711808e-03,  1.95548832e+00,  3.91265792e+00,\n",
       "         5.87890752e+00,  7.84159680e+00,  9.80335552e+00,\n",
       "         1.17651280e+01],\n",
       "       [-1.17741368e+01, -9.81499008e+00, -7.85309632e+00,\n",
       "        -5.89150400e+00, -3.93029440e+00, -1.96804992e+00,\n",
       "        -6.44978048e-03,  1.95465760e+00,  3.91676672e+00,\n",
       "         5.87761792e+00,  7.84038208e+00,  9.80146432e+00,\n",
       "         1.17554096e+01],\n",
       "       [-1.17024448e+01, -9.74197696e+00, -7.78044672e+00,\n",
       "        -5.81597056e+00, -3.85526944e+00, -1.89234448e+00,\n",
       "         6.98238272e-02,  2.03180864e+00,  3.99479584e+00,\n",
       "         5.95018368e+00,  7.91972736e+00,  9.88170560e+00,\n",
       "         1.18350552e+01],\n",
       "       [-1.17320984e+01, -9.77466944e+00, -7.80640896e+00,\n",
       "        -5.84422528e+00, -3.88883680e+00, -1.92560768e+00,\n",
       "         3.64339552e-02,  1.99853328e+00,  3.96279168e+00,\n",
       "         5.92251904e+00,  7.88588480e+00,  9.84814144e+00,\n",
       "         1.18096632e+01],\n",
       "       [-1.17628944e+01, -9.80498112e+00, -7.83889984e+00,\n",
       "        -5.88028480e+00, -3.91833280e+00, -1.95541936e+00,\n",
       "         6.88370752e-03,  1.96877136e+00,  3.93180992e+00,\n",
       "         5.89368576e+00,  7.85689728e+00,  9.81895168e+00,\n",
       "         1.17808544e+01],\n",
       "       [ 0.00000000e+00,  0.00000000e+00,  0.00000000e+00,\n",
       "         0.00000000e+00,  0.00000000e+00,  0.00000000e+00,\n",
       "         0.00000000e+00,  0.00000000e+00,  0.00000000e+00,\n",
       "         0.00000000e+00,  0.00000000e+00,  0.00000000e+00,\n",
       "         0.00000000e+00],\n",
       "       [ 0.00000000e+00,  0.00000000e+00,  0.00000000e+00,\n",
       "         0.00000000e+00,  0.00000000e+00,  0.00000000e+00,\n",
       "         0.00000000e+00,  0.00000000e+00,  0.00000000e+00,\n",
       "         0.00000000e+00,  0.00000000e+00,  0.00000000e+00,\n",
       "         0.00000000e+00],\n",
       "       [ 0.00000000e+00,  0.00000000e+00,  0.00000000e+00,\n",
       "         0.00000000e+00,  0.00000000e+00,  0.00000000e+00,\n",
       "         0.00000000e+00,  0.00000000e+00,  0.00000000e+00,\n",
       "         0.00000000e+00,  0.00000000e+00,  0.00000000e+00,\n",
       "         0.00000000e+00],\n",
       "       [ 0.00000000e+00,  0.00000000e+00,  0.00000000e+00,\n",
       "         0.00000000e+00,  0.00000000e+00,  0.00000000e+00,\n",
       "         0.00000000e+00,  0.00000000e+00,  0.00000000e+00,\n",
       "         0.00000000e+00,  0.00000000e+00,  0.00000000e+00,\n",
       "         0.00000000e+00],\n",
       "       [ 0.00000000e+00,  0.00000000e+00,  0.00000000e+00,\n",
       "         0.00000000e+00,  0.00000000e+00,  0.00000000e+00,\n",
       "         0.00000000e+00,  0.00000000e+00,  0.00000000e+00,\n",
       "         0.00000000e+00,  0.00000000e+00,  0.00000000e+00,\n",
       "         0.00000000e+00],\n",
       "       [ 0.00000000e+00,  0.00000000e+00,  0.00000000e+00,\n",
       "         0.00000000e+00,  0.00000000e+00,  0.00000000e+00,\n",
       "         0.00000000e+00,  0.00000000e+00,  0.00000000e+00,\n",
       "         0.00000000e+00,  0.00000000e+00,  0.00000000e+00,\n",
       "         0.00000000e+00]])"
      ]
     },
     "execution_count": 149,
     "metadata": {},
     "output_type": "execute_result"
    }
   ],
   "source": [
    "volt_measure"
   ]
  },
  {
   "cell_type": "code",
   "execution_count": 176,
   "id": "677c8e78",
   "metadata": {},
   "outputs": [
    {
     "name": "stdout",
     "output_type": "stream",
     "text": [
      "3.923927238681317\n",
      "0.06447776541538516\n"
     ]
    },
    {
     "data": {
      "text/plain": [
       "<matplotlib.lines.Line2D at 0x72a6fb19a3d0>"
      ]
     },
     "execution_count": 176,
     "metadata": {},
     "output_type": "execute_result"
    },
    {
     "data": {
      "image/png": "[encoded data removed]",
      "text/plain": [
       "<Figure size 640x480 with 1 Axes>"
      ]
     },
     "metadata": {},
     "output_type": "display_data"
    }
   ],
   "source": [
    "i = pin\n",
    "m,b = np.polyfit(volt_set, volt_measure[i], 1)\n",
    "print(m)\n",
    "print(b)\n",
    "plt.plot(volt_set, volt_measure[i], 'yo', volt_set, [m*v+b for v in volt_set], '--k',label=i)\n",
    "#         plt.legend()\n",
    "\n",
    "# plt.xlim(-0.01,0.01)\n",
    "# plt.ylim(-0.01,0.01)\n",
    "plt.axvline(0)\n",
    "plt.axhline(0)"
   ]
  },
  {
   "cell_type": "markdown",
   "id": "3e356409",
   "metadata": {},
   "source": [
    "## Only run this if has individual error, and first run artiq calibration script w/o voltage scan"
   ]
  },
  {
   "cell_type": "code",
   "execution_count": 175,
   "id": "9e350ce7",
   "metadata": {},
   "outputs": [
    {
     "name": "stdout",
     "output_type": "stream",
     "text": [
      "7.91252224\n"
     ]
    }
   ],
   "source": [
    "# pin = 2\n",
    "voltage_set = 2\n",
    "index = volt_set.index(voltage_set)\n",
    "volt = float(keithley.query('MEAS:VOLT:DC?'))\n",
    "print(volt)\n",
    "measured_V = volt\n",
    "volt_measure[pin][index] = measured_V"
   ]
  },
  {
   "cell_type": "code",
   "execution_count": 30,
   "id": "d8be5971",
   "metadata": {
    "collapsed": true,
    "jupyter": {
     "outputs_hidden": true
    },
    "scrolled": true
   },
   "outputs": [
    {
     "data": {
      "text/plain": [
       "array([[  0.        ,   0.        ,   0.        ,   0.        ,\n",
       "          0.        ,   0.        ,   0.        ,   0.        ,\n",
       "          0.        ,   0.        ,   0.        ,   0.        ,\n",
       "          0.        ],\n",
       "       [-11.74948   ,  -9.78986048,  -7.82880704,  -5.8665824 ,\n",
       "         -3.90021664,  -3.75595808,   0.01836819,   1.9796832 ,\n",
       "          3.69202304,   5.9031488 ,   7.86593472,   9.82688512,\n",
       "         11.7881592 ],\n",
       "       [  0.        ,   0.        ,   0.        ,   0.        ,\n",
       "          0.        ,   0.        ,   0.        ,   0.        ,\n",
       "          0.        ,   0.        ,   0.        ,   0.        ,\n",
       "          0.        ],\n",
       "       [  0.        ,   0.        ,   0.        ,   0.        ,\n",
       "          0.        ,   0.        ,   0.        ,   0.        ,\n",
       "          0.        ,   0.        ,   0.        ,   0.        ,\n",
       "          0.        ],\n",
       "       [  0.        ,   0.        ,   0.        ,   0.        ,\n",
       "          0.        ,   0.        ,   0.        ,   0.        ,\n",
       "          0.        ,   0.        ,   0.        ,   0.        ,\n",
       "          0.        ],\n",
       "       [  0.        ,   0.        ,   0.        ,   0.        ,\n",
       "          0.        ,   0.        ,   0.        ,   0.        ,\n",
       "          0.        ,   0.        ,   0.        ,   0.        ,\n",
       "          0.        ],\n",
       "       [  0.        ,   0.        ,   0.        ,   0.        ,\n",
       "          0.        ,   0.        ,   0.        ,   0.        ,\n",
       "          0.        ,   0.        ,   0.        ,   0.        ,\n",
       "          0.        ],\n",
       "       [  0.        ,   0.        ,   0.        ,   0.        ,\n",
       "          0.        ,   0.        ,   0.        ,   0.        ,\n",
       "          0.        ,   0.        ,   0.        ,   0.        ,\n",
       "          0.        ],\n",
       "       [  0.        ,   0.        ,   0.        ,   0.        ,\n",
       "          0.        ,   0.        ,   0.        ,   0.        ,\n",
       "          0.        ,   0.        ,   0.        ,   0.        ,\n",
       "          0.        ],\n",
       "       [  0.        ,   0.        ,   0.        ,   0.        ,\n",
       "          0.        ,   0.        ,   0.        ,   0.        ,\n",
       "          0.        ,   0.        ,   0.        ,   0.        ,\n",
       "          0.        ],\n",
       "       [  0.        ,   0.        ,   0.        ,   0.        ,\n",
       "          0.        ,   0.        ,   0.        ,   0.        ,\n",
       "          0.        ,   0.        ,   0.        ,   0.        ,\n",
       "          0.        ],\n",
       "       [  0.        ,   0.        ,   0.        ,   0.        ,\n",
       "          0.        ,   0.        ,   0.        ,   0.        ,\n",
       "          0.        ,   0.        ,   0.        ,   0.        ,\n",
       "          0.        ],\n",
       "       [  0.        ,   0.        ,   0.        ,   0.        ,\n",
       "          0.        ,   0.        ,   0.        ,   0.        ,\n",
       "          0.        ,   0.        ,   0.        ,   0.        ,\n",
       "          0.        ],\n",
       "       [  0.        ,   0.        ,   0.        ,   0.        ,\n",
       "          0.        ,   0.        ,   0.        ,   0.        ,\n",
       "          0.        ,   0.        ,   0.        ,   0.        ,\n",
       "          0.        ],\n",
       "       [  0.        ,   0.        ,   0.        ,   0.        ,\n",
       "          0.        ,   0.        ,   0.        ,   0.        ,\n",
       "          0.        ,   0.        ,   0.        ,   0.        ,\n",
       "          0.        ],\n",
       "       [  0.        ,   0.        ,   0.        ,   0.        ,\n",
       "          0.        ,   0.        ,   0.        ,   0.        ,\n",
       "          0.        ,   0.        ,   0.        ,   0.        ,\n",
       "          0.        ],\n",
       "       [  0.        ,   0.        ,   0.        ,   0.        ,\n",
       "          0.        ,   0.        ,   0.        ,   0.        ,\n",
       "          0.        ,   0.        ,   0.        ,   0.        ,\n",
       "          0.        ],\n",
       "       [  0.        ,   0.        ,   0.        ,   0.        ,\n",
       "          0.        ,   0.        ,   0.        ,   0.        ,\n",
       "          0.        ,   0.        ,   0.        ,   0.        ,\n",
       "          0.        ],\n",
       "       [  0.        ,   0.        ,   0.        ,   0.        ,\n",
       "          0.        ,   0.        ,   0.        ,   0.        ,\n",
       "          0.        ,   0.        ,   0.        ,   0.        ,\n",
       "          0.        ],\n",
       "       [  0.        ,   0.        ,   0.        ,   0.        ,\n",
       "          0.        ,   0.        ,   0.        ,   0.        ,\n",
       "          0.        ,   0.        ,   0.        ,   0.        ,\n",
       "          0.        ],\n",
       "       [  0.        ,   0.        ,   0.        ,   0.        ,\n",
       "          0.        ,   0.        ,   0.        ,   0.        ,\n",
       "          0.        ,   0.        ,   0.        ,   0.        ,\n",
       "          0.        ],\n",
       "       [  0.        ,   0.        ,   0.        ,   0.        ,\n",
       "          0.        ,   0.        ,   0.        ,   0.        ,\n",
       "          0.        ,   0.        ,   0.        ,   0.        ,\n",
       "          0.        ],\n",
       "       [  0.        ,   0.        ,   0.        ,   0.        ,\n",
       "          0.        ,   0.        ,   0.        ,   0.        ,\n",
       "          0.        ,   0.        ,   0.        ,   0.        ,\n",
       "          0.        ],\n",
       "       [  0.        ,   0.        ,   0.        ,   0.        ,\n",
       "          0.        ,   0.        ,   0.        ,   0.        ,\n",
       "          0.        ,   0.        ,   0.        ,   0.        ,\n",
       "          0.        ],\n",
       "       [  0.        ,   0.        ,   0.        ,   0.        ,\n",
       "          0.        ,   0.        ,   0.        ,   0.        ,\n",
       "          0.        ,   0.        ,   0.        ,   0.        ,\n",
       "          0.        ],\n",
       "       [  0.        ,   0.        ,   0.        ,   0.        ,\n",
       "          0.        ,   0.        ,   0.        ,   0.        ,\n",
       "          0.        ,   0.        ,   0.        ,   0.        ,\n",
       "          0.        ],\n",
       "       [  0.        ,   0.        ,   0.        ,   0.        ,\n",
       "          0.        ,   0.        ,   0.        ,   0.        ,\n",
       "          0.        ,   0.        ,   0.        ,   0.        ,\n",
       "          0.        ],\n",
       "       [  0.        ,   0.        ,   0.        ,   0.        ,\n",
       "          0.        ,   0.        ,   0.        ,   0.        ,\n",
       "          0.        ,   0.        ,   0.        ,   0.        ,\n",
       "          0.        ],\n",
       "       [  0.        ,   0.        ,   0.        ,   0.        ,\n",
       "          0.        ,   0.        ,   0.        ,   0.        ,\n",
       "          0.        ,   0.        ,   0.        ,   0.        ,\n",
       "          0.        ],\n",
       "       [  0.        ,   0.        ,   0.        ,   0.        ,\n",
       "          0.        ,   0.        ,   0.        ,   0.        ,\n",
       "          0.        ,   0.        ,   0.        ,   0.        ,\n",
       "          0.        ],\n",
       "       [  0.        ,   0.        ,   0.        ,   0.        ,\n",
       "          0.        ,   0.        ,   0.        ,   0.        ,\n",
       "          0.        ,   0.        ,   0.        ,   0.        ,\n",
       "          0.        ],\n",
       "       [  0.        ,   0.        ,   0.        ,   0.        ,\n",
       "          0.        ,   0.        ,   0.        ,   0.        ,\n",
       "          0.        ,   0.        ,   0.        ,   0.        ,\n",
       "          0.        ]])"
      ]
     },
     "execution_count": 30,
     "metadata": {},
     "output_type": "execute_result"
    }
   ],
   "source": [
    "volt_measure"
   ]
  },
  {
   "cell_type": "markdown",
   "id": "a4d972ab",
   "metadata": {},
   "source": [
    "## Data processing"
   ]
  },
  {
   "cell_type": "code",
   "execution_count": 146,
   "id": "ba5ea99b",
   "metadata": {},
   "outputs": [],
   "source": [
    "slope = np.ones(number_of_pins)\n",
    "y0 = np.zeros(number_of_pins)\n",
    "calibrated_pins = [7, 17, 1, 2, 15, 12, 25, 23, 8, 16, 19, 4, 6, 18, 10, 24, 22, 21, 13, 20, 11]"
   ]
  },
  {
   "cell_type": "code",
   "execution_count": 147,
   "id": "f8f23b6a",
   "metadata": {},
   "outputs": [
    {
     "data": {
      "text/plain": [
       "array([1., 1., 1., 1., 1., 1., 1., 1., 1., 1., 1., 1., 1., 1., 1., 1., 1.,\n",
       "       1., 1., 1., 1., 1., 1., 1., 1., 1., 1., 1., 1., 1., 1., 1.])"
      ]
     },
     "execution_count": 147,
     "metadata": {},
     "output_type": "execute_result"
    }
   ],
   "source": [
    "slope"
   ]
  },
  {
   "cell_type": "code",
   "execution_count": 177,
   "id": "fccd8681",
   "metadata": {},
   "outputs": [
    {
     "data": {
      "text/plain": [
       "array([[ 0.00000000e+00,  2.01741433e-02,  1.77115697e-02,\n",
       "         0.00000000e+00,  4.98113957e-02,  0.00000000e+00,\n",
       "         2.79283360e-02,  3.89202786e-04, -2.38795791e-04,\n",
       "         0.00000000e+00, -1.35535924e-02, -1.49568102e-02,\n",
       "         7.96655419e-03, -1.14566921e-02,  0.00000000e+00,\n",
       "        -9.89205503e-03,  1.65189566e-02,  7.90919719e-02,\n",
       "        -1.63685823e-02,  2.93780588e-03, -1.94182794e-02,\n",
       "        -6.98033831e-03, -7.09408158e-03,  6.44777654e-02,\n",
       "         3.78554489e-02,  7.46475289e-03,  0.00000000e+00,\n",
       "         0.00000000e+00,  0.00000000e+00,  0.00000000e+00,\n",
       "         0.00000000e+00,  0.00000000e+00],\n",
       "       [ 1.00000000e+00,  3.92405343e+00,  3.50891903e+00,\n",
       "         1.00000000e+00,  3.92203426e+00,  1.00000000e+00,\n",
       "         3.92179051e+00,  3.92195172e+00,  3.92321577e+00,\n",
       "         1.00000000e+00,  3.92418316e+00,  3.92330356e+00,\n",
       "         3.92356233e+00,  3.92243722e+00,  1.00000000e+00,\n",
       "         3.91689792e+00,  3.92359958e+00,  3.92304961e+00,\n",
       "         3.92263374e+00,  3.92356144e+00,  3.92275654e+00,\n",
       "         3.92363854e+00,  3.92261164e+00,  3.92392724e+00,\n",
       "         3.92375198e+00,  3.92430476e+00,  1.00000000e+00,\n",
       "         1.00000000e+00,  1.00000000e+00,  1.00000000e+00,\n",
       "         1.00000000e+00,  1.00000000e+00]])"
      ]
     },
     "execution_count": 177,
     "metadata": {},
     "output_type": "execute_result"
    },
    {
     "data": {
      "image/png": "[encoded data removed]",
      "text/plain": [
       "<Figure size 640x480 with 1 Axes>"
      ]
     },
     "metadata": {},
     "output_type": "display_data"
    }
   ],
   "source": [
    "# slope = []\n",
    "# y0 = []\n",
    "for i,pin in enumerate(calibrated_pins):\n",
    "    m,b = np.polyfit(volt_set, volt_measure[pin], 1)\n",
    "    slope[pin] = m\n",
    "    y0[pin] = b\n",
    "    plt.plot(volt_set, volt_measure[pin], 'yo', volt_set, [m*v+b for v in volt_set], '--k',label=pin)\n",
    "#         plt.legend()\n",
    "\n",
    "# plt.xlim(-0.01,0.01)\n",
    "# plt.ylim(-0.01,0.01)\n",
    "plt.axvline(0)\n",
    "plt.axhline(0)\n",
    "\n",
    "fits = np.array([y0,slope])\n",
    "np.savetxt('zotino_calibration_3layer_smaller_spacer_with_amp_1Mcorrection2.txt',fits)\n",
    "fits"
   ]
  },
  {
   "cell_type": "markdown",
   "id": "938a22e8",
   "metadata": {},
   "source": [
    "# Test reading file"
   ]
  },
  {
   "cell_type": "code",
   "execution_count": 166,
   "id": "3c747596",
   "metadata": {},
   "outputs": [
    {
     "data": {
      "text/plain": [
       "array([[ 0.00000000e+00,  2.01741433e-02, -2.72211532e-02,\n",
       "         0.00000000e+00,  4.98113957e-02,  0.00000000e+00,\n",
       "         2.79283360e-02,  3.89202786e-04, -2.38795791e-04,\n",
       "         0.00000000e+00, -1.35535924e-02, -1.49568102e-02,\n",
       "         7.96655419e-03, -1.14566921e-02,  0.00000000e+00,\n",
       "        -9.89205503e-03,  1.65189566e-02,  7.90919719e-02,\n",
       "        -1.63685823e-02,  2.93780588e-03, -1.94182794e-02,\n",
       "        -6.98033831e-03, -7.09408158e-03, -4.67510774e-02,\n",
       "         3.78554489e-02,  7.46475289e-03,  0.00000000e+00,\n",
       "         0.00000000e+00,  0.00000000e+00,  0.00000000e+00,\n",
       "         0.00000000e+00,  0.00000000e+00],\n",
       "       [ 1.00000000e+00,  3.92405343e+00,  3.50885124e+00,\n",
       "         1.00000000e+00,  3.92203426e+00,  1.00000000e+00,\n",
       "         3.92179051e+00,  3.92195172e+00,  3.92321577e+00,\n",
       "         1.00000000e+00,  3.92418316e+00,  3.92330356e+00,\n",
       "         3.92356233e+00,  3.92243722e+00,  1.00000000e+00,\n",
       "         3.91689792e+00,  3.92359958e+00,  3.92304961e+00,\n",
       "         3.92263374e+00,  3.92356144e+00,  3.92275654e+00,\n",
       "         3.92363854e+00,  3.92261164e+00,  3.92422534e+00,\n",
       "         3.92375198e+00,  3.92430476e+00,  1.00000000e+00,\n",
       "         1.00000000e+00,  1.00000000e+00,  1.00000000e+00,\n",
       "         1.00000000e+00,  1.00000000e+00]])"
      ]
     },
     "execution_count": 166,
     "metadata": {},
     "output_type": "execute_result"
    }
   ],
   "source": [
    "f = 'zotino_calibration_3layer_smaller_spacer_with_amp_1Mcorrection.txt'\n",
    "tmp = np.loadtxt(f)\n",
    "tmp\n",
    "tmp\n",
    "# offset = np.zeros((tmp.shape[0],tmp.shape[1]+1))\n",
    "# for i in range(tmp.shape[0]):\n",
    "#     a = np.append(tmp[i],tmp[i][-1])\n",
    "#     offset[i] = a\n",
    "# self.dac_calibration_fit = offset"
   ]
  },
  {
   "cell_type": "code",
   "execution_count": 105,
   "id": "92a64815",
   "metadata": {},
   "outputs": [],
   "source": [
    "f = open('Cfile_3layer.txt','r')\n",
    "# create list of lines from selected textfile\n",
    "list_of_lists = []\n",
    "for line in f:\n",
    "    stripped_line = line.strip()\n",
    "    line_list = stripped_line.split()\n",
    "    list_of_lists.append(float(line_list[0]))\n",
    "#     print(line_list)"
   ]
  },
  {
   "cell_type": "code",
   "execution_count": null,
   "id": "4611e209",
   "metadata": {},
   "outputs": [],
   "source": []
  }
 ],
 "metadata": {
  "kernelspec": {
   "display_name": "artiq",
   "language": "python",
   "name": "artiq"
  },
  "language_info": {
   "codemirror_mode": {
    "name": "ipython",
    "version": 3
   },
   "file_extension": ".py",
   "mimetype": "text/x-python",
   "name": "python",
   "nbconvert_exporter": "python",
   "pygments_lexer": "ipython3",
   "version": "3.8.20"
  }
 },
 "nbformat": 4,
 "nbformat_minor": 5
}
