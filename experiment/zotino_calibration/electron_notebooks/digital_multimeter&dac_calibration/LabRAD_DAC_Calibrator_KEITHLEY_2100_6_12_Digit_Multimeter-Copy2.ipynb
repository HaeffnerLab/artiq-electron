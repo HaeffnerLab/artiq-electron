{
 "cells": [
  {
   "cell_type": "code",
   "execution_count": 1,
   "metadata": {},
   "outputs": [],
   "source": [
    "import os\n",
    "import numpy as np\n",
    "import matplotlib.pyplot as plt\n",
    "%matplotlib inline\n",
    "# import oskar\n",
    "# scripts = oskar.Scripts()\n",
    "import numpy as np\n",
    "import numpy\n",
    "import matplotlib.pyplot as plot\n",
    "import sys\n",
    "import pickle as pkl\n",
    "# import visa\n",
    "import pyvisa as visa\n",
    "import datetime\n",
    "from scipy.optimize import curve_fit\n",
    "from collections import defaultdict\n",
    "from scipy.stats import kurtosis, skew\n",
    "import pandas as pd\n",
    "# import xarray as xr\n",
    "from collections import OrderedDict\n",
    "from pathlib import Path\n",
    "import fnmatch\n",
    "import time"
   ]
  },
  {
   "cell_type": "markdown",
   "metadata": {},
   "source": [
    "## Connect the GPIB - usb cable to electron PC, then run this script together with the artiq zotino_calibrator script"
   ]
  },
  {
   "cell_type": "code",
   "execution_count": 2,
   "metadata": {},
   "outputs": [],
   "source": [
    "# interval_in_ms = 500\n",
    "# count = 1\n",
    "# number_of_pins = 32\n",
    "# volt_set = np.arange(-6.5,7,0.5)\n",
    "# number_of_datapoints = len(volt_set)\n",
    "# volt_measure = np.zeros((number_of_pins,number_of_datapoints))\n",
    "# volt_set"
   ]
  },
  {
   "cell_type": "markdown",
   "metadata": {},
   "source": [
    "# Connect to multimeter"
   ]
  },
  {
   "cell_type": "markdown",
   "metadata": {},
   "source": [
    "## if it doesn't show up in the list_resources, try lsusb in command, if it appear in lsusb, install pyusb"
   ]
  },
  {
   "cell_type": "code",
   "execution_count": 3,
   "metadata": {
    "scrolled": true
   },
   "outputs": [],
   "source": [
    "# rm = visa.ResourceManager('@py')\n",
    "rm = visa.ResourceManager()\n",
    "instruments = rm.list_resources()\n",
    "usb = list(filter(lambda x: 'USB' in x, instruments))\n",
    "\n",
    "if len(usb) != 1:\n",
    "    print('Bad instrument list', instruments)\n",
    "    sys.exit(-1)\n",
    "keithley = rm.open_resource(usb[0])"
   ]
  },
  {
   "cell_type": "code",
   "execution_count": 4,
   "metadata": {},
   "outputs": [],
   "source": [
    "rm = visa.ResourceManager()\n",
    "# rm.open_resource('USB0::25::INSTR')"
   ]
  },
  {
   "cell_type": "code",
   "execution_count": 5,
   "metadata": {},
   "outputs": [
    {
     "data": {
      "text/plain": [
       "(u'USB0::1510::8448::1243106::0::INSTR',)"
      ]
     },
     "execution_count": 5,
     "metadata": {},
     "output_type": "execute_result"
    }
   ],
   "source": [
    "instruments"
   ]
  },
  {
   "cell_type": "code",
   "execution_count": 6,
   "metadata": {},
   "outputs": [
    {
     "data": {
      "text/plain": [
       "0.997409152"
      ]
     },
     "execution_count": 6,
     "metadata": {},
     "output_type": "execute_result"
    }
   ],
   "source": [
    "volt = float(keithley.query('MEAS:VOLT:DC?'))\n",
    "volt"
   ]
  },
  {
   "cell_type": "markdown",
   "metadata": {},
   "source": [
    "# Connect to labrad dataserver"
   ]
  },
  {
   "cell_type": "markdown",
   "metadata": {},
   "source": [
    "## Start labrad server on pc and turn on dacserver and datavault server (in command line or in webpage)"
   ]
  },
  {
   "cell_type": "code",
   "execution_count": 8,
   "metadata": {},
   "outputs": [],
   "source": [
    "import labrad\n",
    "cxn = labrad.connect()\n",
    "dacserver = cxn.dac_server\n",
    "datavault = cxn.data_vault\n",
    "registry = cxn.registry"
   ]
  },
  {
   "cell_type": "code",
   "execution_count": 40,
   "metadata": {},
   "outputs": [
    {
     "name": "stdout",
     "output_type": "stream",
     "text": [
      "[12177, 12212, 12563, 12678, 12890, 13056, 13332, 13471, 13786, 13810, 14018, 14309, 14487, 14733, 14892, 15010, 15292, 15463, 15621, 15972, 16112, 16221, 16461, 16673, 16938, 17089, 17390, 17411, 17732, 17863, 18100, 18334, 18558, 18664, 18823, 19094, 19302, 19554, 19793, 19822, 20007, 20389, 20447, 20609, 20957, 21010, 21357, 21589, 21760, 21806, 22090, 22395, 22487, 22712, 22851, 23096, 23268, 23540, 23794, 23839, 24114, 24357, 24428, 24794, 24978, 25136, 25299, 25402, 25774, 25984, 26013, 26372, 26571, 26698, 26913, 27041, 27319, 27475, 27746, 27958, 28128, 28242, 28537, 28760, 28880, 29000, 29373, 29502, 29718, 29821, 30091, 30377, 30556, 30661, 30812, 31179, 31345, 31443, 31689, 31907, 32083, 32382, 32496, 32718, 32912, 33164, 33375, 33531, 33751, 33964, 34096, 34376, 34568, 34652, 34829, 35048, 35251, 35505, 35614, 35823, 36084, 36350, 36552, 36772, 36804, 37064, 37394, 37519, 37740, 37822, 38088, 38305, 38437, 38686, 38861, 39057, 39395, 39435, 39635, 39941, 40068, 40306, 40587, 40685, 40927, 41071, 41377, 41455, 41687, 41971, 42129, 42387, 42423, 42665, 42937, 43189, 43218, 43400, 43662, 43916, 44054, 44307, 44573, 44645, 44832, 45117, 45229, 45513, 45671, 45819, 46198, 46366, 46590, 46722, 46866, 47035, 47294, 47505, 47606, 47938, 48077, 48273, 48532, 48787, 48946, 49126, 49259, 49497, 49662, 49853, 50019, 50333, 50453, 50745, 50947, 51027, 51204, 51452, 51713, 51835]\n"
     ]
    }
   ],
   "source": [
    "from random import randrange as r\n",
    "\n",
    "stepsize = 200\n",
    "#numSteps = (58500-7000)/stepsize\n",
    "# numSteps = (-28907+36625)/stepsize # -5V to +5V       \n",
    "\n",
    "# digVoltages = [ 28907 + r(0, stepsize) + i*stepsize for i in  range(numSteps)]\n",
    "\n",
    "numSteps = (52000-12000)/stepsize        # -28V to +28V\n",
    "\n",
    "digVoltages = [ 12000 + r(0, stepsize) + i*stepsize for i in  range(numSteps)]\n",
    "\n",
    "channelToCalib = 'tr1' # trapElectrodeNumber in DacConfiguration\n",
    "print(digVoltages)"
   ]
  },
  {
   "cell_type": "code",
   "execution_count": 41,
   "metadata": {},
   "outputs": [
    {
     "name": "stdout",
     "output_type": "stream",
     "text": [
      "tr1\n"
     ]
    }
   ],
   "source": [
    "print((str(channelToCalib).zfill(2)))"
   ]
  },
  {
   "cell_type": "code",
   "execution_count": 43,
   "metadata": {},
   "outputs": [
    {
     "name": "stdout",
     "output_type": "stream",
     "text": [
      "10.013292\n"
     ]
    }
   ],
   "source": [
    "print(float(keithley.query('MEAS:VOLT:DC?')))"
   ]
  },
  {
   "cell_type": "code",
   "execution_count": 44,
   "metadata": {},
   "outputs": [],
   "source": [
    "dacserver.set_individual_digital_voltages([(str(channelToCalib).zfill(2), 1)]) #low\n",
    "#dacserver.set_individual_digital_voltages([(str(channelToCalib).zfill(2), 51631)]) #high"
   ]
  },
  {
   "cell_type": "code",
   "execution_count": 45,
   "metadata": {},
   "outputs": [
    {
     "name": "stdout",
     "output_type": "stream",
     "text": [
      "-27.3643872\n"
     ]
    }
   ],
   "source": [
    "print(float(keithley.query('MEAS:VOLT:DC?')))"
   ]
  },
  {
   "cell_type": "code",
   "execution_count": 47,
   "metadata": {},
   "outputs": [],
   "source": [
    "import datetime\n",
    "now = datetime.datetime.now()\n",
    "date = now.strftime(\"%Y%m%d\")\n",
    "TIME = now.strftime('%H%M%S')      \n",
    "\n",
    "datavault.cd(['', date, 'Calibrations',str(channelToCalib) + TIME], True)\n",
    "datavault.new(str(channelToCalib) + TIME,[('digital', '')], [('Analog', 'Volts', 'Volts')])\n",
    "datavault.add_parameter('plotLive',True)"
   ]
  },
  {
   "cell_type": "code",
   "execution_count": 48,
   "metadata": {},
   "outputs": [
    {
     "name": "stdout",
     "output_type": "stream",
     "text": [
      "12177 ;  -27.2661664\n",
      "12212 ;  -27.2277472\n",
      "12563 ;  -26.7661424\n",
      "12678 ;  -26.6065696\n",
      "12890 ;  -26.3284608\n",
      "13056 ;  -26.1089536\n",
      "13332 ;  -25.745072\n",
      "13471 ;  -25.561472\n",
      "13786 ;  -25.1453024\n",
      "13810 ;  -25.1128304\n",
      "14018 ;  -24.83652\n",
      "14309 ;  -24.4515584\n",
      "14487 ;  -24.2157856\n",
      "14733 ;  -23.8898512\n",
      "14892 ;  -23.6788544\n",
      "15010 ;  -23.5212704\n",
      "15292 ;  -23.1482336\n",
      "15463 ;  -22.9215184\n",
      "15621 ;  -22.71352\n",
      "15972 ;  -22.2496064\n",
      "16112 ;  -22.0644672\n",
      "16221 ;  -21.9215872\n",
      "16461 ;  -21.605104\n",
      "16673 ;  -21.3253664\n",
      "16938 ;  -20.9749904\n",
      "17089 ;  -20.7749312\n",
      "17390 ;  -20.3780672\n",
      "17411 ;  -20.3501856\n",
      "17732 ;  -19.9263232\n",
      "17863 ;  -19.7527104\n",
      "18100 ;  -19.4397472\n",
      "18334 ;  -19.1309392\n",
      "18558 ;  -18.8352304\n",
      "18664 ;  -18.694664\n",
      "18823 ;  -18.4849152\n",
      "19094 ;  -18.1266592\n",
      "19302 ;  -17.8517952\n",
      "19554 ;  -17.5189568\n",
      "19793 ;  -17.2034832\n",
      "19822 ;  -17.164336\n",
      "20007 ;  -16.919256\n",
      "20389 ;  -16.4143968\n",
      "20447 ;  -16.3370368\n",
      "20609 ;  -16.1219808\n",
      "20957 ;  -15.6629312\n",
      "21010 ;  -15.5931728\n",
      "21357 ;  -15.135008\n",
      "21589 ;  -14.8291568\n",
      "21760 ;  -14.6038992\n",
      "21806 ;  -14.5432144\n",
      "22090 ;  -14.1678224\n",
      "22395 ;  -13.7653808\n",
      "22487 ;  -13.6436384\n",
      "22712 ;  -13.3469368\n",
      "22851 ;  -13.1630432\n",
      "23096 ;  -12.8399376\n",
      "23268 ;  -12.6124888\n",
      "23540 ;  -12.2536752\n",
      "23794 ;  -11.918976\n",
      "23839 ;  -11.8601256\n",
      "24114 ;  -11.4970808\n",
      "24357 ;  -11.1766224\n",
      "24428 ;  -11.0831072\n",
      "24794 ;  -10.6000456\n",
      "24978 ;  -10.3576304\n",
      "25136 ;  -10.1490056\n",
      "25299 ;  -9.93398784\n",
      "25402 ;  -9.79963008\n",
      "25774 ;  -9.30855872\n",
      "25984 ;  -9.0311872\n",
      "26013 ;  -8.99344128\n",
      "26372 ;  -8.5190656\n",
      "26571 ;  -8.2558432\n",
      "26698 ;  -8.08863936\n",
      "26913 ;  -7.80460224\n",
      "27041 ;  -7.6353216\n",
      "27319 ;  -7.26907008\n",
      "27475 ;  -7.06304576\n",
      "27746 ;  -6.7049056\n",
      "27958 ;  -6.42546176\n",
      "28128 ;  -6.20007616\n",
      "28242 ;  -6.04928448\n",
      "28537 ;  -5.65984512\n",
      "28760 ;  -5.36510464\n",
      "28880 ;  -5.20615712\n",
      "29000 ;  -5.0478144\n",
      "29373 ;  -4.55506624\n",
      "29502 ;  -4.3849024\n",
      "29718 ;  -4.09964576\n",
      "29821 ;  -3.96364096\n",
      "30091 ;  -3.60688256\n",
      "30377 ;  -3.22887136\n",
      "30556 ;  -2.99271008\n",
      "30661 ;  -2.85357888\n",
      "30812 ;  -2.65463072\n",
      "31179 ;  -2.16972544\n",
      "31345 ;  -1.95035936\n",
      "31443 ;  -1.82047184\n",
      "31689 ;  -1.49543408\n",
      "31907 ;  -1.2076652\n",
      "32083 ;  -0.975036416\n",
      "32382 ;  -0.580279232\n",
      "32496 ;  -0.42913376\n",
      "32718 ;  -0.135840304\n",
      "32912 ;  0.119981752\n",
      "33164 ;  0.45284608\n",
      "33375 ;  0.731778432\n",
      "33531 ;  0.93814464\n",
      "33751 ;  1.22854256\n",
      "33964 ;  1.51030672\n",
      "34096 ;  1.6845056\n",
      "34376 ;  2.05499856\n",
      "34568 ;  2.30843504\n",
      "34652 ;  2.41954544\n",
      "34829 ;  2.6532552\n",
      "35048 ;  2.94304064\n",
      "35251 ;  3.21103008\n",
      "35505 ;  3.54702528\n",
      "35614 ;  3.69084672\n",
      "35823 ;  3.96743328\n",
      "36084 ;  4.31179328\n",
      "36350 ;  4.66313728\n",
      "36552 ;  4.9307008\n",
      "36772 ;  5.2218384\n",
      "36804 ;  5.2655488\n",
      "37064 ;  5.61038208\n",
      "37394 ;  6.04460416\n",
      "37519 ;  6.20704512\n",
      "37740 ;  6.49777472\n",
      "37822 ;  6.6058656\n",
      "38088 ;  6.95744384\n",
      "38305 ;  7.2440576\n",
      "38437 ;  7.4187872\n",
      "38686 ;  7.74741952\n",
      "38861 ;  7.97952512\n",
      "39057 ;  8.23906112\n",
      "39395 ;  8.68572736\n",
      "39435 ;  8.74308608\n",
      "39635 ;  9.01022912\n",
      "39941 ;  9.41515648\n",
      "40068 ;  9.58400064\n",
      "40306 ;  9.89861312\n",
      "40587 ;  10.271072\n",
      "40685 ;  10.4024728\n",
      "40927 ;  10.7226856\n",
      "41071 ;  10.913476\n",
      "41377 ;  11.3182672\n",
      "41455 ;  11.421808\n",
      "41687 ;  11.729064\n",
      "41971 ;  12.1038576\n",
      "42129 ;  12.312876\n",
      "42387 ;  12.6536656\n",
      "42423 ;  12.7016888\n",
      "42665 ;  13.0224296\n",
      "42937 ;  13.3821528\n",
      "43189 ;  13.71532\n",
      "43218 ;  13.7544736\n",
      "43400 ;  13.9951376\n",
      "43662 ;  14.3416832\n",
      "43916 ;  14.6769872\n",
      "44054 ;  14.8585216\n",
      "44307 ;  15.1919568\n",
      "44573 ;  15.5426064\n",
      "44645 ;  15.6377088\n",
      "44832 ;  15.8855664\n",
      "45117 ;  16.2679344\n",
      "45229 ;  16.4201392\n",
      "45513 ;  16.795856\n",
      "45671 ;  17.006672\n",
      "45819 ;  17.2041584\n",
      "46198 ;  17.7069776\n",
      "46366 ;  17.930016\n",
      "46590 ;  18.2256176\n",
      "46722 ;  18.4021248\n",
      "46866 ;  18.5933328\n",
      "47035 ;  18.818088\n",
      "47294 ;  19.1620688\n",
      "47505 ;  19.4429152\n",
      "47606 ;  19.5778992\n",
      "47938 ;  20.0183696\n",
      "48077 ;  20.203432\n",
      "48273 ;  20.4632016\n",
      "48532 ;  20.8064416\n",
      "48787 ;  21.1450192\n",
      "48946 ;  21.3561904\n",
      "49126 ;  21.5958576\n",
      "49259 ;  21.7725824\n",
      "49497 ;  22.0882544\n",
      "49662 ;  22.307296\n",
      "49853 ;  22.5612832\n",
      "50019 ;  22.7818432\n",
      "50333 ;  23.1982592\n",
      "50453 ;  23.3576016\n",
      "50745 ;  23.7452208\n",
      "50947 ;  24.0139824\n",
      "51027 ;  24.1206672\n",
      "51204 ;  24.3561184\n",
      "51452 ;  24.6853616\n",
      "51713 ;  25.0319344\n",
      "51835 ;  25.1944256\n"
     ]
    }
   ],
   "source": [
    "anaVoltages = [] # corresponding analog voltages in volts\n",
    "dacserver.set_individual_digital_voltages([(str(channelToCalib).zfill(2), digVoltages[0])])\n",
    "time.sleep(.3)\n",
    "for dv in digVoltages: # iterate over digital voltages\n",
    "\n",
    "    dacserver.set_individual_digital_voltages([(str(channelToCalib).zfill(2), dv)]) \n",
    "\n",
    "    time.sleep(3.10)\n",
    "\n",
    "    av = float(keithley.query('MEAS:VOLT:DC?'))\n",
    "    #av = 0\n",
    "\n",
    "    anaVoltages.append(av)\n",
    "    datavault.add(dv, av)\n",
    "    print dv, \"; \", av"
   ]
  },
  {
   "cell_type": "code",
   "execution_count": 49,
   "metadata": {},
   "outputs": [
    {
     "data": {
      "text/plain": [
       "array([-1.79016681e-03, -5.04845852e-02,  7.56975613e+02,  3.28213543e+04])"
      ]
     },
     "execution_count": 49,
     "metadata": {},
     "output_type": "execute_result"
    }
   ],
   "source": [
    "fit = np.polyfit(anaVoltages, digVoltages, 3)\n",
    "c0 = fit[3]\n",
    "c1 = fit[2]\n",
    "c2 = fit[1]\n",
    "c3 = fit[0]\n",
    "fit"
   ]
  },
  {
   "cell_type": "code",
   "execution_count": 50,
   "metadata": {},
   "outputs": [
    {
     "data": {
      "text/plain": [
       "<matplotlib.lines.Line2D at 0x7f310f571810>"
      ]
     },
     "execution_count": 50,
     "metadata": {},
     "output_type": "execute_result"
    },
    {
     "data": {
      "image/png": "[encoded data removed]",
      "text/plain": [
       "<Figure size 432x288 with 1 Axes>"
      ]
     },
     "metadata": {
      "needs_background": "light"
     },
     "output_type": "display_data"
    }
   ],
   "source": [
    "plt.plot(anaVoltages, digVoltages, 'yo', anaVoltages, [c3*av**3+c2*av**2+c1*av+c0 for av in anaVoltages], '--k')\n",
    "plt.axvline(0)\n",
    "# plt.axhline(0)"
   ]
  },
  {
   "cell_type": "code",
   "execution_count": 52,
   "metadata": {},
   "outputs": [],
   "source": [
    "registry.cd(['', 'Servers', 'electronDAC Server', 'Calibrations', str(channelToCalib)], True)\n",
    "registry.set('c0', fit[3])\n",
    "registry.set('c1', fit[2])\n",
    "registry.set('c2', fit[1])\n",
    "registry.set('c3', fit[0])"
   ]
  },
  {
   "cell_type": "markdown",
   "metadata": {},
   "source": [
    "# Rename calibration folder name from trap electrode number to DAC chip number"
   ]
  },
  {
   "cell_type": "code",
   "execution_count": 101,
   "metadata": {},
   "outputs": [],
   "source": [
    "# #dacserver.set_individual_analog_voltages([(str(9).zfill(2), 2)]) \n",
    "# dacserver.set_individual_digital_voltages([(str(channelToCalib).zfill(2), 33532)])\n",
    "# time.sleep(0.50)\n",
    "# float(keithley.query('MEAS:VOLT:DC?'))\n",
    "# float(keithley.query('MEAS:VOLT:DC?'))"
   ]
  },
  {
   "cell_type": "code",
   "execution_count": 10,
   "metadata": {},
   "outputs": [
    {
     "name": "stdout",
     "output_type": "stream",
     "text": [
      "10.0011\n",
      "10.001\n"
     ]
    },
    {
     "ename": "KeyboardInterrupt",
     "evalue": "",
     "output_type": "error",
     "traceback": [
      "\u001b[0;31m---------------------------------------------------------------------------\u001b[0m",
      "\u001b[0;31mKeyboardInterrupt\u001b[0m                         Traceback (most recent call last)",
      "\u001b[0;32m<ipython-input-10-ff32f60491e9>\u001b[0m in \u001b[0;36m<module>\u001b[0;34m()\u001b[0m\n\u001b[1;32m      2\u001b[0m \u001b[0;32mfor\u001b[0m \u001b[0mi\u001b[0m \u001b[0;32min\u001b[0m \u001b[0mrange\u001b[0m\u001b[0;34m(\u001b[0m\u001b[0;36m20\u001b[0m\u001b[0;34m)\u001b[0m\u001b[0;34m:\u001b[0m\u001b[0;34m\u001b[0m\u001b[0m\n\u001b[1;32m      3\u001b[0m     \u001b[0mdacserver\u001b[0m\u001b[0;34m.\u001b[0m\u001b[0mset_individual_analog_voltages\u001b[0m\u001b[0;34m(\u001b[0m\u001b[0;34m[\u001b[0m\u001b[0;34m(\u001b[0m\u001b[0mstr\u001b[0m\u001b[0;34m(\u001b[0m\u001b[0mchannelToCalib\u001b[0m\u001b[0;34m)\u001b[0m\u001b[0;34m.\u001b[0m\u001b[0mzfill\u001b[0m\u001b[0;34m(\u001b[0m\u001b[0;36m2\u001b[0m\u001b[0;34m)\u001b[0m\u001b[0;34m,\u001b[0m \u001b[0;36m10\u001b[0m\u001b[0;34m)\u001b[0m\u001b[0;34m]\u001b[0m\u001b[0;34m)\u001b[0m\u001b[0;34m\u001b[0m\u001b[0m\n\u001b[0;32m----> 4\u001b[0;31m     \u001b[0mtime\u001b[0m\u001b[0;34m.\u001b[0m\u001b[0msleep\u001b[0m\u001b[0;34m(\u001b[0m\u001b[0;36m5\u001b[0m\u001b[0;34m)\u001b[0m\u001b[0;34m\u001b[0m\u001b[0m\n\u001b[0m\u001b[1;32m      5\u001b[0m     \u001b[0;32mprint\u001b[0m\u001b[0;34m(\u001b[0m\u001b[0mround\u001b[0m\u001b[0;34m(\u001b[0m\u001b[0mfloat\u001b[0m\u001b[0;34m(\u001b[0m\u001b[0mkeithley\u001b[0m\u001b[0;34m.\u001b[0m\u001b[0mquery\u001b[0m\u001b[0;34m(\u001b[0m\u001b[0;34m'MEAS:VOLT:DC?'\u001b[0m\u001b[0;34m)\u001b[0m\u001b[0;34m)\u001b[0m\u001b[0;34m,\u001b[0m\u001b[0;36m4\u001b[0m\u001b[0;34m)\u001b[0m\u001b[0;34m)\u001b[0m\u001b[0;34m\u001b[0m\u001b[0m\n",
      "\u001b[0;31mKeyboardInterrupt\u001b[0m: "
     ]
    }
   ],
   "source": [
    "channelToCalib = 'tr2'\n",
    "for i in range(20):\n",
    "    dacserver.set_individual_analog_voltages([(str(channelToCalib).zfill(2), 10)])\n",
    "    time.sleep(5)\n",
    "    print(round(float(keithley.query('MEAS:VOLT:DC?')),4))"
   ]
  },
  {
   "cell_type": "code",
   "execution_count": null,
   "metadata": {},
   "outputs": [],
   "source": []
  },
  {
   "cell_type": "code",
   "execution_count": null,
   "metadata": {},
   "outputs": [],
   "source": []
  }
 ],
 "metadata": {
  "kernelspec": {
   "display_name": "Python 2",
   "language": "python",
   "name": "python2"
  },
  "language_info": {
   "codemirror_mode": {
    "name": "ipython",
    "version": 2
   },
   "file_extension": ".py",
   "mimetype": "text/x-python",
   "name": "python",
   "nbconvert_exporter": "python",
   "pygments_lexer": "ipython2",
   "version": "2.7.12"
  }
 },
 "nbformat": 4,
 "nbformat_minor": 5
}
