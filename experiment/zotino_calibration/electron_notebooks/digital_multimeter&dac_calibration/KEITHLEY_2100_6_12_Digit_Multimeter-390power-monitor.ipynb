{
 "cells": [
  {
   "cell_type": "code",
   "execution_count": 1,
   "metadata": {},
   "outputs": [],
   "source": [
    "import os\n",
    "import numpy as np\n",
    "import matplotlib.pyplot as plt\n",
    "%matplotlib inline\n",
    "# import oskar\n",
    "# scripts = oskar.Scripts()\n",
    "import numpy as np\n",
    "from tqdm import tqdm\n",
    "import numpy\n",
    "import matplotlib.pyplot as plot\n",
    "import sys\n",
    "import pickle as pkl\n",
    "# import pyvisa as visa\n",
    "import visa\n",
    "import datetime\n",
    "from scipy.optimize import curve_fit\n",
    "\n",
    "from collections import defaultdict\n",
    "from scipy.stats import kurtosis, skew\n",
    "import pandas as pd\n",
    "# import xarray as xr\n",
    "from collections import OrderedDict\n",
    "from pathlib import Path\n",
    "import fnmatch\n",
    "import time"
   ]
  },
  {
   "cell_type": "markdown",
   "metadata": {},
   "source": [
    "Connect the GPIB - usb cable to electron PC, then run this script together with the artiq zotino_calibrator script"
   ]
  },
  {
   "cell_type": "markdown",
   "metadata": {},
   "source": [
    "# Initializing"
   ]
  },
  {
   "cell_type": "code",
   "execution_count": 2,
   "metadata": {},
   "outputs": [
    {
     "data": {
      "text/plain": [
       "(u'ASRL/dev/ttyS0::INSTR', u'USB0::2733::84::104542::0::INSTR')"
      ]
     },
     "execution_count": 2,
     "metadata": {},
     "output_type": "execute_result"
    }
   ],
   "source": [
    "rm = visa.ResourceManager()\n",
    "instruments = rm.list_resources()\n",
    "instruments"
   ]
  },
  {
   "cell_type": "code",
   "execution_count": 3,
   "metadata": {},
   "outputs": [
    {
     "data": {
      "text/plain": [
       "[u'USB0::2733::84::104542::0::INSTR']"
      ]
     },
     "execution_count": 3,
     "metadata": {},
     "output_type": "execute_result"
    }
   ],
   "source": [
    "# instruments\n",
    "usb = list(filter(lambda x: 'USB' in x, instruments))\n",
    "usb"
   ]
  },
  {
   "cell_type": "code",
   "execution_count": 4,
   "metadata": {},
   "outputs": [
    {
     "data": {
      "text/plain": [
       "[u'ASRL/dev/ttyS0::INSTR']"
      ]
     },
     "execution_count": 4,
     "metadata": {},
     "output_type": "execute_result"
    }
   ],
   "source": [
    "lan = list(filter(lambda x: 'ASRL' in x, instruments))\n",
    "lan"
   ]
  },
  {
   "cell_type": "code",
   "execution_count": 8,
   "metadata": {},
   "outputs": [
    {
     "ename": "ValueError",
     "evalue": "The device has no langid (permission issue, no string descriptors supported or device error)",
     "output_type": "error",
     "traceback": [
      "\u001b[0;31m---------------------------------------------------------------------------\u001b[0m",
      "\u001b[0;31mValueError\u001b[0m                                Traceback (most recent call last)",
      "\u001b[0;32m<ipython-input-8-16f22f384b8f>\u001b[0m in \u001b[0;36m<module>\u001b[0;34m()\u001b[0m\n\u001b[1;32m      3\u001b[0m \u001b[0;31m#     print('Bad instrument list', instruments)\u001b[0m\u001b[0;34m\u001b[0m\u001b[0;34m\u001b[0m\u001b[0m\n\u001b[1;32m      4\u001b[0m \u001b[0;31m#     sys.exit(-1)\u001b[0m\u001b[0;34m\u001b[0m\u001b[0;34m\u001b[0m\u001b[0m\n\u001b[0;32m----> 5\u001b[0;31m \u001b[0mkeithley1\u001b[0m \u001b[0;34m=\u001b[0m \u001b[0mrm\u001b[0m\u001b[0;34m.\u001b[0m\u001b[0mopen_resource\u001b[0m\u001b[0;34m(\u001b[0m\u001b[0musb\u001b[0m\u001b[0;34m[\u001b[0m\u001b[0;36m0\u001b[0m\u001b[0;34m]\u001b[0m\u001b[0;34m)\u001b[0m\u001b[0;34m\u001b[0m\u001b[0m\n\u001b[0m\u001b[1;32m      6\u001b[0m \u001b[0;31m#keithley2 = rm.open_resource(usb[1])\u001b[0m\u001b[0;34m\u001b[0m\u001b[0;34m\u001b[0m\u001b[0m\n\u001b[1;32m      7\u001b[0m \u001b[0;31m#keithley3 = rm.open_resource(lan[0])\u001b[0m\u001b[0;34m\u001b[0m\u001b[0;34m\u001b[0m\u001b[0m\n",
      "\u001b[0;32m/usr/local/lib/python2.7/dist-packages/pyvisa/highlevel.pyc\u001b[0m in \u001b[0;36mopen_resource\u001b[0;34m(self, resource_name, access_mode, open_timeout, resource_pyclass, **kwargs)\u001b[0m\n\u001b[1;32m   1769\u001b[0m                 \u001b[0;32mraise\u001b[0m \u001b[0mValueError\u001b[0m\u001b[0;34m(\u001b[0m\u001b[0;34m'%r is not a valid attribute for type %s'\u001b[0m \u001b[0;34m%\u001b[0m \u001b[0;34m(\u001b[0m\u001b[0mkey\u001b[0m\u001b[0;34m,\u001b[0m \u001b[0mres\u001b[0m\u001b[0;34m.\u001b[0m\u001b[0m__class__\u001b[0m\u001b[0;34m.\u001b[0m\u001b[0m__name__\u001b[0m\u001b[0;34m)\u001b[0m\u001b[0;34m)\u001b[0m\u001b[0;34m\u001b[0m\u001b[0m\n\u001b[1;32m   1770\u001b[0m \u001b[0;34m\u001b[0m\u001b[0m\n\u001b[0;32m-> 1771\u001b[0;31m         \u001b[0mres\u001b[0m\u001b[0;34m.\u001b[0m\u001b[0mopen\u001b[0m\u001b[0;34m(\u001b[0m\u001b[0maccess_mode\u001b[0m\u001b[0;34m,\u001b[0m \u001b[0mopen_timeout\u001b[0m\u001b[0;34m)\u001b[0m\u001b[0;34m\u001b[0m\u001b[0m\n\u001b[0m\u001b[1;32m   1772\u001b[0m \u001b[0;34m\u001b[0m\u001b[0m\n\u001b[1;32m   1773\u001b[0m         \u001b[0mself\u001b[0m\u001b[0;34m.\u001b[0m\u001b[0m_created_resources\u001b[0m\u001b[0;34m.\u001b[0m\u001b[0madd\u001b[0m\u001b[0;34m(\u001b[0m\u001b[0mres\u001b[0m\u001b[0;34m)\u001b[0m\u001b[0;34m\u001b[0m\u001b[0m\n",
      "\u001b[0;32m/usr/local/lib/python2.7/dist-packages/pyvisa/resources/resource.pyc\u001b[0m in \u001b[0;36mopen\u001b[0;34m(self, access_mode, open_timeout)\u001b[0m\n\u001b[1;32m    216\u001b[0m         \u001b[0mlogger\u001b[0m\u001b[0;34m.\u001b[0m\u001b[0mdebug\u001b[0m\u001b[0;34m(\u001b[0m\u001b[0;34m'%s - opening ...'\u001b[0m\u001b[0;34m,\u001b[0m \u001b[0mself\u001b[0m\u001b[0;34m.\u001b[0m\u001b[0m_resource_name\u001b[0m\u001b[0;34m,\u001b[0m \u001b[0mextra\u001b[0m\u001b[0;34m=\u001b[0m\u001b[0mself\u001b[0m\u001b[0;34m.\u001b[0m\u001b[0m_logging_extra\u001b[0m\u001b[0;34m)\u001b[0m\u001b[0;34m\u001b[0m\u001b[0m\n\u001b[1;32m    217\u001b[0m         \u001b[0;32mwith\u001b[0m \u001b[0mself\u001b[0m\u001b[0;34m.\u001b[0m\u001b[0m_resource_manager\u001b[0m\u001b[0;34m.\u001b[0m\u001b[0mignore_warning\u001b[0m\u001b[0;34m(\u001b[0m\u001b[0mconstants\u001b[0m\u001b[0;34m.\u001b[0m\u001b[0mVI_SUCCESS_DEV_NPRESENT\u001b[0m\u001b[0;34m)\u001b[0m\u001b[0;34m:\u001b[0m\u001b[0;34m\u001b[0m\u001b[0m\n\u001b[0;32m--> 218\u001b[0;31m             \u001b[0mself\u001b[0m\u001b[0;34m.\u001b[0m\u001b[0msession\u001b[0m\u001b[0;34m,\u001b[0m \u001b[0mstatus\u001b[0m \u001b[0;34m=\u001b[0m \u001b[0mself\u001b[0m\u001b[0;34m.\u001b[0m\u001b[0m_resource_manager\u001b[0m\u001b[0;34m.\u001b[0m\u001b[0mopen_bare_resource\u001b[0m\u001b[0;34m(\u001b[0m\u001b[0mself\u001b[0m\u001b[0;34m.\u001b[0m\u001b[0m_resource_name\u001b[0m\u001b[0;34m,\u001b[0m \u001b[0maccess_mode\u001b[0m\u001b[0;34m,\u001b[0m \u001b[0mopen_timeout\u001b[0m\u001b[0;34m)\u001b[0m\u001b[0;34m\u001b[0m\u001b[0m\n\u001b[0m\u001b[1;32m    219\u001b[0m \u001b[0;34m\u001b[0m\u001b[0m\n\u001b[1;32m    220\u001b[0m             \u001b[0;32mif\u001b[0m \u001b[0mstatus\u001b[0m \u001b[0;34m==\u001b[0m \u001b[0mconstants\u001b[0m\u001b[0;34m.\u001b[0m\u001b[0mVI_SUCCESS_DEV_NPRESENT\u001b[0m\u001b[0;34m:\u001b[0m\u001b[0;34m\u001b[0m\u001b[0m\n",
      "\u001b[0;32m/usr/local/lib/python2.7/dist-packages/pyvisa/highlevel.pyc\u001b[0m in \u001b[0;36mopen_bare_resource\u001b[0;34m(self, resource_name, access_mode, open_timeout)\u001b[0m\n\u001b[1;32m   1723\u001b[0m         \u001b[0;34m:\u001b[0m\u001b[0;32mreturn\u001b[0m\u001b[0;34m:\u001b[0m \u001b[0mUnique\u001b[0m \u001b[0mlogical\u001b[0m \u001b[0midentifier\u001b[0m \u001b[0mreference\u001b[0m \u001b[0mto\u001b[0m \u001b[0ma\u001b[0m \u001b[0msession\u001b[0m\u001b[0;34m.\u001b[0m\u001b[0;34m\u001b[0m\u001b[0m\n\u001b[1;32m   1724\u001b[0m         \"\"\"\n\u001b[0;32m-> 1725\u001b[0;31m         \u001b[0;32mreturn\u001b[0m \u001b[0mself\u001b[0m\u001b[0;34m.\u001b[0m\u001b[0mvisalib\u001b[0m\u001b[0;34m.\u001b[0m\u001b[0mopen\u001b[0m\u001b[0;34m(\u001b[0m\u001b[0mself\u001b[0m\u001b[0;34m.\u001b[0m\u001b[0msession\u001b[0m\u001b[0;34m,\u001b[0m \u001b[0mresource_name\u001b[0m\u001b[0;34m,\u001b[0m \u001b[0maccess_mode\u001b[0m\u001b[0;34m,\u001b[0m \u001b[0mopen_timeout\u001b[0m\u001b[0;34m)\u001b[0m\u001b[0;34m\u001b[0m\u001b[0m\n\u001b[0m\u001b[1;32m   1726\u001b[0m \u001b[0;34m\u001b[0m\u001b[0m\n\u001b[1;32m   1727\u001b[0m     def open_resource(self, resource_name,\n",
      "\u001b[0;32m/usr/local/lib/python2.7/dist-packages/pyvisa-py/highlevel.pyc\u001b[0m in \u001b[0;36mopen\u001b[0;34m(self, session, resource_name, access_mode, open_timeout)\u001b[0m\n\u001b[1;32m    192\u001b[0m         \u001b[0mcls\u001b[0m \u001b[0;34m=\u001b[0m \u001b[0msessions\u001b[0m\u001b[0;34m.\u001b[0m\u001b[0mSession\u001b[0m\u001b[0;34m.\u001b[0m\u001b[0mget_session_class\u001b[0m\u001b[0;34m(\u001b[0m\u001b[0mparsed\u001b[0m\u001b[0;34m.\u001b[0m\u001b[0minterface_type_const\u001b[0m\u001b[0;34m,\u001b[0m \u001b[0mparsed\u001b[0m\u001b[0;34m.\u001b[0m\u001b[0mresource_class\u001b[0m\u001b[0;34m)\u001b[0m\u001b[0;34m\u001b[0m\u001b[0m\n\u001b[1;32m    193\u001b[0m \u001b[0;34m\u001b[0m\u001b[0m\n\u001b[0;32m--> 194\u001b[0;31m         \u001b[0msess\u001b[0m \u001b[0;34m=\u001b[0m \u001b[0mcls\u001b[0m\u001b[0;34m(\u001b[0m\u001b[0msession\u001b[0m\u001b[0;34m,\u001b[0m \u001b[0mresource_name\u001b[0m\u001b[0;34m,\u001b[0m \u001b[0mparsed\u001b[0m\u001b[0;34m,\u001b[0m \u001b[0mopen_timeout\u001b[0m\u001b[0;34m)\u001b[0m\u001b[0;34m\u001b[0m\u001b[0m\n\u001b[0m\u001b[1;32m    195\u001b[0m \u001b[0;34m\u001b[0m\u001b[0m\n\u001b[1;32m    196\u001b[0m         \u001b[0;32mreturn\u001b[0m \u001b[0mself\u001b[0m\u001b[0;34m.\u001b[0m\u001b[0m_register\u001b[0m\u001b[0;34m(\u001b[0m\u001b[0msess\u001b[0m\u001b[0;34m)\u001b[0m\u001b[0;34m,\u001b[0m \u001b[0mStatusCode\u001b[0m\u001b[0;34m.\u001b[0m\u001b[0msuccess\u001b[0m\u001b[0;34m\u001b[0m\u001b[0m\n",
      "\u001b[0;32m/usr/local/lib/python2.7/dist-packages/pyvisa-py/sessions.pyc\u001b[0m in \u001b[0;36m__init__\u001b[0;34m(self, resource_manager_session, resource_name, parsed, open_timeout)\u001b[0m\n\u001b[1;32m    216\u001b[0m         \u001b[0mself\u001b[0m\u001b[0;34m.\u001b[0m\u001b[0mset_attribute\u001b[0m\u001b[0;34m(\u001b[0m\u001b[0mattr\u001b[0m\u001b[0;34m,\u001b[0m \u001b[0mdefault_timeout\u001b[0m\u001b[0;34m)\u001b[0m\u001b[0;34m\u001b[0m\u001b[0m\n\u001b[1;32m    217\u001b[0m \u001b[0;34m\u001b[0m\u001b[0m\n\u001b[0;32m--> 218\u001b[0;31m         \u001b[0mself\u001b[0m\u001b[0;34m.\u001b[0m\u001b[0mafter_parsing\u001b[0m\u001b[0;34m(\u001b[0m\u001b[0;34m)\u001b[0m\u001b[0;34m\u001b[0m\u001b[0m\n\u001b[0m\u001b[1;32m    219\u001b[0m \u001b[0;34m\u001b[0m\u001b[0m\n\u001b[1;32m    220\u001b[0m     \u001b[0;32mdef\u001b[0m \u001b[0mafter_parsing\u001b[0m\u001b[0;34m(\u001b[0m\u001b[0mself\u001b[0m\u001b[0;34m)\u001b[0m\u001b[0;34m:\u001b[0m\u001b[0;34m\u001b[0m\u001b[0m\n",
      "\u001b[0;32m/usr/local/lib/python2.7/dist-packages/pyvisa-py/usb.pyc\u001b[0m in \u001b[0;36mafter_parsing\u001b[0;34m(self)\u001b[0m\n\u001b[1;32m    176\u001b[0m         self.interface = self._intf_cls(int(self.parsed.manufacturer_id, 0),\n\u001b[1;32m    177\u001b[0m                                         \u001b[0mint\u001b[0m\u001b[0;34m(\u001b[0m\u001b[0mself\u001b[0m\u001b[0;34m.\u001b[0m\u001b[0mparsed\u001b[0m\u001b[0;34m.\u001b[0m\u001b[0mmodel_code\u001b[0m\u001b[0;34m,\u001b[0m \u001b[0;36m0\u001b[0m\u001b[0;34m)\u001b[0m\u001b[0;34m,\u001b[0m\u001b[0;34m\u001b[0m\u001b[0m\n\u001b[0;32m--> 178\u001b[0;31m                                         self.parsed.serial_number)\n\u001b[0m\u001b[1;32m    179\u001b[0m \u001b[0;34m\u001b[0m\u001b[0m\n\u001b[1;32m    180\u001b[0m         \u001b[0;32mfor\u001b[0m \u001b[0mname\u001b[0m \u001b[0;32min\u001b[0m \u001b[0;34m(\u001b[0m\u001b[0;34m'SEND_END_EN'\u001b[0m\u001b[0;34m,\u001b[0m \u001b[0;34m'TERMCHAR'\u001b[0m\u001b[0;34m,\u001b[0m \u001b[0;34m'TERMCHAR_EN'\u001b[0m\u001b[0;34m)\u001b[0m\u001b[0;34m:\u001b[0m\u001b[0;34m\u001b[0m\u001b[0m\n",
      "\u001b[0;32m/usr/local/lib/python2.7/dist-packages/pyvisa-py/protocols/usbtmc.pyc\u001b[0m in \u001b[0;36m__init__\u001b[0;34m(self, vendor, product, serial_number, **kwargs)\u001b[0m\n\u001b[1;32m    283\u001b[0m     def __init__(self, vendor=None, product=None, serial_number=None,\n\u001b[1;32m    284\u001b[0m                  **kwargs):\n\u001b[0;32m--> 285\u001b[0;31m         \u001b[0msuper\u001b[0m\u001b[0;34m(\u001b[0m\u001b[0mUSBTMC\u001b[0m\u001b[0;34m,\u001b[0m \u001b[0mself\u001b[0m\u001b[0;34m)\u001b[0m\u001b[0;34m.\u001b[0m\u001b[0m__init__\u001b[0m\u001b[0;34m(\u001b[0m\u001b[0mvendor\u001b[0m\u001b[0;34m,\u001b[0m \u001b[0mproduct\u001b[0m\u001b[0;34m,\u001b[0m \u001b[0mserial_number\u001b[0m\u001b[0;34m,\u001b[0m \u001b[0;34m**\u001b[0m\u001b[0mkwargs\u001b[0m\u001b[0;34m)\u001b[0m\u001b[0;34m\u001b[0m\u001b[0m\n\u001b[0m\u001b[1;32m    286\u001b[0m         self.usb_intr_in = find_endpoint(self.usb_intf, usb.ENDPOINT_IN,\n\u001b[1;32m    287\u001b[0m                                          usb.ENDPOINT_TYPE_INTERRUPT)\n",
      "\u001b[0;32m/usr/local/lib/python2.7/dist-packages/pyvisa-py/protocols/usbtmc.pyc\u001b[0m in \u001b[0;36m__init__\u001b[0;34m(self, vendor, product, serial_number, device_filters, timeout, **kwargs)\u001b[0m\n\u001b[1;32m    192\u001b[0m         \u001b[0mdevice_filters\u001b[0m \u001b[0;34m=\u001b[0m \u001b[0mdevice_filters\u001b[0m \u001b[0;32mor\u001b[0m \u001b[0;34m{\u001b[0m\u001b[0;34m}\u001b[0m\u001b[0;34m\u001b[0m\u001b[0m\n\u001b[1;32m    193\u001b[0m         devices = list(self.find_devices(vendor, product, serial_number, None,\n\u001b[0;32m--> 194\u001b[0;31m                                          **device_filters))\n\u001b[0m\u001b[1;32m    195\u001b[0m \u001b[0;34m\u001b[0m\u001b[0m\n\u001b[1;32m    196\u001b[0m         \u001b[0;32mif\u001b[0m \u001b[0;32mnot\u001b[0m \u001b[0mdevices\u001b[0m\u001b[0;34m:\u001b[0m\u001b[0;34m\u001b[0m\u001b[0m\n",
      "\u001b[0;32m/usr/local/lib/python2.7/dist-packages/usb/core.pyc\u001b[0m in \u001b[0;36mdevice_iter\u001b[0;34m(**kwargs)\u001b[0m\n\u001b[1;32m   1281\u001b[0m             \u001b[0md\u001b[0m \u001b[0;34m=\u001b[0m \u001b[0mDevice\u001b[0m\u001b[0;34m(\u001b[0m\u001b[0mdev\u001b[0m\u001b[0;34m,\u001b[0m \u001b[0mbackend\u001b[0m\u001b[0;34m)\u001b[0m\u001b[0;34m\u001b[0m\u001b[0m\n\u001b[1;32m   1282\u001b[0m             \u001b[0mtests\u001b[0m \u001b[0;34m=\u001b[0m \u001b[0;34m(\u001b[0m\u001b[0mval\u001b[0m \u001b[0;34m==\u001b[0m \u001b[0m_try_getattr\u001b[0m\u001b[0;34m(\u001b[0m\u001b[0md\u001b[0m\u001b[0;34m,\u001b[0m \u001b[0mkey\u001b[0m\u001b[0;34m)\u001b[0m \u001b[0;32mfor\u001b[0m \u001b[0mkey\u001b[0m\u001b[0;34m,\u001b[0m \u001b[0mval\u001b[0m \u001b[0;32min\u001b[0m \u001b[0mkwargs\u001b[0m\u001b[0;34m.\u001b[0m\u001b[0mitems\u001b[0m\u001b[0;34m(\u001b[0m\u001b[0;34m)\u001b[0m\u001b[0;34m)\u001b[0m\u001b[0;34m\u001b[0m\u001b[0m\n\u001b[0;32m-> 1283\u001b[0;31m             \u001b[0;32mif\u001b[0m \u001b[0m_interop\u001b[0m\u001b[0;34m.\u001b[0m\u001b[0m_all\u001b[0m\u001b[0;34m(\u001b[0m\u001b[0mtests\u001b[0m\u001b[0;34m)\u001b[0m \u001b[0;32mand\u001b[0m \u001b[0;34m(\u001b[0m\u001b[0mcustom_match\u001b[0m \u001b[0;32mis\u001b[0m \u001b[0mNone\u001b[0m \u001b[0;32mor\u001b[0m \u001b[0mcustom_match\u001b[0m\u001b[0;34m(\u001b[0m\u001b[0md\u001b[0m\u001b[0;34m)\u001b[0m\u001b[0;34m)\u001b[0m\u001b[0;34m:\u001b[0m\u001b[0;34m\u001b[0m\u001b[0m\n\u001b[0m\u001b[1;32m   1284\u001b[0m                 \u001b[0;32myield\u001b[0m \u001b[0md\u001b[0m\u001b[0;34m\u001b[0m\u001b[0m\n\u001b[1;32m   1285\u001b[0m \u001b[0;34m\u001b[0m\u001b[0m\n",
      "\u001b[0;32m/usr/local/lib/python2.7/dist-packages/pyvisa-py/protocols/usbutil.pyc\u001b[0m in \u001b[0;36mcm\u001b[0;34m(dev)\u001b[0m\n\u001b[1;32m    189\u001b[0m                 \u001b[0;32mreturn\u001b[0m \u001b[0mFalse\u001b[0m\u001b[0;34m\u001b[0m\u001b[0m\n\u001b[1;32m    190\u001b[0m             \u001b[0;32mfor\u001b[0m \u001b[0mattr\u001b[0m\u001b[0;34m,\u001b[0m \u001b[0mpattern\u001b[0m \u001b[0;32min\u001b[0m \u001b[0mattrs\u001b[0m\u001b[0;34m.\u001b[0m\u001b[0mitems\u001b[0m\u001b[0;34m(\u001b[0m\u001b[0;34m)\u001b[0m\u001b[0;34m:\u001b[0m\u001b[0;34m\u001b[0m\u001b[0m\n\u001b[0;32m--> 191\u001b[0;31m                 \u001b[0;32mif\u001b[0m \u001b[0;32mnot\u001b[0m \u001b[0mfnmatch\u001b[0m\u001b[0;34m(\u001b[0m\u001b[0mgetattr\u001b[0m\u001b[0;34m(\u001b[0m\u001b[0mdev\u001b[0m\u001b[0;34m,\u001b[0m \u001b[0mattr\u001b[0m\u001b[0;34m)\u001b[0m\u001b[0;34m.\u001b[0m\u001b[0mlower\u001b[0m\u001b[0;34m(\u001b[0m\u001b[0;34m)\u001b[0m\u001b[0;34m,\u001b[0m \u001b[0mpattern\u001b[0m\u001b[0;34m.\u001b[0m\u001b[0mlower\u001b[0m\u001b[0;34m(\u001b[0m\u001b[0;34m)\u001b[0m\u001b[0;34m)\u001b[0m\u001b[0;34m:\u001b[0m\u001b[0;34m\u001b[0m\u001b[0m\n\u001b[0m\u001b[1;32m    192\u001b[0m                     \u001b[0;32mreturn\u001b[0m \u001b[0mFalse\u001b[0m\u001b[0;34m\u001b[0m\u001b[0m\n\u001b[1;32m    193\u001b[0m             \u001b[0;32mreturn\u001b[0m \u001b[0mTrue\u001b[0m\u001b[0;34m\u001b[0m\u001b[0m\n",
      "\u001b[0;32m/usr/local/lib/python2.7/dist-packages/usb/core.pyc\u001b[0m in \u001b[0;36mserial_number\u001b[0;34m(self)\u001b[0m\n\u001b[1;32m    850\u001b[0m         \"\"\"\n\u001b[1;32m    851\u001b[0m         \u001b[0;32mif\u001b[0m \u001b[0mself\u001b[0m\u001b[0;34m.\u001b[0m\u001b[0m_serial_number\u001b[0m \u001b[0;32mis\u001b[0m \u001b[0mNone\u001b[0m\u001b[0;34m:\u001b[0m\u001b[0;34m\u001b[0m\u001b[0m\n\u001b[0;32m--> 852\u001b[0;31m             \u001b[0mself\u001b[0m\u001b[0;34m.\u001b[0m\u001b[0m_serial_number\u001b[0m \u001b[0;34m=\u001b[0m \u001b[0mutil\u001b[0m\u001b[0;34m.\u001b[0m\u001b[0mget_string\u001b[0m\u001b[0;34m(\u001b[0m\u001b[0mself\u001b[0m\u001b[0;34m,\u001b[0m \u001b[0mself\u001b[0m\u001b[0;34m.\u001b[0m\u001b[0miSerialNumber\u001b[0m\u001b[0;34m)\u001b[0m\u001b[0;34m\u001b[0m\u001b[0m\n\u001b[0m\u001b[1;32m    853\u001b[0m         \u001b[0;32mreturn\u001b[0m \u001b[0mself\u001b[0m\u001b[0;34m.\u001b[0m\u001b[0m_serial_number\u001b[0m\u001b[0;34m\u001b[0m\u001b[0m\n\u001b[1;32m    854\u001b[0m \u001b[0;34m\u001b[0m\u001b[0m\n",
      "\u001b[0;32m/usr/local/lib/python2.7/dist-packages/usb/util.pyc\u001b[0m in \u001b[0;36mget_string\u001b[0;34m(dev, index, langid)\u001b[0m\n\u001b[1;32m    311\u001b[0m         \u001b[0mlangids\u001b[0m \u001b[0;34m=\u001b[0m \u001b[0mdev\u001b[0m\u001b[0;34m.\u001b[0m\u001b[0mlangids\u001b[0m\u001b[0;34m\u001b[0m\u001b[0m\n\u001b[1;32m    312\u001b[0m         \u001b[0;32mif\u001b[0m \u001b[0;36m0\u001b[0m \u001b[0;34m==\u001b[0m \u001b[0mlen\u001b[0m\u001b[0;34m(\u001b[0m\u001b[0mlangids\u001b[0m\u001b[0;34m)\u001b[0m\u001b[0;34m:\u001b[0m\u001b[0;34m\u001b[0m\u001b[0m\n\u001b[0;32m--> 313\u001b[0;31m             raise ValueError(\"The device has no langid\"\n\u001b[0m\u001b[1;32m    314\u001b[0m                              \" (permission issue, no string descriptors supported or device error)\")\n\u001b[1;32m    315\u001b[0m         \u001b[0mlangid\u001b[0m \u001b[0;34m=\u001b[0m \u001b[0mlangids\u001b[0m\u001b[0;34m[\u001b[0m\u001b[0;36m0\u001b[0m\u001b[0;34m]\u001b[0m\u001b[0;34m\u001b[0m\u001b[0m\n",
      "\u001b[0;31mValueError\u001b[0m: The device has no langid (permission issue, no string descriptors supported or device error)"
     ]
    }
   ],
   "source": [
    "\n",
    "# if len(usb) != 1:\n",
    "#     print('Bad instrument list', instruments)\n",
    "#     sys.exit(-1)\n",
    "keithley1 = rm.open_resource(usb[0])\n",
    "#keithley2 = rm.open_resource(usb[1])\n",
    "#keithley3 = rm.open_resource(lan[0])"
   ]
  },
  {
   "cell_type": "code",
   "execution_count": null,
   "metadata": {},
   "outputs": [],
   "source": [
    "\n"
   ]
  },
  {
   "cell_type": "code",
   "execution_count": 6,
   "metadata": {},
   "outputs": [
    {
     "data": {
      "text/plain": [
       "(u'ASRL/dev/ttyS0::INSTR',\n",
       " u'USB0::1510::8448::1243106::0::INSTR',\n",
       " u'USB0::1510::8464::1408025::0::INSTR')"
      ]
     },
     "execution_count": 6,
     "metadata": {},
     "output_type": "execute_result"
    }
   ],
   "source": [
    "instruments"
   ]
  },
  {
   "cell_type": "code",
   "execution_count": 7,
   "metadata": {},
   "outputs": [
    {
     "data": {
      "text/plain": [
       "(27, <StatusCode.success: 0>)"
      ]
     },
     "execution_count": 7,
     "metadata": {},
     "output_type": "execute_result"
    }
   ],
   "source": [
    "keithley1.write(\"*rst; status:preset; *cls\")"
   ]
  },
  {
   "cell_type": "code",
   "execution_count": 8,
   "metadata": {},
   "outputs": [],
   "source": [
    "#keithley2.write(\"*rst; status:preset; *cls\")"
   ]
  },
  {
   "cell_type": "markdown",
   "metadata": {},
   "source": [
    "# Test command"
   ]
  },
  {
   "cell_type": "code",
   "execution_count": 9,
   "metadata": {},
   "outputs": [],
   "source": [
    "#volt = float(keithley2.query('MEAS:VOLT:DC?'))\n",
    "#volt"
   ]
  },
  {
   "cell_type": "code",
   "execution_count": 10,
   "metadata": {},
   "outputs": [
    {
     "data": {
      "text/plain": [
       "1.30727848"
      ]
     },
     "execution_count": 10,
     "metadata": {},
     "output_type": "execute_result"
    }
   ],
   "source": [
    "volt = float(keithley1.query('MEAS:VOLT:DC?'))\n",
    "volt"
   ]
  },
  {
   "cell_type": "code",
   "execution_count": 17,
   "metadata": {},
   "outputs": [
    {
     "name": "stdout",
     "output_type": "stream",
     "text": [
      "400\n"
     ]
    }
   ],
   "source": [
    "#num data points\n",
    "time_meas=20 #(72 hr)\n",
    "\n",
    "#wait time \n",
    "wt_t=60*3 #(5min)\n",
    "\n",
    "N=(time_meas*3600)/wt_t\n",
    "\n",
    "print(N)"
   ]
  },
  {
   "cell_type": "code",
   "execution_count": 18,
   "metadata": {},
   "outputs": [],
   "source": [
    "#PBC = np.zeros(N)\n",
    "fiber_chamber = np.zeros(N)\n",
    "for i in range(N):\n",
    "    volt1 = float(keithley1.query('MEAS:VOLT:DC?'))\n",
    "    #volt2 = float(keithley2.query('MEAS:VOLT:DC?'))\n",
    "    fiber_chamber[i]=volt1\n",
    "    #fiber[i]=volt2\n",
    "    time.sleep(wt_t)"
   ]
  },
  {
   "cell_type": "code",
   "execution_count": 19,
   "metadata": {},
   "outputs": [
    {
     "name": "stdout",
     "output_type": "stream",
     "text": [
      "('list = ', array([1.30615936, 1.305688  , 1.3053092 , 1.30410352, 1.30340696,\n",
      "       1.30455864, 1.30376352, 1.30243528, 1.3021436 , 1.30177184,\n",
      "       1.29942464, 1.29862704, 1.29551384, 1.29350888, 1.29219736,\n",
      "       1.28949496, 1.28631688, 1.28373656, 1.2798432 , 1.27814472,\n",
      "       1.27437672, 1.27067888, 1.26882728, 1.26708304, 1.26286592,\n",
      "       1.25999256, 1.25545704, 1.25117064, 1.24738048, 1.24450472,\n",
      "       1.24124208, 1.23755992, 1.23466888, 1.23022712, 1.22809232,\n",
      "       1.2240876 , 1.22085848, 1.21827232, 1.21390056, 1.2106004 ,\n",
      "       1.207922  , 1.20346752, 1.20075776, 1.1978512 , 1.20191256,\n",
      "       1.20076248, 1.19958056, 1.19862272, 1.19696536, 1.19849792,\n",
      "       1.19692848, 1.19883832, 1.1988196 , 1.19903632, 1.19812976,\n",
      "       1.20054088, 1.20308576, 1.20287992, 1.2023984 , 1.20289048,\n",
      "       1.20274296, 1.20154752, 1.20124256, 1.20247384, 1.20273152,\n",
      "       1.20147504, 1.20177712, 1.20139488, 1.201274  , 1.20199896,\n",
      "       1.20178392, 1.20335008, 1.20398256, 1.20230272, 1.20417416,\n",
      "       1.20230032, 1.20298288, 1.20392176, 1.20390584, 1.20357392,\n",
      "       1.20225016, 1.20467032, 1.2043604 , 1.20499888, 1.20569912,\n",
      "       1.20612752, 1.2065768 , 1.20688104, 1.20749912, 1.20744088,\n",
      "       1.2078344 , 1.20586   , 1.2041488 , 1.2029704 , 1.20308424,\n",
      "       1.20103192, 1.19815432, 1.19958696, 1.1978532 , 1.22963336,\n",
      "       1.22760392, 1.22948024, 1.22824432, 1.2284992 , 1.22621   ,\n",
      "       1.2239196 , 1.22361672, 1.22146472, 1.22067784, 1.2191924 ,\n",
      "       1.2187328 , 1.21707488, 1.2130468 , 1.21121336, 1.21064912,\n",
      "       1.208516  , 1.207572  , 1.20553696, 1.20442232, 1.20510088,\n",
      "       1.20385208, 1.20392704, 1.2036716 , 1.2022004 , 1.20466336,\n",
      "       1.20367768, 1.20590712, 1.20521   , 1.2056272 , 1.20455672,\n",
      "       1.20566512, 1.20337328, 1.20529832, 1.20414232, 1.20433048,\n",
      "       1.20277536, 1.19975952, 1.19949184, 1.19763472, 1.19686208,\n",
      "       1.19517896, 1.19227264, 1.19201208, 1.19027376, 1.18570352,\n",
      "       1.18515632, 1.18111288, 1.1799536 , 1.17623112, 1.1747856 ,\n",
      "       1.1735592 , 1.1685892 , 1.16786608, 1.1634964 , 1.15782072,\n",
      "       1.15442952, 1.15136448, 1.14886872, 1.1477468 , 1.14726784,\n",
      "       1.1446664 , 1.14411792, 1.14379   , 1.14294744, 1.14227272,\n",
      "       1.14167952, 1.1430824 , 1.14397368, 1.14227976, 1.1428896 ,\n",
      "       1.14303592, 1.14313088, 1.14286008, 1.14172136, 1.14251472,\n",
      "       1.14274072, 1.14196792, 1.14202952, 1.1427988 , 1.14228024,\n",
      "       1.14236656, 1.1430076 , 1.14324024, 1.14411088, 1.14683152,\n",
      "       1.14917472, 1.15004896, 1.15151248, 1.1516864 , 1.15250336,\n",
      "       1.15294   , 1.15287624, 1.15278184, 1.15316216, 1.15190568,\n",
      "       1.15144888, 1.15141448, 1.15052784, 1.14968528, 1.1488656 ,\n",
      "       1.14817608, 1.14529432, 1.14518312, 1.14419928, 1.14283768,\n",
      "       1.14231336, 1.14080296, 1.14065184, 1.13933984, 1.13818184,\n",
      "       1.1365312 , 1.13556472, 1.13669952, 1.13572192, 1.13501216,\n",
      "       1.13504472, 1.13558056, 1.13506816, 1.13494112, 1.13391496,\n",
      "       1.13205504, 1.13203192, 1.13170624, 1.13234056, 1.13215136,\n",
      "       1.13276912, 1.13240232, 1.1341668 , 1.13483928, 1.13531816,\n",
      "       1.13591632, 1.13823744, 1.1397736 , 1.14066848, 1.14203784,\n",
      "       1.14422968, 1.14617   , 1.14909312, 1.15064624, 1.15203488,\n",
      "       1.153474  , 1.15448728, 1.1555588 , 1.15480112, 1.15465584,\n",
      "       1.15454248, 1.15499416, 1.15380992, 1.15348208, 1.15340424,\n",
      "       1.15199616, 1.15090288, 1.15036048, 1.14818576, 1.1487124 ,\n",
      "       1.14769648, 1.14561032, 1.14551792, 1.14307416, 1.14318408,\n",
      "       1.14165904, 1.14092096, 1.14120032, 1.14026808, 1.13866912,\n",
      "       1.13808904, 1.13740096, 1.13660088, 1.13551008, 1.13601936,\n",
      "       1.1341456 , 1.1335548 , 1.1329808 , 1.13237568, 1.13102304,\n",
      "       1.129418  , 1.1306384 , 1.13063512, 1.1293024 , 1.12766992,\n",
      "       1.12751032, 1.12665728, 1.12619496, 1.125146  , 1.12380744,\n",
      "       1.12200272, 1.12088384, 1.12000368, 1.11887896, 1.11761584,\n",
      "       1.1173824 , 1.116004  , 1.11565256, 1.11412872, 1.11462664,\n",
      "       1.11257672, 1.11360584, 1.1117356 , 1.11223032, 1.11178944,\n",
      "       1.11136424, 1.1128812 , 1.11256656, 1.11223088, 1.11304144,\n",
      "       1.11285768, 1.11248112, 1.1130524 , 1.11298552, 1.11541304,\n",
      "       1.1154504 , 1.11628688, 1.11684632, 1.11647728, 1.11836064,\n",
      "       1.11798656, 1.11839024, 1.11870584, 1.12052248, 1.12128056,\n",
      "       1.12115824, 1.12461448, 1.1248988 , 1.12636472, 1.12700952,\n",
      "       1.12980736, 1.13021624, 1.13187024, 1.13321056, 1.13439216,\n",
      "       1.13591752, 1.13615904, 1.13744368, 1.13654736, 1.1388376 ,\n",
      "       1.1396644 , 1.13789216, 1.13802544, 1.13799824, 1.139756  ,\n",
      "       1.13872552, 1.13886312, 1.13896904, 1.13760568, 1.13844344,\n",
      "       1.138492  , 1.14014456, 1.13960216, 1.13946416, 1.13970664,\n",
      "       1.14142552, 1.14266608, 1.1433464 , 1.14428928, 1.144012  ,\n",
      "       1.14580024, 1.14777968, 1.14836216, 1.14805976, 1.14825632,\n",
      "       1.14909848, 1.1502144 , 1.15181016, 1.1514304 , 1.15290568,\n",
      "       1.15388128, 1.15493104, 1.1561384 , 1.157734  , 1.15976592,\n",
      "       1.1615244 , 1.16385248, 1.16500624, 1.16708568, 1.16778048,\n",
      "       1.1713724 , 1.17603696, 1.17789856, 1.1805024 , 1.182266  ,\n",
      "       1.18479744, 1.18669024, 1.19030216, 1.19254896, 1.19466856,\n",
      "       1.19656352, 1.19971264, 1.2030412 , 1.20438656, 1.20713744,\n",
      "       1.20961776, 1.2104496 , 1.2120712 , 1.2146132 , 1.2161312 ,\n",
      "       1.2180532 , 1.21957376, 1.22104672, 1.222944  , 1.22514608]))\n"
     ]
    }
   ],
   "source": [
    "#print(\"list = \", PBC)\n",
    "print(\"list = \", fiber_chamber)"
   ]
  },
  {
   "cell_type": "code",
   "execution_count": 25,
   "metadata": {
    "scrolled": true
   },
   "outputs": [
    {
     "data": {
      "text/plain": [
       "(0, 1.4)"
      ]
     },
     "execution_count": 25,
     "metadata": {},
     "output_type": "execute_result"
    },
    {
     "data": {
      "image/png": "[encoded data removed]",
      "text/plain": [
       "<Figure size 432x288 with 1 Axes>"
      ]
     },
     "metadata": {
      "needs_background": "light"
     },
     "output_type": "display_data"
    }
   ],
   "source": [
    "plt.plot(fiber_chamber)\n",
    "plt.ylim([0,1.4])"
   ]
  },
  {
   "cell_type": "code",
   "execution_count": 21,
   "metadata": {},
   "outputs": [],
   "source": [
    "#plt.plot(fiber)"
   ]
  },
  {
   "cell_type": "code",
   "execution_count": 22,
   "metadata": {},
   "outputs": [],
   "source": [
    "#chamber powermeter reading 2.0 mW, range 2.2 mW \n",
    "# wavemeter powermeter reading 2.67uW 9.1uW"
   ]
  },
  {
   "cell_type": "markdown",
   "metadata": {},
   "source": [
    "# Saving"
   ]
  },
  {
   "cell_type": "code",
   "execution_count": 23,
   "metadata": {},
   "outputs": [],
   "source": [
    "np.savetxt('390Stability_wait_5min_fiber_chamber_4_01_24_temp_23.txt',fiber_chamber)\n",
    "#np.savetxt('390Stability_wait_10min_PBC_3_29_24_temp_23p5.txt',PBC)"
   ]
  },
  {
   "cell_type": "code",
   "execution_count": null,
   "metadata": {},
   "outputs": [],
   "source": []
  },
  {
   "cell_type": "code",
   "execution_count": null,
   "metadata": {},
   "outputs": [],
   "source": []
  },
  {
   "cell_type": "code",
   "execution_count": null,
   "metadata": {},
   "outputs": [],
   "source": []
  },
  {
   "cell_type": "code",
   "execution_count": null,
   "metadata": {},
   "outputs": [],
   "source": []
  }
 ],
 "metadata": {
  "kernelspec": {
   "display_name": "Python 2",
   "language": "python",
   "name": "python2"
  },
  "language_info": {
   "codemirror_mode": {
    "name": "ipython",
    "version": 2
   },
   "file_extension": ".py",
   "mimetype": "text/x-python",
   "name": "python",
   "nbconvert_exporter": "python",
   "pygments_lexer": "ipython2",
   "version": "2.7.12"
  }
 },
 "nbformat": 4,
 "nbformat_minor": 5
}
