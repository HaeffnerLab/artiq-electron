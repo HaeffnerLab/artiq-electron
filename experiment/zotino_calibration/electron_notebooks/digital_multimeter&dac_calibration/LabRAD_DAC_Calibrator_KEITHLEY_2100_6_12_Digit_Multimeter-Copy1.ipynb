{
 "cells": [
  {
   "cell_type": "code",
   "execution_count": 1,
   "metadata": {},
   "outputs": [],
   "source": [
    "import os\n",
    "import numpy as np\n",
    "import matplotlib.pyplot as plt\n",
    "%matplotlib inline\n",
    "# import oskar\n",
    "# scripts = oskar.Scripts()\n",
    "import numpy as np\n",
    "import numpy\n",
    "import matplotlib.pyplot as plot\n",
    "import sys\n",
    "import pickle as pkl\n",
    "# import visa\n",
    "import pyvisa as visa\n",
    "import datetime\n",
    "from scipy.optimize import curve_fit\n",
    "from collections import defaultdict\n",
    "from scipy.stats import kurtosis, skew\n",
    "import pandas as pd\n",
    "# import xarray as xr\n",
    "from collections import OrderedDict\n",
    "from pathlib import Path\n",
    "import fnmatch\n",
    "import time"
   ]
  },
  {
   "cell_type": "code",
   "execution_count": null,
   "metadata": {},
   "outputs": [],
   "source": []
  },
  {
   "cell_type": "markdown",
   "metadata": {},
   "source": [
    "## Connect the GPIB - usb cable to electron PC, then run this script together with the artiq zotino_calibrator script"
   ]
  },
  {
   "cell_type": "code",
   "execution_count": 2,
   "metadata": {},
   "outputs": [
    {
     "data": {
      "text/plain": [
       "array([-6.5, -6. , -5.5, -5. , -4.5, -4. , -3.5, -3. , -2.5, -2. , -1.5,\n",
       "       -1. , -0.5,  0. ,  0.5,  1. ,  1.5,  2. ,  2.5,  3. ,  3.5,  4. ,\n",
       "        4.5,  5. ,  5.5,  6. ,  6.5])"
      ]
     },
     "execution_count": 2,
     "metadata": {},
     "output_type": "execute_result"
    }
   ],
   "source": [
    "interval_in_ms = 500\n",
    "count = 1\n",
    "number_of_pins = 32\n",
    "volt_set = np.arange(-6.5,7,0.5)\n",
    "number_of_datapoints = len(volt_set)\n",
    "volt_measure = np.zeros((number_of_pins,number_of_datapoints))\n",
    "volt_set"
   ]
  },
  {
   "cell_type": "markdown",
   "metadata": {},
   "source": [
    "# Connect to multimeter"
   ]
  },
  {
   "cell_type": "markdown",
   "metadata": {},
   "source": [
    "## if it doesn't show up in the list_resources, try lsusb in command, if it appear in lsusb, install pyusb"
   ]
  },
  {
   "cell_type": "code",
   "execution_count": 3,
   "metadata": {
    "scrolled": true
   },
   "outputs": [],
   "source": [
    "# rm = visa.ResourceManager('@py')\n",
    "rm = visa.ResourceManager()\n",
    "instruments = rm.list_resources()\n",
    "usb = list(filter(lambda x: 'USB' in x, instruments))\n",
    "\n",
    "if len(usb) != 1:\n",
    "    print('Bad instrument list', instruments)\n",
    "    sys.exit(-1)\n",
    "keithley = rm.open_resource(usb[0])"
   ]
  },
  {
   "cell_type": "code",
   "execution_count": 9,
   "metadata": {},
   "outputs": [],
   "source": [
    "rm = visa.ResourceManager()\n",
    "# rm.open_resource('USB0::25::INSTR')"
   ]
  },
  {
   "cell_type": "code",
   "execution_count": null,
   "metadata": {},
   "outputs": [],
   "source": []
  },
  {
   "cell_type": "code",
   "execution_count": 60,
   "metadata": {},
   "outputs": [
    {
     "data": {
      "text/plain": [
       "(u'ASRL/dev/ttyS0::INSTR', u'USB0::2391::6663::MY53200916::0::INSTR')"
      ]
     },
     "execution_count": 60,
     "metadata": {},
     "output_type": "execute_result"
    }
   ],
   "source": [
    "instruments"
   ]
  },
  {
   "cell_type": "code",
   "execution_count": 83,
   "metadata": {},
   "outputs": [
    {
     "data": {
      "text/plain": [
       "0.00136954361"
      ]
     },
     "execution_count": 83,
     "metadata": {},
     "output_type": "execute_result"
    }
   ],
   "source": [
    "volt = float(keithley.query('MEAS:VOLT:DC?'))\n",
    "volt"
   ]
  },
  {
   "cell_type": "markdown",
   "metadata": {},
   "source": [
    "# Connect to labrad dataserver"
   ]
  },
  {
   "cell_type": "markdown",
   "metadata": {},
   "source": [
    "## Start labrad server on pc and turn on dacserver and datavault server (in command line or in webpage)"
   ]
  },
  {
   "cell_type": "code",
   "execution_count": 502,
   "metadata": {},
   "outputs": [],
   "source": [
    "import labrad\n",
    "cxn = labrad.connect()\n",
    "dacserver = cxn.dac_server\n",
    "datavault = cxn.data_vault\n",
    "registry = cxn.registry"
   ]
  },
  {
   "cell_type": "code",
   "execution_count": 503,
   "metadata": {},
   "outputs": [
    {
     "name": "stdout",
     "output_type": "stream",
     "text": [
      "[29189, 29296, 29775, 30004, 30117, 30684, 30916, 31027, 31508, 31628, 31933, 32312, 32575, 32953, 33369, 33560, 33784, 34177, 34393, 34824, 35007, 35241, 35803, 35839, 36391]\n"
     ]
    }
   ],
   "source": [
    "from random import randrange as r\n",
    "\n",
    "stepsize = 300\n",
    "#numSteps = (58500-7000)/stepsize\n",
    "numSteps = (-28907+36625)/stepsize        \n",
    "\n",
    "digVoltages = [ 28907 + r(0, stepsize) + i*stepsize for i in  range(numSteps)]\n",
    "\n",
    "channelToCalib = 'bl2' # trapElectrodeNumber in DacConfiguration\n",
    "print(digVoltages)"
   ]
  },
  {
   "cell_type": "code",
   "execution_count": 504,
   "metadata": {},
   "outputs": [
    {
     "name": "stdout",
     "output_type": "stream",
     "text": [
      "bl2\n"
     ]
    }
   ],
   "source": [
    "print((str(channelToCalib).zfill(2)))"
   ]
  },
  {
   "cell_type": "code",
   "execution_count": 505,
   "metadata": {},
   "outputs": [
    {
     "name": "stdout",
     "output_type": "stream",
     "text": [
      "1.05861163\n"
     ]
    }
   ],
   "source": [
    "print(float(keithley.query('MEAS:VOLT:DC?')))"
   ]
  },
  {
   "cell_type": "code",
   "execution_count": 506,
   "metadata": {},
   "outputs": [],
   "source": [
    "dacserver.set_individual_digital_voltages([(str(channelToCalib).zfill(2), 1)]) "
   ]
  },
  {
   "cell_type": "code",
   "execution_count": 507,
   "metadata": {},
   "outputs": [
    {
     "name": "stdout",
     "output_type": "stream",
     "text": [
      "-24.277129\n"
     ]
    }
   ],
   "source": [
    "print(float(keithley.query('MEAS:VOLT:DC?')))"
   ]
  },
  {
   "cell_type": "code",
   "execution_count": 508,
   "metadata": {},
   "outputs": [],
   "source": [
    "import datetime\n",
    "now = datetime.datetime.now()\n",
    "date = now.strftime(\"%Y%m%d\")\n",
    "TIME = now.strftime('%H%M%S')      \n",
    "\n",
    "datavault.cd(['', date, 'Calibrations',str(channelToCalib) + TIME], True)\n",
    "datavault.new(str(channelToCalib) + TIME,[('digital', '')], [('Analog', 'Volts', 'Volts')])\n",
    "datavault.add_parameter('plotLive',True)"
   ]
  },
  {
   "cell_type": "code",
   "execution_count": 509,
   "metadata": {},
   "outputs": [
    {
     "name": "stdout",
     "output_type": "stream",
     "text": [
      "29189 ;  -4.68306919\n",
      "29296 ;  -4.54012922\n",
      "29775 ;  -3.9160385\n",
      "30004 ;  -3.61770935\n",
      "30117 ;  -3.47041376\n",
      "30684 ;  -2.73164382\n",
      "30916 ;  -2.42954858\n",
      "31027 ;  -2.28501504\n",
      "31508 ;  -1.65819544\n",
      "31628 ;  -1.50173063\n",
      "31933 ;  -1.1041203\n",
      "32312 ;  -0.60963764\n",
      "32575 ;  -0.264514078\n",
      "32953 ;  0.23992797\n",
      "33369 ;  0.786592154\n",
      "33560 ;  1.0357063\n",
      "33784 ;  1.32782088\n",
      "34177 ;  1.84016919\n",
      "34393 ;  2.12200555\n",
      "34824 ;  2.68316431\n",
      "35007 ;  2.92165278\n",
      "35241 ;  3.2267008\n",
      "35803 ;  3.95905918\n",
      "35839 ;  4.00614013\n",
      "36391 ;  4.72544522\n"
     ]
    }
   ],
   "source": [
    "anaVoltages = [] # corresponding analog voltages in volts\n",
    "dacserver.set_individual_digital_voltages([(str(channelToCalib).zfill(2), digVoltages[0])])\n",
    "time.sleep(.3)\n",
    "for dv in digVoltages: # iterate over digital voltages\n",
    "\n",
    "    dacserver.set_individual_digital_voltages([(str(channelToCalib).zfill(2), dv)]) \n",
    "\n",
    "    time.sleep(3.10)\n",
    "\n",
    "    av = float(keithley.query('MEAS:VOLT:DC?'))\n",
    "    #av = 0\n",
    "\n",
    "    anaVoltages.append(av)\n",
    "    datavault.add(dv, av)\n",
    "    print dv, \"; \", av"
   ]
  },
  {
   "cell_type": "code",
   "execution_count": 510,
   "metadata": {},
   "outputs": [
    {
     "data": {
      "text/plain": [
       "array([1.30718896e-01, 6.67997478e-03, 7.63101296e+02, 3.27727090e+04])"
      ]
     },
     "execution_count": 510,
     "metadata": {},
     "output_type": "execute_result"
    }
   ],
   "source": [
    "fit = np.polyfit(anaVoltages, digVoltages, 3)\n",
    "c0 = fit[3]\n",
    "c1 = fit[2]\n",
    "c2 = fit[1]\n",
    "c3 = fit[0]\n",
    "fit"
   ]
  },
  {
   "cell_type": "code",
   "execution_count": 511,
   "metadata": {},
   "outputs": [
    {
     "data": {
      "text/plain": [
       "<matplotlib.lines.Line2D at 0x7fb3ec072a50>"
      ]
     },
     "execution_count": 511,
     "metadata": {},
     "output_type": "execute_result"
    },
    {
     "data": {
      "image/png": "[encoded data removed]",
      "text/plain": [
       "<Figure size 432x288 with 1 Axes>"
      ]
     },
     "metadata": {
      "needs_background": "light"
     },
     "output_type": "display_data"
    }
   ],
   "source": [
    "plt.plot(anaVoltages, digVoltages, 'yo', anaVoltages, [c3*av**3+c2*av**2+c1*av+c0 for av in anaVoltages], '--k')\n",
    "plt.axvline(0)\n",
    "# plt.axhline(0)"
   ]
  },
  {
   "cell_type": "code",
   "execution_count": 512,
   "metadata": {},
   "outputs": [],
   "source": [
    "registry.cd(['', 'Servers', 'electronDAC Server', 'Calibrations', str(channelToCalib)], True)\n",
    "registry.set('c0', fit[3])\n",
    "registry.set('c1', fit[2])\n",
    "registry.set('c2', fit[1])\n",
    "registry.set('c3', fit[0])\n"
   ]
  },
  {
   "cell_type": "markdown",
   "metadata": {},
   "source": [
    "# Rename calibration folder name from trap electrode number to DAC chip number"
   ]
  },
  {
   "cell_type": "code",
   "execution_count": 501,
   "metadata": {},
   "outputs": [
    {
     "data": {
      "text/plain": [
       "1.00014513"
      ]
     },
     "execution_count": 501,
     "metadata": {},
     "output_type": "execute_result"
    }
   ],
   "source": [
    "#dacserver.set_individual_analog_voltages([(str(9).zfill(2), 2)]) \n",
    "dacserver.set_individual_digital_voltages([(str(channelToCalib).zfill(2), 33532)])\n",
    "time.sleep(0.50)\n",
    "float(keithley.query('MEAS:VOLT:DC?'))"
   ]
  },
  {
   "cell_type": "code",
   "execution_count": 480,
   "metadata": {},
   "outputs": [
    {
     "data": {
      "text/plain": [
       "0.76046325"
      ]
     },
     "execution_count": 480,
     "metadata": {},
     "output_type": "execute_result"
    }
   ],
   "source": [
    "float(keithley.query('MEAS:VOLT:DC?'))"
   ]
  },
  {
   "cell_type": "code",
   "execution_count": null,
   "metadata": {},
   "outputs": [],
   "source": []
  }
 ],
 "metadata": {
  "kernelspec": {
   "display_name": "Python 2",
   "language": "python",
   "name": "python2"
  },
  "language_info": {
   "codemirror_mode": {
    "name": "ipython",
    "version": 2
   },
   "file_extension": ".py",
   "mimetype": "text/x-python",
   "name": "python",
   "nbconvert_exporter": "python",
   "pygments_lexer": "ipython2",
   "version": "2.7.12"
  }
 },
 "nbformat": 4,
 "nbformat_minor": 5
}
