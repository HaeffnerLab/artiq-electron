{
 "cells": [
  {
   "cell_type": "code",
   "execution_count": 1,
   "metadata": {},
   "outputs": [
    {
     "name": "stdout",
     "output_type": "stream",
     "text": [
      "['/home/electron/Documents/electron_notebooks/timetagger', '/home/electron/anaconda3/lib/python38.zip', '/home/electron/anaconda3/lib/python3.8', '/home/electron/anaconda3/lib/python3.8/lib-dynload', '', '/home/electron/anaconda3/lib/python3.8/site-packages', '/home/electron/anaconda3/lib/python3.8/site-packages/PyVISA-1.10.0.dev0-py3.8.egg', '/home/electron/anaconda3/lib/python3.8/site-packages/locket-0.2.1-py3.8.egg', '/home/electron/anaconda3/lib/python3.8/site-packages/IPython/extensions', '/home/electron/.ipython', '/usr/lib/python3/dist-packages']\n"
     ]
    }
   ],
   "source": [
    "import sys\n",
    "sys.path.append('/usr/lib/python3/dist-packages')\n",
    "print(sys.path)"
   ]
  },
  {
   "cell_type": "code",
   "execution_count": 2,
   "metadata": {},
   "outputs": [],
   "source": [
    "from TimeTagger import *\n",
    "\n",
    "import asyncio\n",
    "import numpy as np\n",
    "from ipywidgets import Button\n",
    "import plotly.graph_objs as go"
   ]
  },
  {
   "cell_type": "code",
   "execution_count": 3,
   "metadata": {},
   "outputs": [
    {
     "ename": "RuntimeError",
     "evalue": "No Time Tagger attached or already in use. Got the USB error 'Failed' in 'OpenBySerial' in line 153.",
     "output_type": "error",
     "traceback": [
      "\u001b[0;31m---------------------------------------------------------------------------\u001b[0m",
      "\u001b[0;31mRuntimeError\u001b[0m                              Traceback (most recent call last)",
      "\u001b[0;32m<ipython-input-3-7d2e35080172>\u001b[0m in \u001b[0;36m<module>\u001b[0;34m\u001b[0m\n\u001b[1;32m      1\u001b[0m \u001b[0;31m# connect to the TimeTagger\u001b[0m\u001b[0;34m\u001b[0m\u001b[0;34m\u001b[0m\u001b[0;34m\u001b[0m\u001b[0m\n\u001b[0;32m----> 2\u001b[0;31m \u001b[0mtagger\u001b[0m \u001b[0;34m=\u001b[0m \u001b[0mcreateTimeTagger\u001b[0m\u001b[0;34m(\u001b[0m\u001b[0;34m)\u001b[0m\u001b[0;34m\u001b[0m\u001b[0;34m\u001b[0m\u001b[0m\n\u001b[0m\u001b[1;32m      3\u001b[0m \u001b[0;34m\u001b[0m\u001b[0m\n\u001b[1;32m      4\u001b[0m \u001b[0;31m# enable the internal test signal on channels\u001b[0m\u001b[0;34m\u001b[0m\u001b[0;34m\u001b[0m\u001b[0;34m\u001b[0m\u001b[0m\n\u001b[1;32m      5\u001b[0m \u001b[0mtagger\u001b[0m\u001b[0;34m.\u001b[0m\u001b[0msetTestSignal\u001b[0m\u001b[0;34m(\u001b[0m\u001b[0;36m1\u001b[0m\u001b[0;34m,\u001b[0m \u001b[0;32mTrue\u001b[0m\u001b[0;34m)\u001b[0m\u001b[0;34m\u001b[0m\u001b[0;34m\u001b[0m\u001b[0m\n",
      "\u001b[0;32m/usr/lib/python3/dist-packages/TimeTagger.py\u001b[0m in \u001b[0;36mcreateTimeTagger\u001b[0;34m(*args, **kwargs)\u001b[0m\n\u001b[1;32m   3410\u001b[0m \u001b[0;32mdef\u001b[0m \u001b[0mcreateTimeTagger\u001b[0m\u001b[0;34m(\u001b[0m\u001b[0;34m*\u001b[0m\u001b[0margs\u001b[0m\u001b[0;34m,\u001b[0m \u001b[0;34m**\u001b[0m\u001b[0mkwargs\u001b[0m\u001b[0;34m)\u001b[0m\u001b[0;34m:\u001b[0m\u001b[0;34m\u001b[0m\u001b[0;34m\u001b[0m\u001b[0m\n\u001b[1;32m   3411\u001b[0m     \u001b[0;34m\"\"\"createTimeTagger(serial, resolution) -> TimeTagger\"\"\"\u001b[0m\u001b[0;34m\u001b[0m\u001b[0;34m\u001b[0m\u001b[0m\n\u001b[0;32m-> 3412\u001b[0;31m     \u001b[0;32mreturn\u001b[0m \u001b[0m_TimeTagger\u001b[0m\u001b[0;34m.\u001b[0m\u001b[0mcreateTimeTagger\u001b[0m\u001b[0;34m(\u001b[0m\u001b[0;34m*\u001b[0m\u001b[0margs\u001b[0m\u001b[0;34m,\u001b[0m \u001b[0;34m**\u001b[0m\u001b[0mkwargs\u001b[0m\u001b[0;34m)\u001b[0m\u001b[0;34m\u001b[0m\u001b[0;34m\u001b[0m\u001b[0m\n\u001b[0m\u001b[1;32m   3413\u001b[0m \u001b[0;34m\u001b[0m\u001b[0m\n\u001b[1;32m   3414\u001b[0m \u001b[0;32mdef\u001b[0m \u001b[0mcreateTimeTaggerVirtual\u001b[0m\u001b[0;34m(\u001b[0m\u001b[0;34m)\u001b[0m\u001b[0;34m:\u001b[0m\u001b[0;34m\u001b[0m\u001b[0;34m\u001b[0m\u001b[0m\n",
      "\u001b[0;31mRuntimeError\u001b[0m: No Time Tagger attached or already in use. Got the USB error 'Failed' in 'OpenBySerial' in line 153."
     ]
    }
   ],
   "source": [
    "# connect to the TimeTagger\n",
    "tagger = createTimeTagger()\n",
    "\n",
    "# enable the internal test signal on channels \n",
    "tagger.setTestSignal(1, True)"
   ]
  },
  {
   "cell_type": "code",
   "execution_count": null,
   "metadata": {},
   "outputs": [],
   "source": [
    "# create a counter with 100 ms binwidth and one bin and \n",
    "trace = Counter(tagger, [1], 10**9, 1000)\n",
    "\n",
    "# create a figure widget and a plot\n",
    "fig_trace = go.FigureWidget()\n",
    "fig_trace.add_scatter(x=trace.getIndex(), y=trace.getData()[0])\n",
    "\n",
    "async def update_trace():\n",
    "    \"\"\"Update the plot every 0.1 s\"\"\"\n",
    "    while True:\n",
    "        fig_trace.data[0].y = trace.getData()[0]\n",
    "        await asyncio.sleep(0.1)\n",
    "\n",
    "# If this cell is re-excecuted and there was a previous task, stop it first to avoid a dead daemon\n",
    "try:\n",
    "    task_trace.cancel()\n",
    "except:\n",
    "    pass\n",
    "loop = asyncio.get_event_loop()\n",
    "task_trace = loop.create_task(update_trace())\n",
    "    \n",
    "# create a stop button\n",
    "button_trace = Button(description='stop')\n",
    "button_trace.on_click(lambda a: task_trace.cancel())\n",
    "\n",
    "display(fig_trace,button_trace)\n"
   ]
  },
  {
   "cell_type": "code",
   "execution_count": null,
   "metadata": {},
   "outputs": [],
   "source": [
    "# create a counter with 100 ms binwidth and one bin and \n",
    "point = Counter(tagger, [1], 10**11, 1)\n",
    "\n",
    "# create a figure widget and a plot\n",
    "fig_bar = go.FigureWidget()\n",
    "fig_bar.add_bar(x=point.getIndex(), y=point.getData()[0])\n",
    "fig_bar.layout.yaxis={'range':[0,100000]}\n",
    "\n",
    "async def update_bar():\n",
    "    \"\"\"Update the plot every 0.1 s\"\"\"\n",
    "    while True:\n",
    "        fig_bar.data[0].y = point.getData()[0]\n",
    "        await asyncio.sleep(0.1)\n",
    "\n",
    "# If this cell is re-excecuted and there was a previous task, stop it first to avoid a dead daemon\n",
    "try:\n",
    "    task_bar.cancel()\n",
    "except:\n",
    "    pass\n",
    "loop = asyncio.get_event_loop()\n",
    "task_bar = loop.create_task(update_bar())\n",
    "\n",
    "# create a stop button\n",
    "button_bar = Button(description='stop')\n",
    "button_bar.on_click(lambda a: task_bar.cancel())\n",
    "\n",
    "display(fig_bar, button_bar)\n"
   ]
  }
 ],
 "metadata": {
  "kernelspec": {
   "display_name": "Python 2",
   "language": "python",
   "name": "python2"
  },
  "language_info": {
   "codemirror_mode": {
    "name": "ipython",
    "version": 2
   },
   "file_extension": ".py",
   "mimetype": "text/x-python",
   "name": "python",
   "nbconvert_exporter": "python",
   "pygments_lexer": "ipython2",
   "version": "2.7.12"
  }
 },
 "nbformat": 4,
 "nbformat_minor": 5
}
