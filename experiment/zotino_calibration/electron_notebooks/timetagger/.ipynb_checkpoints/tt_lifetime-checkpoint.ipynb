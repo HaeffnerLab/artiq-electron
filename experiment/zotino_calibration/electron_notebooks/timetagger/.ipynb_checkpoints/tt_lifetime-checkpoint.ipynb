{
 "cells": [
  {
   "cell_type": "code",
   "execution_count": 1,
   "id": "e58fda6e",
   "metadata": {
    "scrolled": true
   },
   "outputs": [],
   "source": [
    "import sys\n",
    "sys.path.append('/usr/lib/python3/dist-packages')\n",
    "# print(sys.path)\n",
    "import TimeTagger\n",
    "from TimeTagger import *\n",
    "from TimeTagger import createTimeTagger, Counter, Countrate, Histogram, LOW, HIGH, freeTimeTagger, scanTimeTagger, ConstantFractionDiscriminator"
   ]
  },
  {
   "cell_type": "code",
   "execution_count": 2,
   "id": "e9e35e8d",
   "metadata": {},
   "outputs": [],
   "source": [
    "import os\n",
    "import numpy as np\n",
    "import matplotlib.pyplot as plt\n",
    "%matplotlib inline\n",
    "# import oskar\n",
    "# scripts = oskar.Scripts()\n",
    "import numpy as np\n",
    "from tqdm import tqdm\n",
    "import numpy\n",
    "import matplotlib.pyplot as plot\n",
    "import sys\n",
    "import pickle as pkl\n",
    "# import pyvisa as visa\n",
    "import visa\n",
    "import datetime\n",
    "from scipy.optimize import curve_fit\n",
    "from collections import defaultdict\n",
    "from scipy.stats import kurtosis, skew\n",
    "import pandas as pd\n",
    "import xarray as xr\n",
    "from collections import OrderedDict\n",
    "from pathlib import Path\n",
    "import fnmatch\n",
    "from time import sleep"
   ]
  },
  {
   "cell_type": "code",
   "execution_count": 3,
   "id": "d45ce79b",
   "metadata": {},
   "outputs": [
    {
     "name": "stdout",
     "output_type": "stream",
     "text": [
      "('2138000XGZ',)\n"
     ]
    },
    {
     "data": {
      "text/plain": [
       "102000"
      ]
     },
     "execution_count": 3,
     "metadata": {},
     "output_type": "execute_result"
    }
   ],
   "source": [
    "print (scanTimeTagger())\n",
    "# create a timetagger instance\n",
    "tagger = createTimeTagger()\n",
    "# print (scanTimeTagger())\n",
    "tagger.reset()\n",
    "trigger = 0.5\n",
    "tagger.setTriggerLevel(1, trigger)\n",
    "tagger.setDeadtime(1, 100000)\n",
    "# Ch2_CFD = ConstantFractionDiscriminator(tagger,[2], search_window = 10000)\n",
    "# CFD_channels = Ch2_CFD.getChannels()"
   ]
  },
  {
   "cell_type": "markdown",
   "id": "44cc5696",
   "metadata": {},
   "source": [
    "Quick and dirty idea: run the single block twice for each experiment; in artiq, have another channel that has a constant delay after the triggering pulse. Sleep for the same amount of time, the number of experiment cycles will be the number of this pulses."
   ]
  },
  {
   "cell_type": "markdown",
   "id": "c9e57c66",
   "metadata": {},
   "source": [
    "Another idea: after running the quick and dirty version of the code (compare it with artiq's input, roi counting and histogram counting). If we gain confidence for artiq, then we could use only artiq to take the measurement, which will be more simple."
   ]
  },
  {
   "cell_type": "markdown",
   "id": "092cdb0e",
   "metadata": {},
   "source": [
    "# Double histogram for electron signal and sanity check cycle pulse"
   ]
  },
  {
   "cell_type": "code",
   "execution_count": 14,
   "id": "1fef1495",
   "metadata": {},
   "outputs": [],
   "source": [
    "variable = []\n",
    "n_cycle = []\n",
    "roi = []\n",
    "prob = []"
   ]
  },
  {
   "cell_type": "code",
   "execution_count": 22,
   "id": "b3404069",
   "metadata": {},
   "outputs": [
    {
     "name": "stderr",
     "output_type": "stream",
     "text": [
      "\r",
      "  0%|          | 0/1 [00:00<?, ?it/s]"
     ]
    },
    {
     "name": "stdout",
     "output_type": "stream",
     "text": [
      "[0.001      0.00215443 0.00464159 0.01       0.02154435 0.04641589\n",
      " 0.1        0.21544347 0.46415888 1.        ]\n",
      "[1.         0.04641589 0.001      0.02154435 0.01       0.46415888\n",
      " 0.00215443 0.00464159 0.21544347 0.1       ]\n",
      "20221015_Hist_10\n"
     ]
    },
    {
     "name": "stderr",
     "output_type": "stream",
     "text": [
      "100%|██████████| 1/1 [00:06<00:00,  6.14s/it]"
     ]
    },
    {
     "name": "stdout",
     "output_type": "stream",
     "text": [
      "0.01 457 20000 0.02285\n"
     ]
    },
    {
     "name": "stderr",
     "output_type": "stream",
     "text": [
      "\n"
     ]
    }
   ],
   "source": [
    "wait_times = np.logspace(3, 6, 10) * 1E-6 # in s\n",
    "wait_times_random = wait_times\n",
    "print (wait_times)\n",
    "np.random.shuffle(wait_times_random)\n",
    "print (wait_times_random)\n",
    "\n",
    "t_wait = 10E-6 # in us\n",
    "wait_times_random = [t_wait]\n",
    "cycle_duration = 112.2E-6 + t_wait # count this in artiq, double check with a awg, t_load (us) + t_wait (us) + 2.2 + 10\n",
    "exp_cycles = 5E4  # how many experiment repetitions\n",
    "########## for calibrated ttl12 #####################\n",
    "time_window_calibration = 1000 # total time window width (after the triggering) in ns\n",
    "t_start_calibration = 100 # start time of the roi after the triggering in ns\n",
    "t_stop_calibration = 300 # stop time of the roi after the triggering in ns\n",
    "########## for electron signal ######################\n",
    "time_window = 1000 # total time window width (after the triggering) in ns\n",
    "t_start = 450 # start time of the roi after the triggering in ns\n",
    "t_stop = 650 # stop time of the roi after the triggering in ns\n",
    "bwidth = 500 # binwidth of time tagger histogram in ps\n",
    "date = datetime.datetime.today().strftime(\"%Y%m%d\")\n",
    "\n",
    "\n",
    "for wait_time in tqdm(wait_times_random):\n",
    "\n",
    "#     cycle_duration,wait_time_corr = rigol.run(pulse_width_ao, pulse_delay_ao, pulse_width_ej, pulse_delay_ej, wait_time)\n",
    "    filename = date + \"_Hist_\" + str(\"{:n}\".format(wait_time/1E-6))\n",
    "    '''\n",
    "    filename = date + '_lifetime_U2_' + str(\"{:.2f}\".format(U2))+'_U1_' + str(\"{:.2f}\".format(U1))  +'_Ex' + str(\"{:.2f}\".format(Ex)) +'_Ey' + str(\"{:.2f}\".format(Ey))+'_Ez' + str(\"{:.2f}\".format(Ez)) + '_Prf' + str(\"{:.2f}\".format(Prf)) +'dBm_Tload' + str(\"{:n}\".format(pulse_width_ao/1E-6)) + 'us_Tej' \\\n",
    "    + str(\"{:n}\".format(pulse_width_ej/1E-9)) + 'ns_wait' + str(\"{:n}\".format(wait_time_corr/1E-6)) + 'us_reps'+ \\\n",
    "    str(\"{:.1e}\".format(exp_cycles)) +'_trigger' + str(\"{:.1f}\".format(trigger))+ 'CFD_off_+300V.txt'\n",
    "    '''\n",
    "    print (filename)\n",
    "    ###############################\n",
    "    # set up time tagger histogram and take data\n",
    "    n_bin = int(time_window*(1000/bwidth)) # total time window 500 ns\n",
    "    histo = Histogram(tagger, click_channel = 2, start_channel = 1, binwidth = bwidth, n_bins = n_bin)\n",
    "    histo_calibration = Histogram(tagger, click_channel = 3, start_channel = 1, binwidth = bwidth, n_bins = n_bin)\n",
    "#     histo = Histogram(tagger, click_channel = CFD_channels[0], start_channel = 1, binwidth = bwidth, n_bins = n_bin)\n",
    "    tagger.sync()\n",
    "    histo.clear()\n",
    "    histo_calibration.clear()\n",
    "    sleep(cycle_duration * exp_cycles)\n",
    "    data = histo.getData()\n",
    "    data_calibration = histo_calibration.getData()\n",
    "    ###############################\n",
    "    # save data for the signal\n",
    "    roi_start = int(t_start * 1000/bwidth)  # start time of the roi\n",
    "    roi_stop = int(t_stop *1000/bwidth)   # stop time of the roi\n",
    "    roi_start_calibration = int(t_start_calibration * 1000/bwidth)  # start time of the roi\n",
    "    roi_stop_calibration = int(t_stop_calibration *1000/bwidth)   # stop time of the roi\n",
    "    x_data = np.arange(0, n_bin) * bwidth/1000 # x-axis, time in ns\n",
    "    file_data = np.array([x_data, data])\n",
    "    file_data = file_data.T\n",
    "    np.savetxt(filename, file_data, delimiter=',')\n",
    "    roi_count = np.sum(data[roi_start:roi_stop])\n",
    "    cycle_numbers = np.sum(data_calibration[roi_start_calibration:roi_stop_calibration])\n",
    "    print (wait_time*1E3, roi_count, cycle_numbers, roi_count/cycle_numbers)\n",
    "    variable = np.append(variable, wait_time)\n",
    "    n_cycle = np.append(n_cycle, cycle_numbers)\n",
    "    roi = np.append(roi, roi_count)\n",
    "    prob = np.append(prob, roi_count/cycle_numbers)\n",
    "\n"
   ]
  },
  {
   "cell_type": "code",
   "execution_count": 20,
   "id": "5d991bc1",
   "metadata": {},
   "outputs": [
    {
     "name": "stdout",
     "output_type": "stream",
     "text": [
      "[1.e-05 1.e-04 1.e-03]\n",
      "[41008. 54259. 86536.]\n",
      "[1275.  788.   18.]\n",
      "[0.03109149 0.01452294 0.00020801]\n"
     ]
    }
   ],
   "source": [
    "print(variable)\n",
    "print(n_cycle)\n",
    "print(roi)\n",
    "print(prob)"
   ]
  },
  {
   "cell_type": "code",
   "execution_count": 21,
   "id": "4ce564fb",
   "metadata": {},
   "outputs": [],
   "source": [
    "ROI_data = np.array([variable,roi,n_cycle])\n",
    "ROI_data = ROI_data.T \n",
    "'''\n",
    "    filename_roi = date + '_lifetime_ROI_U2_' + str(\"{:.2f}\".format(U2))+'_U1_' + str(\"{:.2f}\".format(U1)) +'_Ex' + str(\"{:.2f}\".format(Ex)) +'_Ey' + str(\"{:.2f}\".format(Ey)) +'_Ez' + str(\"{:.2f}\".format(Ez))+'_Prf' + str(\"{:.2f}\".format(Prf)) +'dBm_Tej' \\\n",
    "    + str(\"{:n}\".format(pulse_width_ej/1E-9)) + 'ns_wait' + str(\"{:n}\".format(wait_time_corr/1E-6)) + 'us_Tload' + str(\"{:n}\".format(pulse_width_ao/1E-6)) + 'us_' + 'reps'+ \\\n",
    "    str(\"{:.1e}\".format(exp_cycles)) + '_trigger' + str(\"{:.1f}\".format(trigger))+ 'CFD_off_+300V.txt'\n",
    "'''\n",
    "filename_roi = date + \"_ROI_lifetime_1\"\n",
    "np.savetxt(filename_roi,ROI_data,delimiter=',')"
   ]
  },
  {
   "cell_type": "markdown",
   "id": "f78d1e7f",
   "metadata": {},
   "source": [
    "# Single histogram for electron signal"
   ]
  },
  {
   "cell_type": "code",
   "execution_count": null,
   "id": "025d0cea",
   "metadata": {},
   "outputs": [],
   "source": [
    "wait_times = np.logspace(3, 6, 10) * 1E-6 # in s\n",
    "wait_times_random = wait_times\n",
    "print (wait_times)\n",
    "np.random.shuffle(wait_times_random)\n",
    "print (wait_times_random)\n",
    "\n",
    "\n",
    "wait_times_random = [100E-6]\n",
    "cycle_duration = 117.2E-6 # count this in artiq, double check with a awg, t_load (us) + t_wait (us) + 2.2 + 10\n",
    "exp_cycles = 5E3  # how many experiment repetitions\n",
    "########## for electron signal ######################\n",
    "time_window = 500 # total time window width (after the triggering) in ns\n",
    "t_start = 80 # start time of the roi after the triggering in ns\n",
    "t_stop = 130 # stop time of the roi after the triggering in ns\n",
    "bwidth = 500 # binwidth of time tagger histogram in ps\n",
    "date = datetime.datetime.today().strftime(\"%Y%m%d\")\n",
    "variable = []\n",
    "roi = []\n",
    "\n",
    "\n",
    "for wait_time in tqdm(wait_times_random):\n",
    "\n",
    "#     cycle_duration,wait_time_corr = rigol.run(pulse_width_ao, pulse_delay_ao, pulse_width_ej, pulse_delay_ej, wait_time)\n",
    "    filename = date + \"_Hist_\" + str(\"{:n}\".format(wait_time/1E-6))\n",
    "    '''\n",
    "    filename = date + '_lifetime_U2_' + str(\"{:.2f}\".format(U2))+'_U1_' + str(\"{:.2f}\".format(U1))  +'_Ex' + str(\"{:.2f}\".format(Ex)) +'_Ey' + str(\"{:.2f}\".format(Ey))+'_Ez' + str(\"{:.2f}\".format(Ez)) + '_Prf' + str(\"{:.2f}\".format(Prf)) +'dBm_Tload' + str(\"{:n}\".format(pulse_width_ao/1E-6)) + 'us_Tej' \\\n",
    "    + str(\"{:n}\".format(pulse_width_ej/1E-9)) + 'ns_wait' + str(\"{:n}\".format(wait_time_corr/1E-6)) + 'us_reps'+ \\\n",
    "    str(\"{:.1e}\".format(exp_cycles)) +'_trigger' + str(\"{:.1f}\".format(trigger))+ 'CFD_off_+300V.txt'\n",
    "    '''\n",
    "    print (filename)\n",
    "    ###############################\n",
    "    # set up time tagger histogram and take data\n",
    "    n_bin = int(time_window*(1000/bwidth)) # total time window 500 ns\n",
    "    histo = Histogram(tagger, click_channel = 2, start_channel = 1, binwidth = bwidth, n_bins = n_bin)\n",
    "#     histo = Histogram(tagger, click_channel = CFD_channels[0], start_channel = 1, binwidth = bwidth, n_bins = n_bin)\n",
    "    tagger.sync()\n",
    "    histo.clear()\n",
    "    sleep(cycle_duration * exp_cycles)\n",
    "    data = histo.getData()\n",
    "    ###############################\n",
    "    # save data\n",
    "    roi_start = int(t_start * 1000/bwidth)  # start time of the roi\n",
    "    roi_stop = int(t_stop *1000/bwidth)   # stop time of the roi\n",
    "    x_data = np.arange(0, n_bin) * bwidth/1000 # x-axis, time in ns\n",
    "#     file_data = np.array([x_data[0:1000], data[0:1000]])\n",
    "    file_data = np.array([x_data, data])\n",
    "    file_data = file_data.T\n",
    "    np.savetxt(filename, file_data, delimiter=',')\n",
    "    roi_count = np.sum(data[roi_start:roi_stop])\n",
    "    print (wait_time*1E3, roi_count)\n",
    "    variable = np.append(variable, wait_time)\n",
    "    roi = np.append(roi, roi_count)\n",
    "\n",
    "ROI_data = np.array([variable,roi])\n",
    "ROI_data = ROI_data.T \n",
    "'''\n",
    "    filename_roi = date + '_lifetime_ROI_U2_' + str(\"{:.2f}\".format(U2))+'_U1_' + str(\"{:.2f}\".format(U1)) +'_Ex' + str(\"{:.2f}\".format(Ex)) +'_Ey' + str(\"{:.2f}\".format(Ey)) +'_Ez' + str(\"{:.2f}\".format(Ez))+'_Prf' + str(\"{:.2f}\".format(Prf)) +'dBm_Tej' \\\n",
    "    + str(\"{:n}\".format(pulse_width_ej/1E-9)) + 'ns_wait' + str(\"{:n}\".format(wait_time_corr/1E-6)) + 'us_Tload' + str(\"{:n}\".format(pulse_width_ao/1E-6)) + 'us_' + 'reps'+ \\\n",
    "    str(\"{:.1e}\".format(exp_cycles)) + '_trigger' + str(\"{:.1f}\".format(trigger))+ 'CFD_off_+300V.txt'\n",
    "'''\n",
    "filename_roi = date + \"_ROI\"\n",
    "np.savetxt(filename_roi,ROI_data,delimiter=',')"
   ]
  }
 ],
 "metadata": {
  "kernelspec": {
   "display_name": "Python 3",
   "language": "python",
   "name": "python3"
  },
  "language_info": {
   "codemirror_mode": {
    "name": "ipython",
    "version": 3
   },
   "file_extension": ".py",
   "mimetype": "text/x-python",
   "name": "python",
   "nbconvert_exporter": "python",
   "pygments_lexer": "ipython3",
   "version": "3.8.8"
  }
 },
 "nbformat": 4,
 "nbformat_minor": 5
}
