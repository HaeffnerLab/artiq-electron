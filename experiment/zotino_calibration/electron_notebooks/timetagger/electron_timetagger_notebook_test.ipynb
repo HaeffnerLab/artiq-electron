{
 "cells": [
  {
   "cell_type": "code",
   "execution_count": 1,
   "id": "3530993b",
   "metadata": {},
   "outputs": [],
   "source": [
    "from TimeTagger import *\n",
    "\n",
    "import asyncio\n",
    "import numpy as np\n",
    "from ipywidgets import Button\n",
    "import plotly.graph_objs as go"
   ]
  },
  {
   "cell_type": "code",
   "execution_count": 2,
   "id": "96864016",
   "metadata": {},
   "outputs": [],
   "source": [
    "# connect to the TimeTagger\n",
    "tagger = createTimeTagger()\n",
    "\n",
    "# enable the internal test signal on channels \n",
    "tagger.setTestSignal(1, True)"
   ]
  },
  {
   "cell_type": "code",
   "execution_count": 3,
   "id": "07f2e7f3",
   "metadata": {},
   "outputs": [
    {
     "data": {
      "application/vnd.jupyter.widget-view+json": {
       "model_id": "e455088a33f54cfdbab7c620f78fa14b",
       "version_major": 2,
       "version_minor": 0
      },
      "text/plain": [
       "FigureWidget({\n",
       "    'data': [{'type': 'scatter',\n",
       "              'uid': '57997cdc-d7de-4a61-94da-cdab3f9759ee',\n",
       "              'x': array([           0,   1000000000,   2000000000, ..., 997000000000,\n",
       "                          998000000000, 999000000000], dtype=int64),\n",
       "              'y': array([  0,   0,   0, ..., 841, 840, 840], dtype=int32)}],\n",
       "    'layout': {'template': '...'}\n",
       "})"
      ]
     },
     "metadata": {},
     "output_type": "display_data"
    },
    {
     "data": {
      "application/vnd.jupyter.widget-view+json": {
       "model_id": "000cc1da83af4beeb8b6db9a4a8cf5c2",
       "version_major": 2,
       "version_minor": 0
      },
      "text/plain": [
       "Button(description='stop', style=ButtonStyle())"
      ]
     },
     "metadata": {},
     "output_type": "display_data"
    }
   ],
   "source": [
    "# create a counter with 100 ms binwidth and one bin and \n",
    "trace = Counter(tagger, [1], 10**9, 1000)\n",
    "\n",
    "# create a figure widget and a plot\n",
    "fig_trace = go.FigureWidget()\n",
    "fig_trace.add_scatter(x=trace.getIndex(), y=trace.getData()[0])\n",
    "\n",
    "async def update_trace():\n",
    "    \"\"\"Update the plot every 0.1 s\"\"\"\n",
    "    while True:\n",
    "        fig_trace.data[0].y = trace.getData()[0]\n",
    "        await asyncio.sleep(0.1)\n",
    "\n",
    "# If this cell is re-excecuted and there was a previous task, stop it first to avoid a dead daemon\n",
    "try:\n",
    "    task_trace.cancel()\n",
    "except:\n",
    "    pass\n",
    "loop = asyncio.get_event_loop()\n",
    "task_trace = loop.create_task(update_trace())\n",
    "    \n",
    "# create a stop button\n",
    "button_trace = Button(description='stop')\n",
    "button_trace.on_click(lambda a: task_trace.cancel())\n",
    "\n",
    "display(fig_trace,button_trace)\n"
   ]
  },
  {
   "cell_type": "code",
   "execution_count": 4,
   "id": "5144fe1c",
   "metadata": {},
   "outputs": [
    {
     "data": {
      "application/vnd.jupyter.widget-view+json": {
       "model_id": "ccb38ff3c5e94e099927b7aa14c924e1",
       "version_major": 2,
       "version_minor": 0
      },
      "text/plain": [
       "FigureWidget({\n",
       "    'data': [{'type': 'bar',\n",
       "              'uid': '0bd6d121-92e1-4096-afcb-2727adef9355',\n",
       "              'x': array([0], dtype=int64),\n",
       "              'y': array([0], dtype=int32)}],\n",
       "    'layout': {'template': '...', 'yaxis': {'range': [0, 100000]}}\n",
       "})"
      ]
     },
     "metadata": {},
     "output_type": "display_data"
    },
    {
     "data": {
      "application/vnd.jupyter.widget-view+json": {
       "model_id": "b4aaa6c1b9cb4cd38ee1dd0c92262d6c",
       "version_major": 2,
       "version_minor": 0
      },
      "text/plain": [
       "Button(description='stop', style=ButtonStyle())"
      ]
     },
     "metadata": {},
     "output_type": "display_data"
    }
   ],
   "source": [
    "# create a counter with 100 ms binwidth and one bin and \n",
    "point = Counter(tagger, [1], 10**11, 1)\n",
    "\n",
    "# create a figure widget and a plot\n",
    "fig_bar = go.FigureWidget()\n",
    "fig_bar.add_bar(x=point.getIndex(), y=point.getData()[0])\n",
    "fig_bar.layout.yaxis={'range':[0,100000]}\n",
    "\n",
    "async def update_bar():\n",
    "    \"\"\"Update the plot every 0.1 s\"\"\"\n",
    "    while True:\n",
    "        fig_bar.data[0].y = point.getData()[0]\n",
    "        await asyncio.sleep(0.1)\n",
    "\n",
    "# If this cell is re-excecuted and there was a previous task, stop it first to avoid a dead daemon\n",
    "try:\n",
    "    task_bar.cancel()\n",
    "except:\n",
    "    pass\n",
    "loop = asyncio.get_event_loop()\n",
    "task_bar = loop.create_task(update_bar())\n",
    "\n",
    "# create a stop button\n",
    "button_bar = Button(description='stop')\n",
    "button_bar.on_click(lambda a: task_bar.cancel())\n",
    "\n",
    "display(fig_bar, button_bar)\n"
   ]
  },
  {
   "cell_type": "code",
   "execution_count": 5,
   "id": "56a390e4",
   "metadata": {},
   "outputs": [],
   "source": [
    "import matplotlib.pyplot as plt"
   ]
  },
  {
   "cell_type": "code",
   "execution_count": 6,
   "id": "8c794092",
   "metadata": {},
   "outputs": [
    {
     "data": {
      "text/plain": [
       "[<matplotlib.lines.Line2D at 0x7f9cb96e5610>]"
      ]
     },
     "execution_count": 6,
     "metadata": {},
     "output_type": "execute_result"
    },
    {
     "data": {
      "image/png": "[encoded data removed]",
      "text/plain": [
       "<Figure size 640x480 with 1 Axes>"
      ]
     },
     "metadata": {},
     "output_type": "display_data"
    }
   ],
   "source": [
    "plt.plot(point.getIndex(), point.getData()[0], 'o')"
   ]
  },
  {
   "cell_type": "code",
   "execution_count": 7,
   "id": "cf25d01d",
   "metadata": {},
   "outputs": [
    {
     "data": {
      "text/plain": [
       "(array([0], dtype=int64), array([84025], dtype=int32))"
      ]
     },
     "execution_count": 7,
     "metadata": {},
     "output_type": "execute_result"
    }
   ],
   "source": [
    "point.getIndex(), point.getData()[0]"
   ]
  },
  {
   "cell_type": "code",
   "execution_count": 11,
   "id": "f2fb7e81",
   "metadata": {},
   "outputs": [],
   "source": [
    "import logging\n",
    "import asyncio\n",
    "import os\n",
    "from PyQt5 import QtCore, QtGui, QtWidgets\n",
    "from TimeTagger import createTimeTagger, Counter, \\\n",
    "                       Countrate, Histogram, LOW, \\\n",
    "                       HIGH, freeTimeTagger, scanTimeTagger, \\\n",
    "                       ConstantFractionDiscriminator\n",
    "import numpy as np\n",
    "import datetime\n",
    "import tqdm\n",
    "from time import sleep\n",
    "from matplotlib.backends.backend_qt5agg import FigureCanvasQTAgg as FigureCanvas\n",
    "from matplotlib.backends.backend_qt5agg import NavigationToolbar2QT as NavigationToolbar\n",
    "from matplotlib.figure import Figure\n",
    "import matplotlib.pyplot as plt\n",
    "\n",
    "#import logging\n",
    "#logger = logging.getLogger(__name__)\n",
    "\n",
    "#laser_room_ip = \"192.168.169.49\"\n",
    "#SIGNALID = 270835\n",
    "\n",
    "\n",
    "class HistogramDock(QtWidgets.QDockWidget):\n",
    "    def __init__(self, tagger):\n",
    "        super().__init__()\n",
    "        self.setup_layout()\n",
    "        self.tagger = tagger\n",
    "\n",
    "\n",
    "\n",
    "    def plot_histogram(self):\n",
    "        wait_times = np.logspace(3, 6, 10) * 1E-6 # in s\n",
    "        wait_times_random = wait_times\n",
    "        #print (wait_times)\n",
    "        np.random.shuffle(wait_times_random)\n",
    "        #print (wait_times_random)\n",
    "\n",
    "        t_wait = 10E-6 # in us\n",
    "        wait_times_random = [t_wait]\n",
    "        cycle_duration = 112.2E-6 + t_wait # count this in artiq, double check with a awg, t_load (us) + t_wait (us) + 2.2 + 10\n",
    "        exp_cycles = 5E4  # how many experiment repetitions\n",
    "        ########## for calibrated ttl12 #####################\n",
    "        time_window_calibration = 1000 # total time window width (after the triggering) in ns\n",
    "        t_start_calibration = 100 # start time of the roi after the triggering in ns\n",
    "        t_stop_calibration = 300 # stop time of the roi after the triggering in ns\n",
    "        ########## for electron signal ######################\n",
    "        time_window = 1000 # total time window width (after the triggering) in ns\n",
    "        t_start = 450 # start time of the roi after the triggering in ns\n",
    "        t_stop = 650 # stop time of the roi after the triggering in ns\n",
    "        bwidth = 500 # binwidth of time tagger histogram in ps\n",
    "        date = datetime.datetime.today().strftime(\"%Y%m%d\")\n",
    "        variable = []\n",
    "        n_cycle = []\n",
    "        roi = []\n",
    "        prob = []\n",
    "\n",
    "        for wait_time in wait_times_random:\n",
    "            tagger = self.tagger\n",
    "            filename = date + \"_Hist_\" + str(\"{:n}\".format(wait_time/1E-6))\n",
    "            ###############################\n",
    "            # set up time tagger histogram and take data\n",
    "            n_bin = int(time_window*(1000/bwidth)) # total time window 500 ns\n",
    "            histo = Histogram(tagger, click_channel = 2, start_channel = 1, binwidth = bwidth, n_bins = n_bin)\n",
    "            histo_calibration = Histogram(tagger, click_channel = 3, start_channel = 1, binwidth = bwidth, n_bins = n_bin)\n",
    "            tagger.sync()\n",
    "            histo.clear()\n",
    "            histo_calibration.clear()\n",
    "            #sleep(cycle_duration * exp_cycles)\n",
    "            data = histo.getData()\n",
    "            data_calibration = histo_calibration.getData()\n",
    "            ###############################\n",
    "            # save data for the signal\n",
    "            roi_start = int(t_start * 1000/bwidth)  # start time of the roi\n",
    "            roi_stop = int(t_stop *1000/bwidth)   # stop time of the roi\n",
    "            roi_start_calibration = int(t_start_calibration * 1000/bwidth)  # start time of the roi\n",
    "            roi_stop_calibration = int(t_stop_calibration *1000/bwidth)   # stop time of the roi\n",
    "            x_data = np.arange(0, n_bin) * bwidth/1000 # x-axis, time in ns\n",
    "            file_data = np.array([x_data, data])\n",
    "            file_data = file_data.T\n",
    "            #np.savetxt(filename, file_data, delimiter=',')\n",
    "            roi_count = np.sum(data[roi_start:roi_stop])\n",
    "            cycle_numbers = np.sum(data_calibration[roi_start_calibration:roi_stop_calibration])\n",
    "            #print (wait_time*1E3, roi_count, cycle_numbers, roi_count/cycle_numbers)\n",
    "            variable = np.append(variable, wait_time)\n",
    "            n_cycle = np.append(n_cycle, cycle_numbers)\n",
    "            roi = np.append(roi, roi_count)\n",
    "            prob = np.append(prob, roi_count/cycle_numbers)\n",
    "        \n",
    "        self.axes.plot(roi, label='test data')\n",
    "        \n",
    "    \n",
    "    def setup_layout(self):\n",
    "        layout = QtWidgets.QVBoxLayout()\n",
    "        self.fig = Figure()\n",
    "        self.canvas = FigureCanvas(self.fig)\n",
    "        self.canvas.setParent(self)\n",
    "        self.axes = self.fig.add_subplot(111)\n",
    "        self.mpl_toolbar = NavigationToolbar(self.canvas, self)\n",
    "        #self.test_plot(self.axes)\n",
    "        self.axes.set_title('Time Tagger Histogram', fontsize = 22)\n",
    "        self.axes.set_xlabel('Time (ms)')\n",
    "        #self.axes.legend(loc = 'best')\n",
    "        self.fig.tight_layout()\n",
    "        layout.addWidget(self.mpl_toolbar)\n",
    "        layout.addWidget(self.canvas)\n",
    "        self.setLayout(layout)\n",
    "\n",
    "    def start_plot(self):\n",
    "        self.continue_plotting = True\n",
    "        self.x_so_far = []\n",
    "        while self.continue_plotting:\n",
    "            self.loop_plot()\n",
    "            #sleep(1e-3)\n",
    "    \n",
    "    def continue_plot(self):\n",
    "        self.continue_plotting = True\n",
    "        while self.continue_plotting:\n",
    "            self.loop_plot()\n",
    "            sleep(1e-3)\n",
    "\n",
    "    def end_plot(self):\n",
    "        self.continue_plotting = False\n",
    "        \n",
    "    def loop_plot(self):\n",
    "        ax = self.axes\n",
    "        ax.clear()\n",
    "        #ax.remove()\n",
    "        #self.axes = ax = self.fig.add_subplot(111)\n",
    "        self.plot_histogram()\n",
    "        ax.legend(loc='upper right')\n",
    "        #interval = 100\n",
    "        #ax.set_xbound(max(max(self.step)-interval, 0), max(self.step))\n",
    "        ax.set_title('Histogram', fontsize = 22)\n",
    "        ax.set_xlabel('Time (ms)')\n",
    "        self.fig.canvas.draw_idle()\n",
    "        self.fig.canvas.flush_events()\n",
    "\n",
    "    def test_plot(self):\n",
    "        ax = self.axes\n",
    "        x = np.random.random(1000)\n",
    "        self.x_so_far.append(x)\n",
    "        # if len(self.x_so_far) > 1e3:\n",
    "        ax.hist(self.x_so_far, histtype='step', linewidth=2, align='mid', label='Test Data')"
   ]
  },
  {
   "cell_type": "code",
   "execution_count": null,
   "id": "d9bbda5c",
   "metadata": {},
   "outputs": [],
   "source": []
  }
 ],
 "metadata": {
  "kernelspec": {
   "display_name": "Electron",
   "language": "python",
   "name": "e"
  },
  "language_info": {
   "codemirror_mode": {
    "name": "ipython",
    "version": 3
   },
   "file_extension": ".py",
   "mimetype": "text/x-python",
   "name": "python",
   "nbconvert_exporter": "python",
   "pygments_lexer": "ipython3",
   "version": "3.9.20"
  }
 },
 "nbformat": 4,
 "nbformat_minor": 5
}
