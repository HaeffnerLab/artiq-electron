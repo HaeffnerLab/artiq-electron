{
 "cells": [
  {
   "cell_type": "code",
   "execution_count": 1,
   "metadata": {
    "scrolled": true
   },
   "outputs": [],
   "source": [
    "import sys\n",
    "#sys.path.append('/usr/lib/python3/dist-packages')\n",
    "# print(sys.path)\n",
    "import TimeTagger\n",
    "from TimeTagger import *\n",
    "from TimeTagger import createTimeTagger, Counter, Countrate, Histogram, LOW, HIGH, freeTimeTagger, scanTimeTagger, ConstantFractionDiscriminator"
   ]
  },
  {
   "cell_type": "code",
   "execution_count": 4,
   "metadata": {},
   "outputs": [],
   "source": [
    "import os\n",
    "import numpy as np\n",
    "import matplotlib.pyplot as plt\n",
    "%matplotlib inline\n",
    "# import oskar\n",
    "# scripts = oskar.Scripts()\n",
    "import numpy as np\n",
    "from tqdm import tqdm\n",
    "import numpy\n",
    "import matplotlib.pyplot as plot\n",
    "import sys\n",
    "import pickle as pkl\n",
    "# import pyvisa as visa\n",
    "import visa\n",
    "import datetime\n",
    "from scipy.optimize import curve_fit\n",
    "from collections import defaultdict\n",
    "from scipy.stats import kurtosis, skew\n",
    "import pandas as pd\n",
    "import xarray as xr\n",
    "from collections import OrderedDict\n",
    "from pathlib import Path\n",
    "import fnmatch\n",
    "from time import sleep"
   ]
  },
  {
   "cell_type": "code",
   "execution_count": 5,
   "metadata": {},
   "outputs": [
    {
     "name": "stdout",
     "output_type": "stream",
     "text": [
      "('2138000XGZ',)\n"
     ]
    },
    {
     "name": "stderr",
     "output_type": "stream",
     "text": [
      "ERR: Failed to claim USB interface: Device or resource busy (error 16)\n"
     ]
    },
    {
     "ename": "RuntimeError",
     "evalue": "No Time Tagger attached or already in use. Got the USB error 'Failed' in 'OpenBySerial' in line 153.",
     "output_type": "error",
     "traceback": [
      "\u001b[0;31m---------------------------------------------------------------------------\u001b[0m",
      "\u001b[0;31mRuntimeError\u001b[0m                              Traceback (most recent call last)",
      "Cell \u001b[0;32mIn [5], line 3\u001b[0m\n\u001b[1;32m      1\u001b[0m \u001b[38;5;28mprint\u001b[39m (scanTimeTagger())\n\u001b[1;32m      2\u001b[0m \u001b[38;5;66;03m# create a timetagger instance\u001b[39;00m\n\u001b[0;32m----> 3\u001b[0m tagger \u001b[38;5;241m=\u001b[39m \u001b[43mcreateTimeTagger\u001b[49m\u001b[43m(\u001b[49m\u001b[43m)\u001b[49m\n\u001b[1;32m      4\u001b[0m \u001b[38;5;66;03m# print (scanTimeTagger())\u001b[39;00m\n\u001b[1;32m      5\u001b[0m tagger\u001b[38;5;241m.\u001b[39mreset()\n",
      "File \u001b[0;32m/media/electron/dbf70751-8916-40ad-971f-f630b62dd1f5/electron/sda9/miniconda3/envs/artiq/lib/python3.10/site-packages/TimeTagger.py:3412\u001b[0m, in \u001b[0;36mcreateTimeTagger\u001b[0;34m(*args, **kwargs)\u001b[0m\n\u001b[1;32m   3410\u001b[0m \u001b[38;5;28;01mdef\u001b[39;00m \u001b[38;5;21mcreateTimeTagger\u001b[39m(\u001b[38;5;241m*\u001b[39margs, \u001b[38;5;241m*\u001b[39m\u001b[38;5;241m*\u001b[39mkwargs):\n\u001b[1;32m   3411\u001b[0m     \u001b[38;5;124;03m\"\"\"createTimeTagger(serial, resolution) -> TimeTagger\"\"\"\u001b[39;00m\n\u001b[0;32m-> 3412\u001b[0m     \u001b[38;5;28;01mreturn\u001b[39;00m \u001b[43m_TimeTagger\u001b[49m\u001b[38;5;241;43m.\u001b[39;49m\u001b[43mcreateTimeTagger\u001b[49m\u001b[43m(\u001b[49m\u001b[38;5;241;43m*\u001b[39;49m\u001b[43margs\u001b[49m\u001b[43m,\u001b[49m\u001b[43m \u001b[49m\u001b[38;5;241;43m*\u001b[39;49m\u001b[38;5;241;43m*\u001b[39;49m\u001b[43mkwargs\u001b[49m\u001b[43m)\u001b[49m\n",
      "\u001b[0;31mRuntimeError\u001b[0m: No Time Tagger attached or already in use. Got the USB error 'Failed' in 'OpenBySerial' in line 153."
     ]
    }
   ],
   "source": [
    "print (scanTimeTagger())\n",
    "# create a timetagger instance\n",
    "tagger = createTimeTagger()\n",
    "# print (scanTimeTagger())\n",
    "tagger.reset()\n",
    "trigger = 0.5\n",
    "tagger.setTriggerLevel(1, trigger)\n",
    "tagger.setDeadtime(1, 100000)\n",
    "# Ch2_CFD = ConstantFractionDiscriminator(tagger,[2], search_window = 10000)\n",
    "# CFD_channels = Ch2_CFD.getChannels()"
   ]
  },
  {
   "cell_type": "markdown",
   "metadata": {},
   "source": [
    "Quick and dirty idea: run the single block twice for each experiment; in artiq, have another channel that has a constant delay after the triggering pulse. Sleep for the same amount of time, the number of experiment cycles will be the number of this pulses."
   ]
  },
  {
   "cell_type": "markdown",
   "metadata": {},
   "source": [
    "Another idea: after running the quick and dirty version of the code (compare it with artiq's input, roi counting and histogram counting). If we gain confidence for artiq, then we could use only artiq to take the measurement, which will be more simple."
   ]
  },
  {
   "cell_type": "markdown",
   "metadata": {},
   "source": [
    "# Double histogram for electron signal and sanity check cycle pulse"
   ]
  },
  {
   "cell_type": "code",
   "execution_count": 6,
   "metadata": {},
   "outputs": [],
   "source": [
    "variable = []\n",
    "n_cycle = []\n",
    "roi = []\n",
    "prob = []"
   ]
  },
  {
   "cell_type": "code",
   "execution_count": 7,
   "metadata": {},
   "outputs": [
    {
     "name": "stdout",
     "output_type": "stream",
     "text": [
      "[0.001      0.00215443 0.00464159 0.01       0.02154435 0.04641589\n",
      " 0.1        0.21544347 0.46415888 1.        ]\n",
      "[0.02154435 0.04641589 0.46415888 0.1        0.21544347 0.001\n",
      " 0.01       0.00464159 0.00215443 1.        ]\n"
     ]
    },
    {
     "name": "stderr",
     "output_type": "stream",
     "text": [
      "  0%|                                                     | 0/1 [00:00<?, ?it/s]"
     ]
    },
    {
     "name": "stdout",
     "output_type": "stream",
     "text": [
      "20221116_Hist_10\n"
     ]
    },
    {
     "name": "stderr",
     "output_type": "stream",
     "text": [
      "\n"
     ]
    },
    {
     "ename": "NameError",
     "evalue": "name 'tagger' is not defined",
     "output_type": "error",
     "traceback": [
      "\u001b[0;31m---------------------------------------------------------------------------\u001b[0m",
      "\u001b[0;31mNameError\u001b[0m                                 Traceback (most recent call last)",
      "Cell \u001b[0;32mIn [7], line 36\u001b[0m\n\u001b[1;32m     33\u001b[0m     \u001b[38;5;66;03m###############################\u001b[39;00m\n\u001b[1;32m     34\u001b[0m     \u001b[38;5;66;03m# set up time tagger histogram and take data\u001b[39;00m\n\u001b[1;32m     35\u001b[0m     n_bin \u001b[38;5;241m=\u001b[39m \u001b[38;5;28mint\u001b[39m(time_window\u001b[38;5;241m*\u001b[39m(\u001b[38;5;241m1000\u001b[39m\u001b[38;5;241m/\u001b[39mbwidth)) \u001b[38;5;66;03m# total time window 500 ns\u001b[39;00m\n\u001b[0;32m---> 36\u001b[0m     histo \u001b[38;5;241m=\u001b[39m Histogram(\u001b[43mtagger\u001b[49m, click_channel \u001b[38;5;241m=\u001b[39m \u001b[38;5;241m2\u001b[39m, start_channel \u001b[38;5;241m=\u001b[39m \u001b[38;5;241m1\u001b[39m, binwidth \u001b[38;5;241m=\u001b[39m bwidth, n_bins \u001b[38;5;241m=\u001b[39m n_bin)\n\u001b[1;32m     37\u001b[0m     histo_calibration \u001b[38;5;241m=\u001b[39m Histogram(tagger, click_channel \u001b[38;5;241m=\u001b[39m \u001b[38;5;241m3\u001b[39m, start_channel \u001b[38;5;241m=\u001b[39m \u001b[38;5;241m1\u001b[39m, binwidth \u001b[38;5;241m=\u001b[39m bwidth, n_bins \u001b[38;5;241m=\u001b[39m n_bin)\n\u001b[1;32m     38\u001b[0m \u001b[38;5;66;03m#     histo = Histogram(tagger, click_channel = CFD_channels[0], start_channel = 1, binwidth = bwidth, n_bins = n_bin)\u001b[39;00m\n",
      "\u001b[0;31mNameError\u001b[0m: name 'tagger' is not defined"
     ]
    }
   ],
   "source": [
    "wait_times = np.logspace(3, 6, 10) * 1E-6 # in s\n",
    "wait_times_random = wait_times\n",
    "print (wait_times)\n",
    "np.random.shuffle(wait_times_random)\n",
    "print (wait_times_random)\n",
    "\n",
    "t_wait = 10E-6 # in us\n",
    "wait_times_random = [t_wait]\n",
    "cycle_duration = 112.2E-6 + t_wait # count this in artiq, double check with a awg, t_load (us) + t_wait (us) + 2.2 + 10\n",
    "exp_cycles = 5E4  # how many experiment repetitions\n",
    "########## for calibrated ttl12 #####################\n",
    "time_window_calibration = 1000 # total time window width (after the triggering) in ns\n",
    "t_start_calibration = 100 # start time of the roi after the triggering in ns\n",
    "t_stop_calibration = 300 # stop time of the roi after the triggering in ns\n",
    "########## for electron signal ######################\n",
    "time_window = 1000 # total time window width (after the triggering) in ns\n",
    "t_start = 450 # start time of the roi after the triggering in ns\n",
    "t_stop = 650 # stop time of the roi after the triggering in ns\n",
    "bwidth = 500 # binwidth of time tagger histogram in ps\n",
    "date = datetime.datetime.today().strftime(\"%Y%m%d\")\n",
    "\n",
    "\n",
    "for wait_time in tqdm(wait_times_random):\n",
    "\n",
    "#     cycle_duration,wait_time_corr = rigol.run(pulse_width_ao, pulse_delay_ao, pulse_width_ej, pulse_delay_ej, wait_time)\n",
    "    filename = date + \"_Hist_\" + str(\"{:n}\".format(wait_time/1E-6))\n",
    "    '''\n",
    "    filename = date + '_lifetime_U2_' + str(\"{:.2f}\".format(U2))+'_U1_' + str(\"{:.2f}\".format(U1))  +'_Ex' + str(\"{:.2f}\".format(Ex)) +'_Ey' + str(\"{:.2f}\".format(Ey))+'_Ez' + str(\"{:.2f}\".format(Ez)) + '_Prf' + str(\"{:.2f}\".format(Prf)) +'dBm_Tload' + str(\"{:n}\".format(pulse_width_ao/1E-6)) + 'us_Tej' \\\n",
    "    + str(\"{:n}\".format(pulse_width_ej/1E-9)) + 'ns_wait' + str(\"{:n}\".format(wait_time_corr/1E-6)) + 'us_reps'+ \\\n",
    "    str(\"{:.1e}\".format(exp_cycles)) +'_trigger' + str(\"{:.1f}\".format(trigger))+ 'CFD_off_+300V.txt'\n",
    "    '''\n",
    "    print (filename)\n",
    "    ###############################\n",
    "    # set up time tagger histogram and take data\n",
    "    n_bin = int(time_window*(1000/bwidth)) # total time window 500 ns\n",
    "    histo = Histogram(tagger, click_channel = 2, start_channel = 1, binwidth = bwidth, n_bins = n_bin)\n",
    "    histo_calibration = Histogram(tagger, click_channel = 3, start_channel = 1, binwidth = bwidth, n_bins = n_bin)\n",
    "#     histo = Histogram(tagger, click_channel = CFD_channels[0], start_channel = 1, binwidth = bwidth, n_bins = n_bin)\n",
    "    tagger.sync()\n",
    "    histo.clear()\n",
    "    histo_calibration.clear()\n",
    "    sleep(cycle_duration * exp_cycles)\n",
    "    data = histo.getData()\n",
    "    data_calibration = histo_calibration.getData()\n",
    "    ###############################\n",
    "    # save data for the signal\n",
    "    roi_start = int(t_start * 1000/bwidth)  # start time of the roi\n",
    "    roi_stop = int(t_stop *1000/bwidth)   # stop time of the roi\n",
    "    roi_start_calibration = int(t_start_calibration * 1000/bwidth)  # start time of the roi\n",
    "    roi_stop_calibration = int(t_stop_calibration *1000/bwidth)   # stop time of the roi\n",
    "    x_data = np.arange(0, n_bin) * bwidth/1000 # x-axis, time in ns\n",
    "    file_data = np.array([x_data, data])\n",
    "    file_data = file_data.T\n",
    "    np.savetxt(filename, file_data, delimiter=',')\n",
    "    roi_count = np.sum(data[roi_start:roi_stop])\n",
    "    cycle_numbers = np.sum(data_calibration[roi_start_calibration:roi_stop_calibration])\n",
    "    print (wait_time*1E3, roi_count, cycle_numbers, roi_count/cycle_numbers)\n",
    "    variable = np.append(variable, wait_time)\n",
    "    n_cycle = np.append(n_cycle, cycle_numbers)\n",
    "    roi = np.append(roi, roi_count)\n",
    "    prob = np.append(prob, roi_count/cycle_numbers)\n",
    "\n"
   ]
  },
  {
   "cell_type": "code",
   "execution_count": 20,
   "metadata": {},
   "outputs": [
    {
     "name": "stdout",
     "output_type": "stream",
     "text": [
      "[1.e-05 1.e-04 1.e-03]\n",
      "[41008. 54259. 86536.]\n",
      "[1275.  788.   18.]\n",
      "[0.03109149 0.01452294 0.00020801]\n"
     ]
    }
   ],
   "source": [
    "print(variable)\n",
    "print(n_cycle)\n",
    "print(roi)\n",
    "print(prob)"
   ]
  },
  {
   "cell_type": "code",
   "execution_count": 21,
   "metadata": {},
   "outputs": [],
   "source": [
    "ROI_data = np.array([variable,roi,n_cycle])\n",
    "ROI_data = ROI_data.T \n",
    "'''\n",
    "    filename_roi = date + '_lifetime_ROI_U2_' + str(\"{:.2f}\".format(U2))+'_U1_' + str(\"{:.2f}\".format(U1)) +'_Ex' + str(\"{:.2f}\".format(Ex)) +'_Ey' + str(\"{:.2f}\".format(Ey)) +'_Ez' + str(\"{:.2f}\".format(Ez))+'_Prf' + str(\"{:.2f}\".format(Prf)) +'dBm_Tej' \\\n",
    "    + str(\"{:n}\".format(pulse_width_ej/1E-9)) + 'ns_wait' + str(\"{:n}\".format(wait_time_corr/1E-6)) + 'us_Tload' + str(\"{:n}\".format(pulse_width_ao/1E-6)) + 'us_' + 'reps'+ \\\n",
    "    str(\"{:.1e}\".format(exp_cycles)) + '_trigger' + str(\"{:.1f}\".format(trigger))+ 'CFD_off_+300V.txt'\n",
    "'''\n",
    "filename_roi = date + \"_ROI_lifetime_1\"\n",
    "np.savetxt(filename_roi,ROI_data,delimiter=',')"
   ]
  },
  {
   "cell_type": "markdown",
   "metadata": {},
   "source": [
    "# Single histogram for electron signal"
   ]
  },
  {
   "cell_type": "code",
   "execution_count": null,
   "metadata": {},
   "outputs": [],
   "source": [
    "wait_times = np.logspace(3, 6, 10) * 1E-6 # in s\n",
    "wait_times_random = wait_times\n",
    "print (wait_times)\n",
    "np.random.shuffle(wait_times_random)\n",
    "print (wait_times_random)\n",
    "\n",
    "\n",
    "wait_times_random = [100E-6]\n",
    "cycle_duration = 117.2E-6 # count this in artiq, double check with a awg, t_load (us) + t_wait (us) + 2.2 + 10\n",
    "exp_cycles = 5E3  # how many experiment repetitions\n",
    "########## for electron signal ######################\n",
    "time_window = 500 # total time window width (after the triggering) in ns\n",
    "t_start = 80 # start time of the roi after the triggering in ns\n",
    "t_stop = 130 # stop time of the roi after the triggering in ns\n",
    "bwidth = 500 # binwidth of time tagger histogram in ps\n",
    "date = datetime.datetime.today().strftime(\"%Y%m%d\")\n",
    "variable = []\n",
    "roi = []\n",
    "\n",
    "\n",
    "for wait_time in tqdm(wait_times_random):\n",
    "\n",
    "#     cycle_duration,wait_time_corr = rigol.run(pulse_width_ao, pulse_delay_ao, pulse_width_ej, pulse_delay_ej, wait_time)\n",
    "    filename = date + \"_Hist_\" + str(\"{:n}\".format(wait_time/1E-6))\n",
    "    '''\n",
    "    filename = date + '_lifetime_U2_' + str(\"{:.2f}\".format(U2))+'_U1_' + str(\"{:.2f}\".format(U1))  +'_Ex' + str(\"{:.2f}\".format(Ex)) +'_Ey' + str(\"{:.2f}\".format(Ey))+'_Ez' + str(\"{:.2f}\".format(Ez)) + '_Prf' + str(\"{:.2f}\".format(Prf)) +'dBm_Tload' + str(\"{:n}\".format(pulse_width_ao/1E-6)) + 'us_Tej' \\\n",
    "    + str(\"{:n}\".format(pulse_width_ej/1E-9)) + 'ns_wait' + str(\"{:n}\".format(wait_time_corr/1E-6)) + 'us_reps'+ \\\n",
    "    str(\"{:.1e}\".format(exp_cycles)) +'_trigger' + str(\"{:.1f}\".format(trigger))+ 'CFD_off_+300V.txt'\n",
    "    '''\n",
    "    print (filename)\n",
    "    ###############################\n",
    "    # set up time tagger histogram and take data\n",
    "    n_bin = int(time_window*(1000/bwidth)) # total time window 500 ns\n",
    "    histo = Histogram(tagger, click_channel = 2, start_channel = 1, binwidth = bwidth, n_bins = n_bin)\n",
    "#     histo = Histogram(tagger, click_channel = CFD_channels[0], start_channel = 1, binwidth = bwidth, n_bins = n_bin)\n",
    "    tagger.sync()\n",
    "    histo.clear()\n",
    "    sleep(cycle_duration * exp_cycles)\n",
    "    data = histo.getData()\n",
    "    ###############################\n",
    "    # save data\n",
    "    roi_start = int(t_start * 1000/bwidth)  # start time of the roi\n",
    "    roi_stop = int(t_stop *1000/bwidth)   # stop time of the roi\n",
    "    x_data = np.arange(0, n_bin) * bwidth/1000 # x-axis, time in ns\n",
    "#     file_data = np.array([x_data[0:1000], data[0:1000]])\n",
    "    file_data = np.array([x_data, data])\n",
    "    file_data = file_data.T\n",
    "    np.savetxt(filename, file_data, delimiter=',')\n",
    "    roi_count = np.sum(data[roi_start:roi_stop])\n",
    "    print (wait_time*1E3, roi_count)\n",
    "    variable = np.append(variable, wait_time)\n",
    "    roi = np.append(roi, roi_count)\n",
    "\n",
    "ROI_data = np.array([variable,roi])\n",
    "ROI_data = ROI_data.T \n",
    "'''\n",
    "    filename_roi = date + '_lifetime_ROI_U2_' + str(\"{:.2f}\".format(U2))+'_U1_' + str(\"{:.2f}\".format(U1)) +'_Ex' + str(\"{:.2f}\".format(Ex)) +'_Ey' + str(\"{:.2f}\".format(Ey)) +'_Ez' + str(\"{:.2f}\".format(Ez))+'_Prf' + str(\"{:.2f}\".format(Prf)) +'dBm_Tej' \\\n",
    "    + str(\"{:n}\".format(pulse_width_ej/1E-9)) + 'ns_wait' + str(\"{:n}\".format(wait_time_corr/1E-6)) + 'us_Tload' + str(\"{:n}\".format(pulse_width_ao/1E-6)) + 'us_' + 'reps'+ \\\n",
    "    str(\"{:.1e}\".format(exp_cycles)) + '_trigger' + str(\"{:.1f}\".format(trigger))+ 'CFD_off_+300V.txt'\n",
    "'''\n",
    "filename_roi = date + \"_ROI\"\n",
    "np.savetxt(filename_roi,ROI_data,delimiter=',')"
   ]
  }
 ],
 "metadata": {
  "kernelspec": {
   "display_name": "artiq",
   "language": "python",
   "name": "artiq"
  },
  "language_info": {
   "codemirror_mode": {
    "name": "ipython",
    "version": 3
   },
   "file_extension": ".py",
   "mimetype": "text/x-python",
   "name": "python",
   "nbconvert_exporter": "python",
   "pygments_lexer": "ipython3",
   "version": "3.10.6"
  }
 },
 "nbformat": 4,
 "nbformat_minor": 5
}
