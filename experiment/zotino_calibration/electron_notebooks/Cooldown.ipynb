{
 "cells": [
  {
   "cell_type": "markdown",
   "id": "fce8f8f9",
   "metadata": {},
   "source": [
    "Imports needed for to run this program. In particular, note that it needs both the $\\texttt{pyvisa}$ and $\\texttt{qcodes}$ packages. Has to be run from a python environment where these are installed."
   ]
  },
  {
   "cell_type": "code",
   "execution_count": 1,
   "id": "10312fe5",
   "metadata": {},
   "outputs": [],
   "source": [
    "import numpy as np\n",
    "import matplotlib.pyplot as plt\n",
    "import pyvisa\n",
    "from qcodes import VisaInstrument\n",
    "import time\n",
    "from datetime import datetime\n",
    "from os.path import exists\n",
    "import logging\n",
    "logging.basicConfig(level=logging.INFO)\n",
    "\n",
    "\n",
    "\n",
    "\n"
   ]
  },
  {
   "cell_type": "markdown",
   "id": "b835aece",
   "metadata": {},
   "source": [
    "This is the class that performs the measurement. Can be imported into other files, as long as the import requirements are fulfilled. $\\newline$\n",
    "Every measurement device has to be instantiated as an object of this class. The function cooldown then takes these and performs the measurement. Essentially, up to 4 instantiated multimeters take voltage periodic voltage readings in the interval $\\texttt{interval}$, and save the data in a file. A plot showing this data is also created. $\\newline$\n",
    "$\\textbf{Note:}$ While the most common errors of an open or already existing file should be caught by the function, it will display very strange behaviour if a device is unplugged and then plugged in again while a measurement is supposed to be running. In this case, restart both the multimeter and the kernel of the notebook, and then try again."
   ]
  },
  {
   "cell_type": "code",
   "execution_count": 1,
   "id": "91eaa777",
   "metadata": {},
   "outputs": [
    {
     "ename": "NameError",
     "evalue": "name 'VisaInstrument' is not defined",
     "output_type": "error",
     "traceback": [
      "\u001b[1;31m---------------------------------------------------------------------------\u001b[0m",
      "\u001b[1;31mNameError\u001b[0m                                 Traceback (most recent call last)",
      "\u001b[1;32m~\\AppData\\Local\\Temp/ipykernel_13340/1356169319.py\u001b[0m in \u001b[0;36m<module>\u001b[1;34m\u001b[0m\n\u001b[1;32m----> 1\u001b[1;33m \u001b[1;32mclass\u001b[0m \u001b[0mDMM\u001b[0m\u001b[1;33m(\u001b[0m\u001b[0mVisaInstrument\u001b[0m\u001b[1;33m)\u001b[0m\u001b[1;33m:\u001b[0m\u001b[1;33m\u001b[0m\u001b[1;33m\u001b[0m\u001b[0m\n\u001b[0m\u001b[0;32m      2\u001b[0m     def __init__(self,\n\u001b[0;32m      3\u001b[0m                  \u001b[0mname\u001b[0m\u001b[1;33m:\u001b[0m \u001b[0mstr\u001b[0m\u001b[1;33m,\u001b[0m\u001b[1;33m\u001b[0m\u001b[1;33m\u001b[0m\u001b[0m\n\u001b[0;32m      4\u001b[0m                  \u001b[0mcalib_file\u001b[0m \u001b[1;33m=\u001b[0m \u001b[1;32mNone\u001b[0m\u001b[1;33m,\u001b[0m\u001b[1;33m\u001b[0m\u001b[1;33m\u001b[0m\u001b[0m\n\u001b[0;32m      5\u001b[0m                  \u001b[0maddress\u001b[0m\u001b[1;33m:\u001b[0m \u001b[0mstr\u001b[0m\u001b[1;33m=\u001b[0m\u001b[1;34m\"GPIB0::15::INSTR\"\u001b[0m\u001b[1;33m,\u001b[0m\u001b[1;33m\u001b[0m\u001b[1;33m\u001b[0m\u001b[0m\n",
      "\u001b[1;31mNameError\u001b[0m: name 'VisaInstrument' is not defined"
     ]
    }
   ],
   "source": [
    "class DMM(VisaInstrument):\n",
    "    def __init__(self,\n",
    "                 name: str,\n",
    "                 calib_file = None,\n",
    "                 address: str=\"GPIB0::15::INSTR\",\n",
    "                 terminator: str=\"\\n\",\n",
    "                 debug_mode: bool=False,\n",
    "                 **kwargs):\n",
    "        self.debug_mode = debug_mode\n",
    "\n",
    "        super().__init__(name=name,\n",
    "                         address=address,\n",
    "                         terminator=terminator,\n",
    "                         **kwargs)\n",
    "\n",
    "\n",
    "        self.add_function('reset', call_cmd='*RST')\n",
    "        \n",
    "\n",
    "\"\"\"\n",
    "Performs periodic voltage measurements.\n",
    "Args: data_path (string): Path where the generated data will be saved\n",
    "      Multimeter1 (DMM): First Multimeter that will take measurements, has to be given\n",
    "      Multimeter2/3/4 (DMM): Any additional Multimeters that measure simultaneously, optional.\n",
    "      range_ (int): Range setting for Multimeter in [Volt]\n",
    "      resolution (float): Resolution setting for Multimeters, if possible should be small (0.001)\n",
    "      saveint (int): Number of measurements taken before a batch of data is saved to the corresponding file\n",
    "\"\"\"\n",
    "        \n",
    "def cooldown( data_path,Multimeter1, Multimeter2 = None, Multimeter3 = None, Multimeter4 = None, range_ = 2, resolution = 0.001, interval = 1, save_int = 10):\n",
    "\n",
    "        start = f'{datetime.now()}'\n",
    "        start = start[:10] + ',' + start[11:13] + '-' + start[14:16] + '-' +start[17:19]\n",
    "        start_time = time.time()\n",
    "        filename = data_path + 'cooldown_at' f'{start}' + '.csv'\n",
    "        data = []\n",
    "        \n",
    "        times = []\n",
    "        R1 = []\n",
    "        R2 = []\n",
    "        R3 = []\n",
    "        R4 = []\n",
    "        for i in range(3600*18):\n",
    "            \n",
    "        \n",
    "            t = time.time() - start_time\n",
    "            times.append(t)\n",
    "            r1 = float(Multimeter1.ask(f'MEAS:VOLT:DC? {range_}, {resolution}'))\n",
    "            R1.append(r1)\n",
    "            if(Multimeter2):\n",
    "                r2 = float(Multimeter2.ask(f'MEAS:VOLT:DC? {range_}, {resolution}'))\n",
    "                R2.append(r2)\n",
    "                if(Multimeter3):\n",
    "                    r3 = float(Multimeter3.ask(f'MEAS:VOLT:DC? {range_}, {resolution}'))\n",
    "                    R3.append(r3)\n",
    "                    if(Multimeter4):\n",
    "                        r4 = float(Multimeter4.ask(f'MEAS:VOLT:DC? {range_}, {resolution}'))\n",
    "                        R4.append(r4)\n",
    "            if(not i%10):\n",
    "                if(Multimeter4):\n",
    "                    data = np.column_stack([times,R1,R2,R3,R4])\n",
    "                elif(Multimeter3):\n",
    "                    data = np.column_stack([times,R1,R2,R3])\n",
    "                elif(Multimeter2):\n",
    "                    data = np.column_stack([times,R1,R2])\n",
    "                else:\n",
    "                    data = np.column_stack([times,R1])\n",
    "                    \n",
    "                try:\n",
    "                    np.savetxt(filename, data)\n",
    "                \n",
    "                except IOError:\n",
    "                    for i in range(5):\n",
    "                        try:\n",
    "                            np.savetxt(filename + f'CONTINUED:{i}', data)\n",
    "                        except IOError:\n",
    "                            print(\"Please close the file while measuring or check for wrong filename\")\n",
    "                            continue\n",
    "                    break\n",
    "                minutes = np.array(times)/60\n",
    "                minutes = minutes.tolist()\n",
    "                plt.figure()\n",
    "                plt.grid(True)\n",
    "                plt.plot(minutes,R1)\n",
    "                plt.plot(minutes[:len(R2)],R2)\n",
    "                plt.plot(minutes[:len(R3)],R3)\n",
    "                plt.plot(minutes[:len(R4)],R4)\n",
    "                plt.xlabel(\"Time [min]\")\n",
    "                plt.ylabel(\"Voltage [V]\")\n",
    "                plt.grid(True)\n",
    "                plt.savefig(filename[:-4] + '.png')\n",
    "                plt.close()\n",
    "                print(datetime.now())\n",
    "\n",
    "            time.sleep(interval)"
   ]
  },
  {
   "cell_type": "markdown",
   "id": "41852a53",
   "metadata": {},
   "source": [
    "Lists all devices available to a computer via $\\texttt{pyvisa}$. Digital multimeters tend to have the format $\\texttt{'USB0::0x...::0x....::something::INSTR'}$"
   ]
  },
  {
   "cell_type": "code",
   "execution_count": 3,
   "id": "eb61f17f",
   "metadata": {},
   "outputs": [
    {
     "name": "stdout",
     "output_type": "stream",
     "text": [
      "('USB0::0x0957::0x1A07::MY53200916::INSTR',)\n"
     ]
    }
   ],
   "source": [
    "rm = pyvisa.ResourceManager()\n",
    "list_re = rm.list_resources()\n",
    "print(list_re)\n",
    "\n"
   ]
  },
  {
   "cell_type": "markdown",
   "id": "53926309",
   "metadata": {},
   "source": [
    "Instantiate the digital multimeters, using the addresses displayed by the previous section.\n",
    "If a name is already used, no new object will be instantiated, but the older instantiation of an object with this name will remain valid. $\\newline$\n",
    "The first object is pinged to make sure the connections work. Sometimes when plugging multimeters in and out instantiation might not directly all out an error, but the ping will fail.  "
   ]
  },
  {
   "cell_type": "code",
   "execution_count": 4,
   "id": "aa475330",
   "metadata": {},
   "outputs": [
    {
     "name": "stderr",
     "output_type": "stream",
     "text": [
      "INFO:qcodes.instrument.base.com.visa:[Harry4(DMM)] Opening PyVISA Resource Manager with default backend.\n",
      "INFO:qcodes.instrument.base.com.visa:[Harry4(DMM)] Opening PyVISA resource at address: USB0::0x0957::0x1A07::MY53200916::0::INSTR\n",
      "INFO:root:Initialized a Multimemter Harry4 successfully\n"
     ]
    }
   ],
   "source": [
    "name1 = 'Harry'\n",
    "name2 = 'Ron'\n",
    "name3 = 'Hermione'\n",
    "\n",
    "try:\n",
    "    Multimeter1 = DMM(name1,address = 'USB0::0x0957::0x1A07::MY53200916::0::INSTR')\n",
    "   # Multimeter2 = DMM(name1,address2)\n",
    "    #Multimeter3 = DMM(name1,address3)\n",
    "    \n",
    "    Multimeter1.ask(\"*IDN?\")\n",
    "    \n",
    "    logging.info(f'Initialized a Multimemter {name1} successfully')\n",
    "except KeyError:\n",
    "    logstring = \"The name you chose is already used! \\n\"\n",
    "    logstring += \"You can either just use Multimeter1 and jump to the next cell, or give it a new name\"\n",
    "    logging.error(logstring)\n"
   ]
  },
  {
   "cell_type": "markdown",
   "id": "6139eeec",
   "metadata": {},
   "source": [
    "Choose a path for saving the file, and call the measurement function."
   ]
  },
  {
   "cell_type": "code",
   "execution_count": 5,
   "id": "8862f719",
   "metadata": {
    "scrolled": true
   },
   "outputs": [
    {
     "name": "stdout",
     "output_type": "stream",
     "text": [
      "2022-09-22 18:38:17.423680\n"
     ]
    },
    {
     "ename": "KeyboardInterrupt",
     "evalue": "",
     "output_type": "error",
     "traceback": [
      "\u001b[1;31m---------------------------------------------------------------------------\u001b[0m",
      "\u001b[1;31mKeyboardInterrupt\u001b[0m                         Traceback (most recent call last)",
      "Input \u001b[1;32mIn [5]\u001b[0m, in \u001b[0;36m<cell line: 5>\u001b[1;34m()\u001b[0m\n\u001b[0;32m      1\u001b[0m data_path \u001b[38;5;241m=\u001b[39m \u001b[38;5;124m'\u001b[39m\u001b[38;5;124mC:/Users/Hansd/Documents/Berkelius/Data/Electron\u001b[39m\u001b[38;5;124m'\u001b[39m\n\u001b[0;32m      3\u001b[0m \u001b[38;5;66;03m# Here we finally call the cooldown\u001b[39;00m\n\u001b[1;32m----> 5\u001b[0m \u001b[43mcooldown\u001b[49m\u001b[43m(\u001b[49m\u001b[43mdata_path\u001b[49m\u001b[43m,\u001b[49m\u001b[43mMultimeter1\u001b[49m\u001b[43m,\u001b[49m\u001b[43mrange_\u001b[49m\u001b[43m \u001b[49m\u001b[38;5;241;43m=\u001b[39;49m\u001b[43m \u001b[49m\u001b[38;5;241;43m1\u001b[39;49m\u001b[43m,\u001b[49m\u001b[43m \u001b[49m\u001b[43mresolution\u001b[49m\u001b[43m \u001b[49m\u001b[38;5;241;43m=\u001b[39;49m\u001b[43m \u001b[49m\u001b[38;5;241;43m0.01\u001b[39;49m\u001b[43m,\u001b[49m\u001b[43m \u001b[49m\u001b[43minterval\u001b[49m\u001b[43m \u001b[49m\u001b[38;5;241;43m=\u001b[39;49m\u001b[43m \u001b[49m\u001b[38;5;241;43m1\u001b[39;49m\u001b[43m)\u001b[49m\n",
      "Input \u001b[1;32mIn [2]\u001b[0m, in \u001b[0;36mcooldown\u001b[1;34m(data_path, Multimeter1, Multimeter2, Multimeter3, Multimeter4, range_, resolution, interval, save_int)\u001b[0m\n\u001b[0;32m     84\u001b[0m     plt\u001b[38;5;241m.\u001b[39mclose()\n\u001b[0;32m     85\u001b[0m     \u001b[38;5;28mprint\u001b[39m(datetime\u001b[38;5;241m.\u001b[39mnow())\n\u001b[1;32m---> 87\u001b[0m \u001b[43mtime\u001b[49m\u001b[38;5;241;43m.\u001b[39;49m\u001b[43msleep\u001b[49m\u001b[43m(\u001b[49m\u001b[43minterval\u001b[49m\u001b[43m)\u001b[49m\n",
      "\u001b[1;31mKeyboardInterrupt\u001b[0m: "
     ]
    }
   ],
   "source": [
    "data_path = 'C:/Users/Hansd/Documents/Berkelius/Data/Electron'\n",
    "\n",
    "# Here we finally call the cooldown\n",
    "\n",
    "cooldown(data_path,Multimeter1,range_ = 1, resolution = 0.01, interval = 1)"
   ]
  },
  {
   "cell_type": "code",
   "execution_count": null,
   "id": "2de0a3af",
   "metadata": {},
   "outputs": [],
   "source": []
  },
  {
   "cell_type": "code",
   "execution_count": null,
   "id": "e85a3c4f",
   "metadata": {},
   "outputs": [],
   "source": []
  },
  {
   "cell_type": "code",
   "execution_count": null,
   "id": "431301b2",
   "metadata": {},
   "outputs": [],
   "source": []
  },
  {
   "cell_type": "code",
   "execution_count": null,
   "id": "d3791e34",
   "metadata": {},
   "outputs": [],
   "source": []
  },
  {
   "cell_type": "code",
   "execution_count": null,
   "id": "5591919f",
   "metadata": {},
   "outputs": [],
   "source": []
  }
 ],
 "metadata": {
  "kernelspec": {
   "display_name": "Python 3",
   "language": "python",
   "name": "python3"
  },
  "language_info": {
   "codemirror_mode": {
    "name": "ipython",
    "version": 3
   },
   "file_extension": ".py",
   "mimetype": "text/x-python",
   "name": "python",
   "nbconvert_exporter": "python",
   "pygments_lexer": "ipython3",
   "version": "3.8.8"
  }
 },
 "nbformat": 4,
 "nbformat_minor": 5
}
