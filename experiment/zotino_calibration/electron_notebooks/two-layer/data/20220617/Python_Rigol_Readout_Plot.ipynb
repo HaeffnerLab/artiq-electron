{
 "cells": [
  {
   "cell_type": "markdown",
   "metadata": {},
   "source": [
    "# Python Routine for reading RIGOL oscilloscope and plot MCP counts"
   ]
  },
  {
   "cell_type": "markdown",
   "metadata": {},
   "source": [
    "## import python packages"
   ]
  },
  {
   "cell_type": "code",
   "execution_count": 1,
   "metadata": {},
   "outputs": [],
   "source": [
    "import os\n",
    "import numpy as np\n",
    "import matplotlib.pyplot as plt\n",
    "%matplotlib inline\n",
    "# import oskar\n",
    "# scripts = oskar.Scripts()\n",
    "import numpy as np\n",
    "from tqdm import tqdm\n",
    "import numpy\n",
    "import matplotlib.pyplot as plot\n",
    "import sys\n",
    "import pickle as pkl\n",
    "# import pyvisa as visa\n",
    "import visa\n",
    "import datetime\n",
    "from scipy.optimize import curve_fit\n",
    "from collections import defaultdict\n",
    "from scipy.stats import kurtosis, skew"
   ]
  },
  {
   "cell_type": "markdown",
   "metadata": {},
   "source": [
    "## Define peak-detection function"
   ]
  },
  {
   "cell_type": "code",
   "execution_count": 51,
   "metadata": {},
   "outputs": [],
   "source": [
    "def count(ydata,min_level,min_width,dt,deadtime):\n",
    "    'give in raw ydata, a trigger level as min_level, a minimum width as min_width, and dt'\n",
    "    ignore = int(deadtime/dt)\n",
    "    min_x = min_width / dt\n",
    "    threshold = ydata > min_level\n",
    "    for k in np.argwhere(threshold).flatten():\n",
    "        threshold[k:k+ignore]=True\n",
    "    threshold[0] = False\n",
    "    threshold[-1] = False\n",
    "    rngs = np.where(np.diff(threshold))[0].reshape(-1, 2)\n",
    "    pulse = rngs[rngs[:,1]-rngs[:,0] > min_x]\n",
    "    return pulse[:,0]"
   ]
  },
  {
   "cell_type": "markdown",
   "metadata": {},
   "source": [
    "## Read off data from RIGOL 100MHz oscilloscope"
   ]
  },
  {
   "cell_type": "code",
   "execution_count": 152,
   "metadata": {
    "scrolled": true
   },
   "outputs": [
    {
     "name": "stderr",
     "output_type": "stream",
     "text": [
      "100%|██████████| 10000/10000 [00:29<00:00, 334.95it/s]\n"
     ]
    }
   ],
   "source": [
    "'Record this many waveforms'\n",
    "# acq_times = int(125000)\n",
    "acq_times = int(1e4)\n",
    "datalength = 600\n",
    "# datarrray=np.zeros([acq_times, datalength])\n",
    "rm = visa.ResourceManager()\n",
    "instruments = rm.list_resources()\n",
    "usb = list(filter(lambda x: 'USB' in x, instruments))\n",
    "if len(usb) != 1:\n",
    "    print('Bad instrument list', instruments)\n",
    "    sys.exit(-1)\n",
    "# scope = rm.open_resource(usb[0], timeout=20, chunk_size=1024000)\n",
    "scope = rm.open_resource(usb[0])\n",
    "voltscale = float(scope.query(':CHAN1:SCAL?'))\n",
    "voltoffset = float(scope.query(\":CHAN1:OFFS?\"))\n",
    "timescale = float(scope.query(\":TIM:SCAL?\"))\n",
    "time = numpy.linspace(0,12 * timescale, num=datalength)\n",
    "dt = time[1]-time[0]\n",
    "pulses = np.array([])\n",
    "\n",
    "#set threshoold parameters for detection\n",
    "min_level = 0.01 # minimum threshold (V)\n",
    "min_width = 2E-9# minimum pulse width (s)\n",
    "deadtime = 20E-9\n",
    "\n",
    "for i in tqdm(np.arange(0,acq_times,1)):\n",
    "#     rm = visa.ResourceManager() \n",
    "#     scope = rm.open_resource(usb[0], timeout=20, chunk_size=1024000)\n",
    "#     scope = rm.open_resource(usb[0])\n",
    "    scope.write(\":WAV:DATA? CHAN1\") #Request the data\n",
    "    rawdata = scope.read_raw() #Read the block of data\n",
    "    scope.write(\":KEY:FORCE\")\n",
    "#     scope.close()\n",
    "    \n",
    "    rawdata = rawdata[ 10 : ] #Drop the heading\n",
    "\n",
    "    data = numpy.frombuffer(rawdata, 'B')\n",
    "    data = data * -1 + 255\n",
    "    data = (data - 130.0 - voltoffset/voltscale*25) / 25 * voltscale\n",
    "#     plt.plot(data)\n",
    "    \n",
    "#     pulses = numpy.append(pulses, count(data,min_level,min_width,dt)+datalength*(i))\n",
    "    pulses = numpy.append(pulses, count(data,min_level,min_width,dt,deadtime))\n",
    "#     print(pulses)\n",
    "\n",
    "\n",
    "scope.close()"
   ]
  },
  {
   "cell_type": "code",
   "execution_count": 40,
   "metadata": {},
   "outputs": [],
   "source": [
    "# scope = rm.open_resource(usb[0])\n",
    "# for i in tqdm(np.arange(0,acq_times,1)):\n",
    "# #     rm = visa.ResourceManager()\n",
    "# #     scope = rm.open_resource(usb[0], timeout=20, chunk_size=1024000)\n",
    "# #     scope = rm.open_resource(usb[0])\n",
    "#     scope.write(\":WAV:DATA? CHAN1\") #Request the data\n",
    "#     rawdata = scope.read_raw() #Read the block of data\n",
    "#     scope.write(\":KEY:FORCE\")\n",
    "# #     scope.close(\n",
    "\n",
    "\n",
    "scope.close()"
   ]
  },
  {
   "cell_type": "code",
   "execution_count": 61,
   "metadata": {},
   "outputs": [
    {
     "data": {
      "text/plain": [
       "array([425., 425., 425., ..., 168., 168., 168.])"
      ]
     },
     "execution_count": 61,
     "metadata": {},
     "output_type": "execute_result"
    }
   ],
   "source": [
    "pulses"
   ]
  },
  {
   "cell_type": "code",
   "execution_count": 62,
   "metadata": {},
   "outputs": [
    {
     "data": {
      "text/plain": [
       "(1305,)"
      ]
     },
     "execution_count": 62,
     "metadata": {},
     "output_type": "execute_result"
    }
   ],
   "source": [
    "np.shape(pulses)"
   ]
  },
  {
   "cell_type": "code",
   "execution_count": 63,
   "metadata": {
    "scrolled": true
   },
   "outputs": [
    {
     "data": {
      "text/plain": [
       "[<matplotlib.lines.Line2D at 0x7f94f92a35e0>]"
      ]
     },
     "execution_count": 63,
     "metadata": {},
     "output_type": "execute_result"
    },
    {
     "data": {
      "image/png": "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