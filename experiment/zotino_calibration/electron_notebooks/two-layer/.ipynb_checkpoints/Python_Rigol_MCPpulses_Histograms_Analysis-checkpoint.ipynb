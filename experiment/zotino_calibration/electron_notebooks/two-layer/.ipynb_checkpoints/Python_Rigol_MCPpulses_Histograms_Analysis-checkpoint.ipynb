{
 "cells": [
  {
   "cell_type": "code",
   "execution_count": 1,
   "id": "bf1b1d8f",
   "metadata": {},
   "outputs": [],
   "source": [
    "import os\n",
    "import matplotlib.pyplot as plt\n",
    "%matplotlib inline\n",
    "import numpy as np\n",
    "import sys\n",
    "import pickle as pkl\n",
    "import datetime\n",
    "from scipy.optimize import curve_fit\n",
    "from collections import defaultdict\n",
    "from scipy.stats import kurtosis, skew\n",
    "import pandas as pd\n",
    "import xarray as xr\n",
    "from collections import OrderedDict"
   ]
  },
  {
   "cell_type": "code",
   "execution_count": null,
   "id": "b7f44897",
   "metadata": {},
   "outputs": [],
   "source": [
    "runID = \n",
    "filename = +'npy'\n",
    "pulses = np.load(filename)\n",
    "data = pd.DataFrame(pulses)\n",
    "# data.to_csv('data.csv', index = None)"
   ]
  }
 ],
 "metadata": {
  "kernelspec": {
   "display_name": "Python 3",
   "language": "python",
   "name": "python3"
  },
  "language_info": {
   "codemirror_mode": {
    "name": "ipython",
    "version": 3
   },
   "file_extension": ".py",
   "mimetype": "text/x-python",
   "name": "python",
   "nbconvert_exporter": "python",
   "pygments_lexer": "ipython3",
   "version": "3.8.8"
  }
 },
 "nbformat": 4,
 "nbformat_minor": 5
}
