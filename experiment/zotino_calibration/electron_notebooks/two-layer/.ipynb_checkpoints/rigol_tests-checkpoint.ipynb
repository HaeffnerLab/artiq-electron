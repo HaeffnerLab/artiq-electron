{
 "cells": [
  {
   "cell_type": "code",
   "execution_count": 2,
   "metadata": {
    "scrolled": false
   },
   "outputs": [
    {
     "name": "stdout",
     "output_type": "stream",
     "text": [
      "0.0052008\n",
      "0.00020064\n"
     ]
    }
   ],
   "source": [
    "import sys\n",
    "import numpy as np\n",
    "import random\n",
    "import matplotlib.pyplot as plt\n",
    "# from rigol_extraction import * # use artiq for synchronization\n",
    "from electron_rigol_class import * # use two RIGOLs for synchronization\n",
    "# from electron_rigol_class_artiq_test import * # test artiq\n",
    "from electron_RS_class import *\n",
    "\n",
    "from time import sleep\n",
    "from pylab import *\n",
    "\n",
    "# Rigol\n",
    "sampling_time = 20000E-9\n",
    "# sampling_time = 2.E-4\n",
    "rigol =  rigol(sampling_time)\n",
    "\n",
    "\n",
    "# parameters for the Rigol waveforms\n",
    "pulse_width_ao = 5000E-6\n",
    "wait_time = 200E-6\n",
    "pulse_delay_ao = sampling_time\n",
    "\n",
    "pulse_width_ej = 20.E-9\n",
    "pulse_delay_ej = 2.E-9\n",
    "\n",
    "\n",
    "\n",
    "cycle_duration,wait_time_corr = rigol.run(pulse_width_ao, pulse_delay_ao, pulse_width_ej, pulse_delay_ej, wait_time)\n",
    "print (cycle_duration)\n",
    "print (wait_time_corr)\n",
    "rigol.rigol2(pulse_width_ao, pulse_delay_ao, pulse_width_ej, pulse_delay_ej, wait_time)\n"
   ]
  },
  {
   "cell_type": "code",
   "execution_count": 15,
   "metadata": {
    "scrolled": true
   },
   "outputs": [
    {
     "name": "stdout",
     "output_type": "stream",
     "text": [
      "/home/electron/anaconda3/bin/python\n",
      "\u001b[33mDEPRECATION: Python 2.7 will reach the end of its life on January 1st, 2020. Please upgrade your Python as Python 2.7 won't be maintained after that date. A future version of pip will drop support for Python 2.7. More details about Python 2 support in pip, can be found at https://pip.pypa.io/en/latest/development/release-process/#python-2-support\u001b[0m\n",
      "\u001b[33mWARNING: The directory '/home/electron/.cache/pip/http' or its parent directory is not owned by the current user and the cache has been disabled. Please check the permissions and owner of that directory. If executing pip with sudo, you may want sudo's -H flag.\u001b[0m\n",
      "\u001b[33mWARNING: The directory '/home/electron/.cache/pip' or its parent directory is not owned by the current user and caching wheels has been disabled. check the permissions and owner of that directory. If executing pip with sudo, you may want sudo's -H flag.\u001b[0m\n",
      "Collecting vxi11\n",
      "  Cloning https://github.com/python-ivi/python-vxi11 to /tmp/pip-install-mpAOkb/vxi11\n",
      "  Running command git clone -q https://github.com/python-ivi/python-vxi11 /tmp/pip-install-mpAOkb/vxi11\n",
      "\u001b[33m  WARNING: Generating metadata for package vxi11 produced metadata for project name python-vxi11. Fix your #egg=vxi11 fragments.\u001b[0m\n",
      "Requirement already satisfied (use --upgrade to upgrade): python-vxi11 from git+https://github.com/python-ivi/python-vxi11#egg=vxi11 in /usr/local/lib/python2.7/dist-packages\n",
      "Building wheels for collected packages: python-vxi11, python-vxi11\n",
      "  Building wheel for python-vxi11 (setup.py) ... \u001b[?25ldone\n",
      "\u001b[?25h  Created wheel for python-vxi11: filename=python_vxi11-0.9-cp27-none-any.whl size=18585 sha256=29b597acfc1f7a567fef4bbbf301db890a4e95ee5f29698051e3552697bd8e58\n",
      "  Stored in directory: /tmp/pip-ephem-wheel-cache-pQ9rhM/wheels/ca/09/af/c80ba8f8febb926dab133755f4dbedeb799563ecf988bae787\n",
      "  Building wheel for python-vxi11 (setup.py) ... \u001b[?25lerror\n",
      "\u001b[31m  ERROR: Command errored out with exit status 1:\n",
      "   command: /usr/bin/python -u -c 'import sys, setuptools, tokenize; sys.argv[0] = '\"'\"'/tmp/pip-install-mpAOkb/python-vxi11/setup.py'\"'\"'; __file__='\"'\"'/tmp/pip-install-mpAOkb/python-vxi11/setup.py'\"'\"';f=getattr(tokenize, '\"'\"'open'\"'\"', open)(__file__);code=f.read().replace('\"'\"'\\r\\n'\"'\"', '\"'\"'\\n'\"'\"');f.close();exec(compile(code, __file__, '\"'\"'exec'\"'\"'))' bdist_wheel -d /tmp/pip-wheel-DBC30d --python-tag cp27\n",
      "       cwd: /tmp/pip-install-mpAOkb/python-vxi11/\n",
      "  Complete output (3 lines):\n",
      "  Traceback (most recent call last):\n",
      "    File \"<string>\", line 1, in <module>\n",
      "  IOError: [Errno 2] No such file or directory: '/tmp/pip-install-mpAOkb/python-vxi11/setup.py'\n",
      "  ----------------------------------------\u001b[0m\n",
      "\u001b[31m  ERROR: Failed building wheel for python-vxi11\u001b[0m\n",
      "\u001b[?25h  Running setup.py clean for python-vxi11\n",
      "\u001b[31m  ERROR: Command errored out with exit status 1:\n",
      "   command: /usr/bin/python -u -c 'import sys, setuptools, tokenize; sys.argv[0] = '\"'\"'/tmp/pip-install-mpAOkb/python-vxi11/setup.py'\"'\"'; __file__='\"'\"'/tmp/pip-install-mpAOkb/python-vxi11/setup.py'\"'\"';f=getattr(tokenize, '\"'\"'open'\"'\"', open)(__file__);code=f.read().replace('\"'\"'\\r\\n'\"'\"', '\"'\"'\\n'\"'\"');f.close();exec(compile(code, __file__, '\"'\"'exec'\"'\"'))' clean --all\n",
      "       cwd: /tmp/pip-install-mpAOkb/python-vxi11\n",
      "  Complete output (3 lines):\n",
      "  Traceback (most recent call last):\n",
      "    File \"<string>\", line 1, in <module>\n",
      "  IOError: [Errno 2] No such file or directory: '/tmp/pip-install-mpAOkb/python-vxi11/setup.py'\n",
      "  ----------------------------------------\u001b[0m\n",
      "\u001b[31m  ERROR: Failed cleaning build dir for python-vxi11\u001b[0m\n",
      "Successfully built python-vxi11\n",
      "Failed to build python-vxi11\n",
      "\u001b[33mWARNING: You are using pip version 19.3.1; however, version 20.3.4 is available.\n",
      "You should consider upgrading via the 'pip install --upgrade pip' command.\u001b[0m\n"
     ]
    }
   ],
   "source": [
    "# import sys\n",
    "# print(sys.executable)\n",
    "# # ! /usr/bin/python -m pip install vxi11\n",
    "# ! /usr/bin/python -m pip install git+https://github.com/python-ivi/python-vxi11#egg=vxi11"
   ]
  },
  {
   "cell_type": "code",
   "execution_count": 16,
   "metadata": {},
   "outputs": [],
   "source": [
    "import sys\n",
    "import numpy as np\n",
    "import random\n",
    "import matplotlib.pyplot as plt\n",
    "from rigol_extraction import * # use artiq for synchronization\n",
    "# from electron_rigol_class import * # use two RIGOLs for synchronization\n",
    "# from electron_rigol_class_artiq_test import * # test artiq\n",
    "from electron_RS_class import *\n",
    "\n",
    "from time import sleep\n",
    "from pylab import *\n",
    "\n",
    "# Rigol\n",
    "\n",
    "# sampling_time = 2.E-4\n",
    "rigol =  rigol()\n",
    "\n",
    "# parameters for the Rigol waveforms\n",
    "pulse_width_ej = 20.E-9\n",
    "pulse_delay_ej = 2.E-9\n",
    "rigol.run(pulse_width_ej, pulse_delay_ej)\n",
    "\n"
   ]
  },
  {
   "cell_type": "code",
   "execution_count": null,
   "metadata": {},
   "outputs": [],
   "source": [
    "import sys\n",
    "import numpy as np\n",
    "import random\n",
    "import matplotlib.pyplot as plt\n",
    "from rigol_extraction_threshold import * # use artiq for synchronization\n",
    "# from electron_rigol_class import * # use two RIGOLs for synchronization\n",
    "# from electron_rigol_class_artiq_test import * # test artiq\n",
    "from electron_RS_class import *\n",
    "\n",
    "from time import sleep\n",
    "from pylab import *\n",
    "\n",
    "# Rigol\n",
    "\n",
    "# sampling_time = 2.E-4\n",
    "rigol =  rigol()\n",
    "\n",
    "# parameters for the Rigol waveforms\n",
    "pulse_width_ej = 20.E-9\n",
    "pulse_delay_ej = 2.E-9\n",
    "rigol.run(pulse_width_ej, pulse_delay_ej)\n",
    "\n"
   ]
  },
  {
   "cell_type": "raw",
   "metadata": {},
   "source": [
    "rs = RS()\n",
    "rs.run(freq,amp)"
   ]
  },
  {
   "cell_type": "code",
   "execution_count": 4,
   "metadata": {},
   "outputs": [
    {
     "ename": "NameError",
     "evalue": "name 'scanTimeTagger' is not defined",
     "output_type": "error",
     "traceback": [
      "\u001b[1;31m---------------------------------------------------------------------------\u001b[0m",
      "\u001b[1;31mNameError\u001b[0m                                 Traceback (most recent call last)",
      "\u001b[1;32m<ipython-input-4-32f3ad1018fe>\u001b[0m in \u001b[0;36m<module>\u001b[1;34m\u001b[0m\n\u001b[0;32m      1\u001b[0m \u001b[1;33m\u001b[0m\u001b[0m\n\u001b[1;32m----> 2\u001b[1;33m \u001b[0mscanTimeTagger\u001b[0m\u001b[1;33m(\u001b[0m\u001b[1;33m)\u001b[0m\u001b[1;33m\u001b[0m\u001b[1;33m\u001b[0m\u001b[0m\n\u001b[0m\u001b[0;32m      3\u001b[0m \u001b[0mfreeTimeTagger\u001b[0m\u001b[1;33m(\u001b[0m\u001b[0mtagger\u001b[0m\u001b[1;33m)\u001b[0m\u001b[1;33m\u001b[0m\u001b[1;33m\u001b[0m\u001b[0m\n\u001b[0;32m      4\u001b[0m \u001b[0mscanTimeTagger\u001b[0m\u001b[1;33m(\u001b[0m\u001b[1;33m)\u001b[0m\u001b[1;33m\u001b[0m\u001b[1;33m\u001b[0m\u001b[0m\n\u001b[0;32m      5\u001b[0m \u001b[0mtagger\u001b[0m\u001b[1;33m.\u001b[0m\u001b[0mreset\u001b[0m\u001b[1;33m(\u001b[0m\u001b[1;33m)\u001b[0m\u001b[1;33m\u001b[0m\u001b[1;33m\u001b[0m\u001b[0m\n",
      "\u001b[1;31mNameError\u001b[0m: name 'scanTimeTagger' is not defined"
     ]
    }
   ],
   "source": [
    "\n",
    "# scanTimeTagger()\n",
    "# freeTimeTagger(tagger)\n",
    "# scanTimeTagger()\n",
    "# tagger.reset()"
   ]
  },
  {
   "cell_type": "code",
   "execution_count": 7,
   "metadata": {},
   "outputs": [
    {
     "data": {
      "text/plain": [
       "array([   1000.        ,    2154.43469003,    4641.58883361,\n",
       "         10000.        ,   21544.34690032,   46415.88833613,\n",
       "        100000.        ,  215443.46900319,  464158.88336128,\n",
       "       1000000.        ])"
      ]
     },
     "execution_count": 7,
     "metadata": {},
     "output_type": "execute_result"
    }
   ],
   "source": [
    "import numpy as np\n",
    "np.logspace(3,6,10)"
   ]
  },
  {
   "cell_type": "code",
   "execution_count": null,
   "metadata": {},
   "outputs": [],
   "source": []
  }
 ],
 "metadata": {
  "kernelspec": {
   "display_name": "Python 2",
   "language": "python",
   "name": "python2"
  },
  "language_info": {
   "codemirror_mode": {
    "name": "ipython",
    "version": 3
   },
   "file_extension": ".py",
   "mimetype": "text/x-python",
   "name": "python",
   "nbconvert_exporter": "python",
   "pygments_lexer": "ipython3",
   "version": "3.8.8"
  }
 },
 "nbformat": 4,
 "nbformat_minor": 2
}
