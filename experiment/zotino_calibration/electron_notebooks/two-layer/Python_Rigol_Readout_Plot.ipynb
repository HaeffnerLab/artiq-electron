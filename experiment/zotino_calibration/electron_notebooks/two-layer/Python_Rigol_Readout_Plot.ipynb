{
 "cells": [
  {
   "cell_type": "markdown",
   "metadata": {},
   "source": [
    "# Python Routine for reading RIGOL oscilloscope and plot MCP counts"
   ]
  },
  {
   "cell_type": "markdown",
   "metadata": {},
   "source": [
    "## Import python packages"
   ]
  },
  {
   "cell_type": "code",
   "execution_count": 40,
   "metadata": {},
   "outputs": [],
   "source": [
    "import os\n",
    "import numpy as np\n",
    "import matplotlib.pyplot as plt\n",
    "%matplotlib inline\n",
    "# import oskar\n",
    "# scripts = oskar.Scripts()\n",
    "import numpy as np\n",
    "from tqdm import tqdm\n",
    "import numpy\n",
    "import matplotlib.pyplot as plot\n",
    "import sys\n",
    "import pickle as pkl\n",
    "# import pyvisa as visa\n",
    "import visa\n",
    "import datetime\n",
    "from scipy.optimize import curve_fit\n",
    "from collections import defaultdict\n",
    "from scipy.stats import kurtosis, skew\n",
    "import pandas as pd\n",
    "import xarray as xr\n",
    "from collections import OrderedDict\n",
    "from pathlib import Path\n",
    "import fnmatch"
   ]
  },
  {
   "cell_type": "markdown",
   "metadata": {},
   "source": [
    "## Define pulse-detection function"
   ]
  },
  {
   "cell_type": "code",
   "execution_count": 37,
   "metadata": {},
   "outputs": [],
   "source": [
    "def count(ydata,min_level,min_width,dt,deadtime):\n",
    "    '''\n",
    "    Input: raw ydata, a trigger level as min_level, a minimum width as min_width, a deadtime as deadtime, and sampling rate as dt\n",
    "    Returns: an array of the time stamp of the rising edge of each pulses\n",
    "    '''\n",
    "    ignore = int(deadtime/dt)\n",
    "    min_x = min_width / dt\n",
    "    threshold = ydata > min_level\n",
    "    threshold[0] = False\n",
    "    threshold[-1] = False\n",
    "    rngs = np.where(np.diff(threshold))[0].reshape(-1, 2) # reshape into an array of the rising edge and falling edge of the pulses\n",
    "    delete_index = []\n",
    "    for i in range(len(rngs)):\n",
    "        k = rngs[i]\n",
    "        if i == 0:\n",
    "            tmp = k[0]\n",
    "        \n",
    "        if tmp < k[0] < tmp+ignore:\n",
    "            delete_index.append(i)\n",
    "        else:\n",
    "            tmp = k[0]\n",
    "    rngs = np.delete(rngs,delete_index,axis=0)    \n",
    "    pulse = rngs[rngs[:,1]-rngs[:,0] > min_x]\n",
    "    return pulse[:,0]\n",
    "\n",
    "# # Problem1: this will miss some pulses if the second pulse sits close to the ringings of the first pulse\n",
    "# # Problem2: if deadtime > min_width, this will make the min_width filtering useless\n",
    "# def count(ydata,min_level,min_width,dt,deadtime):\n",
    "#     '''\n",
    "#     Input: raw ydata, a trigger level as min_level, a minimum width as min_width, a deadtime as deadtime, and sampling rate as dt\n",
    "#     Returns: an array of the time stamp of the rising edge of each pulses\n",
    "#     '''\n",
    "#     ignore = int(deadtime/dt)\n",
    "#     min_x = min_width / dt\n",
    "#     threshold = ydata > min_level\n",
    "#     for k in np.argwhere(threshold).flatten():\n",
    "#         threshold[k:k+ignore]=True\n",
    "#     threshold[0] = False\n",
    "#     threshold[-1] = False\n",
    "#     rngs = np.where(np.diff(threshold))[0].reshape(-1, 2) # reshape into an array of the rising edge and falling edge of the pulses\n",
    "#     pulse = rngs[rngs[:,1]-rngs[:,0] > min_x]\n",
    "#     return pulse[:,0]"
   ]
  },
  {
   "cell_type": "markdown",
   "metadata": {},
   "source": [
    "## Read off and save data from RIGOL 100MHz oscilloscope"
   ]
  },
  {
   "cell_type": "code",
   "execution_count": 38,
   "metadata": {},
   "outputs": [],
   "source": [
    "acq_times = int(1) # 'Record this many waveforms'\n",
    "datalength = 600 # number of datapoints per waveform\n",
    "min_level = 0.01 # minimum threshold/ trigger level (V)\n",
    "min_width = 2E-9 # minimum pulse width (s)\n",
    "deadtime = 20E-9 # detection deadtime in (s)\n",
    "\n",
    "U2 = -2.5 # U2 value\n",
    "Prf = -5 # rf power (dBm), \"-50\" if off\n",
    "Tload = 100E-6 # load time (s)\n",
    "Twait = 500E-9 # wait time (s)\n",
    "Tej = 400E-9 # ejection pulse width (s)\n",
    "Additional_info = '_'\n",
    "\n",
    "\n",
    "data_folder = '/home/electron/Documents/electron_notebooks/two-layer'+'/'+'data'\n",
    "date = datetime.datetime.today().strftime(\"%Y%m%d\")\n",
    "save_folder = data_folder +'/'+ date\n",
    "if os.path.exists(save_folder) == False:\n",
    "    Path(save_folder).mkdir(parents=True, exist_ok=False)\n",
    "    os.chdir(save_folder)\n",
    "else:\n",
    "    os.chdir(save_folder)"
   ]
  },
  {
   "cell_type": "code",
   "execution_count": 39,
   "metadata": {
    "scrolled": true
   },
   "outputs": [
    {
     "name": "stderr",
     "output_type": "stream",
     "text": [
      "100%|██████████| 1/1 [00:00<00:00, 330.31it/s]"
     ]
    },
    {
     "name": "stdout",
     "output_type": "stream",
     "text": [
      "runID: 20220618_181130\n"
     ]
    },
    {
     "name": "stderr",
     "output_type": "stream",
     "text": [
      "\n"
     ]
    }
   ],
   "source": [
    "# datarrray=np.zeros([acq_times, datalength])\n",
    "rm = visa.ResourceManager()\n",
    "instruments = rm.list_resources()\n",
    "usb = list(filter(lambda x: 'USB' in x, instruments))\n",
    "if len(usb) != 1:\n",
    "    print('Bad instrument list', instruments)\n",
    "    sys.exit(-1)\n",
    "# scope = rm.open_resource(usb[0], timeout=20, chunk_size=1024000)\n",
    "scope = rm.open_resource(usb[0])\n",
    "voltscale = float(scope.query(':CHAN1:SCAL?'))\n",
    "voltoffset = float(scope.query(\":CHAN1:OFFS?\"))\n",
    "timescale = float(scope.query(\":TIM:SCAL?\"))\n",
    "time = numpy.linspace(0,12 * timescale, num=datalength) # time list\n",
    "dt = time[1]-time[0] # time step\n",
    "pulses = np.array([]) \n",
    "\n",
    "for i in tqdm(np.arange(0,acq_times,1)):\n",
    "    scope.write(\":WAV:DATA? CHAN1\") #Request the data\n",
    "    rawdata = scope.read_raw() #Read the block of data\n",
    "    scope.write(\":KEY:FORCE\")\n",
    "    rawdata = rawdata[10 : ] #Drop the heading\n",
    "    data = numpy.frombuffer(rawdata, 'B')\n",
    "    data = data * -1 + 255\n",
    "    data = (data - 130.0 - voltoffset/voltscale*25) / 25 * voltscale\n",
    "    pulses = numpy.append(pulses, count(data,min_level,min_width,dt,deadtime))\n",
    "\n",
    "scope.close()\n",
    "runID = datetime.datetime.today().strftime(\"%Y%m%d_%H%M%S\")\n",
    "print('runID:',runID)\n",
    "filename = runID + '_histogram_U2_' + str(\"{:.2f}\".format(U2))+ '_Prf' + str(\"{:.2f}\".format(Prf)) +'dBm_Tload' + str(\"{:n}\".format(Tload/1E-6)) + 'us_Twait' \\\n",
    "    + str(\"{:n}\".format(Twait/1E-6)) + 'us_Tej' + str(\"{:n}\".format(Tej/1E-9)) + 'ns_reps'+ \\\n",
    "    str(\"{:.1e}\".format(acq_times)) +'_trigger' + str(\"{:.2f}\".format(min_level))+ Additional_info\n",
    "np.savetxt(filename+ '.txt',pulses*dt,delimiter=',')\n",
    "np.save(filename + '.npy',pulses*dt)"
   ]
  },
  {
   "cell_type": "markdown",
   "metadata": {},
   "source": [
    "## Plotting"
   ]
  },
  {
   "cell_type": "code",
   "execution_count": 53,
   "metadata": {},
   "outputs": [
    {
     "name": "stdout",
     "output_type": "stream",
     "text": [
      "pulses220220617_170005_RIGOL_MCP_pulses.npy\n",
      "[1.74290484e-07 1.74290484e-07 1.74290484e-07 ... 4.27712855e-07\n",
      " 1.69282137e-07 4.27712855e-07]\n"
     ]
    },
    {
     "data": {
      "image/png": "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\n",
      "text/plain": [
       "<Figure size 432x288 with 1 Axes>"
      ]
     },
     "metadata": {
      "needs_background": "light"
     },
     "output_type": "display_data"
    }
   ],
   "source": [
    "# Import data\n",
    "runID = '20220617_170005'\n",
    "for file in os.listdir('.'):\n",
    "    if fnmatch.fnmatch(file, '*'+runID+'*.npy'):\n",
    "        print(file)\n",
    "        pulses_loaded = np.load(file)\n",
    "        print(pulses_loaded)\n",
    "\n",
    "df = pd.DataFrame(pulses_loaded)\n",
    "ax = df.plot.hist(alpha=0.5)\n",
    "# df.to_csv('data.csv', index = None)"
   ]
  },
  {
   "cell_type": "code",
   "execution_count": 163,
   "metadata": {},
   "outputs": [
    {
     "data": {
      "text/plain": [
       "<matplotlib.legend.Legend at 0x7f94eb85db50>"
      ]
     },
     "execution_count": 163,
     "metadata": {},
     "output_type": "execute_result"
    },
    {
     "data": {
      "image/png": "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\n",
      "text/plain": [
       "<Figure size 432x288 with 1 Axes>"
      ]
     },
     "metadata": {
      "needs_background": "light"
     },
     "output_type": "display_data"
    }
   ],
   "source": [
    "pulses0 = pulses # pulses 0 trigger level 0.01V to look at the pickup of the ejection pulse\n",
    "# pulses1 = pulses # pulses 1 scope input = AWG output positive extraction pulse\n",
    "# pulses2 = pulses\n",
    "# pulses3 = pulses\n",
    "# pulses4 = pulses\n",
    "# pulses5 = pulses\n",
    "# pulses6 = pulses\n",
    "# pulses7 = pulses\n",
    "# pulses8 = pulses\n",
    "# pulses9 = pulses\n",
    "z = plt.hist(pulses0*dt*1e9, bins=100, alpha = 0.7, label ='pulses0 extraction pick ups'); # pulses2 U2 = -2.5, RF = -5dBm\n",
    "a = plt.hist(pulses2*dt*1e9, bins=100, alpha = 0.7, label ='pulses2 U2 = -2.5, RF = -5dBm'); # pulses2 U2 = -2.5, RF = -5dBm\n",
    "\n",
    "# b = plt.hist(pulses3*dt*1e9, bins=100, alpha = 0.7, label ='pulses3 U2 = +1.0, RF = -5dBm'); # pulses3 U2 = +1.0, RF = -5dBm\n",
    "# c = plt.hist(pulses4*dt*1e9, bins=100, alpha = 0.7, label ='pulses4 U2 = +1.0, RF = OFF'); # pulses4 U2 = +1.0, RF = OFF\n",
    "# d = plt.hist(pulses5*dt*1e9, bins=100, alpha = 0.7, label ='pulses5 U2 = -2.5, RF = OFF'); # pulses5 U2 = +1.0, RF = OFF\n",
    "# e = plt.hist(pulses6*dt*1e9, bins=100, alpha = 0.7, label ='pulses6 Extraction OFF, U2 = -2.5, RF = -5dBm'); # pulses6 Extraction OFF, U2 = -2.5, RF = -5dBm\n",
    "# f = plt.hist(pulses7*dt*1e9, bins=100, alpha = 0.7, label ='pulses7 Extraction OFF, U2 = +1.0, RF = -5dBm'); # pulses7 Extraction OFF, U2 = +1.0, RF = -5dBm\n",
    "# g = plt.hist(pulses8*dt*1e9, bins=100, alpha = 0.7, label ='pulses8 Extraction OFF, U2 = +1.0, RF = OFF'); # pulses8 Extraction OFF, U2 = +1.0, RF = OFF\n",
    "# h = plt.hist(pulses9*dt*1e9, bins=100, alpha = 0.7, label ='pulses9 Extraction OFF, U2 = -2.5, RF = OFF'); # pulses9 Extraction OFF, U2 = +1.0, RF = OFF\n",
    "plt.xlim(150,190)\n",
    "plt.legend(bbox_to_anchor=(1.7, 1))"
   ]
  },
  {
   "cell_type": "code",
   "execution_count": 117,
   "metadata": {},
   "outputs": [
    {
     "data": {
      "image/png": "iVBORw0KGgoAAAANSUhEUgAAArwAAAD4CAYAAAAO7DUQAAAAOXRFWHRTb2Z0d2FyZQBNYXRwbG90bGliIHZlcnNpb24zLjMuNCwgaHR0cHM6Ly9tYXRwbG90bGliLm9yZy8QVMy6AAAACXBIWXMAAAsTAAALEwEAmpwYAAArhElEQVR4nO3deXhU5d3/8c83CwlL2AOEgCTYhCQgRIiAiKjFBWwRClp